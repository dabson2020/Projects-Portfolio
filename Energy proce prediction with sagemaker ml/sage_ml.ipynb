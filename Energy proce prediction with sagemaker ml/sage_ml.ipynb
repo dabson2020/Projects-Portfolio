{
 "cells": [
  {
   "cell_type": "code",
   "execution_count": 1,
   "metadata": {},
   "outputs": [
    {
     "name": "stdout",
     "output_type": "stream",
     "text": [
      "sagemaker.config INFO - Not applying SDK defaults from location: C:\\ProgramData\\sagemaker\\sagemaker\\config.yaml\n",
      "sagemaker.config INFO - Not applying SDK defaults from location: C:\\Users\\adeol\\AppData\\Local\\sagemaker\\sagemaker\\config.yaml\n",
      "Using bucket aws-machine-learning-adeola\n"
     ]
    }
   ],
   "source": [
    "import sagemaker\n",
    "import boto3 ## used to connect the sagemaker to the s3 bucket\n",
    "from sklearn.model_selection import train_test_split\n",
    "import pandas as pd\n",
    "\n",
    "sm_boto3 = boto3.client('sagemaker', region_name='us-east-2')\n",
    "sess = sagemaker.Session()\n",
    "region = sess.boto_session.region_name\n",
    "bucket = 'aws-machine-learning-adeola'\n",
    "print('Using bucket ' + bucket)"
   ]
  },
  {
   "cell_type": "code",
   "execution_count": 2,
   "metadata": {},
   "outputs": [],
   "source": [
    "df = pd.read_csv('s3://aws-machine-learning-adeola/energy_price_data/Data.csv')"
   ]
  },
  {
   "cell_type": "code",
   "execution_count": 3,
   "metadata": {},
   "outputs": [
    {
     "data": {
      "text/html": [
       "<div>\n",
       "<style scoped>\n",
       "    .dataframe tbody tr th:only-of-type {\n",
       "        vertical-align: middle;\n",
       "    }\n",
       "\n",
       "    .dataframe tbody tr th {\n",
       "        vertical-align: top;\n",
       "    }\n",
       "\n",
       "    .dataframe thead th {\n",
       "        text-align: right;\n",
       "    }\n",
       "</style>\n",
       "<table border=\"1\" class=\"dataframe\">\n",
       "  <thead>\n",
       "    <tr style=\"text-align: right;\">\n",
       "      <th></th>\n",
       "      <th>F1</th>\n",
       "      <th>F2</th>\n",
       "      <th>F3</th>\n",
       "      <th>F4</th>\n",
       "      <th>F5</th>\n",
       "      <th>F6</th>\n",
       "      <th>F7</th>\n",
       "      <th>F8</th>\n",
       "      <th>F9</th>\n",
       "      <th>F10</th>\n",
       "      <th>...</th>\n",
       "      <th>F13</th>\n",
       "      <th>F14</th>\n",
       "      <th>F15</th>\n",
       "      <th>F16</th>\n",
       "      <th>F17</th>\n",
       "      <th>F18</th>\n",
       "      <th>F19</th>\n",
       "      <th>F20</th>\n",
       "      <th>F21</th>\n",
       "      <th>Class</th>\n",
       "    </tr>\n",
       "  </thead>\n",
       "  <tbody>\n",
       "    <tr>\n",
       "      <th>0</th>\n",
       "      <td>-2.30325</td>\n",
       "      <td>15.4530</td>\n",
       "      <td>853.76</td>\n",
       "      <td>-490.50</td>\n",
       "      <td>0.06</td>\n",
       "      <td>-11.2440</td>\n",
       "      <td>-1400.762</td>\n",
       "      <td>-22435.144</td>\n",
       "      <td>1535.900</td>\n",
       "      <td>-3.41000</td>\n",
       "      <td>...</td>\n",
       "      <td>9.8594</td>\n",
       "      <td>1</td>\n",
       "      <td>-5956.56</td>\n",
       "      <td>1.4626</td>\n",
       "      <td>-22.547</td>\n",
       "      <td>-9.2880</td>\n",
       "      <td>1.50200</td>\n",
       "      <td>-7870.52</td>\n",
       "      <td>16.02</td>\n",
       "      <td>True</td>\n",
       "    </tr>\n",
       "    <tr>\n",
       "      <th>1</th>\n",
       "      <td>-3.79380</td>\n",
       "      <td>8.2308</td>\n",
       "      <td>1077.72</td>\n",
       "      <td>-2340.20</td>\n",
       "      <td>2.06</td>\n",
       "      <td>-6.6428</td>\n",
       "      <td>-949.740</td>\n",
       "      <td>-22459.770</td>\n",
       "      <td>-562.100</td>\n",
       "      <td>-0.52780</td>\n",
       "      <td>...</td>\n",
       "      <td>15.5520</td>\n",
       "      <td>1</td>\n",
       "      <td>-5927.34</td>\n",
       "      <td>1.0864</td>\n",
       "      <td>-20.974</td>\n",
       "      <td>-13.7370</td>\n",
       "      <td>0.47138</td>\n",
       "      <td>-15984.08</td>\n",
       "      <td>NaN</td>\n",
       "      <td>False</td>\n",
       "    </tr>\n",
       "    <tr>\n",
       "      <th>2</th>\n",
       "      <td>-4.21470</td>\n",
       "      <td>7.7925</td>\n",
       "      <td>-4559.32</td>\n",
       "      <td>90.20</td>\n",
       "      <td>2.06</td>\n",
       "      <td>-6.9420</td>\n",
       "      <td>-1814.340</td>\n",
       "      <td>-22446.333</td>\n",
       "      <td>1238.500</td>\n",
       "      <td>-0.19285</td>\n",
       "      <td>...</td>\n",
       "      <td>12.4780</td>\n",
       "      <td>1</td>\n",
       "      <td>-5000.22</td>\n",
       "      <td>3.8200</td>\n",
       "      <td>-11.028</td>\n",
       "      <td>-7.3965</td>\n",
       "      <td>0.96080</td>\n",
       "      <td>-8012.68</td>\n",
       "      <td>NaN</td>\n",
       "      <td>True</td>\n",
       "    </tr>\n",
       "    <tr>\n",
       "      <th>3</th>\n",
       "      <td>-2.95410</td>\n",
       "      <td>7.5495</td>\n",
       "      <td>518.68</td>\n",
       "      <td>-565.70</td>\n",
       "      <td>0.06</td>\n",
       "      <td>-6.7114</td>\n",
       "      <td>-1346.520</td>\n",
       "      <td>-22414.960</td>\n",
       "      <td>1084.376</td>\n",
       "      <td>-0.53640</td>\n",
       "      <td>...</td>\n",
       "      <td>9.0148</td>\n",
       "      <td>1</td>\n",
       "      <td>-3457.32</td>\n",
       "      <td>5.0020</td>\n",
       "      <td>-25.280</td>\n",
       "      <td>-6.6633</td>\n",
       "      <td>1.04010</td>\n",
       "      <td>-8243.48</td>\n",
       "      <td>13.92</td>\n",
       "      <td>False</td>\n",
       "    </tr>\n",
       "    <tr>\n",
       "      <th>4</th>\n",
       "      <td>-2.67390</td>\n",
       "      <td>7.1814</td>\n",
       "      <td>891.36</td>\n",
       "      <td>-379.55</td>\n",
       "      <td>0.06</td>\n",
       "      <td>-10.6000</td>\n",
       "      <td>-1062.340</td>\n",
       "      <td>-22417.580</td>\n",
       "      <td>1016.740</td>\n",
       "      <td>-2.61700</td>\n",
       "      <td>...</td>\n",
       "      <td>10.1046</td>\n",
       "      <td>1</td>\n",
       "      <td>-5110.32</td>\n",
       "      <td>7.9840</td>\n",
       "      <td>-13.402</td>\n",
       "      <td>-8.6394</td>\n",
       "      <td>0.66500</td>\n",
       "      <td>-9224.08</td>\n",
       "      <td>16.16</td>\n",
       "      <td>True</td>\n",
       "    </tr>\n",
       "  </tbody>\n",
       "</table>\n",
       "<p>5 rows × 22 columns</p>\n",
       "</div>"
      ],
      "text/plain": [
       "        F1       F2       F3       F4    F5       F6        F7         F8  \\\n",
       "0 -2.30325  15.4530   853.76  -490.50  0.06 -11.2440 -1400.762 -22435.144   \n",
       "1 -3.79380   8.2308  1077.72 -2340.20  2.06  -6.6428  -949.740 -22459.770   \n",
       "2 -4.21470   7.7925 -4559.32    90.20  2.06  -6.9420 -1814.340 -22446.333   \n",
       "3 -2.95410   7.5495   518.68  -565.70  0.06  -6.7114 -1346.520 -22414.960   \n",
       "4 -2.67390   7.1814   891.36  -379.55  0.06 -10.6000 -1062.340 -22417.580   \n",
       "\n",
       "         F9      F10  ...      F13  F14      F15     F16     F17      F18  \\\n",
       "0  1535.900 -3.41000  ...   9.8594    1 -5956.56  1.4626 -22.547  -9.2880   \n",
       "1  -562.100 -0.52780  ...  15.5520    1 -5927.34  1.0864 -20.974 -13.7370   \n",
       "2  1238.500 -0.19285  ...  12.4780    1 -5000.22  3.8200 -11.028  -7.3965   \n",
       "3  1084.376 -0.53640  ...   9.0148    1 -3457.32  5.0020 -25.280  -6.6633   \n",
       "4  1016.740 -2.61700  ...  10.1046    1 -5110.32  7.9840 -13.402  -8.6394   \n",
       "\n",
       "       F19       F20    F21  Class  \n",
       "0  1.50200  -7870.52  16.02   True  \n",
       "1  0.47138 -15984.08    NaN  False  \n",
       "2  0.96080  -8012.68    NaN   True  \n",
       "3  1.04010  -8243.48  13.92  False  \n",
       "4  0.66500  -9224.08  16.16   True  \n",
       "\n",
       "[5 rows x 22 columns]"
      ]
     },
     "execution_count": 3,
     "metadata": {},
     "output_type": "execute_result"
    }
   ],
   "source": [
    "df.head()"
   ]
  },
  {
   "cell_type": "code",
   "execution_count": 4,
   "metadata": {},
   "outputs": [
    {
     "data": {
      "text/plain": [
       "F1         0\n",
       "F2         0\n",
       "F3         0\n",
       "F4         0\n",
       "F5         0\n",
       "F6         0\n",
       "F7         0\n",
       "F8         0\n",
       "F9         0\n",
       "F10        0\n",
       "F11        0\n",
       "F12        0\n",
       "F13        0\n",
       "F14        0\n",
       "F15        0\n",
       "F16        0\n",
       "F17        0\n",
       "F18        0\n",
       "F19        0\n",
       "F20        0\n",
       "F21      500\n",
       "Class      0\n",
       "dtype: int64"
      ]
     },
     "execution_count": 4,
     "metadata": {},
     "output_type": "execute_result"
    }
   ],
   "source": [
    "df.isnull().sum()"
   ]
  },
  {
   "cell_type": "code",
   "execution_count": 5,
   "metadata": {},
   "outputs": [],
   "source": [
    "df['F21'] = df['F21'].fillna(df['F21'].mode())"
   ]
  },
  {
   "cell_type": "code",
   "execution_count": 6,
   "metadata": {},
   "outputs": [
    {
     "data": {
      "text/plain": [
       "F1         0\n",
       "F2         0\n",
       "F3         0\n",
       "F4         0\n",
       "F5         0\n",
       "F6         0\n",
       "F7         0\n",
       "F8         0\n",
       "F9         0\n",
       "F10        0\n",
       "F11        0\n",
       "F12        0\n",
       "F13        0\n",
       "F14        0\n",
       "F15        0\n",
       "F16        0\n",
       "F17        0\n",
       "F18        0\n",
       "F19        0\n",
       "F20        0\n",
       "F21      500\n",
       "Class      0\n",
       "dtype: int64"
      ]
     },
     "execution_count": 6,
     "metadata": {},
     "output_type": "execute_result"
    }
   ],
   "source": [
    "df.isnull().sum()"
   ]
  },
  {
   "cell_type": "code",
   "execution_count": 7,
   "metadata": {},
   "outputs": [],
   "source": [
    "df.dropna(inplace=True)"
   ]
  },
  {
   "cell_type": "code",
   "execution_count": 8,
   "metadata": {},
   "outputs": [],
   "source": [
    "features=list(df.columns)\n",
    "label = features.pop(-1)"
   ]
  },
  {
   "cell_type": "code",
   "execution_count": 9,
   "metadata": {},
   "outputs": [],
   "source": [
    "X = df[features]\n",
    "y = df[label]"
   ]
  },
  {
   "cell_type": "code",
   "execution_count": 10,
   "metadata": {},
   "outputs": [
    {
     "data": {
      "text/plain": [
       "0     True\n",
       "3    False\n",
       "4     True\n",
       "7    False\n",
       "8     True\n",
       "Name: Class, dtype: bool"
      ]
     },
     "execution_count": 10,
     "metadata": {},
     "output_type": "execute_result"
    }
   ],
   "source": [
    "y.head()"
   ]
  },
  {
   "cell_type": "code",
   "execution_count": 11,
   "metadata": {},
   "outputs": [
    {
     "name": "stderr",
     "output_type": "stream",
     "text": [
      "C:\\Users\\adeol\\AppData\\Local\\Temp\\ipykernel_15620\\3640143397.py:2: FutureWarning: Downcasting behavior in `replace` is deprecated and will be removed in a future version. To retain the old behavior, explicitly call `result.infer_objects(copy=False)`. To opt-in to the future behavior, set `pd.set_option('future.no_silent_downcasting', True)`\n",
      "  y = y.replace({True: 1, False: 0})\n"
     ]
    }
   ],
   "source": [
    "\"\"\"Replace True with 1 and False with 0 in y\"\"\"\n",
    "y = y.replace({True: 1, False: 0})"
   ]
  },
  {
   "cell_type": "code",
   "execution_count": 12,
   "metadata": {},
   "outputs": [
    {
     "data": {
      "text/plain": [
       "Class\n",
       "1    251\n",
       "0    249\n",
       "Name: count, dtype: int64"
      ]
     },
     "execution_count": 12,
     "metadata": {},
     "output_type": "execute_result"
    }
   ],
   "source": [
    "y.value_counts()"
   ]
  },
  {
   "cell_type": "markdown",
   "metadata": {},
   "source": [
    "The data is balanced"
   ]
  },
  {
   "cell_type": "markdown",
   "metadata": {},
   "source": [
    "Splitting the data into training ans test sets"
   ]
  },
  {
   "cell_type": "code",
   "execution_count": 13,
   "metadata": {},
   "outputs": [],
   "source": [
    "X_train, X_test, y_train, y_test = train_test_split(X, y, test_size=0.2, random_state=42)"
   ]
  },
  {
   "cell_type": "code",
   "execution_count": 14,
   "metadata": {},
   "outputs": [
    {
     "name": "stdout",
     "output_type": "stream",
     "text": [
      "The shape of X_train is: (400, 21)\n",
      "The shape of X_test is: (100, 21)\n",
      "The shape of y_train is: (400,)\n",
      "The shape of y_test is: (100,)\n"
     ]
    }
   ],
   "source": [
    "print('The shape of X_train is:', X_train.shape)\n",
    "print('The shape of X_test is:', X_test.shape)\n",
    "print('The shape of y_train is:', y_train.shape)\n",
    "print('The shape of y_test is:', y_test.shape)\n"
   ]
  },
  {
   "cell_type": "code",
   "execution_count": 15,
   "metadata": {},
   "outputs": [],
   "source": [
    "trainX = X_train\n",
    "trainX[label] = y_train\n",
    "testX = X_test\n",
    "testX[label] = y_test"
   ]
  },
  {
   "cell_type": "code",
   "execution_count": 16,
   "metadata": {},
   "outputs": [],
   "source": [
    "trainX.to_csv('train_data.csv', index=False)\n",
    "testX.to_csv('test_data.csv', index=False)"
   ]
  },
  {
   "cell_type": "markdown",
   "metadata": {},
   "source": [
    "Sending the data to S3 because Sagemaker will take data from S3"
   ]
  },
  {
   "cell_type": "code",
   "execution_count": 17,
   "metadata": {},
   "outputs": [
    {
     "name": "stdout",
     "output_type": "stream",
     "text": [
      "The path of the training data is: s3://aws-machine-learning-adeola/energy_price_data/sagemaker/energy_price_prediction/sklearncontainer/train_data.csv\n",
      "The path of the test data is: s3://aws-machine-learning-adeola/energy_price_data/sagemaker/energy_price_prediction/sklearncontainer/test_data.csv\n"
     ]
    }
   ],
   "source": [
    "sk_prefix = \"energy_price_data/sagemaker/energy_price_prediction/sklearncontainer\"\n",
    "trainpath = sess.upload_data(\n",
    "    path='train_data.csv', \n",
    "    bucket=bucket,\n",
    "    key_prefix=sk_prefix\n",
    "    )\n",
    "\n",
    "testpath = sess.upload_data(\n",
    "    path='test_data.csv', \n",
    "    bucket=bucket,\n",
    "    key_prefix=sk_prefix\n",
    "    )\n",
    "\n",
    "print('The path of the training data is:', trainpath)\n",
    "print('The path of the test data is:', testpath)\n"
   ]
  },
  {
   "cell_type": "code",
   "execution_count": 21,
   "metadata": {},
   "outputs": [
    {
     "name": "stdout",
     "output_type": "stream",
     "text": [
      "Overwriting script.py\n"
     ]
    }
   ],
   "source": [
    "%%writefile script.py\n",
    "import argparse\n",
    "import os\n",
    "import pandas as pd\n",
    "from sklearn.ensemble import RandomForestClassifier\n",
    "from sklearn.metrics import accuracy_score, precision_score, recall_score, f1_score,classification_report, confusion_matrix\n",
    "import joblib\n",
    "import sklearn\n",
    "import boto3\n",
    "import pathlib\n",
    "from io import StringIO\n",
    "import numpy as np\n",
    "\n",
    "\n",
    "\n",
    "def model_fn(model_dir):\n",
    "    clf = joblib.load(os.path.join(model_dir, \"model.joblib\"))\n",
    "    return clf\n",
    "\n",
    "if __name__==\"__main__\":\n",
    "    print(\"[INFO] Extracting arguments\")\n",
    "    parser = argparse.ArgumentParser()\n",
    "\n",
    "    # Hyperparameters are described here\n",
    "    parser.add_argument('--n_estimators', type=int, default=100)\n",
    "    parser.add_argument('--random_state', type=int, default=100)\n",
    "\n",
    "    #Data, model, and output directories\n",
    "    parser.add_argument('--output-data-dir', type=str, default=os.environ.get('SM_OUTPUT_DATA_DIR'))\n",
    "    parser.add_argument('--model-dir', type=str, default=os.environ.get('SM_MODEL_DIR'))\n",
    "    parser.add_argument('--train', type=str, default=os.environ.get('SM_CHANNEL_TRAIN'))\n",
    "    parser.add_argument('--test', type=str, default=os.environ.get('SM_CHANNEL_TEST'))\n",
    "    parser.add_argument('--train-file', type=str, default='train_data.csv')\n",
    "    parser.add_argument('--test-file', type=str, default='test_data.csv')\n",
    "\n",
    "    args, _ = parser.parse_known_args()\n",
    "\n",
    "    print(\"Sklearn version is:\", sklearn.__version__)\n",
    "    print(\"Joblib version is:\", joblib.__version__)\n",
    "\n",
    "    print(\"[INFO] Reading data\")\n",
    "    train_df = pd.read_csv(os.path.join(args.train, args.train_file))\n",
    "    test_df = pd.read_csv(os.path.join(args.test, args.test_file))\n",
    "\n",
    "    features = list(train_df.columns)\n",
    "    label = features.pop(-1)\n",
    "\n",
    "    print(\"Building training and testing datasets\")\n",
    "    ()\n",
    "    X_train = train_df[features]\n",
    "    X_test = test_df[features]\n",
    "    y_train = train_df[label]\n",
    "    y_test = test_df[label]\n",
    "\n",
    "    print(\"Column order \")\n",
    "    print(features)\n",
    "    print()\n",
    "\n",
    "    #print the shape of the training and testing datasets\n",
    "    print(\"The shape of X_train is:\", X_train.shape)\n",
    "    print(\"The shape of X_test is:\", X_test.shape)\n",
    "    print(\"The shape of y_train is:\", y_train.shape)\n",
    "    print(\"The shape of y_test is:\", y_test.shape)\n",
    "\n",
    "    print(\"Training the RadomForest Model\")\n",
    "    print()\n",
    "    clf = RandomForestClassifier(n_estimators=args.n_estimators, random_state=args.random_state)\n",
    "    clf.fit(X_train, y_train)\n",
    "    print()\n",
    "\n",
    "    model_path = os.path.join(args.model_dir, \"model.joblib\")\n",
    "    print(\"Saving the model\")\n",
    "    joblib.dump(clf, model_path)\n",
    "    print(\"Model has been persisted at:\", model_path)\n",
    "    print()\n",
    "\n",
    "    print(\"METRIC RESULTS FOR TESTING DATA\")\n",
    "    print()\n",
    "    y_pred_test = clf.predict(X_test)\n",
    "    y_pred_train = clf.predict(X_train)\n",
    "    test_acc = accuracy_score(y_test, y_pred_test)\n",
    "    test_recall = recall_score(y_test, y_pred_test)\n",
    "    test_precision = precision_score(y_test, y_pred_test)\n",
    "    test_f1 = f1_score(y_test, y_pred_test)\n",
    "    print(\"[TESTING] Model Accuracy is:\", test_acc)\n",
    "    print(\"[TESTING] Model Precision is:\", test_precision)\n",
    "    print(\"[TESTING] Model Recall is:\", test_recall)\n",
    "    print(\"[TESTING] Model F1 Score is:\", test_f1)\n",
    "    print('[TESTING] Model Classification Report is', classification_report(y_test, y_pred_test))\n",
    "    print()\n"
   ]
  },
  {
   "cell_type": "code",
   "execution_count": 22,
   "metadata": {},
   "outputs": [],
   "source": [
    "from sagemaker.sklearn.estimator import SKLearn\n",
    "FRAMWORK_VERSION = '0.23-1'\n",
    "sklearn_estimator = SKLearn(entry_point='script.py',\n",
    "                                role='arn:aws:iam::737555234178:role/service-role/AmazonSageMaker-ExecutionRole-20240319T163960',\n",
    "                                instance_count=1,\n",
    "                                instance_type='ml.m5.large',\n",
    "                                framework_version=FRAMWORK_VERSION,\n",
    "                                sagemaker_session=sess,\n",
    "                                base_job_name='energy-price-prediction-sklearn',\n",
    "                                hyperparameters={'n_estimators': 100, 'random_state': 0},\n",
    "                                use_spot_instances=True,\n",
    "                                max_run=3600,\n",
    "                                max_wait=7200)\n",
    "\n",
    "  "
   ]
  },
  {
   "cell_type": "code",
   "execution_count": 23,
   "metadata": {},
   "outputs": [
    {
     "name": "stdout",
     "output_type": "stream",
     "text": [
      "Launching training job\n"
     ]
    },
    {
     "name": "stderr",
     "output_type": "stream",
     "text": [
      "INFO:sagemaker:Creating training-job with name: energy-price-prediction-sklearn-2024-03-23-02-30-08-528\n"
     ]
    },
    {
     "name": "stdout",
     "output_type": "stream",
     "text": [
      "2024-03-23 02:30:10 Starting - Starting the training job...\n",
      "2024-03-23 02:30:25 Starting - Preparing the instances for training......\n",
      "2024-03-23 02:31:16 Downloading - Downloading input data...\n",
      "2024-03-23 02:31:47 Downloading - Downloading the training image..2024-03-23 02:32:21,457 sagemaker-containers INFO     Imported framework sagemaker_sklearn_container.training\n",
      "2024-03-23 02:32:21,460 sagemaker-training-toolkit INFO     No GPUs detected (normal if no gpus installed)\n",
      "2024-03-23 02:32:21,505 sagemaker_sklearn_container.training INFO     Invoking user training script.\n",
      "2024-03-23 02:32:21,748 sagemaker-training-toolkit INFO     No GPUs detected (normal if no gpus installed)\n",
      "2024-03-23 02:32:21,760 sagemaker-training-toolkit INFO     No GPUs detected (normal if no gpus installed)\n",
      "2024-03-23 02:32:21,771 sagemaker-training-toolkit INFO     No GPUs detected (normal if no gpus installed)\n",
      "2024-03-23 02:32:21,780 sagemaker-training-toolkit INFO     Invoking user script\n",
      "Training Env:\n",
      "{\n",
      "    \"additional_framework_parameters\": {},\n",
      "    \"channel_input_dirs\": {\n",
      "        \"test\": \"/opt/ml/input/data/test\",\n",
      "        \"train\": \"/opt/ml/input/data/train\"\n",
      "    },\n",
      "    \"current_host\": \"algo-1\",\n",
      "    \"framework_module\": \"sagemaker_sklearn_container.training:main\",\n",
      "    \"hosts\": [\n",
      "        \"algo-1\"\n",
      "    ],\n",
      "    \"hyperparameters\": {\n",
      "        \"n_estimators\": 100,\n",
      "        \"random_state\": 0\n",
      "    },\n",
      "    \"input_config_dir\": \"/opt/ml/input/config\",\n",
      "    \"input_data_config\": {\n",
      "        \"test\": {\n",
      "            \"TrainingInputMode\": \"File\",\n",
      "            \"S3DistributionType\": \"FullyReplicated\",\n",
      "            \"RecordWrapperType\": \"None\"\n",
      "        },\n",
      "        \"train\": {\n",
      "            \"TrainingInputMode\": \"File\",\n",
      "            \"S3DistributionType\": \"FullyReplicated\",\n",
      "            \"RecordWrapperType\": \"None\"\n",
      "        }\n",
      "    },\n",
      "    \"input_dir\": \"/opt/ml/input\",\n",
      "    \"is_master\": true,\n",
      "    \"job_name\": \"energy-price-prediction-sklearn-2024-03-23-02-30-08-528\",\n",
      "    \"log_level\": 20,\n",
      "    \"master_hostname\": \"algo-1\",\n",
      "    \"model_dir\": \"/opt/ml/model\",\n",
      "    \"module_dir\": \"s3://sagemaker-us-east-2-737555234178/energy-price-prediction-sklearn-2024-03-23-02-30-08-528/source/sourcedir.tar.gz\",\n",
      "    \"module_name\": \"script\",\n",
      "    \"network_interface_name\": \"eth0\",\n",
      "    \"num_cpus\": 2,\n",
      "    \"num_gpus\": 0,\n",
      "    \"output_data_dir\": \"/opt/ml/output/data\",\n",
      "    \"output_dir\": \"/opt/ml/output\",\n",
      "    \"output_intermediate_dir\": \"/opt/ml/output/intermediate\",\n",
      "    \"resource_config\": {\n",
      "        \"current_host\": \"algo-1\",\n",
      "        \"current_instance_type\": \"ml.m5.large\",\n",
      "        \"current_group_name\": \"homogeneousCluster\",\n",
      "        \"hosts\": [\n",
      "            \"algo-1\"\n",
      "        ],\n",
      "        \"instance_groups\": [\n",
      "            {\n",
      "                \"instance_group_name\": \"homogeneousCluster\",\n",
      "                \"instance_type\": \"ml.m5.large\",\n",
      "                \"hosts\": [\n",
      "                    \"algo-1\"\n",
      "                ]\n",
      "            }\n",
      "        ],\n",
      "        \"network_interface_name\": \"eth0\"\n",
      "    },\n",
      "    \"user_entry_point\": \"script.py\"\n",
      "}\n",
      "Environment variables:\n",
      "SM_HOSTS=[\"algo-1\"]\n",
      "SM_NETWORK_INTERFACE_NAME=eth0\n",
      "SM_HPS={\"n_estimators\":100,\"random_state\":0}\n",
      "SM_USER_ENTRY_POINT=script.py\n",
      "SM_FRAMEWORK_PARAMS={}\n",
      "SM_RESOURCE_CONFIG={\"current_group_name\":\"homogeneousCluster\",\"current_host\":\"algo-1\",\"current_instance_type\":\"ml.m5.large\",\"hosts\":[\"algo-1\"],\"instance_groups\":[{\"hosts\":[\"algo-1\"],\"instance_group_name\":\"homogeneousCluster\",\"instance_type\":\"ml.m5.large\"}],\"network_interface_name\":\"eth0\"}\n",
      "SM_INPUT_DATA_CONFIG={\"test\":{\"RecordWrapperType\":\"None\",\"S3DistributionType\":\"FullyReplicated\",\"TrainingInputMode\":\"File\"},\"train\":{\"RecordWrapperType\":\"None\",\"S3DistributionType\":\"FullyReplicated\",\"TrainingInputMode\":\"File\"}}\n",
      "SM_OUTPUT_DATA_DIR=/opt/ml/output/data\n",
      "SM_CHANNELS=[\"test\",\"train\"]\n",
      "SM_CURRENT_HOST=algo-1\n",
      "SM_MODULE_NAME=script\n",
      "SM_LOG_LEVEL=20\n",
      "SM_FRAMEWORK_MODULE=sagemaker_sklearn_container.training:main\n",
      "SM_INPUT_DIR=/opt/ml/input\n",
      "SM_INPUT_CONFIG_DIR=/opt/ml/input/config\n",
      "SM_OUTPUT_DIR=/opt/ml/output\n",
      "SM_NUM_CPUS=2\n",
      "SM_NUM_GPUS=0\n",
      "SM_MODEL_DIR=/opt/ml/model\n",
      "SM_MODULE_DIR=s3://sagemaker-us-east-2-737555234178/energy-price-prediction-sklearn-2024-03-23-02-30-08-528/source/sourcedir.tar.gz\n",
      "SM_TRAINING_ENV={\"additional_framework_parameters\":{},\"channel_input_dirs\":{\"test\":\"/opt/ml/input/data/test\",\"train\":\"/opt/ml/input/data/train\"},\"current_host\":\"algo-1\",\"framework_module\":\"sagemaker_sklearn_container.training:main\",\"hosts\":[\"algo-1\"],\"hyperparameters\":{\"n_estimators\":100,\"random_state\":0},\"input_config_dir\":\"/opt/ml/input/config\",\"input_data_config\":{\"test\":{\"RecordWrapperType\":\"None\",\"S3DistributionType\":\"FullyReplicated\",\"TrainingInputMode\":\"File\"},\"train\":{\"RecordWrapperType\":\"None\",\"S3DistributionType\":\"FullyReplicated\",\"TrainingInputMode\":\"File\"}},\"input_dir\":\"/opt/ml/input\",\"is_master\":true,\"job_name\":\"energy-price-prediction-sklearn-2024-03-23-02-30-08-528\",\"log_level\":20,\"master_hostname\":\"algo-1\",\"model_dir\":\"/opt/ml/model\",\"module_dir\":\"s3://sagemaker-us-east-2-737555234178/energy-price-prediction-sklearn-2024-03-23-02-30-08-528/source/sourcedir.tar.gz\",\"module_name\":\"script\",\"network_interface_name\":\"eth0\",\"num_cpus\":2,\"num_gpus\":0,\"output_data_dir\":\"/opt/ml/output/data\",\"output_dir\":\"/opt/ml/output\",\"output_intermediate_dir\":\"/opt/ml/output/intermediate\",\"resource_config\":{\"current_group_name\":\"homogeneousCluster\",\"current_host\":\"algo-1\",\"current_instance_type\":\"ml.m5.large\",\"hosts\":[\"algo-1\"],\"instance_groups\":[{\"hosts\":[\"algo-1\"],\"instance_group_name\":\"homogeneousCluster\",\"instance_type\":\"ml.m5.large\"}],\"network_interface_name\":\"eth0\"},\"user_entry_point\":\"script.py\"}\n",
      "SM_USER_ARGS=[\"--n_estimators\",\"100\",\"--random_state\",\"0\"]\n",
      "SM_OUTPUT_INTERMEDIATE_DIR=/opt/ml/output/intermediate\n",
      "SM_CHANNEL_TEST=/opt/ml/input/data/test\n",
      "SM_CHANNEL_TRAIN=/opt/ml/input/data/train\n",
      "SM_HP_N_ESTIMATORS=100\n",
      "SM_HP_RANDOM_STATE=0\n",
      "PYTHONPATH=/opt/ml/code:/miniconda3/bin:/miniconda3/lib/python37.zip:/miniconda3/lib/python3.7:/miniconda3/lib/python3.7/lib-dynload:/miniconda3/lib/python3.7/site-packages\n",
      "Invoking script with the following command:\n",
      "/miniconda3/bin/python script.py --n_estimators 100 --random_state 0\n",
      "[INFO] Extracting arguments\n",
      "Sklearn version is: 0.23.2\n",
      "Joblib version is: 1.2.0\n",
      "[INFO] Reading data\n",
      "Building training and testing datasets\n",
      "Column order \n",
      "['F1', 'F2', 'F3', 'F4', 'F5', 'F6', 'F7', 'F8', 'F9', 'F10', 'F11', 'F12', 'F13', 'F14', 'F15', 'F16', 'F17', 'F18', 'F19', 'F20', 'F21']\n",
      "The shape of X_train is: (400, 21)\n",
      "The shape of X_test is: (100, 21)\n",
      "The shape of y_train is: (400,)\n",
      "The shape of y_test is: (100,)\n",
      "Training the RadomForest Model\n",
      "Saving the model\n",
      "Model has been persisted at: /opt/ml/model/model.joblib\n",
      "METRIC RESULTS FOR TESTING DATA\n",
      "[TESTING] Model Accuracy is: 0.82\n",
      "[TESTING] Model Precision is: 0.8979591836734694\n",
      "[TESTING] Model Recall is: 0.7719298245614035\n",
      "[TESTING] Model F1 Score is: 0.8301886792452831\n",
      "[TESTING] Model Classification Report is               precision    recall  f1-score   support\n",
      "           0       0.75      0.88      0.81        43\n",
      "           1       0.90      0.77      0.83        57\n",
      "    accuracy                           0.82       100\n",
      "   macro avg       0.82      0.83      0.82       100\n",
      "weighted avg       0.83      0.82      0.82       100\n",
      "2024-03-23 02:32:23,034 sagemaker-containers INFO     Reporting training SUCCESS\n",
      "\n",
      "2024-03-23 02:32:38 Training - Training image download completed. Training in progress.\n",
      "2024-03-23 02:32:38 Uploading - Uploading generated training model\n",
      "2024-03-23 02:32:38 Completed - Training job completed\n",
      "Training seconds: 82\n",
      "Billable seconds: 26\n",
      "Managed Spot Training savings: 68.3%\n"
     ]
    }
   ],
   "source": [
    "#Launching training job\n",
    "print(\"Launching training job\")\n",
    "sklearn_estimator.fit({'train': trainpath, 'test': testpath}, wait = True)\n"
   ]
  },
  {
   "cell_type": "code",
   "execution_count": 25,
   "metadata": {},
   "outputs": [
    {
     "name": "stdout",
     "output_type": "stream",
     "text": [
      "\n",
      "2024-03-23 02:32:38 Starting - Preparing the instances for training\n",
      "2024-03-23 02:32:38 Downloading - Downloading the training image\n",
      "2024-03-23 02:32:38 Training - Training image download completed. Training in progress.\n",
      "2024-03-23 02:32:38 Uploading - Uploading generated training model\n",
      "2024-03-23 02:32:38 Completed - Training job completed\n",
      "The model artifact is persisted at: s3://sagemaker-us-east-2-737555234178/energy-price-prediction-sklearn-2024-03-23-02-30-08-528/output/model.tar.gz\n"
     ]
    }
   ],
   "source": [
    "sklearn_estimator.latest_training_job.wait(logs='None')\n",
    "artifact = sm_boto3.describe_training_job(\n",
    "            TrainingJobName=sklearn_estimator.latest_training_job.name)['ModelArtifacts']['S3ModelArtifacts']\n",
    "print('The model artifact is persisted at:', artifact)"
   ]
  },
  {
   "cell_type": "markdown",
   "metadata": {},
   "source": [
    "Deploying the model"
   ]
  },
  {
   "cell_type": "code",
   "execution_count": 26,
   "metadata": {},
   "outputs": [],
   "source": [
    "from sagemaker.sklearn.model import SKLearnModel\n",
    "from time import gmtime, strftime\n",
    "\n",
    "model_name = \"energy-price-prediction-sklearn-model-\" + strftime(\"%Y-%m-%d-%H-%M-%S\", gmtime())\n",
    "model = SKLearnModel(\n",
    "    name = model_name,\n",
    "    model_data=artifact,\n",
    "    role='arn:aws:iam::737555234178:role/service-role/AmazonSageMaker-ExecutionRole-20240319T163960',\n",
    "    entry_point='script.py',\n",
    "    framework_version=FRAMWORK_VERSION\n",
    ")\n"
   ]
  },
  {
   "cell_type": "code",
   "execution_count": 27,
   "metadata": {},
   "outputs": [
    {
     "data": {
      "text/plain": [
       "<sagemaker.sklearn.model.SKLearnModel at 0x277e87198b0>"
      ]
     },
     "execution_count": 27,
     "metadata": {},
     "output_type": "execute_result"
    }
   ],
   "source": [
    "model"
   ]
  },
  {
   "cell_type": "code",
   "execution_count": 28,
   "metadata": {},
   "outputs": [
    {
     "name": "stdout",
     "output_type": "stream",
     "text": [
      "EndPointName = energy-price-prediction-sklearn-endpoint-2024-03-23-17-28-39\n"
     ]
    },
    {
     "name": "stderr",
     "output_type": "stream",
     "text": [
      "INFO:sagemaker:Creating model with name: energy-price-prediction-sklearn-model-2024-03-23-17-25-43\n",
      "INFO:sagemaker:Creating endpoint-config with name energy-price-prediction-sklearn-endpoint-2024-03-23-17-28-39\n",
      "INFO:sagemaker:Creating endpoint with name energy-price-prediction-sklearn-endpoint-2024-03-23-17-28-39\n"
     ]
    },
    {
     "name": "stdout",
     "output_type": "stream",
     "text": [
      "------!"
     ]
    }
   ],
   "source": [
    "##Endpoint Deployment\n",
    "endpoint_name = 'energy-price-prediction-sklearn-endpoint-' + strftime(\"%Y-%m-%d-%H-%M-%S\", gmtime())\n",
    "print('EndPointName = {}'.format(endpoint_name))\n",
    "\n",
    "predict = model.deploy(\n",
    "    endpoint_name=endpoint_name,\n",
    "    instance_type='ml.m5.large',\n",
    "    initial_instance_count=1\n",
    ")"
   ]
  },
  {
   "cell_type": "code",
   "execution_count": null,
   "metadata": {},
   "outputs": [],
   "source": []
  }
 ],
 "metadata": {
  "kernelspec": {
   "display_name": "Python 3",
   "language": "python",
   "name": "python3"
  },
  "language_info": {
   "codemirror_mode": {
    "name": "ipython",
    "version": 3
   },
   "file_extension": ".py",
   "mimetype": "text/x-python",
   "name": "python",
   "nbconvert_exporter": "python",
   "pygments_lexer": "ipython3",
   "version": "3.9.7"
  }
 },
 "nbformat": 4,
 "nbformat_minor": 2
}

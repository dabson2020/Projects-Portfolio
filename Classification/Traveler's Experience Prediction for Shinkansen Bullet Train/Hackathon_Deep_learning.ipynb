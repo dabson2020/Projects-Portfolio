{
  "cells": [
    {
      "cell_type": "code",
      "source": [
        "from google.colab import drive\n",
        "drive.mount('/content/drive')"
      ],
      "metadata": {
        "colab": {
          "base_uri": "https://localhost:8080/"
        },
        "id": "KcLyojcJXHla",
        "outputId": "d5807b3c-4de3-465d-9cf6-667bf9e5d66c"
      },
      "id": "KcLyojcJXHla",
      "execution_count": null,
      "outputs": [
        {
          "output_type": "stream",
          "name": "stdout",
          "text": [
            "Drive already mounted at /content/drive; to attempt to forcibly remount, call drive.mount(\"/content/drive\", force_remount=True).\n"
          ]
        }
      ]
    },
    {
      "cell_type": "markdown",
      "id": "b68e2578",
      "metadata": {
        "id": "b68e2578"
      },
      "source": [
        "### Import the required libraries"
      ]
    },
    {
      "cell_type": "code",
      "execution_count": null,
      "id": "66a51ab6",
      "metadata": {
        "id": "66a51ab6"
      },
      "outputs": [],
      "source": [
        "import pandas as pd\n",
        "import numpy as np\n",
        "from sklearn.model_selection import train_test_split\n",
        "from sklearn.preprocessing import LabelEncoder, OneHotEncoder\n",
        "from sklearn import model_selection\n",
        "from sklearn.compose import ColumnTransformer\n",
        "import matplotlib.pyplot as plt\n",
        "import seaborn as sns\n",
        "from sklearn.impute import SimpleImputer\n",
        "import warnings\n",
        "from sklearn.metrics import confusion_matrix\n",
        "from sklearn.pipeline import Pipeline\n",
        "from sklearn.model_selection import GridSearchCV\n",
        "from sklearn.model_selection import RandomizedSearchCV\n",
        "import tensorflow as tf\n",
        "from tensorflow.keras.models import Sequential\n",
        "from tensorflow.keras.layers import Dense\n",
        "from tensorflow.keras.layers import Dense, Input, Dropout,BatchNormalization\n",
        "from tensorflow.keras.wrappers.scikit_learn import KerasClassifier\n",
        "import random\n",
        "from tensorflow.keras import backend\n",
        "random.seed(1)\n",
        "np.random.seed(1) \n",
        "tf.random.set_seed(1)\n",
        "warnings.filterwarnings(\"ignore\")"
      ]
    },
    {
      "cell_type": "markdown",
      "source": [
        "#### Read the test data for both the travel and the survey data"
      ],
      "metadata": {
        "id": "cU6yrzFwbDOD"
      },
      "id": "cU6yrzFwbDOD"
    },
    {
      "cell_type": "code",
      "source": [
        "travel_test_data = pd.read_csv('/content/drive/MyDrive/Machine Learning/Classification/Hackathon/Traveldata_test.csv')\n",
        "survey_test_data = pd.read_csv(\"/content/drive/MyDrive/Machine Learning/Classification/Hackathon/Surveydata_test.csv\")"
      ],
      "metadata": {
        "id": "EKnZjsQVbCbB"
      },
      "id": "EKnZjsQVbCbB",
      "execution_count": null,
      "outputs": []
    },
    {
      "cell_type": "code",
      "source": [
        "travel_test_data.info()"
      ],
      "metadata": {
        "colab": {
          "base_uri": "https://localhost:8080/"
        },
        "id": "V3tmUxLDcAU8",
        "outputId": "d2299e5b-b3c2-4768-ec0c-3ac3bd46d7e9"
      },
      "id": "V3tmUxLDcAU8",
      "execution_count": null,
      "outputs": [
        {
          "output_type": "stream",
          "name": "stdout",
          "text": [
            "<class 'pandas.core.frame.DataFrame'>\n",
            "RangeIndex: 35602 entries, 0 to 35601\n",
            "Data columns (total 9 columns):\n",
            " #   Column                   Non-Null Count  Dtype  \n",
            "---  ------                   --------------  -----  \n",
            " 0   ID                       35602 non-null  int64  \n",
            " 1   Gender                   35572 non-null  object \n",
            " 2   Customer_Type            32219 non-null  object \n",
            " 3   Age                      35591 non-null  float64\n",
            " 4   Type_Travel              32154 non-null  object \n",
            " 5   Travel_Class             35602 non-null  object \n",
            " 6   Travel_Distance          35602 non-null  int64  \n",
            " 7   Departure_Delay_in_Mins  35573 non-null  float64\n",
            " 8   Arrival_Delay_in_Mins    35479 non-null  float64\n",
            "dtypes: float64(3), int64(2), object(4)\n",
            "memory usage: 2.4+ MB\n"
          ]
        }
      ]
    },
    {
      "cell_type": "code",
      "source": [
        "survey_test_data.info()"
      ],
      "metadata": {
        "colab": {
          "base_uri": "https://localhost:8080/"
        },
        "id": "wiz1UfwMcFN6",
        "outputId": "9b978dca-bcdc-43ad-b954-0bcedfe9bbe1"
      },
      "id": "wiz1UfwMcFN6",
      "execution_count": null,
      "outputs": [
        {
          "output_type": "stream",
          "name": "stdout",
          "text": [
            "<class 'pandas.core.frame.DataFrame'>\n",
            "RangeIndex: 35602 entries, 0 to 35601\n",
            "Data columns (total 16 columns):\n",
            " #   Column                   Non-Null Count  Dtype \n",
            "---  ------                   --------------  ----- \n",
            " 0   ID                       35602 non-null  int64 \n",
            " 1   Seat_Comfort             35580 non-null  object\n",
            " 2   Seat_Class               35602 non-null  object\n",
            " 3   Arrival_Time_Convenient  32277 non-null  object\n",
            " 4   Catering                 32245 non-null  object\n",
            " 5   Platform_Location        35590 non-null  object\n",
            " 6   Onboard_Wifi_Service     35590 non-null  object\n",
            " 7   Onboard_Entertainment    35594 non-null  object\n",
            " 8   Online_Support           35576 non-null  object\n",
            " 9   Ease_of_Online_Booking   35584 non-null  object\n",
            " 10  Onboard_Service          32730 non-null  object\n",
            " 11  Legroom                  35577 non-null  object\n",
            " 12  Baggage_Handling         35562 non-null  object\n",
            " 13  CheckIn_Service          35580 non-null  object\n",
            " 14  Cleanliness              35600 non-null  object\n",
            " 15  Online_Boarding          35600 non-null  object\n",
            "dtypes: int64(1), object(15)\n",
            "memory usage: 4.3+ MB\n"
          ]
        }
      ]
    },
    {
      "cell_type": "code",
      "source": [
        "travel_test_data.shape, survey_test_data.shape"
      ],
      "metadata": {
        "colab": {
          "base_uri": "https://localhost:8080/"
        },
        "id": "UssV2Jvbbsrz",
        "outputId": "13122ca3-bd63-4ad6-8d8a-1fe7ee76118b"
      },
      "id": "UssV2Jvbbsrz",
      "execution_count": null,
      "outputs": [
        {
          "output_type": "execute_result",
          "data": {
            "text/plain": [
              "((35602, 9), (35602, 16))"
            ]
          },
          "metadata": {},
          "execution_count": 7
        }
      ]
    },
    {
      "cell_type": "markdown",
      "source": [
        "Both the Traveldata and the SurveyData for the test data has the the same number of unique IDs (35602), hence we can merge the two datasets on the ID"
      ],
      "metadata": {
        "id": "U6ZM45uAcJjl"
      },
      "id": "U6ZM45uAcJjl"
    },
    {
      "cell_type": "code",
      "source": [
        "test_data = pd.merge(travel_test_data,survey_test_data, on = 'ID')"
      ],
      "metadata": {
        "id": "O4fiK-w8ckME"
      },
      "id": "O4fiK-w8ckME",
      "execution_count": null,
      "outputs": []
    },
    {
      "cell_type": "markdown",
      "source": [
        "### **Checking the data types of the columns for the test_data dataset**"
      ],
      "metadata": {
        "id": "yKaNpFx6ctPm"
      },
      "id": "yKaNpFx6ctPm"
    },
    {
      "cell_type": "code",
      "source": [
        "test_data.info()"
      ],
      "metadata": {
        "colab": {
          "base_uri": "https://localhost:8080/"
        },
        "id": "E2XRV3rDc1ce",
        "outputId": "1b83dcfe-f7f4-41d1-9086-4306d3fd9ed3"
      },
      "id": "E2XRV3rDc1ce",
      "execution_count": null,
      "outputs": [
        {
          "output_type": "stream",
          "name": "stdout",
          "text": [
            "<class 'pandas.core.frame.DataFrame'>\n",
            "Int64Index: 35602 entries, 0 to 35601\n",
            "Data columns (total 24 columns):\n",
            " #   Column                   Non-Null Count  Dtype  \n",
            "---  ------                   --------------  -----  \n",
            " 0   ID                       35602 non-null  int64  \n",
            " 1   Gender                   35572 non-null  object \n",
            " 2   Customer_Type            32219 non-null  object \n",
            " 3   Age                      35591 non-null  float64\n",
            " 4   Type_Travel              32154 non-null  object \n",
            " 5   Travel_Class             35602 non-null  object \n",
            " 6   Travel_Distance          35602 non-null  int64  \n",
            " 7   Departure_Delay_in_Mins  35573 non-null  float64\n",
            " 8   Arrival_Delay_in_Mins    35479 non-null  float64\n",
            " 9   Seat_Comfort             35580 non-null  object \n",
            " 10  Seat_Class               35602 non-null  object \n",
            " 11  Arrival_Time_Convenient  32277 non-null  object \n",
            " 12  Catering                 32245 non-null  object \n",
            " 13  Platform_Location        35590 non-null  object \n",
            " 14  Onboard_Wifi_Service     35590 non-null  object \n",
            " 15  Onboard_Entertainment    35594 non-null  object \n",
            " 16  Online_Support           35576 non-null  object \n",
            " 17  Ease_of_Online_Booking   35584 non-null  object \n",
            " 18  Onboard_Service          32730 non-null  object \n",
            " 19  Legroom                  35577 non-null  object \n",
            " 20  Baggage_Handling         35562 non-null  object \n",
            " 21  CheckIn_Service          35580 non-null  object \n",
            " 22  Cleanliness              35600 non-null  object \n",
            " 23  Online_Boarding          35600 non-null  object \n",
            "dtypes: float64(3), int64(2), object(19)\n",
            "memory usage: 6.8+ MB\n"
          ]
        }
      ]
    },
    {
      "cell_type": "code",
      "source": [
        "num_cols = ['Age',\"Travel_Distance\",'Departure_Delay_in_Mins',\"Arrival_Delay_in_Mins\"]\n",
        "cat_cols = [\"Type_Travel\", \"Customer_Type\", \"Arrival_Time_Convenient\", \"Catering\",\"Onboard_Service\",'Baggage_Handling', \"Online_Support\",\"Legroom\", \"CheckIn_Service\", \"Gender\", \"Ease_of_Online_Booking\", \"Seat_Comfort\",\"Platform_Location\", \"Onboard_Wifi_Service\", \"Onboard_Entertainment\", \"Cleanliness\", \"Online_Boarding\"]"
      ],
      "metadata": {
        "id": "NQfbY2FdNdE3"
      },
      "id": "NQfbY2FdNdE3",
      "execution_count": null,
      "outputs": []
    },
    {
      "cell_type": "code",
      "source": [
        "imputer_mode = SimpleImputer(strategy=\"most_frequent\")\n",
        "test_data[num_cols] = imputer_mode.fit_transform(test_data[num_cols])\n",
        "test_data[cat_cols] = imputer_mode.fit_transform(test_data[cat_cols])"
      ],
      "metadata": {
        "id": "UOy5OvTFNN01"
      },
      "id": "UOy5OvTFNN01",
      "execution_count": null,
      "outputs": []
    },
    {
      "cell_type": "code",
      "source": [
        "test_data.isnull().sum()"
      ],
      "metadata": {
        "colab": {
          "base_uri": "https://localhost:8080/"
        },
        "id": "yTT1LXt-Nqpf",
        "outputId": "3226d617-4258-4932-b21d-cdedff7f4e8d"
      },
      "id": "yTT1LXt-Nqpf",
      "execution_count": null,
      "outputs": [
        {
          "output_type": "execute_result",
          "data": {
            "text/plain": [
              "ID                         0\n",
              "Gender                     0\n",
              "Customer_Type              0\n",
              "Age                        0\n",
              "Type_Travel                0\n",
              "Travel_Class               0\n",
              "Travel_Distance            0\n",
              "Departure_Delay_in_Mins    0\n",
              "Arrival_Delay_in_Mins      0\n",
              "Seat_Comfort               0\n",
              "Seat_Class                 0\n",
              "Arrival_Time_Convenient    0\n",
              "Catering                   0\n",
              "Platform_Location          0\n",
              "Onboard_Wifi_Service       0\n",
              "Onboard_Entertainment      0\n",
              "Online_Support             0\n",
              "Ease_of_Online_Booking     0\n",
              "Onboard_Service            0\n",
              "Legroom                    0\n",
              "Baggage_Handling           0\n",
              "CheckIn_Service            0\n",
              "Cleanliness                0\n",
              "Online_Boarding            0\n",
              "dtype: int64"
            ]
          },
          "metadata": {},
          "execution_count": 12
        }
      ]
    },
    {
      "cell_type": "markdown",
      "id": "53347602",
      "metadata": {
        "id": "53347602"
      },
      "source": [
        "#### Read the the train data for both the travel and survey data"
      ]
    },
    {
      "cell_type": "code",
      "execution_count": null,
      "id": "29dc27b0",
      "metadata": {
        "id": "29dc27b0"
      },
      "outputs": [],
      "source": [
        "travel_train_data = pd.read_csv('/content/drive/MyDrive/Machine Learning/Classification/Hackathon/Traveldata_train.csv')\n",
        "survey_train_data = pd.read_csv('/content/drive/MyDrive/Machine Learning/Classification/Hackathon/Surveydata_train.csv')"
      ]
    },
    {
      "cell_type": "markdown",
      "id": "e8f6adb2",
      "metadata": {
        "id": "e8f6adb2"
      },
      "source": [
        "#### Check the first 5 rows of the train datasets"
      ]
    },
    {
      "cell_type": "code",
      "execution_count": null,
      "id": "a241fc18",
      "metadata": {
        "id": "a241fc18",
        "outputId": "7cead7e0-63cb-4830-f39f-9bf31da1779b",
        "colab": {
          "base_uri": "https://localhost:8080/"
        }
      },
      "outputs": [
        {
          "output_type": "execute_result",
          "data": {
            "text/plain": [
              "         ID  Gender   Customer_Type   Age      Type_Travel Travel_Class  \\\n",
              "0  98800001  Female  Loyal Customer  52.0              NaN     Business   \n",
              "1  98800002    Male  Loyal Customer  48.0  Personal Travel          Eco   \n",
              "2  98800003  Female  Loyal Customer  43.0  Business Travel     Business   \n",
              "3  98800004  Female  Loyal Customer  44.0  Business Travel     Business   \n",
              "4  98800005  Female  Loyal Customer  50.0  Business Travel     Business   \n",
              "\n",
              "   Travel_Distance  Departure_Delay_in_Mins  Arrival_Delay_in_Mins  \n",
              "0              272                      0.0                    5.0  \n",
              "1             2200                      9.0                    0.0  \n",
              "2             1061                     77.0                  119.0  \n",
              "3              780                     13.0                   18.0  \n",
              "4             1981                      0.0                    0.0  "
            ],
            "text/html": [
              "\n",
              "  <div id=\"df-0ccdfcc6-0418-415e-af00-07a33c52d33c\">\n",
              "    <div class=\"colab-df-container\">\n",
              "      <div>\n",
              "<style scoped>\n",
              "    .dataframe tbody tr th:only-of-type {\n",
              "        vertical-align: middle;\n",
              "    }\n",
              "\n",
              "    .dataframe tbody tr th {\n",
              "        vertical-align: top;\n",
              "    }\n",
              "\n",
              "    .dataframe thead th {\n",
              "        text-align: right;\n",
              "    }\n",
              "</style>\n",
              "<table border=\"1\" class=\"dataframe\">\n",
              "  <thead>\n",
              "    <tr style=\"text-align: right;\">\n",
              "      <th></th>\n",
              "      <th>ID</th>\n",
              "      <th>Gender</th>\n",
              "      <th>Customer_Type</th>\n",
              "      <th>Age</th>\n",
              "      <th>Type_Travel</th>\n",
              "      <th>Travel_Class</th>\n",
              "      <th>Travel_Distance</th>\n",
              "      <th>Departure_Delay_in_Mins</th>\n",
              "      <th>Arrival_Delay_in_Mins</th>\n",
              "    </tr>\n",
              "  </thead>\n",
              "  <tbody>\n",
              "    <tr>\n",
              "      <th>0</th>\n",
              "      <td>98800001</td>\n",
              "      <td>Female</td>\n",
              "      <td>Loyal Customer</td>\n",
              "      <td>52.0</td>\n",
              "      <td>NaN</td>\n",
              "      <td>Business</td>\n",
              "      <td>272</td>\n",
              "      <td>0.0</td>\n",
              "      <td>5.0</td>\n",
              "    </tr>\n",
              "    <tr>\n",
              "      <th>1</th>\n",
              "      <td>98800002</td>\n",
              "      <td>Male</td>\n",
              "      <td>Loyal Customer</td>\n",
              "      <td>48.0</td>\n",
              "      <td>Personal Travel</td>\n",
              "      <td>Eco</td>\n",
              "      <td>2200</td>\n",
              "      <td>9.0</td>\n",
              "      <td>0.0</td>\n",
              "    </tr>\n",
              "    <tr>\n",
              "      <th>2</th>\n",
              "      <td>98800003</td>\n",
              "      <td>Female</td>\n",
              "      <td>Loyal Customer</td>\n",
              "      <td>43.0</td>\n",
              "      <td>Business Travel</td>\n",
              "      <td>Business</td>\n",
              "      <td>1061</td>\n",
              "      <td>77.0</td>\n",
              "      <td>119.0</td>\n",
              "    </tr>\n",
              "    <tr>\n",
              "      <th>3</th>\n",
              "      <td>98800004</td>\n",
              "      <td>Female</td>\n",
              "      <td>Loyal Customer</td>\n",
              "      <td>44.0</td>\n",
              "      <td>Business Travel</td>\n",
              "      <td>Business</td>\n",
              "      <td>780</td>\n",
              "      <td>13.0</td>\n",
              "      <td>18.0</td>\n",
              "    </tr>\n",
              "    <tr>\n",
              "      <th>4</th>\n",
              "      <td>98800005</td>\n",
              "      <td>Female</td>\n",
              "      <td>Loyal Customer</td>\n",
              "      <td>50.0</td>\n",
              "      <td>Business Travel</td>\n",
              "      <td>Business</td>\n",
              "      <td>1981</td>\n",
              "      <td>0.0</td>\n",
              "      <td>0.0</td>\n",
              "    </tr>\n",
              "  </tbody>\n",
              "</table>\n",
              "</div>\n",
              "      <button class=\"colab-df-convert\" onclick=\"convertToInteractive('df-0ccdfcc6-0418-415e-af00-07a33c52d33c')\"\n",
              "              title=\"Convert this dataframe to an interactive table.\"\n",
              "              style=\"display:none;\">\n",
              "        \n",
              "  <svg xmlns=\"http://www.w3.org/2000/svg\" height=\"24px\"viewBox=\"0 0 24 24\"\n",
              "       width=\"24px\">\n",
              "    <path d=\"M0 0h24v24H0V0z\" fill=\"none\"/>\n",
              "    <path d=\"M18.56 5.44l.94 2.06.94-2.06 2.06-.94-2.06-.94-.94-2.06-.94 2.06-2.06.94zm-11 1L8.5 8.5l.94-2.06 2.06-.94-2.06-.94L8.5 2.5l-.94 2.06-2.06.94zm10 10l.94 2.06.94-2.06 2.06-.94-2.06-.94-.94-2.06-.94 2.06-2.06.94z\"/><path d=\"M17.41 7.96l-1.37-1.37c-.4-.4-.92-.59-1.43-.59-.52 0-1.04.2-1.43.59L10.3 9.45l-7.72 7.72c-.78.78-.78 2.05 0 2.83L4 21.41c.39.39.9.59 1.41.59.51 0 1.02-.2 1.41-.59l7.78-7.78 2.81-2.81c.8-.78.8-2.07 0-2.86zM5.41 20L4 18.59l7.72-7.72 1.47 1.35L5.41 20z\"/>\n",
              "  </svg>\n",
              "      </button>\n",
              "      \n",
              "  <style>\n",
              "    .colab-df-container {\n",
              "      display:flex;\n",
              "      flex-wrap:wrap;\n",
              "      gap: 12px;\n",
              "    }\n",
              "\n",
              "    .colab-df-convert {\n",
              "      background-color: #E8F0FE;\n",
              "      border: none;\n",
              "      border-radius: 50%;\n",
              "      cursor: pointer;\n",
              "      display: none;\n",
              "      fill: #1967D2;\n",
              "      height: 32px;\n",
              "      padding: 0 0 0 0;\n",
              "      width: 32px;\n",
              "    }\n",
              "\n",
              "    .colab-df-convert:hover {\n",
              "      background-color: #E2EBFA;\n",
              "      box-shadow: 0px 1px 2px rgba(60, 64, 67, 0.3), 0px 1px 3px 1px rgba(60, 64, 67, 0.15);\n",
              "      fill: #174EA6;\n",
              "    }\n",
              "\n",
              "    [theme=dark] .colab-df-convert {\n",
              "      background-color: #3B4455;\n",
              "      fill: #D2E3FC;\n",
              "    }\n",
              "\n",
              "    [theme=dark] .colab-df-convert:hover {\n",
              "      background-color: #434B5C;\n",
              "      box-shadow: 0px 1px 3px 1px rgba(0, 0, 0, 0.15);\n",
              "      filter: drop-shadow(0px 1px 2px rgba(0, 0, 0, 0.3));\n",
              "      fill: #FFFFFF;\n",
              "    }\n",
              "  </style>\n",
              "\n",
              "      <script>\n",
              "        const buttonEl =\n",
              "          document.querySelector('#df-0ccdfcc6-0418-415e-af00-07a33c52d33c button.colab-df-convert');\n",
              "        buttonEl.style.display =\n",
              "          google.colab.kernel.accessAllowed ? 'block' : 'none';\n",
              "\n",
              "        async function convertToInteractive(key) {\n",
              "          const element = document.querySelector('#df-0ccdfcc6-0418-415e-af00-07a33c52d33c');\n",
              "          const dataTable =\n",
              "            await google.colab.kernel.invokeFunction('convertToInteractive',\n",
              "                                                     [key], {});\n",
              "          if (!dataTable) return;\n",
              "\n",
              "          const docLinkHtml = 'Like what you see? Visit the ' +\n",
              "            '<a target=\"_blank\" href=https://colab.research.google.com/notebooks/data_table.ipynb>data table notebook</a>'\n",
              "            + ' to learn more about interactive tables.';\n",
              "          element.innerHTML = '';\n",
              "          dataTable['output_type'] = 'display_data';\n",
              "          await google.colab.output.renderOutput(dataTable, element);\n",
              "          const docLink = document.createElement('div');\n",
              "          docLink.innerHTML = docLinkHtml;\n",
              "          element.appendChild(docLink);\n",
              "        }\n",
              "      </script>\n",
              "    </div>\n",
              "  </div>\n",
              "  "
            ]
          },
          "metadata": {},
          "execution_count": 14
        }
      ],
      "source": [
        "travel_train_data.head()"
      ]
    },
    {
      "cell_type": "code",
      "execution_count": null,
      "id": "ad67af3e",
      "metadata": {
        "id": "ad67af3e",
        "outputId": "88664626-c7d3-4d19-f672-af5ccdadaf81",
        "colab": {
          "base_uri": "https://localhost:8080/"
        }
      },
      "outputs": [
        {
          "output_type": "execute_result",
          "data": {
            "text/plain": [
              "         ID  Overall_Experience       Seat_Comfort Seat_Class  \\\n",
              "0  98800001                   0  Needs Improvement  Green Car   \n",
              "1  98800002                   0               Poor   Ordinary   \n",
              "2  98800003                   1  Needs Improvement  Green Car   \n",
              "3  98800004                   0         Acceptable   Ordinary   \n",
              "4  98800005                   1         Acceptable   Ordinary   \n",
              "\n",
              "  Arrival_Time_Convenient           Catering  Platform_Location  \\\n",
              "0               Excellent          Excellent    Very Convenient   \n",
              "1               Excellent               Poor  Needs Improvement   \n",
              "2       Needs Improvement  Needs Improvement  Needs Improvement   \n",
              "3       Needs Improvement                NaN  Needs Improvement   \n",
              "4              Acceptable         Acceptable         Manageable   \n",
              "\n",
              "  Onboard_Wifi_Service Onboard_Entertainment Online_Support  \\\n",
              "0                 Good     Needs Improvement     Acceptable   \n",
              "1                 Good                  Poor           Good   \n",
              "2    Needs Improvement                  Good      Excellent   \n",
              "3           Acceptable     Needs Improvement     Acceptable   \n",
              "4    Needs Improvement                  Good      Excellent   \n",
              "\n",
              "  Ease_of_Online_Booking    Onboard_Service            Legroom  \\\n",
              "0      Needs Improvement  Needs Improvement         Acceptable   \n",
              "1                   Good          Excellent  Needs Improvement   \n",
              "2              Excellent          Excellent          Excellent   \n",
              "3             Acceptable         Acceptable         Acceptable   \n",
              "4                   Good               Good               Good   \n",
              "\n",
              "    Baggage_Handling    CheckIn_Service        Cleanliness Online_Boarding  \n",
              "0  Needs Improvement               Good  Needs Improvement            Poor  \n",
              "1               Poor  Needs Improvement               Good            Good  \n",
              "2          Excellent               Good          Excellent       Excellent  \n",
              "3         Acceptable               Good         Acceptable      Acceptable  \n",
              "4               Good               Good               Good            Good  "
            ],
            "text/html": [
              "\n",
              "  <div id=\"df-7d187aac-70e4-4f7d-820f-16550bb66b27\">\n",
              "    <div class=\"colab-df-container\">\n",
              "      <div>\n",
              "<style scoped>\n",
              "    .dataframe tbody tr th:only-of-type {\n",
              "        vertical-align: middle;\n",
              "    }\n",
              "\n",
              "    .dataframe tbody tr th {\n",
              "        vertical-align: top;\n",
              "    }\n",
              "\n",
              "    .dataframe thead th {\n",
              "        text-align: right;\n",
              "    }\n",
              "</style>\n",
              "<table border=\"1\" class=\"dataframe\">\n",
              "  <thead>\n",
              "    <tr style=\"text-align: right;\">\n",
              "      <th></th>\n",
              "      <th>ID</th>\n",
              "      <th>Overall_Experience</th>\n",
              "      <th>Seat_Comfort</th>\n",
              "      <th>Seat_Class</th>\n",
              "      <th>Arrival_Time_Convenient</th>\n",
              "      <th>Catering</th>\n",
              "      <th>Platform_Location</th>\n",
              "      <th>Onboard_Wifi_Service</th>\n",
              "      <th>Onboard_Entertainment</th>\n",
              "      <th>Online_Support</th>\n",
              "      <th>Ease_of_Online_Booking</th>\n",
              "      <th>Onboard_Service</th>\n",
              "      <th>Legroom</th>\n",
              "      <th>Baggage_Handling</th>\n",
              "      <th>CheckIn_Service</th>\n",
              "      <th>Cleanliness</th>\n",
              "      <th>Online_Boarding</th>\n",
              "    </tr>\n",
              "  </thead>\n",
              "  <tbody>\n",
              "    <tr>\n",
              "      <th>0</th>\n",
              "      <td>98800001</td>\n",
              "      <td>0</td>\n",
              "      <td>Needs Improvement</td>\n",
              "      <td>Green Car</td>\n",
              "      <td>Excellent</td>\n",
              "      <td>Excellent</td>\n",
              "      <td>Very Convenient</td>\n",
              "      <td>Good</td>\n",
              "      <td>Needs Improvement</td>\n",
              "      <td>Acceptable</td>\n",
              "      <td>Needs Improvement</td>\n",
              "      <td>Needs Improvement</td>\n",
              "      <td>Acceptable</td>\n",
              "      <td>Needs Improvement</td>\n",
              "      <td>Good</td>\n",
              "      <td>Needs Improvement</td>\n",
              "      <td>Poor</td>\n",
              "    </tr>\n",
              "    <tr>\n",
              "      <th>1</th>\n",
              "      <td>98800002</td>\n",
              "      <td>0</td>\n",
              "      <td>Poor</td>\n",
              "      <td>Ordinary</td>\n",
              "      <td>Excellent</td>\n",
              "      <td>Poor</td>\n",
              "      <td>Needs Improvement</td>\n",
              "      <td>Good</td>\n",
              "      <td>Poor</td>\n",
              "      <td>Good</td>\n",
              "      <td>Good</td>\n",
              "      <td>Excellent</td>\n",
              "      <td>Needs Improvement</td>\n",
              "      <td>Poor</td>\n",
              "      <td>Needs Improvement</td>\n",
              "      <td>Good</td>\n",
              "      <td>Good</td>\n",
              "    </tr>\n",
              "    <tr>\n",
              "      <th>2</th>\n",
              "      <td>98800003</td>\n",
              "      <td>1</td>\n",
              "      <td>Needs Improvement</td>\n",
              "      <td>Green Car</td>\n",
              "      <td>Needs Improvement</td>\n",
              "      <td>Needs Improvement</td>\n",
              "      <td>Needs Improvement</td>\n",
              "      <td>Needs Improvement</td>\n",
              "      <td>Good</td>\n",
              "      <td>Excellent</td>\n",
              "      <td>Excellent</td>\n",
              "      <td>Excellent</td>\n",
              "      <td>Excellent</td>\n",
              "      <td>Excellent</td>\n",
              "      <td>Good</td>\n",
              "      <td>Excellent</td>\n",
              "      <td>Excellent</td>\n",
              "    </tr>\n",
              "    <tr>\n",
              "      <th>3</th>\n",
              "      <td>98800004</td>\n",
              "      <td>0</td>\n",
              "      <td>Acceptable</td>\n",
              "      <td>Ordinary</td>\n",
              "      <td>Needs Improvement</td>\n",
              "      <td>NaN</td>\n",
              "      <td>Needs Improvement</td>\n",
              "      <td>Acceptable</td>\n",
              "      <td>Needs Improvement</td>\n",
              "      <td>Acceptable</td>\n",
              "      <td>Acceptable</td>\n",
              "      <td>Acceptable</td>\n",
              "      <td>Acceptable</td>\n",
              "      <td>Acceptable</td>\n",
              "      <td>Good</td>\n",
              "      <td>Acceptable</td>\n",
              "      <td>Acceptable</td>\n",
              "    </tr>\n",
              "    <tr>\n",
              "      <th>4</th>\n",
              "      <td>98800005</td>\n",
              "      <td>1</td>\n",
              "      <td>Acceptable</td>\n",
              "      <td>Ordinary</td>\n",
              "      <td>Acceptable</td>\n",
              "      <td>Acceptable</td>\n",
              "      <td>Manageable</td>\n",
              "      <td>Needs Improvement</td>\n",
              "      <td>Good</td>\n",
              "      <td>Excellent</td>\n",
              "      <td>Good</td>\n",
              "      <td>Good</td>\n",
              "      <td>Good</td>\n",
              "      <td>Good</td>\n",
              "      <td>Good</td>\n",
              "      <td>Good</td>\n",
              "      <td>Good</td>\n",
              "    </tr>\n",
              "  </tbody>\n",
              "</table>\n",
              "</div>\n",
              "      <button class=\"colab-df-convert\" onclick=\"convertToInteractive('df-7d187aac-70e4-4f7d-820f-16550bb66b27')\"\n",
              "              title=\"Convert this dataframe to an interactive table.\"\n",
              "              style=\"display:none;\">\n",
              "        \n",
              "  <svg xmlns=\"http://www.w3.org/2000/svg\" height=\"24px\"viewBox=\"0 0 24 24\"\n",
              "       width=\"24px\">\n",
              "    <path d=\"M0 0h24v24H0V0z\" fill=\"none\"/>\n",
              "    <path d=\"M18.56 5.44l.94 2.06.94-2.06 2.06-.94-2.06-.94-.94-2.06-.94 2.06-2.06.94zm-11 1L8.5 8.5l.94-2.06 2.06-.94-2.06-.94L8.5 2.5l-.94 2.06-2.06.94zm10 10l.94 2.06.94-2.06 2.06-.94-2.06-.94-.94-2.06-.94 2.06-2.06.94z\"/><path d=\"M17.41 7.96l-1.37-1.37c-.4-.4-.92-.59-1.43-.59-.52 0-1.04.2-1.43.59L10.3 9.45l-7.72 7.72c-.78.78-.78 2.05 0 2.83L4 21.41c.39.39.9.59 1.41.59.51 0 1.02-.2 1.41-.59l7.78-7.78 2.81-2.81c.8-.78.8-2.07 0-2.86zM5.41 20L4 18.59l7.72-7.72 1.47 1.35L5.41 20z\"/>\n",
              "  </svg>\n",
              "      </button>\n",
              "      \n",
              "  <style>\n",
              "    .colab-df-container {\n",
              "      display:flex;\n",
              "      flex-wrap:wrap;\n",
              "      gap: 12px;\n",
              "    }\n",
              "\n",
              "    .colab-df-convert {\n",
              "      background-color: #E8F0FE;\n",
              "      border: none;\n",
              "      border-radius: 50%;\n",
              "      cursor: pointer;\n",
              "      display: none;\n",
              "      fill: #1967D2;\n",
              "      height: 32px;\n",
              "      padding: 0 0 0 0;\n",
              "      width: 32px;\n",
              "    }\n",
              "\n",
              "    .colab-df-convert:hover {\n",
              "      background-color: #E2EBFA;\n",
              "      box-shadow: 0px 1px 2px rgba(60, 64, 67, 0.3), 0px 1px 3px 1px rgba(60, 64, 67, 0.15);\n",
              "      fill: #174EA6;\n",
              "    }\n",
              "\n",
              "    [theme=dark] .colab-df-convert {\n",
              "      background-color: #3B4455;\n",
              "      fill: #D2E3FC;\n",
              "    }\n",
              "\n",
              "    [theme=dark] .colab-df-convert:hover {\n",
              "      background-color: #434B5C;\n",
              "      box-shadow: 0px 1px 3px 1px rgba(0, 0, 0, 0.15);\n",
              "      filter: drop-shadow(0px 1px 2px rgba(0, 0, 0, 0.3));\n",
              "      fill: #FFFFFF;\n",
              "    }\n",
              "  </style>\n",
              "\n",
              "      <script>\n",
              "        const buttonEl =\n",
              "          document.querySelector('#df-7d187aac-70e4-4f7d-820f-16550bb66b27 button.colab-df-convert');\n",
              "        buttonEl.style.display =\n",
              "          google.colab.kernel.accessAllowed ? 'block' : 'none';\n",
              "\n",
              "        async function convertToInteractive(key) {\n",
              "          const element = document.querySelector('#df-7d187aac-70e4-4f7d-820f-16550bb66b27');\n",
              "          const dataTable =\n",
              "            await google.colab.kernel.invokeFunction('convertToInteractive',\n",
              "                                                     [key], {});\n",
              "          if (!dataTable) return;\n",
              "\n",
              "          const docLinkHtml = 'Like what you see? Visit the ' +\n",
              "            '<a target=\"_blank\" href=https://colab.research.google.com/notebooks/data_table.ipynb>data table notebook</a>'\n",
              "            + ' to learn more about interactive tables.';\n",
              "          element.innerHTML = '';\n",
              "          dataTable['output_type'] = 'display_data';\n",
              "          await google.colab.output.renderOutput(dataTable, element);\n",
              "          const docLink = document.createElement('div');\n",
              "          docLink.innerHTML = docLinkHtml;\n",
              "          element.appendChild(docLink);\n",
              "        }\n",
              "      </script>\n",
              "    </div>\n",
              "  </div>\n",
              "  "
            ]
          },
          "metadata": {},
          "execution_count": 15
        }
      ],
      "source": [
        "survey_train_data.head()"
      ]
    },
    {
      "cell_type": "markdown",
      "id": "5dc82e6e",
      "metadata": {
        "id": "5dc82e6e"
      },
      "source": [
        "#### Understand the shape of the train datasets"
      ]
    },
    {
      "cell_type": "code",
      "execution_count": null,
      "id": "d5b37e79",
      "metadata": {
        "id": "d5b37e79",
        "outputId": "034c8d86-9fbd-40b9-be26-8b1733fd3d6e",
        "colab": {
          "base_uri": "https://localhost:8080/"
        }
      },
      "outputs": [
        {
          "output_type": "execute_result",
          "data": {
            "text/plain": [
              "((94379, 9), (94379, 17))"
            ]
          },
          "metadata": {},
          "execution_count": 16
        }
      ],
      "source": [
        "travel_train_data.shape,survey_train_data.shape"
      ]
    },
    {
      "cell_type": "markdown",
      "source": [
        "- There are 9 columns in the Traveldata_train datasets with 94379 rows\n",
        "-There are 17 columns and 94379 rows in the Surveydata_train data"
      ],
      "metadata": {
        "id": "xEVlQ2TQYe2P"
      },
      "id": "xEVlQ2TQYe2P"
    },
    {
      "cell_type": "markdown",
      "id": "2354e7c4",
      "metadata": {
        "id": "2354e7c4"
      },
      "source": [
        "#### Checking the information of the datasets"
      ]
    },
    {
      "cell_type": "code",
      "source": [
        "travel_train_data.info()"
      ],
      "metadata": {
        "colab": {
          "base_uri": "https://localhost:8080/"
        },
        "id": "4kgvIE7gY4kI",
        "outputId": "a3003234-49f1-4050-f736-1daa8d94e528"
      },
      "id": "4kgvIE7gY4kI",
      "execution_count": null,
      "outputs": [
        {
          "output_type": "stream",
          "name": "stdout",
          "text": [
            "<class 'pandas.core.frame.DataFrame'>\n",
            "RangeIndex: 94379 entries, 0 to 94378\n",
            "Data columns (total 9 columns):\n",
            " #   Column                   Non-Null Count  Dtype  \n",
            "---  ------                   --------------  -----  \n",
            " 0   ID                       94379 non-null  int64  \n",
            " 1   Gender                   94302 non-null  object \n",
            " 2   Customer_Type            85428 non-null  object \n",
            " 3   Age                      94346 non-null  float64\n",
            " 4   Type_Travel              85153 non-null  object \n",
            " 5   Travel_Class             94379 non-null  object \n",
            " 6   Travel_Distance          94379 non-null  int64  \n",
            " 7   Departure_Delay_in_Mins  94322 non-null  float64\n",
            " 8   Arrival_Delay_in_Mins    94022 non-null  float64\n",
            "dtypes: float64(3), int64(2), object(4)\n",
            "memory usage: 6.5+ MB\n"
          ]
        }
      ]
    },
    {
      "cell_type": "code",
      "execution_count": null,
      "id": "535f5fc3",
      "metadata": {
        "id": "535f5fc3",
        "outputId": "fc966fd3-b918-4a0b-ba7a-284ff1500b48",
        "colab": {
          "base_uri": "https://localhost:8080/"
        }
      },
      "outputs": [
        {
          "output_type": "stream",
          "name": "stdout",
          "text": [
            "<class 'pandas.core.frame.DataFrame'>\n",
            "RangeIndex: 94379 entries, 0 to 94378\n",
            "Data columns (total 17 columns):\n",
            " #   Column                   Non-Null Count  Dtype \n",
            "---  ------                   --------------  ----- \n",
            " 0   ID                       94379 non-null  int64 \n",
            " 1   Overall_Experience       94379 non-null  int64 \n",
            " 2   Seat_Comfort             94318 non-null  object\n",
            " 3   Seat_Class               94379 non-null  object\n",
            " 4   Arrival_Time_Convenient  85449 non-null  object\n",
            " 5   Catering                 85638 non-null  object\n",
            " 6   Platform_Location        94349 non-null  object\n",
            " 7   Onboard_Wifi_Service     94349 non-null  object\n",
            " 8   Onboard_Entertainment    94361 non-null  object\n",
            " 9   Online_Support           94288 non-null  object\n",
            " 10  Ease_of_Online_Booking   94306 non-null  object\n",
            " 11  Onboard_Service          86778 non-null  object\n",
            " 12  Legroom                  94289 non-null  object\n",
            " 13  Baggage_Handling         94237 non-null  object\n",
            " 14  CheckIn_Service          94302 non-null  object\n",
            " 15  Cleanliness              94373 non-null  object\n",
            " 16  Online_Boarding          94373 non-null  object\n",
            "dtypes: int64(2), object(15)\n",
            "memory usage: 12.2+ MB\n"
          ]
        }
      ],
      "source": [
        "survey_train_data.info()"
      ]
    },
    {
      "cell_type": "markdown",
      "id": "f6fbe9f7",
      "metadata": {
        "id": "f6fbe9f7"
      },
      "source": [
        "#### Observation\n",
        "- Both datasets have same unique numbers of IDs (94379) hence we can merge the datasets on the ID variable"
      ]
    },
    {
      "cell_type": "code",
      "execution_count": null,
      "id": "4c2ea723",
      "metadata": {
        "id": "4c2ea723"
      },
      "outputs": [],
      "source": [
        "train_data = pd.merge(travel_train_data, survey_train_data, on =\"ID\")"
      ]
    },
    {
      "cell_type": "code",
      "execution_count": null,
      "id": "3fd5a8d4",
      "metadata": {
        "id": "3fd5a8d4",
        "outputId": "e54dff09-09e9-4fcc-c460-77ddb4f3532a",
        "colab": {
          "base_uri": "https://localhost:8080/"
        }
      },
      "outputs": [
        {
          "output_type": "execute_result",
          "data": {
            "text/plain": [
              "(94379, 25)"
            ]
          },
          "metadata": {},
          "execution_count": 20
        }
      ],
      "source": [
        "train_data.shape"
      ]
    },
    {
      "cell_type": "markdown",
      "id": "781e0961",
      "metadata": {
        "id": "781e0961"
      },
      "source": [
        "#### There are 94,379 rows and 25 columns after merging the data"
      ]
    },
    {
      "cell_type": "markdown",
      "source": [
        "### **Checking the data types of the columns for the dataset**"
      ],
      "metadata": {
        "id": "E-z38NudZNmC"
      },
      "id": "E-z38NudZNmC"
    },
    {
      "cell_type": "code",
      "execution_count": null,
      "id": "a6f97fc6",
      "metadata": {
        "id": "a6f97fc6",
        "outputId": "3b870b36-5258-48e4-cfbb-6a1a6058d3b7",
        "colab": {
          "base_uri": "https://localhost:8080/"
        }
      },
      "outputs": [
        {
          "output_type": "stream",
          "name": "stdout",
          "text": [
            "<class 'pandas.core.frame.DataFrame'>\n",
            "Int64Index: 94379 entries, 0 to 94378\n",
            "Data columns (total 25 columns):\n",
            " #   Column                   Non-Null Count  Dtype  \n",
            "---  ------                   --------------  -----  \n",
            " 0   ID                       94379 non-null  int64  \n",
            " 1   Gender                   94302 non-null  object \n",
            " 2   Customer_Type            85428 non-null  object \n",
            " 3   Age                      94346 non-null  float64\n",
            " 4   Type_Travel              85153 non-null  object \n",
            " 5   Travel_Class             94379 non-null  object \n",
            " 6   Travel_Distance          94379 non-null  int64  \n",
            " 7   Departure_Delay_in_Mins  94322 non-null  float64\n",
            " 8   Arrival_Delay_in_Mins    94022 non-null  float64\n",
            " 9   Overall_Experience       94379 non-null  int64  \n",
            " 10  Seat_Comfort             94318 non-null  object \n",
            " 11  Seat_Class               94379 non-null  object \n",
            " 12  Arrival_Time_Convenient  85449 non-null  object \n",
            " 13  Catering                 85638 non-null  object \n",
            " 14  Platform_Location        94349 non-null  object \n",
            " 15  Onboard_Wifi_Service     94349 non-null  object \n",
            " 16  Onboard_Entertainment    94361 non-null  object \n",
            " 17  Online_Support           94288 non-null  object \n",
            " 18  Ease_of_Online_Booking   94306 non-null  object \n",
            " 19  Onboard_Service          86778 non-null  object \n",
            " 20  Legroom                  94289 non-null  object \n",
            " 21  Baggage_Handling         94237 non-null  object \n",
            " 22  CheckIn_Service          94302 non-null  object \n",
            " 23  Cleanliness              94373 non-null  object \n",
            " 24  Online_Boarding          94373 non-null  object \n",
            "dtypes: float64(3), int64(3), object(19)\n",
            "memory usage: 18.7+ MB\n"
          ]
        }
      ],
      "source": [
        "train_data.info()"
      ]
    },
    {
      "cell_type": "markdown",
      "id": "938511d5",
      "metadata": {
        "id": "938511d5"
      },
      "source": [
        "- The numeric columns are ID, Age, Travel Distance, Departure_Delay_in_Mins, Arrival_Delay_in_Mins and Overall_Experience.\n",
        "-Other columns are of Object/String types\n",
        "- Overall_Experience is our target variable\n",
        "- There are null values in the dataset, we will explore this further"
      ]
    },
    {
      "cell_type": "code",
      "source": [
        "def missing_values(df):\n",
        "  count_null = df.isnull().count().sort_values(ascending = False)\n",
        "  total_null = df.isnull().sum().sort_values(ascending = False)\n",
        "  missing_percent = total_null/count_null\n",
        "  total = pd.concat([total_null, missing_percent],axis = 1, keys = ['Total','%_missing'])\n",
        "  return total"
      ],
      "metadata": {
        "id": "tS0I-nI9alic"
      },
      "id": "tS0I-nI9alic",
      "execution_count": null,
      "outputs": []
    },
    {
      "cell_type": "code",
      "source": [
        "missing_values(train_data)"
      ],
      "metadata": {
        "colab": {
          "base_uri": "https://localhost:8080/"
        },
        "id": "QeP1K4_EesBc",
        "outputId": "acd49b90-e408-4088-9b40-a2efebbda95a"
      },
      "id": "QeP1K4_EesBc",
      "execution_count": null,
      "outputs": [
        {
          "output_type": "execute_result",
          "data": {
            "text/plain": [
              "                         Total  %_missing\n",
              "Type_Travel               9226   0.097755\n",
              "Customer_Type             8951   0.094841\n",
              "Arrival_Time_Convenient   8930   0.094619\n",
              "Catering                  8741   0.092616\n",
              "Onboard_Service           7601   0.080537\n",
              "Arrival_Delay_in_Mins      357   0.003783\n",
              "Baggage_Handling           142   0.001505\n",
              "Online_Support              91   0.000964\n",
              "Legroom                     90   0.000954\n",
              "CheckIn_Service             77   0.000816\n",
              "Gender                      77   0.000816\n",
              "Ease_of_Online_Booking      73   0.000773\n",
              "Seat_Comfort                61   0.000646\n",
              "Departure_Delay_in_Mins     57   0.000604\n",
              "Age                         33   0.000350\n",
              "Platform_Location           30   0.000318\n",
              "Onboard_Wifi_Service        30   0.000318\n",
              "Onboard_Entertainment       18   0.000191\n",
              "Cleanliness                  6   0.000064\n",
              "Online_Boarding              6   0.000064\n",
              "Seat_Class                   0   0.000000\n",
              "Overall_Experience           0   0.000000\n",
              "Travel_Distance              0   0.000000\n",
              "Travel_Class                 0   0.000000\n",
              "ID                           0   0.000000"
            ],
            "text/html": [
              "\n",
              "  <div id=\"df-873d678c-7618-488d-b004-9baa4ec64d6a\">\n",
              "    <div class=\"colab-df-container\">\n",
              "      <div>\n",
              "<style scoped>\n",
              "    .dataframe tbody tr th:only-of-type {\n",
              "        vertical-align: middle;\n",
              "    }\n",
              "\n",
              "    .dataframe tbody tr th {\n",
              "        vertical-align: top;\n",
              "    }\n",
              "\n",
              "    .dataframe thead th {\n",
              "        text-align: right;\n",
              "    }\n",
              "</style>\n",
              "<table border=\"1\" class=\"dataframe\">\n",
              "  <thead>\n",
              "    <tr style=\"text-align: right;\">\n",
              "      <th></th>\n",
              "      <th>Total</th>\n",
              "      <th>%_missing</th>\n",
              "    </tr>\n",
              "  </thead>\n",
              "  <tbody>\n",
              "    <tr>\n",
              "      <th>Type_Travel</th>\n",
              "      <td>9226</td>\n",
              "      <td>0.097755</td>\n",
              "    </tr>\n",
              "    <tr>\n",
              "      <th>Customer_Type</th>\n",
              "      <td>8951</td>\n",
              "      <td>0.094841</td>\n",
              "    </tr>\n",
              "    <tr>\n",
              "      <th>Arrival_Time_Convenient</th>\n",
              "      <td>8930</td>\n",
              "      <td>0.094619</td>\n",
              "    </tr>\n",
              "    <tr>\n",
              "      <th>Catering</th>\n",
              "      <td>8741</td>\n",
              "      <td>0.092616</td>\n",
              "    </tr>\n",
              "    <tr>\n",
              "      <th>Onboard_Service</th>\n",
              "      <td>7601</td>\n",
              "      <td>0.080537</td>\n",
              "    </tr>\n",
              "    <tr>\n",
              "      <th>Arrival_Delay_in_Mins</th>\n",
              "      <td>357</td>\n",
              "      <td>0.003783</td>\n",
              "    </tr>\n",
              "    <tr>\n",
              "      <th>Baggage_Handling</th>\n",
              "      <td>142</td>\n",
              "      <td>0.001505</td>\n",
              "    </tr>\n",
              "    <tr>\n",
              "      <th>Online_Support</th>\n",
              "      <td>91</td>\n",
              "      <td>0.000964</td>\n",
              "    </tr>\n",
              "    <tr>\n",
              "      <th>Legroom</th>\n",
              "      <td>90</td>\n",
              "      <td>0.000954</td>\n",
              "    </tr>\n",
              "    <tr>\n",
              "      <th>CheckIn_Service</th>\n",
              "      <td>77</td>\n",
              "      <td>0.000816</td>\n",
              "    </tr>\n",
              "    <tr>\n",
              "      <th>Gender</th>\n",
              "      <td>77</td>\n",
              "      <td>0.000816</td>\n",
              "    </tr>\n",
              "    <tr>\n",
              "      <th>Ease_of_Online_Booking</th>\n",
              "      <td>73</td>\n",
              "      <td>0.000773</td>\n",
              "    </tr>\n",
              "    <tr>\n",
              "      <th>Seat_Comfort</th>\n",
              "      <td>61</td>\n",
              "      <td>0.000646</td>\n",
              "    </tr>\n",
              "    <tr>\n",
              "      <th>Departure_Delay_in_Mins</th>\n",
              "      <td>57</td>\n",
              "      <td>0.000604</td>\n",
              "    </tr>\n",
              "    <tr>\n",
              "      <th>Age</th>\n",
              "      <td>33</td>\n",
              "      <td>0.000350</td>\n",
              "    </tr>\n",
              "    <tr>\n",
              "      <th>Platform_Location</th>\n",
              "      <td>30</td>\n",
              "      <td>0.000318</td>\n",
              "    </tr>\n",
              "    <tr>\n",
              "      <th>Onboard_Wifi_Service</th>\n",
              "      <td>30</td>\n",
              "      <td>0.000318</td>\n",
              "    </tr>\n",
              "    <tr>\n",
              "      <th>Onboard_Entertainment</th>\n",
              "      <td>18</td>\n",
              "      <td>0.000191</td>\n",
              "    </tr>\n",
              "    <tr>\n",
              "      <th>Cleanliness</th>\n",
              "      <td>6</td>\n",
              "      <td>0.000064</td>\n",
              "    </tr>\n",
              "    <tr>\n",
              "      <th>Online_Boarding</th>\n",
              "      <td>6</td>\n",
              "      <td>0.000064</td>\n",
              "    </tr>\n",
              "    <tr>\n",
              "      <th>Seat_Class</th>\n",
              "      <td>0</td>\n",
              "      <td>0.000000</td>\n",
              "    </tr>\n",
              "    <tr>\n",
              "      <th>Overall_Experience</th>\n",
              "      <td>0</td>\n",
              "      <td>0.000000</td>\n",
              "    </tr>\n",
              "    <tr>\n",
              "      <th>Travel_Distance</th>\n",
              "      <td>0</td>\n",
              "      <td>0.000000</td>\n",
              "    </tr>\n",
              "    <tr>\n",
              "      <th>Travel_Class</th>\n",
              "      <td>0</td>\n",
              "      <td>0.000000</td>\n",
              "    </tr>\n",
              "    <tr>\n",
              "      <th>ID</th>\n",
              "      <td>0</td>\n",
              "      <td>0.000000</td>\n",
              "    </tr>\n",
              "  </tbody>\n",
              "</table>\n",
              "</div>\n",
              "      <button class=\"colab-df-convert\" onclick=\"convertToInteractive('df-873d678c-7618-488d-b004-9baa4ec64d6a')\"\n",
              "              title=\"Convert this dataframe to an interactive table.\"\n",
              "              style=\"display:none;\">\n",
              "        \n",
              "  <svg xmlns=\"http://www.w3.org/2000/svg\" height=\"24px\"viewBox=\"0 0 24 24\"\n",
              "       width=\"24px\">\n",
              "    <path d=\"M0 0h24v24H0V0z\" fill=\"none\"/>\n",
              "    <path d=\"M18.56 5.44l.94 2.06.94-2.06 2.06-.94-2.06-.94-.94-2.06-.94 2.06-2.06.94zm-11 1L8.5 8.5l.94-2.06 2.06-.94-2.06-.94L8.5 2.5l-.94 2.06-2.06.94zm10 10l.94 2.06.94-2.06 2.06-.94-2.06-.94-.94-2.06-.94 2.06-2.06.94z\"/><path d=\"M17.41 7.96l-1.37-1.37c-.4-.4-.92-.59-1.43-.59-.52 0-1.04.2-1.43.59L10.3 9.45l-7.72 7.72c-.78.78-.78 2.05 0 2.83L4 21.41c.39.39.9.59 1.41.59.51 0 1.02-.2 1.41-.59l7.78-7.78 2.81-2.81c.8-.78.8-2.07 0-2.86zM5.41 20L4 18.59l7.72-7.72 1.47 1.35L5.41 20z\"/>\n",
              "  </svg>\n",
              "      </button>\n",
              "      \n",
              "  <style>\n",
              "    .colab-df-container {\n",
              "      display:flex;\n",
              "      flex-wrap:wrap;\n",
              "      gap: 12px;\n",
              "    }\n",
              "\n",
              "    .colab-df-convert {\n",
              "      background-color: #E8F0FE;\n",
              "      border: none;\n",
              "      border-radius: 50%;\n",
              "      cursor: pointer;\n",
              "      display: none;\n",
              "      fill: #1967D2;\n",
              "      height: 32px;\n",
              "      padding: 0 0 0 0;\n",
              "      width: 32px;\n",
              "    }\n",
              "\n",
              "    .colab-df-convert:hover {\n",
              "      background-color: #E2EBFA;\n",
              "      box-shadow: 0px 1px 2px rgba(60, 64, 67, 0.3), 0px 1px 3px 1px rgba(60, 64, 67, 0.15);\n",
              "      fill: #174EA6;\n",
              "    }\n",
              "\n",
              "    [theme=dark] .colab-df-convert {\n",
              "      background-color: #3B4455;\n",
              "      fill: #D2E3FC;\n",
              "    }\n",
              "\n",
              "    [theme=dark] .colab-df-convert:hover {\n",
              "      background-color: #434B5C;\n",
              "      box-shadow: 0px 1px 3px 1px rgba(0, 0, 0, 0.15);\n",
              "      filter: drop-shadow(0px 1px 2px rgba(0, 0, 0, 0.3));\n",
              "      fill: #FFFFFF;\n",
              "    }\n",
              "  </style>\n",
              "\n",
              "      <script>\n",
              "        const buttonEl =\n",
              "          document.querySelector('#df-873d678c-7618-488d-b004-9baa4ec64d6a button.colab-df-convert');\n",
              "        buttonEl.style.display =\n",
              "          google.colab.kernel.accessAllowed ? 'block' : 'none';\n",
              "\n",
              "        async function convertToInteractive(key) {\n",
              "          const element = document.querySelector('#df-873d678c-7618-488d-b004-9baa4ec64d6a');\n",
              "          const dataTable =\n",
              "            await google.colab.kernel.invokeFunction('convertToInteractive',\n",
              "                                                     [key], {});\n",
              "          if (!dataTable) return;\n",
              "\n",
              "          const docLinkHtml = 'Like what you see? Visit the ' +\n",
              "            '<a target=\"_blank\" href=https://colab.research.google.com/notebooks/data_table.ipynb>data table notebook</a>'\n",
              "            + ' to learn more about interactive tables.';\n",
              "          element.innerHTML = '';\n",
              "          dataTable['output_type'] = 'display_data';\n",
              "          await google.colab.output.renderOutput(dataTable, element);\n",
              "          const docLink = document.createElement('div');\n",
              "          docLink.innerHTML = docLinkHtml;\n",
              "          element.appendChild(docLink);\n",
              "        }\n",
              "      </script>\n",
              "    </div>\n",
              "  </div>\n",
              "  "
            ]
          },
          "metadata": {},
          "execution_count": 23
        }
      ]
    },
    {
      "cell_type": "markdown",
      "source": [
        "- The columns with the most missing values are Type_Travel, Customer_Type, Arrival_Time_Convenient, Catering and Onboard_Service.\n",
        "- Others with missing values are Arrival_Delay_in_Mins, Baggage_Handling, Online_Support, Legroom, CheckIn_Service, Gender, Ease_of_Online_Booking, Seat_Comfort, Seat_Comfort, Departure_Delay_in_Mins, Age, Platform_Location, Onboard_Wifi_Service, Onboard_Entertainment, Cleanliness and Online_Boarding.\n",
        "- These columns will be explored to determine how to imput the missing values."
      ],
      "metadata": {
        "id": "_mekcYcOfkig"
      },
      "id": "_mekcYcOfkig"
    },
    {
      "cell_type": "markdown",
      "source": [
        "Imput the missing value with their mode"
      ],
      "metadata": {
        "id": "hwuVypQM_pDi"
      },
      "id": "hwuVypQM_pDi"
    },
    {
      "cell_type": "code",
      "source": [
        "num_cols = ['Age',\"Travel_Distance\",'Departure_Delay_in_Mins',\"Arrival_Delay_in_Mins\"]\n",
        "cat_cols = [\"Type_Travel\", \"Customer_Type\", \"Arrival_Time_Convenient\", \"Catering\",\"Onboard_Service\",'Baggage_Handling', \"Online_Support\",\"Legroom\", \"CheckIn_Service\", \"Gender\", \"Ease_of_Online_Booking\", \"Seat_Comfort\",\"Platform_Location\", \"Onboard_Wifi_Service\", \"Onboard_Entertainment\", \"Cleanliness\", \"Online_Boarding\"]"
      ],
      "metadata": {
        "id": "vFHWw7E8Bj99"
      },
      "id": "vFHWw7E8Bj99",
      "execution_count": null,
      "outputs": []
    },
    {
      "cell_type": "code",
      "source": [
        "imputer_mode = SimpleImputer(strategy=\"most_frequent\")\n",
        "train_data[num_cols] = imputer_mode.fit_transform(train_data[num_cols])\n",
        "    "
      ],
      "metadata": {
        "id": "sD0K3Bxi_nSZ"
      },
      "id": "sD0K3Bxi_nSZ",
      "execution_count": null,
      "outputs": []
    },
    {
      "cell_type": "code",
      "source": [
        "train_data[cat_cols] = imputer_mode.fit_transform(train_data[cat_cols])\n",
        "    "
      ],
      "metadata": {
        "id": "sqHT-lyCHue0"
      },
      "id": "sqHT-lyCHue0",
      "execution_count": null,
      "outputs": []
    },
    {
      "cell_type": "code",
      "source": [
        "train_data.isnull().sum()"
      ],
      "metadata": {
        "colab": {
          "base_uri": "https://localhost:8080/"
        },
        "id": "xNaq445pIIR-",
        "outputId": "ee74a8aa-01aa-42b4-b65d-51f1a07f4f47"
      },
      "id": "xNaq445pIIR-",
      "execution_count": null,
      "outputs": [
        {
          "output_type": "execute_result",
          "data": {
            "text/plain": [
              "ID                         0\n",
              "Gender                     0\n",
              "Customer_Type              0\n",
              "Age                        0\n",
              "Type_Travel                0\n",
              "Travel_Class               0\n",
              "Travel_Distance            0\n",
              "Departure_Delay_in_Mins    0\n",
              "Arrival_Delay_in_Mins      0\n",
              "Overall_Experience         0\n",
              "Seat_Comfort               0\n",
              "Seat_Class                 0\n",
              "Arrival_Time_Convenient    0\n",
              "Catering                   0\n",
              "Platform_Location          0\n",
              "Onboard_Wifi_Service       0\n",
              "Onboard_Entertainment      0\n",
              "Online_Support             0\n",
              "Ease_of_Online_Booking     0\n",
              "Onboard_Service            0\n",
              "Legroom                    0\n",
              "Baggage_Handling           0\n",
              "CheckIn_Service            0\n",
              "Cleanliness                0\n",
              "Online_Boarding            0\n",
              "dtype: int64"
            ]
          },
          "metadata": {},
          "execution_count": 27
        }
      ]
    },
    {
      "cell_type": "markdown",
      "source": [
        "Let us check for duplicate values in the data\n"
      ],
      "metadata": {
        "id": "j9TLZXpJhWEM"
      },
      "id": "j9TLZXpJhWEM"
    },
    {
      "cell_type": "code",
      "source": [
        "train_data.duplicated().sum()"
      ],
      "metadata": {
        "colab": {
          "base_uri": "https://localhost:8080/"
        },
        "id": "RM5dztrVewI3",
        "outputId": "6d5c4167-31d3-4167-ba5c-09f0494927cb"
      },
      "id": "RM5dztrVewI3",
      "execution_count": null,
      "outputs": [
        {
          "output_type": "execute_result",
          "data": {
            "text/plain": [
              "0"
            ]
          },
          "metadata": {},
          "execution_count": 28
        }
      ]
    },
    {
      "cell_type": "markdown",
      "source": [
        "There are no duplicates in the data"
      ],
      "metadata": {
        "id": "cPcKyti3omKr"
      },
      "id": "cPcKyti3omKr"
    },
    {
      "cell_type": "markdown",
      "source": [
        "#### Checking the distribution of the target variable 'Overall_Experience"
      ],
      "metadata": {
        "id": "Bt_KGFoRotYg"
      },
      "id": "Bt_KGFoRotYg"
    },
    {
      "cell_type": "code",
      "source": [
        "train_data['Overall_Experience'].value_counts(1)"
      ],
      "metadata": {
        "colab": {
          "base_uri": "https://localhost:8080/"
        },
        "id": "iVQmwmewojBT",
        "outputId": "e6c62d9a-a103-4c88-aa07-f9f676992dca"
      },
      "id": "iVQmwmewojBT",
      "execution_count": null,
      "outputs": [
        {
          "output_type": "execute_result",
          "data": {
            "text/plain": [
              "1    0.546658\n",
              "0    0.453342\n",
              "Name: Overall_Experience, dtype: float64"
            ]
          },
          "metadata": {},
          "execution_count": 29
        }
      ]
    },
    {
      "cell_type": "markdown",
      "source": [
        "The target variable is fairly balanced, with ~ 55% Satisfied and 45% Not satisfied"
      ],
      "metadata": {
        "id": "R1tRV4T9pI4C"
      },
      "id": "R1tRV4T9pI4C"
    },
    {
      "cell_type": "markdown",
      "source": [
        "The ID columns does not add any significance to the models to be generated, hence we drop it"
      ],
      "metadata": {
        "id": "gDaVSeSvp7sk"
      },
      "id": "gDaVSeSvp7sk"
    },
    {
      "cell_type": "code",
      "source": [
        "train_data.drop('ID', axis = 1, inplace = True)"
      ],
      "metadata": {
        "id": "yD9i8zeAqCoB"
      },
      "id": "yD9i8zeAqCoB",
      "execution_count": null,
      "outputs": []
    },
    {
      "cell_type": "markdown",
      "source": [
        "### Let's view the statistical summary of the numerical columns in the data"
      ],
      "metadata": {
        "id": "zhLGYMMbptig"
      },
      "id": "zhLGYMMbptig"
    },
    {
      "cell_type": "code",
      "source": [
        "train_data.describe().T"
      ],
      "metadata": {
        "colab": {
          "base_uri": "https://localhost:8080/"
        },
        "id": "lSOkI4-SpGT5",
        "outputId": "32f12786-b0c6-411c-e11d-7967c60995a8"
      },
      "id": "lSOkI4-SpGT5",
      "execution_count": null,
      "outputs": [
        {
          "output_type": "execute_result",
          "data": {
            "text/plain": [
              "                           count         mean          std   min     25%  \\\n",
              "Age                      94379.0    39.419500    15.113991   7.0    27.0   \n",
              "Travel_Distance          94379.0  1978.888185  1027.961019  50.0  1359.0   \n",
              "Departure_Delay_in_Mins  94379.0    14.638246    38.128961   0.0     0.0   \n",
              "Arrival_Delay_in_Mins    94379.0    14.948463    38.377695   0.0     0.0   \n",
              "Overall_Experience       94379.0     0.546658     0.497821   0.0     0.0   \n",
              "\n",
              "                            50%     75%     max  \n",
              "Age                        40.0    51.0    85.0  \n",
              "Travel_Distance          1923.0  2538.0  6951.0  \n",
              "Departure_Delay_in_Mins     0.0    12.0  1592.0  \n",
              "Arrival_Delay_in_Mins       0.0    13.0  1584.0  \n",
              "Overall_Experience          1.0     1.0     1.0  "
            ],
            "text/html": [
              "\n",
              "  <div id=\"df-5f840d16-e2da-450c-8889-c4545bb5773e\">\n",
              "    <div class=\"colab-df-container\">\n",
              "      <div>\n",
              "<style scoped>\n",
              "    .dataframe tbody tr th:only-of-type {\n",
              "        vertical-align: middle;\n",
              "    }\n",
              "\n",
              "    .dataframe tbody tr th {\n",
              "        vertical-align: top;\n",
              "    }\n",
              "\n",
              "    .dataframe thead th {\n",
              "        text-align: right;\n",
              "    }\n",
              "</style>\n",
              "<table border=\"1\" class=\"dataframe\">\n",
              "  <thead>\n",
              "    <tr style=\"text-align: right;\">\n",
              "      <th></th>\n",
              "      <th>count</th>\n",
              "      <th>mean</th>\n",
              "      <th>std</th>\n",
              "      <th>min</th>\n",
              "      <th>25%</th>\n",
              "      <th>50%</th>\n",
              "      <th>75%</th>\n",
              "      <th>max</th>\n",
              "    </tr>\n",
              "  </thead>\n",
              "  <tbody>\n",
              "    <tr>\n",
              "      <th>Age</th>\n",
              "      <td>94379.0</td>\n",
              "      <td>39.419500</td>\n",
              "      <td>15.113991</td>\n",
              "      <td>7.0</td>\n",
              "      <td>27.0</td>\n",
              "      <td>40.0</td>\n",
              "      <td>51.0</td>\n",
              "      <td>85.0</td>\n",
              "    </tr>\n",
              "    <tr>\n",
              "      <th>Travel_Distance</th>\n",
              "      <td>94379.0</td>\n",
              "      <td>1978.888185</td>\n",
              "      <td>1027.961019</td>\n",
              "      <td>50.0</td>\n",
              "      <td>1359.0</td>\n",
              "      <td>1923.0</td>\n",
              "      <td>2538.0</td>\n",
              "      <td>6951.0</td>\n",
              "    </tr>\n",
              "    <tr>\n",
              "      <th>Departure_Delay_in_Mins</th>\n",
              "      <td>94379.0</td>\n",
              "      <td>14.638246</td>\n",
              "      <td>38.128961</td>\n",
              "      <td>0.0</td>\n",
              "      <td>0.0</td>\n",
              "      <td>0.0</td>\n",
              "      <td>12.0</td>\n",
              "      <td>1592.0</td>\n",
              "    </tr>\n",
              "    <tr>\n",
              "      <th>Arrival_Delay_in_Mins</th>\n",
              "      <td>94379.0</td>\n",
              "      <td>14.948463</td>\n",
              "      <td>38.377695</td>\n",
              "      <td>0.0</td>\n",
              "      <td>0.0</td>\n",
              "      <td>0.0</td>\n",
              "      <td>13.0</td>\n",
              "      <td>1584.0</td>\n",
              "    </tr>\n",
              "    <tr>\n",
              "      <th>Overall_Experience</th>\n",
              "      <td>94379.0</td>\n",
              "      <td>0.546658</td>\n",
              "      <td>0.497821</td>\n",
              "      <td>0.0</td>\n",
              "      <td>0.0</td>\n",
              "      <td>1.0</td>\n",
              "      <td>1.0</td>\n",
              "      <td>1.0</td>\n",
              "    </tr>\n",
              "  </tbody>\n",
              "</table>\n",
              "</div>\n",
              "      <button class=\"colab-df-convert\" onclick=\"convertToInteractive('df-5f840d16-e2da-450c-8889-c4545bb5773e')\"\n",
              "              title=\"Convert this dataframe to an interactive table.\"\n",
              "              style=\"display:none;\">\n",
              "        \n",
              "  <svg xmlns=\"http://www.w3.org/2000/svg\" height=\"24px\"viewBox=\"0 0 24 24\"\n",
              "       width=\"24px\">\n",
              "    <path d=\"M0 0h24v24H0V0z\" fill=\"none\"/>\n",
              "    <path d=\"M18.56 5.44l.94 2.06.94-2.06 2.06-.94-2.06-.94-.94-2.06-.94 2.06-2.06.94zm-11 1L8.5 8.5l.94-2.06 2.06-.94-2.06-.94L8.5 2.5l-.94 2.06-2.06.94zm10 10l.94 2.06.94-2.06 2.06-.94-2.06-.94-.94-2.06-.94 2.06-2.06.94z\"/><path d=\"M17.41 7.96l-1.37-1.37c-.4-.4-.92-.59-1.43-.59-.52 0-1.04.2-1.43.59L10.3 9.45l-7.72 7.72c-.78.78-.78 2.05 0 2.83L4 21.41c.39.39.9.59 1.41.59.51 0 1.02-.2 1.41-.59l7.78-7.78 2.81-2.81c.8-.78.8-2.07 0-2.86zM5.41 20L4 18.59l7.72-7.72 1.47 1.35L5.41 20z\"/>\n",
              "  </svg>\n",
              "      </button>\n",
              "      \n",
              "  <style>\n",
              "    .colab-df-container {\n",
              "      display:flex;\n",
              "      flex-wrap:wrap;\n",
              "      gap: 12px;\n",
              "    }\n",
              "\n",
              "    .colab-df-convert {\n",
              "      background-color: #E8F0FE;\n",
              "      border: none;\n",
              "      border-radius: 50%;\n",
              "      cursor: pointer;\n",
              "      display: none;\n",
              "      fill: #1967D2;\n",
              "      height: 32px;\n",
              "      padding: 0 0 0 0;\n",
              "      width: 32px;\n",
              "    }\n",
              "\n",
              "    .colab-df-convert:hover {\n",
              "      background-color: #E2EBFA;\n",
              "      box-shadow: 0px 1px 2px rgba(60, 64, 67, 0.3), 0px 1px 3px 1px rgba(60, 64, 67, 0.15);\n",
              "      fill: #174EA6;\n",
              "    }\n",
              "\n",
              "    [theme=dark] .colab-df-convert {\n",
              "      background-color: #3B4455;\n",
              "      fill: #D2E3FC;\n",
              "    }\n",
              "\n",
              "    [theme=dark] .colab-df-convert:hover {\n",
              "      background-color: #434B5C;\n",
              "      box-shadow: 0px 1px 3px 1px rgba(0, 0, 0, 0.15);\n",
              "      filter: drop-shadow(0px 1px 2px rgba(0, 0, 0, 0.3));\n",
              "      fill: #FFFFFF;\n",
              "    }\n",
              "  </style>\n",
              "\n",
              "      <script>\n",
              "        const buttonEl =\n",
              "          document.querySelector('#df-5f840d16-e2da-450c-8889-c4545bb5773e button.colab-df-convert');\n",
              "        buttonEl.style.display =\n",
              "          google.colab.kernel.accessAllowed ? 'block' : 'none';\n",
              "\n",
              "        async function convertToInteractive(key) {\n",
              "          const element = document.querySelector('#df-5f840d16-e2da-450c-8889-c4545bb5773e');\n",
              "          const dataTable =\n",
              "            await google.colab.kernel.invokeFunction('convertToInteractive',\n",
              "                                                     [key], {});\n",
              "          if (!dataTable) return;\n",
              "\n",
              "          const docLinkHtml = 'Like what you see? Visit the ' +\n",
              "            '<a target=\"_blank\" href=https://colab.research.google.com/notebooks/data_table.ipynb>data table notebook</a>'\n",
              "            + ' to learn more about interactive tables.';\n",
              "          element.innerHTML = '';\n",
              "          dataTable['output_type'] = 'display_data';\n",
              "          await google.colab.output.renderOutput(dataTable, element);\n",
              "          const docLink = document.createElement('div');\n",
              "          docLink.innerHTML = docLinkHtml;\n",
              "          element.appendChild(docLink);\n",
              "        }\n",
              "      </script>\n",
              "    </div>\n",
              "  </div>\n",
              "  "
            ]
          },
          "metadata": {},
          "execution_count": 31
        }
      ]
    },
    {
      "cell_type": "markdown",
      "source": [
        "The median and the mean of Age is almost the same wirh 39 as thr average age and 40, the median.\n",
        "There is a maximum departure delay in minutes of about 1592. "
      ],
      "metadata": {
        "id": "dGXXhpAbqLZy"
      },
      "id": "dGXXhpAbqLZy"
    },
    {
      "cell_type": "code",
      "source": [
        "# Let's check the number of unique values in each column\n",
        "train_data.nunique()"
      ],
      "metadata": {
        "colab": {
          "base_uri": "https://localhost:8080/"
        },
        "id": "BrK-vOT8p24u",
        "outputId": "1b7473c9-8afe-43d5-d227-cd7dabc29b52"
      },
      "id": "BrK-vOT8p24u",
      "execution_count": null,
      "outputs": [
        {
          "output_type": "execute_result",
          "data": {
            "text/plain": [
              "Gender                        2\n",
              "Customer_Type                 2\n",
              "Age                          75\n",
              "Type_Travel                   2\n",
              "Travel_Class                  2\n",
              "Travel_Distance            5210\n",
              "Departure_Delay_in_Mins     437\n",
              "Arrival_Delay_in_Mins       434\n",
              "Overall_Experience            2\n",
              "Seat_Comfort                  6\n",
              "Seat_Class                    2\n",
              "Arrival_Time_Convenient       6\n",
              "Catering                      6\n",
              "Platform_Location             6\n",
              "Onboard_Wifi_Service          6\n",
              "Onboard_Entertainment         6\n",
              "Online_Support                6\n",
              "Ease_of_Online_Booking        6\n",
              "Onboard_Service               6\n",
              "Legroom                       6\n",
              "Baggage_Handling              5\n",
              "CheckIn_Service               6\n",
              "Cleanliness                   6\n",
              "Online_Boarding               6\n",
              "dtype: int64"
            ]
          },
          "metadata": {},
          "execution_count": 32
        }
      ]
    },
    {
      "cell_type": "code",
      "source": [
        "for i in train_data.describe(include=[\"object\"]).columns:\n",
        "    print(\"Unique values in\", i, \"are :\")\n",
        "    print(train_data[i].value_counts())\n",
        "    print(\"*\" * 50)"
      ],
      "metadata": {
        "colab": {
          "base_uri": "https://localhost:8080/"
        },
        "id": "mT9N4pEbsQ9O",
        "outputId": "2dcbd53d-5b53-4695-f39d-863e587c6754"
      },
      "id": "mT9N4pEbsQ9O",
      "execution_count": null,
      "outputs": [
        {
          "output_type": "stream",
          "name": "stdout",
          "text": [
            "Unique values in Gender are :\n",
            "Female    47892\n",
            "Male      46487\n",
            "Name: Gender, dtype: int64\n",
            "**************************************************\n",
            "Unique values in Customer_Type are :\n",
            "Loyal Customer       78774\n",
            "Disloyal Customer    15605\n",
            "Name: Customer_Type, dtype: int64\n",
            "**************************************************\n",
            "Unique values in Type_Travel are :\n",
            "Business Travel    67843\n",
            "Personal Travel    26536\n",
            "Name: Type_Travel, dtype: int64\n",
            "**************************************************\n",
            "Unique values in Travel_Class are :\n",
            "Eco         49342\n",
            "Business    45037\n",
            "Name: Travel_Class, dtype: int64\n",
            "**************************************************\n",
            "Unique values in Seat_Comfort are :\n",
            "Acceptable           21219\n",
            "Needs Improvement    20946\n",
            "Good                 20595\n",
            "Poor                 15185\n",
            "Excellent            12971\n",
            "Extremely Poor        3463\n",
            "Name: Seat_Comfort, dtype: int64\n",
            "**************************************************\n",
            "Unique values in Seat_Class are :\n",
            "Green Car    47435\n",
            "Ordinary     46944\n",
            "Name: Seat_Class, dtype: int64\n",
            "**************************************************\n",
            "Unique values in Arrival_Time_Convenient are :\n",
            "Good                 28504\n",
            "Excellent            17684\n",
            "Acceptable           15177\n",
            "Needs Improvement    14990\n",
            "Poor                 13692\n",
            "Extremely Poor        4332\n",
            "Name: Arrival_Time_Convenient, dtype: int64\n",
            "**************************************************\n",
            "Unique values in Catering are :\n",
            "Acceptable           27209\n",
            "Needs Improvement    17978\n",
            "Good                 17969\n",
            "Poor                 13858\n",
            "Excellent            13455\n",
            "Extremely Poor        3910\n",
            "Name: Catering, dtype: int64\n",
            "**************************************************\n",
            "Unique values in Platform_Location are :\n",
            "Manageable           24203\n",
            "Convenient           21912\n",
            "Needs Improvement    17832\n",
            "Inconvenient         16449\n",
            "Very Convenient      13981\n",
            "Very Inconvenient        2\n",
            "Name: Platform_Location, dtype: int64\n",
            "**************************************************\n",
            "Unique values in Onboard_Wifi_Service are :\n",
            "Good                 22865\n",
            "Excellent            20968\n",
            "Acceptable           20118\n",
            "Needs Improvement    19596\n",
            "Poor                 10741\n",
            "Extremely Poor          91\n",
            "Name: Onboard_Wifi_Service, dtype: int64\n",
            "**************************************************\n",
            "Unique values in Onboard_Entertainment are :\n",
            "Good                 30464\n",
            "Excellent            21644\n",
            "Acceptable           17560\n",
            "Needs Improvement    13926\n",
            "Poor                  8641\n",
            "Extremely Poor        2144\n",
            "Name: Onboard_Entertainment, dtype: int64\n",
            "**************************************************\n",
            "Unique values in Online_Support are :\n",
            "Good                 30107\n",
            "Excellent            25894\n",
            "Acceptable           15702\n",
            "Needs Improvement    12508\n",
            "Poor                 10167\n",
            "Extremely Poor           1\n",
            "Name: Online_Support, dtype: int64\n",
            "**************************************************\n",
            "Unique values in Ease_of_Online_Booking are :\n",
            "Good                 28982\n",
            "Excellent            24744\n",
            "Acceptable           16390\n",
            "Needs Improvement    14479\n",
            "Poor                  9768\n",
            "Extremely Poor          16\n",
            "Name: Ease_of_Online_Booking, dtype: int64\n",
            "**************************************************\n",
            "Unique values in Onboard_Service are :\n",
            "Good                 34866\n",
            "Excellent            21272\n",
            "Acceptable           18071\n",
            "Needs Improvement    11390\n",
            "Poor                  8776\n",
            "Extremely Poor           4\n",
            "Name: Onboard_Service, dtype: int64\n",
            "**************************************************\n",
            "Unique values in Legroom are :\n",
            "Good                 28960\n",
            "Excellent            24832\n",
            "Acceptable           16384\n",
            "Needs Improvement    15753\n",
            "Poor                  8110\n",
            "Extremely Poor         340\n",
            "Name: Legroom, dtype: int64\n",
            "**************************************************\n",
            "Unique values in Baggage_Handling are :\n",
            "Good                 35086\n",
            "Excellent            26003\n",
            "Acceptable           17767\n",
            "Needs Improvement     9759\n",
            "Poor                  5764\n",
            "Name: Baggage_Handling, dtype: int64\n",
            "**************************************************\n",
            "Unique values in CheckIn_Service are :\n",
            "Good                 26579\n",
            "Acceptable           25803\n",
            "Excellent            19641\n",
            "Needs Improvement    11218\n",
            "Poor                 11137\n",
            "Extremely Poor           1\n",
            "Name: CheckIn_Service, dtype: int64\n",
            "**************************************************\n",
            "Unique values in Cleanliness are :\n",
            "Good                 35433\n",
            "Excellent            26053\n",
            "Acceptable           17449\n",
            "Needs Improvement     9806\n",
            "Poor                  5633\n",
            "Extremely Poor           5\n",
            "Name: Cleanliness, dtype: int64\n",
            "**************************************************\n",
            "Unique values in Online_Boarding are :\n",
            "Good                 25539\n",
            "Acceptable           22475\n",
            "Excellent            21742\n",
            "Needs Improvement    13451\n",
            "Poor                 11160\n",
            "Extremely Poor          12\n",
            "Name: Online_Boarding, dtype: int64\n",
            "**************************************************\n"
          ]
        }
      ]
    },
    {
      "cell_type": "markdown",
      "source": [
        "- **The Gender is almost balanced between male and female with 47892 and male 46487.**\n",
        "-  **There are more loyal customers than disloyal customers. The loyal customers constitute about 82% of the customer types.**\n",
        "- **There are more business travellers than personal travellers.**\n",
        "- **For travel class, the difference in the distribution between Eco and Business is quite low, they are almost balanced**\n",
        "- **The Onboard WIFI is good with a high percentage of good, acceptable and excellent WIFI compared with the poor WIFI**\n",
        "- **The onboard entertainment is great as well due to the high percentage for good, acceptable and excellent onboard entertainment.**\n",
        "- **The Online booking is quite easy but more attention should be paid to this services because about 9784 people rated it poor and extremely poor, although a larger audience rated it good, excellent and acceptable.**\n",
        "- **The catering services need to be improved. A larger percentage of travellers do not enjoy the catering services.**\n",
        "- **The seat class is evenly distributed between the Green car and Ordinary** \n",
        "\n",
        "\n"
      ],
      "metadata": {
        "id": "oY3ybnwkcAUQ"
      },
      "id": "oY3ybnwkcAUQ"
    },
    {
      "cell_type": "markdown",
      "source": [
        "### **EDA**"
      ],
      "metadata": {
        "id": "FDy2vhmjbCFE"
      },
      "id": "FDy2vhmjbCFE"
    },
    {
      "cell_type": "markdown",
      "source": [
        "#### UNIVARIATE ANALYSIS\n",
        "- This is the analysis of the numeric data types variables"
      ],
      "metadata": {
        "id": "svCLM0VKbx-v"
      },
      "id": "svCLM0VKbx-v"
    },
    {
      "cell_type": "code",
      "source": [
        "# Function to plot a boxplot and a histogram along the same scale.\n",
        "\n",
        "\n",
        "def histogram_boxplot(data, feature, figsize=(12, 7), kde=False, bins=None):\n",
        "    \"\"\"\n",
        "    Boxplot and histogram combined\n",
        "\n",
        "    data: dataframe\n",
        "    feature: dataframe column\n",
        "    figsize: size of figure (default (12,7))\n",
        "    kde: whether to the show density curve (default False)\n",
        "    bins: number of bins for histogram (default None)\n",
        "    \"\"\"\n",
        "    f2, (ax_box2, ax_hist2) = plt.subplots(\n",
        "        nrows=2,  # Number of rows of the subplot grid= 2\n",
        "        sharex=True,  # x-axis will be shared among all subplots\n",
        "        gridspec_kw={\"height_ratios\": (0.25, 0.75)},\n",
        "        figsize=figsize,\n",
        "    )  # creating the 2 subplots\n",
        "    sns.boxplot(\n",
        "        data=data, x=feature, ax=ax_box2, showmeans=True, color=\"violet\"\n",
        "    )  # boxplot will be created and a star will indicate the mean value of the column\n",
        "    sns.histplot(\n",
        "        data=data, x=feature, kde=kde, ax=ax_hist2, bins=bins, palette=\"winter\"\n",
        "    ) if bins else sns.histplot(\n",
        "        data=data, x=feature, kde=kde, ax=ax_hist2\n",
        "    )  # For histogram\n",
        "    ax_hist2.axvline(\n",
        "        data[feature].mean(), color=\"green\", linestyle=\"--\"\n",
        "    )  # Add mean to the histogram\n",
        "    ax_hist2.axvline(\n",
        "        data[feature].median(), color=\"black\", linestyle=\"-\"\n",
        "    )  # Add median to the histogram"
      ],
      "metadata": {
        "id": "cUoPh2shW3ew"
      },
      "id": "cUoPh2shW3ew",
      "execution_count": null,
      "outputs": []
    },
    {
      "cell_type": "code",
      "source": [
        "train_data.dtypes"
      ],
      "metadata": {
        "colab": {
          "base_uri": "https://localhost:8080/"
        },
        "id": "-5Z4B42lkpYl",
        "outputId": "167b5ef7-217c-43a7-a4da-8b8120db9c57"
      },
      "id": "-5Z4B42lkpYl",
      "execution_count": null,
      "outputs": [
        {
          "output_type": "execute_result",
          "data": {
            "text/plain": [
              "Gender                      object\n",
              "Customer_Type               object\n",
              "Age                        float64\n",
              "Type_Travel                 object\n",
              "Travel_Class                object\n",
              "Travel_Distance            float64\n",
              "Departure_Delay_in_Mins    float64\n",
              "Arrival_Delay_in_Mins      float64\n",
              "Overall_Experience           int64\n",
              "Seat_Comfort                object\n",
              "Seat_Class                  object\n",
              "Arrival_Time_Convenient     object\n",
              "Catering                    object\n",
              "Platform_Location           object\n",
              "Onboard_Wifi_Service        object\n",
              "Onboard_Entertainment       object\n",
              "Online_Support              object\n",
              "Ease_of_Online_Booking      object\n",
              "Onboard_Service             object\n",
              "Legroom                     object\n",
              "Baggage_Handling            object\n",
              "CheckIn_Service             object\n",
              "Cleanliness                 object\n",
              "Online_Boarding             object\n",
              "dtype: object"
            ]
          },
          "metadata": {},
          "execution_count": 35
        }
      ]
    },
    {
      "cell_type": "code",
      "source": [
        "histogram_boxplot(train_data,'Age')"
      ],
      "metadata": {
        "colab": {
          "base_uri": "https://localhost:8080/"
        },
        "id": "iF3ShsEwjydJ",
        "outputId": "0d6c15b3-5c43-45d6-c8cf-8c59abf8a242"
      },
      "id": "iF3ShsEwjydJ",
      "execution_count": null,
      "outputs": [
        {
          "output_type": "display_data",
          "data": {
            "text/plain": [
              "<Figure size 864x504 with 2 Axes>"
            ],
            "image/png": "[encoded data removed]"
          },
          "metadata": {
            "needs_background": "light"
          }
        }
      ]
    },
    {
      "cell_type": "markdown",
      "source": [
        "The area of central tendency is ~39 with max age of 85. The Age is almost evenly distributed. There are no outliers in the Age distribution."
      ],
      "metadata": {
        "id": "xgbNdROxp0Vx"
      },
      "id": "xgbNdROxp0Vx"
    },
    {
      "cell_type": "code",
      "source": [
        "histogram_boxplot(train_data, 'Travel_Distance')"
      ],
      "metadata": {
        "colab": {
          "base_uri": "https://localhost:8080/"
        },
        "id": "DFuHXr3YnKSr",
        "outputId": "2e7850eb-9c7f-4248-b68c-61aa2005cdea"
      },
      "id": "DFuHXr3YnKSr",
      "execution_count": null,
      "outputs": [
        {
          "output_type": "display_data",
          "data": {
            "text/plain": [
              "<Figure size 864x504 with 2 Axes>"
            ],
            "image/png": "[encoded data removed]"
          },
          "metadata": {
            "needs_background": "light"
          }
        }
      ]
    },
    {
      "cell_type": "markdown",
      "source": [
        "- Although the travel distance is normally distributed, it is right-skewed which shows outliers that should be investigated expecially the outliers about 6000.\n",
        "\n",
        "- We can see that the area of central tendency for Travel distance is 1923, despite a maximum value of over 6000"
      ],
      "metadata": {
        "id": "WBDDlPSHndEk"
      },
      "id": "WBDDlPSHndEk"
    },
    {
      "cell_type": "code",
      "source": [
        "# Function to create labeled barplots for categorical variables\n",
        "\n",
        "\n",
        "def labeled_barplot(data, feature, perc=True, n=None):\n",
        "    \"\"\"\n",
        "    Barplot with percentage at the top\n",
        "\n",
        "    data: dataframe\n",
        "    feature: dataframe column\n",
        "    perc: whether to display percentages instead of count (default is False)\n",
        "    n: displays the top n category levels (default is None, i.e., display all levels)\n",
        "    \"\"\"\n",
        "\n",
        "    total = len(data[feature])  # length of the column\n",
        "    count = data[feature].nunique()\n",
        "    if n is None:\n",
        "        plt.figure(figsize=(count + 1, 5))\n",
        "    else:\n",
        "        plt.figure(figsize=(n + 1, 5))\n",
        "\n",
        "    plt.xticks(rotation=90, fontsize=15)\n",
        "    ax = sns.countplot(\n",
        "        data=data,\n",
        "        x=feature,\n",
        "        palette=\"Paired\",\n",
        "        order=data[feature].value_counts().index[:n].sort_values(),\n",
        "    )\n",
        "\n",
        "    for p in ax.patches:\n",
        "        if perc == True:\n",
        "            label = \"{:.1f}%\".format(\n",
        "                100 * p.get_height() / total\n",
        "            )  # percentage of each class of the category\n",
        "        else:\n",
        "            label = p.get_height()  # count of each level of the category\n",
        "\n",
        "        x = p.get_x() + p.get_width() / 2  # width of the plot\n",
        "        y = p.get_height()  # height of the plot\n",
        "\n",
        "        ax.annotate(\n",
        "            label,\n",
        "            (x, y),\n",
        "            ha=\"center\",\n",
        "            va=\"center\",\n",
        "            size=12,\n",
        "            xytext=(0, 5),\n",
        "            textcoords=\"offset points\",\n",
        "        )  # annotate the percentage\n",
        "\n",
        "    plt.show()  # show the plot\n"
      ],
      "metadata": {
        "id": "Z6vDUKcNnZ6Y"
      },
      "id": "Z6vDUKcNnZ6Y",
      "execution_count": null,
      "outputs": []
    },
    {
      "cell_type": "code",
      "source": [
        "labeled_barplot(train_data,'Gender')"
      ],
      "metadata": {
        "colab": {
          "base_uri": "https://localhost:8080/"
        },
        "id": "PaDukjXiq79b",
        "outputId": "5b0254f5-c399-442b-dc25-8edd5576cdad"
      },
      "id": "PaDukjXiq79b",
      "execution_count": null,
      "outputs": [
        {
          "output_type": "display_data",
          "data": {
            "text/plain": [
              "<Figure size 216x360 with 1 Axes>"
            ],
            "image/png": "[encoded data removed]"
          },
          "metadata": {
            "needs_background": "light"
          }
        }
      ]
    },
    {
      "cell_type": "markdown",
      "source": [
        "- The distribution between male and female is rather close, therefore, the data is not gender skewed. This gender balance is very important to create machine learning models that are practically implemented on datasets related to people."
      ],
      "metadata": {
        "id": "-PGZfCxyt3cl"
      },
      "id": "-PGZfCxyt3cl"
    },
    {
      "cell_type": "code",
      "source": [
        "labeled_barplot(train_data,'Customer_Type')"
      ],
      "metadata": {
        "colab": {
          "base_uri": "https://localhost:8080/"
        },
        "id": "WKtbUKWvteCW",
        "outputId": "c259e941-109e-4b56-8ccc-c375830339f2"
      },
      "id": "WKtbUKWvteCW",
      "execution_count": null,
      "outputs": [
        {
          "output_type": "display_data",
          "data": {
            "text/plain": [
              "<Figure size 216x360 with 1 Axes>"
            ],
            "image/png": "[encoded data removed]"
          },
          "metadata": {
            "needs_background": "light"
          }
        }
      ]
    },
    {
      "cell_type": "markdown",
      "source": [
        "- There are more loyal customers than disloyal customers. \n",
        "- About 16.5% of the travellers are disployal. This travellers can be converted to loyal customers by improving some of the services"
      ],
      "metadata": {
        "id": "Tq6TwOg_uhoA"
      },
      "id": "Tq6TwOg_uhoA"
    },
    {
      "cell_type": "code",
      "source": [
        "labeled_barplot(train_data, 'Seat_Comfort')"
      ],
      "metadata": {
        "colab": {
          "base_uri": "https://localhost:8080/"
        },
        "id": "GaUjkYm9uefT",
        "outputId": "5c7c3026-58cd-4875-c39d-515e8006d9f7"
      },
      "id": "GaUjkYm9uefT",
      "execution_count": null,
      "outputs": [
        {
          "output_type": "display_data",
          "data": {
            "text/plain": [
              "<Figure size 504x360 with 1 Axes>"
            ],
            "image/png": "[encoded data removed]"
          },
          "metadata": {
            "needs_background": "light"
          }
        }
      ]
    },
    {
      "cell_type": "markdown",
      "source": [
        "Seat comfort is relatively good. There is about 22.2% seat that requires improvement. These can be converted to good, acceptable or excellent seats, thereby inceasing the comfortability of the seats."
      ],
      "metadata": {
        "id": "JsnqJ4ztwIjL"
      },
      "id": "JsnqJ4ztwIjL"
    },
    {
      "cell_type": "code",
      "source": [
        "labeled_barplot(train_data,'Arrival_Time_Convenient')"
      ],
      "metadata": {
        "colab": {
          "base_uri": "https://localhost:8080/"
        },
        "id": "We7O-2afyzac",
        "outputId": "7a8a3028-a4ac-4a62-f690-3cfd7444ea58"
      },
      "id": "We7O-2afyzac",
      "execution_count": null,
      "outputs": [
        {
          "output_type": "display_data",
          "data": {
            "text/plain": [
              "<Figure size 504x360 with 1 Axes>"
            ],
            "image/png": "[encoded data removed]"
          },
          "metadata": {
            "needs_background": "light"
          }
        }
      ]
    },
    {
      "cell_type": "markdown",
      "source": [
        "- The convenience of arrival time requires improvement to increase the % of acceptable/good/excellent arrival time"
      ],
      "metadata": {
        "id": "ffvqW5lly8dS"
      },
      "id": "ffvqW5lly8dS"
    },
    {
      "cell_type": "code",
      "source": [
        "labeled_barplot(train_data,'Catering')"
      ],
      "metadata": {
        "colab": {
          "base_uri": "https://localhost:8080/"
        },
        "id": "cbRsClYuzd-M",
        "outputId": "ec8ac9bb-d170-4435-ef1a-b2f773225add"
      },
      "id": "cbRsClYuzd-M",
      "execution_count": null,
      "outputs": [
        {
          "output_type": "display_data",
          "data": {
            "text/plain": [
              "<Figure size 504x360 with 1 Axes>"
            ],
            "image/png": "[encoded data removed]"
          },
          "metadata": {
            "needs_background": "light"
          }
        }
      ]
    },
    {
      "cell_type": "code",
      "source": [
        "labeled_barplot(train_data, 'Cleanliness')"
      ],
      "metadata": {
        "colab": {
          "base_uri": "https://localhost:8080/"
        },
        "id": "CR90eNYAzlqU",
        "outputId": "a8edae48-afc3-4813-9dda-00c536933e29"
      },
      "id": "CR90eNYAzlqU",
      "execution_count": null,
      "outputs": [
        {
          "output_type": "display_data",
          "data": {
            "text/plain": [
              "<Figure size 504x360 with 1 Axes>"
            ],
            "image/png": "[encoded data removed]"
          },
          "metadata": {
            "needs_background": "light"
          }
        }
      ]
    },
    {
      "cell_type": "markdown",
      "source": [
        "- The train the considerably clean."
      ],
      "metadata": {
        "id": "oOPOVBMrzszX"
      },
      "id": "oOPOVBMrzszX"
    },
    {
      "cell_type": "markdown",
      "source": [
        "- Creating a pie chart for the target variable"
      ],
      "metadata": {
        "id": "03A91OMF0NMR"
      },
      "id": "03A91OMF0NMR"
    },
    {
      "cell_type": "code",
      "source": [
        "print(train_data['Overall_Experience'].value_counts())\n",
        "labels = 'Satisfied', 'Not Satisfied'\n",
        "#sizes = [ds.is_promoted[ds['is_promoted']==1].count(), ds.is_promoted[ds['is_promoted']==0].count()]\n",
        "sizes = [train_data.Overall_Experience[train_data['Overall_Experience']==1].count(),train_data.Overall_Experience[train_data['Overall_Experience']==0].count()]\n",
        "explode = (0, 0.1)\n",
        "fig1, ax1 = plt.subplots(figsize=(10, 8))\n",
        "ax1.pie(sizes, explode=explode, labels=labels, autopct='%1.1f%%',\n",
        "        shadow=True, startangle=90)\n",
        "ax1.axis('equal')\n",
        "plt.title(\"Proportion\", size = 20)\n",
        "plt.show()\n"
      ],
      "metadata": {
        "colab": {
          "base_uri": "https://localhost:8080/"
        },
        "id": "ZsAC0EKiv4Uj",
        "outputId": "02a18e21-ee80-4e3c-8399-8cec1fd7166b"
      },
      "id": "ZsAC0EKiv4Uj",
      "execution_count": null,
      "outputs": [
        {
          "output_type": "stream",
          "name": "stdout",
          "text": [
            "1    51593\n",
            "0    42786\n",
            "Name: Overall_Experience, dtype: int64\n"
          ]
        },
        {
          "output_type": "display_data",
          "data": {
            "text/plain": [
              "<Figure size 720x576 with 1 Axes>"
            ],
            "image/png": "[encoded data removed]"
          },
          "metadata": {}
        }
      ]
    },
    {
      "cell_type": "markdown",
      "source": [
        "* This pie chart shows that the actual distribution of classes is itself balanced for the target variable.\n",
        "* 45% of the travellers are not satisfied.\n",
        "\n",
        "Hence, this dataset and problem statement represent an example of balanced Classification."
      ],
      "metadata": {
        "id": "yhgw-Het6qEg"
      },
      "id": "yhgw-Het6qEg"
    },
    {
      "cell_type": "markdown",
      "source": [
        "### Encoding Categorical Columns"
      ],
      "metadata": {
        "id": "W1-HZLAvOalJ"
      },
      "id": "W1-HZLAvOalJ"
    },
    {
      "cell_type": "markdown",
      "source": [
        "* We will be using the Label Encoding technique to encode the values of the categorical columns in this dataset."
      ],
      "metadata": {
        "id": "rF0YvaluOjNF"
      },
      "id": "rF0YvaluOjNF"
    },
    {
      "cell_type": "code",
      "source": [
        "from sklearn.preprocessing import LabelEncoder\n",
        "labelencoder_RE = LabelEncoder()"
      ],
      "metadata": {
        "id": "g3LHQZPY09L5"
      },
      "id": "g3LHQZPY09L5",
      "execution_count": null,
      "outputs": []
    },
    {
      "cell_type": "code",
      "source": [
        "train_data['Type_Travel'] = labelencoder_RE.fit_transform(train_data['Type_Travel'])"
      ],
      "metadata": {
        "id": "6Takku-EQFPN"
      },
      "id": "6Takku-EQFPN",
      "execution_count": null,
      "outputs": []
    },
    {
      "cell_type": "code",
      "source": [
        "train_data['Customer_Type'] = labelencoder_RE.fit_transform(train_data['Customer_Type'])\n",
        "train_data['Arrival_Time_Convenient'] = labelencoder_RE.fit_transform(train_data['Arrival_Time_Convenient'])\n",
        "train_data['Catering'] = labelencoder_RE.fit_transform(train_data['Catering'])\n",
        "train_data['Onboard_Service'] = labelencoder_RE.fit_transform(train_data['Onboard_Service'])\n",
        "train_data['Baggage_Handling'] = labelencoder_RE.fit_transform(train_data['Baggage_Handling'])\n",
        "train_data['Online_Support'] = labelencoder_RE.fit_transform(train_data['Online_Support'])\n",
        "train_data['Legroom'] = labelencoder_RE.fit_transform(train_data['Legroom'])\n",
        "train_data['CheckIn_Service'] = labelencoder_RE.fit_transform(train_data['CheckIn_Service'])\n",
        "train_data['Gender'] = labelencoder_RE.fit_transform(train_data['Gender'])\n",
        "train_data['Ease_of_Online_Booking'] = labelencoder_RE.fit_transform(train_data['Ease_of_Online_Booking'])\n",
        "train_data['Seat_Comfort'] = labelencoder_RE.fit_transform(train_data['Seat_Comfort'])\n",
        "train_data['Platform_Location'] = labelencoder_RE.fit_transform(train_data['Platform_Location'])\n",
        "train_data['Onboard_Wifi_Service'] = labelencoder_RE.fit_transform(train_data['Onboard_Wifi_Service'])\n",
        "train_data['Onboard_Entertainment'] = labelencoder_RE.fit_transform(train_data['Onboard_Entertainment'])\n",
        "train_data['Cleanliness'] = labelencoder_RE.fit_transform(train_data['Cleanliness'])\n",
        "train_data['Online_Boarding'] = labelencoder_RE.fit_transform(train_data['Online_Boarding'])"
      ],
      "metadata": {
        "id": "6dNzxXE4QlFl"
      },
      "id": "6dNzxXE4QlFl",
      "execution_count": null,
      "outputs": []
    },
    {
      "cell_type": "code",
      "source": [
        "train_data['Travel_Class'] = labelencoder_RE.fit_transform(train_data['Travel_Class'])"
      ],
      "metadata": {
        "id": "i1eqa6X9SLba"
      },
      "id": "i1eqa6X9SLba",
      "execution_count": null,
      "outputs": []
    },
    {
      "cell_type": "code",
      "source": [
        "train_data['Seat_Class'] = labelencoder_RE.fit_transform(train_data['Seat_Class'])\n",
        "\n",
        "               "
      ],
      "metadata": {
        "id": "tw-OidB5gEOs"
      },
      "id": "tw-OidB5gEOs",
      "execution_count": null,
      "outputs": []
    },
    {
      "cell_type": "markdown",
      "source": [
        "### Encoding the test data"
      ],
      "metadata": {
        "id": "LuhnJtS1STCI"
      },
      "id": "LuhnJtS1STCI"
    },
    {
      "cell_type": "code",
      "source": [
        "test_data['Type_Travel'] = labelencoder_RE.fit_transform(test_data['Type_Travel'])\n",
        "test_data['Customer_Type'] = labelencoder_RE.fit_transform(test_data['Customer_Type'])\n",
        "test_data['Arrival_Time_Convenient'] = labelencoder_RE.fit_transform(test_data['Arrival_Time_Convenient'])\n",
        "test_data['Catering'] = labelencoder_RE.fit_transform(test_data['Catering'])\n",
        "test_data['Onboard_Service'] = labelencoder_RE.fit_transform(test_data['Onboard_Service'])\n",
        "test_data['Baggage_Handling'] = labelencoder_RE.fit_transform(test_data['Baggage_Handling'])\n",
        "test_data['Online_Support'] = labelencoder_RE.fit_transform(test_data['Online_Support'])\n",
        "test_data['Legroom'] = labelencoder_RE.fit_transform(test_data['Legroom'])\n",
        "test_data['CheckIn_Service'] = labelencoder_RE.fit_transform(test_data['CheckIn_Service'])\n",
        "test_data['Gender'] = labelencoder_RE.fit_transform(test_data['Gender'])\n",
        "test_data['Ease_of_Online_Booking'] = labelencoder_RE.fit_transform(test_data['Ease_of_Online_Booking'])\n",
        "test_data['Seat_Comfort'] = labelencoder_RE.fit_transform(test_data['Seat_Comfort'])\n",
        "test_data['Platform_Location'] = labelencoder_RE.fit_transform(test_data['Platform_Location'])\n",
        "test_data['Onboard_Wifi_Service'] = labelencoder_RE.fit_transform(test_data['Onboard_Wifi_Service'])\n",
        "test_data['Onboard_Entertainment'] = labelencoder_RE.fit_transform(test_data['Onboard_Entertainment'])\n",
        "test_data['Cleanliness'] = labelencoder_RE.fit_transform(test_data['Cleanliness'])\n",
        "test_data['Online_Boarding'] = labelencoder_RE.fit_transform(test_data['Online_Boarding'])\n",
        "test_data['Travel_Class'] = labelencoder_RE.fit_transform(test_data['Travel_Class'])\n",
        "test_data['Seat_Class'] = labelencoder_RE.fit_transform(test_data['Seat_Class'])"
      ],
      "metadata": {
        "id": "qshnyIIcSWrz"
      },
      "id": "qshnyIIcSWrz",
      "execution_count": null,
      "outputs": []
    },
    {
      "cell_type": "code",
      "source": [
        "train_data.head()"
      ],
      "metadata": {
        "colab": {
          "base_uri": "https://localhost:8080/"
        },
        "id": "D48urmRNOhyF",
        "outputId": "8b96f073-25e6-442f-93cf-83d5e366f98d"
      },
      "id": "D48urmRNOhyF",
      "execution_count": null,
      "outputs": [
        {
          "output_type": "execute_result",
          "data": {
            "text/plain": [
              "   Gender  Customer_Type   Age  Type_Travel  Travel_Class  Travel_Distance  \\\n",
              "0       0              1  52.0            0             0            272.0   \n",
              "1       1              1  48.0            1             1           2200.0   \n",
              "2       0              1  43.0            0             0           1061.0   \n",
              "3       0              1  44.0            0             0            780.0   \n",
              "4       0              1  50.0            0             0           1981.0   \n",
              "\n",
              "   Departure_Delay_in_Mins  Arrival_Delay_in_Mins  Overall_Experience  \\\n",
              "0                      0.0                    5.0                   0   \n",
              "1                      9.0                    0.0                   0   \n",
              "2                     77.0                  119.0                   1   \n",
              "3                     13.0                   18.0                   0   \n",
              "4                      0.0                    0.0                   1   \n",
              "\n",
              "   Seat_Comfort  ...  Onboard_Wifi_Service  Onboard_Entertainment  \\\n",
              "0             4  ...                     3                      4   \n",
              "1             5  ...                     3                      5   \n",
              "2             4  ...                     4                      3   \n",
              "3             0  ...                     0                      4   \n",
              "4             0  ...                     4                      3   \n",
              "\n",
              "   Online_Support  Ease_of_Online_Booking  Onboard_Service  Legroom  \\\n",
              "0               0                       4                4        0   \n",
              "1               3                       3                1        4   \n",
              "2               1                       1                1        1   \n",
              "3               0                       0                0        0   \n",
              "4               1                       3                3        3   \n",
              "\n",
              "   Baggage_Handling  CheckIn_Service  Cleanliness  Online_Boarding  \n",
              "0                 3                3            4                5  \n",
              "1                 4                4            3                3  \n",
              "2                 1                3            1                1  \n",
              "3                 0                3            0                0  \n",
              "4                 2                3            3                3  \n",
              "\n",
              "[5 rows x 24 columns]"
            ],
            "text/html": [
              "\n",
              "  <div id=\"df-b41d6c71-6858-4bdc-b6d3-cc5af82c3ee3\">\n",
              "    <div class=\"colab-df-container\">\n",
              "      <div>\n",
              "<style scoped>\n",
              "    .dataframe tbody tr th:only-of-type {\n",
              "        vertical-align: middle;\n",
              "    }\n",
              "\n",
              "    .dataframe tbody tr th {\n",
              "        vertical-align: top;\n",
              "    }\n",
              "\n",
              "    .dataframe thead th {\n",
              "        text-align: right;\n",
              "    }\n",
              "</style>\n",
              "<table border=\"1\" class=\"dataframe\">\n",
              "  <thead>\n",
              "    <tr style=\"text-align: right;\">\n",
              "      <th></th>\n",
              "      <th>Gender</th>\n",
              "      <th>Customer_Type</th>\n",
              "      <th>Age</th>\n",
              "      <th>Type_Travel</th>\n",
              "      <th>Travel_Class</th>\n",
              "      <th>Travel_Distance</th>\n",
              "      <th>Departure_Delay_in_Mins</th>\n",
              "      <th>Arrival_Delay_in_Mins</th>\n",
              "      <th>Overall_Experience</th>\n",
              "      <th>Seat_Comfort</th>\n",
              "      <th>...</th>\n",
              "      <th>Onboard_Wifi_Service</th>\n",
              "      <th>Onboard_Entertainment</th>\n",
              "      <th>Online_Support</th>\n",
              "      <th>Ease_of_Online_Booking</th>\n",
              "      <th>Onboard_Service</th>\n",
              "      <th>Legroom</th>\n",
              "      <th>Baggage_Handling</th>\n",
              "      <th>CheckIn_Service</th>\n",
              "      <th>Cleanliness</th>\n",
              "      <th>Online_Boarding</th>\n",
              "    </tr>\n",
              "  </thead>\n",
              "  <tbody>\n",
              "    <tr>\n",
              "      <th>0</th>\n",
              "      <td>0</td>\n",
              "      <td>1</td>\n",
              "      <td>52.0</td>\n",
              "      <td>0</td>\n",
              "      <td>0</td>\n",
              "      <td>272.0</td>\n",
              "      <td>0.0</td>\n",
              "      <td>5.0</td>\n",
              "      <td>0</td>\n",
              "      <td>4</td>\n",
              "      <td>...</td>\n",
              "      <td>3</td>\n",
              "      <td>4</td>\n",
              "      <td>0</td>\n",
              "      <td>4</td>\n",
              "      <td>4</td>\n",
              "      <td>0</td>\n",
              "      <td>3</td>\n",
              "      <td>3</td>\n",
              "      <td>4</td>\n",
              "      <td>5</td>\n",
              "    </tr>\n",
              "    <tr>\n",
              "      <th>1</th>\n",
              "      <td>1</td>\n",
              "      <td>1</td>\n",
              "      <td>48.0</td>\n",
              "      <td>1</td>\n",
              "      <td>1</td>\n",
              "      <td>2200.0</td>\n",
              "      <td>9.0</td>\n",
              "      <td>0.0</td>\n",
              "      <td>0</td>\n",
              "      <td>5</td>\n",
              "      <td>...</td>\n",
              "      <td>3</td>\n",
              "      <td>5</td>\n",
              "      <td>3</td>\n",
              "      <td>3</td>\n",
              "      <td>1</td>\n",
              "      <td>4</td>\n",
              "      <td>4</td>\n",
              "      <td>4</td>\n",
              "      <td>3</td>\n",
              "      <td>3</td>\n",
              "    </tr>\n",
              "    <tr>\n",
              "      <th>2</th>\n",
              "      <td>0</td>\n",
              "      <td>1</td>\n",
              "      <td>43.0</td>\n",
              "      <td>0</td>\n",
              "      <td>0</td>\n",
              "      <td>1061.0</td>\n",
              "      <td>77.0</td>\n",
              "      <td>119.0</td>\n",
              "      <td>1</td>\n",
              "      <td>4</td>\n",
              "      <td>...</td>\n",
              "      <td>4</td>\n",
              "      <td>3</td>\n",
              "      <td>1</td>\n",
              "      <td>1</td>\n",
              "      <td>1</td>\n",
              "      <td>1</td>\n",
              "      <td>1</td>\n",
              "      <td>3</td>\n",
              "      <td>1</td>\n",
              "      <td>1</td>\n",
              "    </tr>\n",
              "    <tr>\n",
              "      <th>3</th>\n",
              "      <td>0</td>\n",
              "      <td>1</td>\n",
              "      <td>44.0</td>\n",
              "      <td>0</td>\n",
              "      <td>0</td>\n",
              "      <td>780.0</td>\n",
              "      <td>13.0</td>\n",
              "      <td>18.0</td>\n",
              "      <td>0</td>\n",
              "      <td>0</td>\n",
              "      <td>...</td>\n",
              "      <td>0</td>\n",
              "      <td>4</td>\n",
              "      <td>0</td>\n",
              "      <td>0</td>\n",
              "      <td>0</td>\n",
              "      <td>0</td>\n",
              "      <td>0</td>\n",
              "      <td>3</td>\n",
              "      <td>0</td>\n",
              "      <td>0</td>\n",
              "    </tr>\n",
              "    <tr>\n",
              "      <th>4</th>\n",
              "      <td>0</td>\n",
              "      <td>1</td>\n",
              "      <td>50.0</td>\n",
              "      <td>0</td>\n",
              "      <td>0</td>\n",
              "      <td>1981.0</td>\n",
              "      <td>0.0</td>\n",
              "      <td>0.0</td>\n",
              "      <td>1</td>\n",
              "      <td>0</td>\n",
              "      <td>...</td>\n",
              "      <td>4</td>\n",
              "      <td>3</td>\n",
              "      <td>1</td>\n",
              "      <td>3</td>\n",
              "      <td>3</td>\n",
              "      <td>3</td>\n",
              "      <td>2</td>\n",
              "      <td>3</td>\n",
              "      <td>3</td>\n",
              "      <td>3</td>\n",
              "    </tr>\n",
              "  </tbody>\n",
              "</table>\n",
              "<p>5 rows × 24 columns</p>\n",
              "</div>\n",
              "      <button class=\"colab-df-convert\" onclick=\"convertToInteractive('df-b41d6c71-6858-4bdc-b6d3-cc5af82c3ee3')\"\n",
              "              title=\"Convert this dataframe to an interactive table.\"\n",
              "              style=\"display:none;\">\n",
              "        \n",
              "  <svg xmlns=\"http://www.w3.org/2000/svg\" height=\"24px\"viewBox=\"0 0 24 24\"\n",
              "       width=\"24px\">\n",
              "    <path d=\"M0 0h24v24H0V0z\" fill=\"none\"/>\n",
              "    <path d=\"M18.56 5.44l.94 2.06.94-2.06 2.06-.94-2.06-.94-.94-2.06-.94 2.06-2.06.94zm-11 1L8.5 8.5l.94-2.06 2.06-.94-2.06-.94L8.5 2.5l-.94 2.06-2.06.94zm10 10l.94 2.06.94-2.06 2.06-.94-2.06-.94-.94-2.06-.94 2.06-2.06.94z\"/><path d=\"M17.41 7.96l-1.37-1.37c-.4-.4-.92-.59-1.43-.59-.52 0-1.04.2-1.43.59L10.3 9.45l-7.72 7.72c-.78.78-.78 2.05 0 2.83L4 21.41c.39.39.9.59 1.41.59.51 0 1.02-.2 1.41-.59l7.78-7.78 2.81-2.81c.8-.78.8-2.07 0-2.86zM5.41 20L4 18.59l7.72-7.72 1.47 1.35L5.41 20z\"/>\n",
              "  </svg>\n",
              "      </button>\n",
              "      \n",
              "  <style>\n",
              "    .colab-df-container {\n",
              "      display:flex;\n",
              "      flex-wrap:wrap;\n",
              "      gap: 12px;\n",
              "    }\n",
              "\n",
              "    .colab-df-convert {\n",
              "      background-color: #E8F0FE;\n",
              "      border: none;\n",
              "      border-radius: 50%;\n",
              "      cursor: pointer;\n",
              "      display: none;\n",
              "      fill: #1967D2;\n",
              "      height: 32px;\n",
              "      padding: 0 0 0 0;\n",
              "      width: 32px;\n",
              "    }\n",
              "\n",
              "    .colab-df-convert:hover {\n",
              "      background-color: #E2EBFA;\n",
              "      box-shadow: 0px 1px 2px rgba(60, 64, 67, 0.3), 0px 1px 3px 1px rgba(60, 64, 67, 0.15);\n",
              "      fill: #174EA6;\n",
              "    }\n",
              "\n",
              "    [theme=dark] .colab-df-convert {\n",
              "      background-color: #3B4455;\n",
              "      fill: #D2E3FC;\n",
              "    }\n",
              "\n",
              "    [theme=dark] .colab-df-convert:hover {\n",
              "      background-color: #434B5C;\n",
              "      box-shadow: 0px 1px 3px 1px rgba(0, 0, 0, 0.15);\n",
              "      filter: drop-shadow(0px 1px 2px rgba(0, 0, 0, 0.3));\n",
              "      fill: #FFFFFF;\n",
              "    }\n",
              "  </style>\n",
              "\n",
              "      <script>\n",
              "        const buttonEl =\n",
              "          document.querySelector('#df-b41d6c71-6858-4bdc-b6d3-cc5af82c3ee3 button.colab-df-convert');\n",
              "        buttonEl.style.display =\n",
              "          google.colab.kernel.accessAllowed ? 'block' : 'none';\n",
              "\n",
              "        async function convertToInteractive(key) {\n",
              "          const element = document.querySelector('#df-b41d6c71-6858-4bdc-b6d3-cc5af82c3ee3');\n",
              "          const dataTable =\n",
              "            await google.colab.kernel.invokeFunction('convertToInteractive',\n",
              "                                                     [key], {});\n",
              "          if (!dataTable) return;\n",
              "\n",
              "          const docLinkHtml = 'Like what you see? Visit the ' +\n",
              "            '<a target=\"_blank\" href=https://colab.research.google.com/notebooks/data_table.ipynb>data table notebook</a>'\n",
              "            + ' to learn more about interactive tables.';\n",
              "          element.innerHTML = '';\n",
              "          dataTable['output_type'] = 'display_data';\n",
              "          await google.colab.output.renderOutput(dataTable, element);\n",
              "          const docLink = document.createElement('div');\n",
              "          docLink.innerHTML = docLinkHtml;\n",
              "          element.appendChild(docLink);\n",
              "        }\n",
              "      </script>\n",
              "    </div>\n",
              "  </div>\n",
              "  "
            ]
          },
          "metadata": {},
          "execution_count": 52
        }
      ]
    },
    {
      "cell_type": "code",
      "source": [
        "train_data.info()"
      ],
      "metadata": {
        "colab": {
          "base_uri": "https://localhost:8080/"
        },
        "id": "OU5aWkP4f67t",
        "outputId": "681830ec-5574-4618-cf69-13f1cfad9418"
      },
      "id": "OU5aWkP4f67t",
      "execution_count": null,
      "outputs": [
        {
          "output_type": "stream",
          "name": "stdout",
          "text": [
            "<class 'pandas.core.frame.DataFrame'>\n",
            "Int64Index: 94379 entries, 0 to 94378\n",
            "Data columns (total 24 columns):\n",
            " #   Column                   Non-Null Count  Dtype  \n",
            "---  ------                   --------------  -----  \n",
            " 0   Gender                   94379 non-null  int64  \n",
            " 1   Customer_Type            94379 non-null  int64  \n",
            " 2   Age                      94379 non-null  float64\n",
            " 3   Type_Travel              94379 non-null  int64  \n",
            " 4   Travel_Class             94379 non-null  int64  \n",
            " 5   Travel_Distance          94379 non-null  float64\n",
            " 6   Departure_Delay_in_Mins  94379 non-null  float64\n",
            " 7   Arrival_Delay_in_Mins    94379 non-null  float64\n",
            " 8   Overall_Experience       94379 non-null  int64  \n",
            " 9   Seat_Comfort             94379 non-null  int64  \n",
            " 10  Seat_Class               94379 non-null  int64  \n",
            " 11  Arrival_Time_Convenient  94379 non-null  int64  \n",
            " 12  Catering                 94379 non-null  int64  \n",
            " 13  Platform_Location        94379 non-null  int64  \n",
            " 14  Onboard_Wifi_Service     94379 non-null  int64  \n",
            " 15  Onboard_Entertainment    94379 non-null  int64  \n",
            " 16  Online_Support           94379 non-null  int64  \n",
            " 17  Ease_of_Online_Booking   94379 non-null  int64  \n",
            " 18  Onboard_Service          94379 non-null  int64  \n",
            " 19  Legroom                  94379 non-null  int64  \n",
            " 20  Baggage_Handling         94379 non-null  int64  \n",
            " 21  CheckIn_Service          94379 non-null  int64  \n",
            " 22  Cleanliness              94379 non-null  int64  \n",
            " 23  Online_Boarding          94379 non-null  int64  \n",
            "dtypes: float64(4), int64(20)\n",
            "memory usage: 20.0 MB\n"
          ]
        }
      ]
    },
    {
      "cell_type": "markdown",
      "source": [
        "### Split the train data with train_test_split into train and test data"
      ],
      "metadata": {
        "id": "ktLwpX4TS_s7"
      },
      "id": "ktLwpX4TS_s7"
    },
    {
      "cell_type": "code",
      "source": [
        "X = train_data.drop(['Overall_Experience'],axis = 1)\n",
        "y = train_data['Overall_Experience']"
      ],
      "metadata": {
        "id": "VTr6vMYkRV6C"
      },
      "id": "VTr6vMYkRV6C",
      "execution_count": null,
      "outputs": []
    },
    {
      "cell_type": "code",
      "source": [
        "y.head()"
      ],
      "metadata": {
        "colab": {
          "base_uri": "https://localhost:8080/"
        },
        "id": "aHcnX5wSgtRe",
        "outputId": "034fbb68-dd43-4b24-f8a8-a15b34252d8b"
      },
      "id": "aHcnX5wSgtRe",
      "execution_count": null,
      "outputs": [
        {
          "output_type": "execute_result",
          "data": {
            "text/plain": [
              "0    0\n",
              "1    0\n",
              "2    1\n",
              "3    0\n",
              "4    1\n",
              "Name: Overall_Experience, dtype: int64"
            ]
          },
          "metadata": {},
          "execution_count": 55
        }
      ]
    },
    {
      "cell_type": "code",
      "source": [
        "X_train, X_test,  y_train,y_test = train_test_split(X,y, test_size = 0.3,random_state = 42)"
      ],
      "metadata": {
        "id": "e_c-M_5GTqzF"
      },
      "id": "e_c-M_5GTqzF",
      "execution_count": null,
      "outputs": []
    },
    {
      "cell_type": "code",
      "source": [
        "###Checking the shape of train and test sets\n",
        "print(X_train.shape)\n",
        "print(X_test.shape)\n",
        "print(y_train.shape)\n",
        "print(y_test.shape)"
      ],
      "metadata": {
        "colab": {
          "base_uri": "https://localhost:8080/"
        },
        "id": "bUUczKcvT9GT",
        "outputId": "0e8f2fec-edee-436c-f9f9-84b5448c37c3"
      },
      "id": "bUUczKcvT9GT",
      "execution_count": null,
      "outputs": [
        {
          "output_type": "stream",
          "name": "stdout",
          "text": [
            "(66065, 23)\n",
            "(28314, 23)\n",
            "(66065,)\n",
            "(28314,)\n"
          ]
        }
      ]
    },
    {
      "cell_type": "markdown",
      "source": [
        "## **Model Evaluation Criterion**\n",
        "\n",
        "#### **Model can make wrong predictions as:**\n",
        "\n",
        "1. Predicting a traveller is satisfied with their travel experience but in reality, the customer is not satisfied. i.e predicting a 1 but actual is 0 (False Positive)\n",
        "2. Predicting a traveller is not satisfied with their travel experience but in reality, the customer is satisfied. i.e predicting a 0 but actual is 1 (False negative)\n",
        "\n",
        "#### **Which case is more important?** \n",
        "\n",
        "Both the cases are important as:\n",
        "\n",
        "\n",
        "\n",
        "* If we predict that a traveller is not satisfied but he is actually satisfied, the company will lose resources utilized to ensure the traveller is satified.\n",
        "\n",
        "* If we predict that a traveller is satified but he is not actually satified,  the company might ignore the client and might not be able to provide satisfactory services to the customer by assuming that the traveller is satisfied. This might damage brand reputation and equity. \n",
        "\n",
        "\n",
        "\n",
        "#### **How to reduce the losses?**\n",
        "\n",
        "* Shinkansen Bullet Train would want the `F1 Score` to be maximized, the greater the F1  score, the higher the chances of minimizing False Negatives and False Positives. "
      ],
      "metadata": {
        "id": "jVIUkf6MVDFI"
      },
      "id": "jVIUkf6MVDFI"
    },
    {
      "cell_type": "markdown",
      "source": [
        "### Model 1\n"
      ],
      "metadata": {
        "id": "Ud1_F9fRTo1B"
      },
      "id": "Ud1_F9fRTo1B"
    },
    {
      "cell_type": "code",
      "source": [
        "backend.clear_session()\n",
        "#Fixing the seed for random number generators so that we can ensure we receive the same output everytime\n",
        "np.random.seed(42)\n",
        "import random\n",
        "random.seed(42)\n",
        "tf.random.set_seed(42)"
      ],
      "metadata": {
        "id": "Zj3OTgwLToSu"
      },
      "id": "Zj3OTgwLToSu",
      "execution_count": null,
      "outputs": []
    },
    {
      "cell_type": "code",
      "source": [
        "# Initializing the ANN\n",
        "model = Sequential()\n",
        "# The amount of nodes (dimensions) in hidden layer should be the average of input and output layers, in this case 64.\n",
        "# This adds the input layer (by specifying input dimension) AND the first hidden layer (units)\n",
        "model.add(Dense(activation = 'relu', input_dim = X_train.shape[1], units=64))\n",
        "#Add 1st hidden layer\n",
        "model.add(Dense(32, activation='relu'))\n",
        "# Adding the output layer\n",
        "# Notice that we do not need to specify input dim. \n",
        "# we have an output of 1 node, which is the the desired dimensions of our output (stay with the bank or not)\n",
        "# We use the sigmoid because we want probability outcomes\n",
        "model.add(Dense(1, activation = 'sigmoid')) "
      ],
      "metadata": {
        "id": "TFONW1OaUxQm"
      },
      "id": "TFONW1OaUxQm",
      "execution_count": null,
      "outputs": []
    },
    {
      "cell_type": "code",
      "source": [
        "# Create optimizer with default learning rate\n",
        "# Compile the model\n",
        "model.compile(optimizer='SGD', loss='binary_crossentropy', metrics=['accuracy'])"
      ],
      "metadata": {
        "id": "q9lMrQoEU3dA"
      },
      "id": "q9lMrQoEU3dA",
      "execution_count": null,
      "outputs": []
    },
    {
      "cell_type": "code",
      "source": [
        "model.summary()"
      ],
      "metadata": {
        "colab": {
          "base_uri": "https://localhost:8080/"
        },
        "id": "Ry2iPK5kU8Oy",
        "outputId": "5f0d3c7b-74b0-4cd1-eb42-6f5e5872844e"
      },
      "id": "Ry2iPK5kU8Oy",
      "execution_count": null,
      "outputs": [
        {
          "output_type": "stream",
          "name": "stdout",
          "text": [
            "Model: \"sequential\"\n",
            "_________________________________________________________________\n",
            " Layer (type)                Output Shape              Param #   \n",
            "=================================================================\n",
            " dense (Dense)               (None, 64)                1536      \n",
            "                                                                 \n",
            " dense_1 (Dense)             (None, 32)                2080      \n",
            "                                                                 \n",
            " dense_2 (Dense)             (None, 1)                 33        \n",
            "                                                                 \n",
            "=================================================================\n",
            "Total params: 3,649\n",
            "Trainable params: 3,649\n",
            "Non-trainable params: 0\n",
            "_________________________________________________________________\n"
          ]
        }
      ]
    },
    {
      "cell_type": "code",
      "source": [
        "history=model.fit(X_train, y_train,           \n",
        "          validation_split=0.2,\n",
        "          epochs=50,\n",
        "          batch_size=32,verbose=1)"
      ],
      "metadata": {
        "colab": {
          "base_uri": "https://localhost:8080/"
        },
        "id": "IPnv3EdjU-JK",
        "outputId": "08b2fecc-40c5-4dea-f98d-b03675ab40bb"
      },
      "id": "IPnv3EdjU-JK",
      "execution_count": null,
      "outputs": [
        {
          "output_type": "stream",
          "name": "stdout",
          "text": [
            "Epoch 1/50\n",
            "1652/1652 [==============================] - 3s 2ms/step - loss: 75.3382 - accuracy: 0.5425 - val_loss: 0.6911 - val_accuracy: 0.5448\n",
            "Epoch 2/50\n",
            "1652/1652 [==============================] - 3s 2ms/step - loss: 0.6920 - accuracy: 0.5428 - val_loss: 0.6892 - val_accuracy: 0.5448\n",
            "Epoch 3/50\n",
            "1652/1652 [==============================] - 2s 1ms/step - loss: 0.6895 - accuracy: 0.5428 - val_loss: 0.6891 - val_accuracy: 0.5448\n",
            "Epoch 4/50\n",
            "1652/1652 [==============================] - 3s 2ms/step - loss: 0.6895 - accuracy: 0.5428 - val_loss: 0.6892 - val_accuracy: 0.5448\n",
            "Epoch 5/50\n",
            "1652/1652 [==============================] - 3s 2ms/step - loss: 0.6895 - accuracy: 0.5428 - val_loss: 0.6892 - val_accuracy: 0.5448\n",
            "Epoch 6/50\n",
            "1652/1652 [==============================] - 2s 1ms/step - loss: 0.6895 - accuracy: 0.5428 - val_loss: 0.6891 - val_accuracy: 0.5448\n",
            "Epoch 7/50\n",
            "1652/1652 [==============================] - 3s 2ms/step - loss: 0.6895 - accuracy: 0.5428 - val_loss: 0.6891 - val_accuracy: 0.5448\n",
            "Epoch 8/50\n",
            "1652/1652 [==============================] - 2s 1ms/step - loss: 0.6895 - accuracy: 0.5428 - val_loss: 0.6891 - val_accuracy: 0.5448\n",
            "Epoch 9/50\n",
            "1652/1652 [==============================] - 2s 1ms/step - loss: 0.6895 - accuracy: 0.5428 - val_loss: 0.6891 - val_accuracy: 0.5448\n",
            "Epoch 10/50\n",
            "1652/1652 [==============================] - 2s 1ms/step - loss: 0.6895 - accuracy: 0.5428 - val_loss: 0.6891 - val_accuracy: 0.5448\n",
            "Epoch 11/50\n",
            "1652/1652 [==============================] - 3s 2ms/step - loss: 0.6895 - accuracy: 0.5428 - val_loss: 0.6891 - val_accuracy: 0.5448\n",
            "Epoch 12/50\n",
            "1652/1652 [==============================] - 2s 1ms/step - loss: 0.6895 - accuracy: 0.5428 - val_loss: 0.6891 - val_accuracy: 0.5448\n",
            "Epoch 13/50\n",
            "1652/1652 [==============================] - 3s 2ms/step - loss: 0.6895 - accuracy: 0.5428 - val_loss: 0.6891 - val_accuracy: 0.5448\n",
            "Epoch 14/50\n",
            "1652/1652 [==============================] - 2s 1ms/step - loss: 0.6895 - accuracy: 0.5428 - val_loss: 0.6891 - val_accuracy: 0.5448\n",
            "Epoch 15/50\n",
            "1652/1652 [==============================] - 3s 2ms/step - loss: 0.6895 - accuracy: 0.5428 - val_loss: 0.6891 - val_accuracy: 0.5448\n",
            "Epoch 16/50\n",
            "1652/1652 [==============================] - 3s 2ms/step - loss: 0.6895 - accuracy: 0.5428 - val_loss: 0.6891 - val_accuracy: 0.5448\n",
            "Epoch 17/50\n",
            "1652/1652 [==============================] - 3s 2ms/step - loss: 0.6895 - accuracy: 0.5428 - val_loss: 0.6891 - val_accuracy: 0.5448\n",
            "Epoch 18/50\n",
            "1652/1652 [==============================] - 3s 2ms/step - loss: 0.6895 - accuracy: 0.5428 - val_loss: 0.6891 - val_accuracy: 0.5448\n",
            "Epoch 19/50\n",
            "1652/1652 [==============================] - 3s 2ms/step - loss: 0.6895 - accuracy: 0.5428 - val_loss: 0.6891 - val_accuracy: 0.5448\n",
            "Epoch 20/50\n",
            "1652/1652 [==============================] - 2s 1ms/step - loss: 0.6895 - accuracy: 0.5428 - val_loss: 0.6891 - val_accuracy: 0.5448\n",
            "Epoch 21/50\n",
            "1652/1652 [==============================] - 3s 2ms/step - loss: 0.6895 - accuracy: 0.5428 - val_loss: 0.6891 - val_accuracy: 0.5448\n",
            "Epoch 22/50\n",
            "1652/1652 [==============================] - 2s 1ms/step - loss: 0.6895 - accuracy: 0.5428 - val_loss: 0.6891 - val_accuracy: 0.5448\n",
            "Epoch 23/50\n",
            "1652/1652 [==============================] - 3s 2ms/step - loss: 0.6895 - accuracy: 0.5428 - val_loss: 0.6891 - val_accuracy: 0.5448\n",
            "Epoch 24/50\n",
            "1652/1652 [==============================] - 3s 2ms/step - loss: 0.6895 - accuracy: 0.5428 - val_loss: 0.6891 - val_accuracy: 0.5448\n",
            "Epoch 25/50\n",
            "1652/1652 [==============================] - 2s 1ms/step - loss: 0.6895 - accuracy: 0.5428 - val_loss: 0.6891 - val_accuracy: 0.5448\n",
            "Epoch 26/50\n",
            "1652/1652 [==============================] - 3s 2ms/step - loss: 0.6895 - accuracy: 0.5428 - val_loss: 0.6891 - val_accuracy: 0.5448\n",
            "Epoch 27/50\n",
            "1652/1652 [==============================] - 2s 1ms/step - loss: 0.6895 - accuracy: 0.5428 - val_loss: 0.6892 - val_accuracy: 0.5448\n",
            "Epoch 28/50\n",
            "1652/1652 [==============================] - 2s 1ms/step - loss: 0.6895 - accuracy: 0.5428 - val_loss: 0.6891 - val_accuracy: 0.5448\n",
            "Epoch 29/50\n",
            "1652/1652 [==============================] - 3s 2ms/step - loss: 0.6895 - accuracy: 0.5428 - val_loss: 0.6891 - val_accuracy: 0.5448\n",
            "Epoch 30/50\n",
            "1652/1652 [==============================] - 2s 1ms/step - loss: 0.6895 - accuracy: 0.5428 - val_loss: 0.6891 - val_accuracy: 0.5448\n",
            "Epoch 31/50\n",
            "1652/1652 [==============================] - 2s 1ms/step - loss: 0.6895 - accuracy: 0.5428 - val_loss: 0.6891 - val_accuracy: 0.5448\n",
            "Epoch 32/50\n",
            "1652/1652 [==============================] - 2s 2ms/step - loss: 0.6895 - accuracy: 0.5428 - val_loss: 0.6892 - val_accuracy: 0.5448\n",
            "Epoch 33/50\n",
            "1652/1652 [==============================] - 2s 1ms/step - loss: 0.6895 - accuracy: 0.5428 - val_loss: 0.6891 - val_accuracy: 0.5448\n",
            "Epoch 34/50\n",
            "1652/1652 [==============================] - 2s 1ms/step - loss: 0.6895 - accuracy: 0.5428 - val_loss: 0.6891 - val_accuracy: 0.5448\n",
            "Epoch 35/50\n",
            "1652/1652 [==============================] - 3s 2ms/step - loss: 0.6895 - accuracy: 0.5428 - val_loss: 0.6891 - val_accuracy: 0.5448\n",
            "Epoch 36/50\n",
            "1652/1652 [==============================] - 3s 2ms/step - loss: 0.6895 - accuracy: 0.5428 - val_loss: 0.6891 - val_accuracy: 0.5448\n",
            "Epoch 37/50\n",
            "1652/1652 [==============================] - 3s 2ms/step - loss: 0.6895 - accuracy: 0.5428 - val_loss: 0.6891 - val_accuracy: 0.5448\n",
            "Epoch 38/50\n",
            "1652/1652 [==============================] - 2s 1ms/step - loss: 0.6895 - accuracy: 0.5428 - val_loss: 0.6891 - val_accuracy: 0.5448\n",
            "Epoch 39/50\n",
            "1652/1652 [==============================] - 3s 2ms/step - loss: 0.6895 - accuracy: 0.5428 - val_loss: 0.6891 - val_accuracy: 0.5448\n",
            "Epoch 40/50\n",
            "1652/1652 [==============================] - 3s 2ms/step - loss: 0.6895 - accuracy: 0.5428 - val_loss: 0.6891 - val_accuracy: 0.5448\n",
            "Epoch 41/50\n",
            "1652/1652 [==============================] - 2s 1ms/step - loss: 0.6895 - accuracy: 0.5428 - val_loss: 0.6891 - val_accuracy: 0.5448\n",
            "Epoch 42/50\n",
            "1652/1652 [==============================] - 2s 1ms/step - loss: 0.6895 - accuracy: 0.5428 - val_loss: 0.6891 - val_accuracy: 0.5448\n",
            "Epoch 43/50\n",
            "1652/1652 [==============================] - 3s 2ms/step - loss: 0.6895 - accuracy: 0.5428 - val_loss: 0.6891 - val_accuracy: 0.5448\n",
            "Epoch 44/50\n",
            "1652/1652 [==============================] - 3s 2ms/step - loss: 0.6895 - accuracy: 0.5428 - val_loss: 0.6891 - val_accuracy: 0.5448\n",
            "Epoch 45/50\n",
            "1652/1652 [==============================] - 2s 2ms/step - loss: 0.6895 - accuracy: 0.5428 - val_loss: 0.6891 - val_accuracy: 0.5448\n",
            "Epoch 46/50\n",
            "1652/1652 [==============================] - 2s 1ms/step - loss: 0.6895 - accuracy: 0.5428 - val_loss: 0.6891 - val_accuracy: 0.5448\n",
            "Epoch 47/50\n",
            "1652/1652 [==============================] - 3s 2ms/step - loss: 0.6895 - accuracy: 0.5428 - val_loss: 0.6891 - val_accuracy: 0.5448\n",
            "Epoch 48/50\n",
            "1652/1652 [==============================] - 3s 2ms/step - loss: 0.6895 - accuracy: 0.5428 - val_loss: 0.6891 - val_accuracy: 0.5448\n",
            "Epoch 49/50\n",
            "1652/1652 [==============================] - 2s 1ms/step - loss: 0.6895 - accuracy: 0.5428 - val_loss: 0.6891 - val_accuracy: 0.5448\n",
            "Epoch 50/50\n",
            "1652/1652 [==============================] - 2s 1ms/step - loss: 0.6895 - accuracy: 0.5428 - val_loss: 0.6892 - val_accuracy: 0.5448\n"
          ]
        }
      ]
    },
    {
      "cell_type": "code",
      "source": [
        "# Capturing learning history per epoch\n",
        "hist  = pd.DataFrame(history.history)\n",
        "hist['epoch'] = history.epoch\n",
        "\n",
        "# Plotting accuracy at different epochs\n",
        "plt.plot(hist['loss'])\n",
        "plt.plot(hist['val_loss'])\n",
        "plt.legend((\"train\" , \"valid\") , loc =0)\n",
        "\n",
        "#Printing results\n",
        "results = model.evaluate(X_test, y_test)"
      ],
      "metadata": {
        "colab": {
          "base_uri": "https://localhost:8080/",
          "height": 282
        },
        "id": "TDXz1yeQVCsa",
        "outputId": "e19a8144-1ace-44bc-b65f-572db92cb3df"
      },
      "id": "TDXz1yeQVCsa",
      "execution_count": null,
      "outputs": [
        {
          "output_type": "stream",
          "name": "stdout",
          "text": [
            "885/885 [==============================] - 1s 1ms/step - loss: 0.6876 - accuracy: 0.5547\n"
          ]
        },
        {
          "output_type": "display_data",
          "data": {
            "text/plain": [
              "<Figure size 432x288 with 1 Axes>"
            ],
            "image/png": "[encoded data removed]"
          },
          "metadata": {
            "needs_background": "light"
          }
        }
      ]
    },
    {
      "cell_type": "code",
      "source": [
        "y_pred=model.predict(X_test)\n",
        "y_pred = (y_pred > 0.5)\n",
        "y_pred"
      ],
      "metadata": {
        "colab": {
          "base_uri": "https://localhost:8080/"
        },
        "id": "A_g2zkMRVxmp",
        "outputId": "8ea39781-8c05-432e-df2c-ef16749cc7ee"
      },
      "id": "A_g2zkMRVxmp",
      "execution_count": null,
      "outputs": [
        {
          "output_type": "stream",
          "name": "stdout",
          "text": [
            "885/885 [==============================] - 1s 827us/step\n"
          ]
        },
        {
          "output_type": "execute_result",
          "data": {
            "text/plain": [
              "array([[ True],\n",
              "       [ True],\n",
              "       [ True],\n",
              "       ...,\n",
              "       [ True],\n",
              "       [ True],\n",
              "       [ True]])"
            ]
          },
          "metadata": {},
          "execution_count": 64
        }
      ]
    },
    {
      "cell_type": "code",
      "source": [
        "def make_confusion_matrix(cf,\n",
        "                          group_names=None,\n",
        "                          categories='auto',\n",
        "                          count=True,\n",
        "                          percent=True,\n",
        "                          cbar=True,\n",
        "                          xyticks=True,\n",
        "                          xyplotlabels=True,\n",
        "                          sum_stats=True,\n",
        "                          figsize=None,\n",
        "                          cmap='Blues',\n",
        "                          title=None):\n",
        "    '''\n",
        "    This function will make a pretty plot of an sklearn Confusion Matrix cm using a Seaborn heatmap visualization.\n",
        "    Arguments\n",
        "    '''\n",
        "\n",
        "\n",
        "    # CODE TO GENERATE TEXT INSIDE EACH SQUARE\n",
        "    blanks = ['' for i in range(cf.size)]\n",
        "\n",
        "    if group_names and len(group_names)==cf.size:\n",
        "        group_labels = [\"{}\\n\".format(value) for value in group_names]\n",
        "    else:\n",
        "        group_labels = blanks\n",
        "\n",
        "    if count:\n",
        "        group_counts = [\"{0:0.0f}\\n\".format(value) for value in cf.flatten()]\n",
        "    else:\n",
        "        group_counts = blanks\n",
        "\n",
        "    if percent:\n",
        "        group_percentages = [\"{0:.2%}\".format(value) for value in cf.flatten()/np.sum(cf)]\n",
        "    else:\n",
        "        group_percentages = blanks\n",
        "\n",
        "    box_labels = [f\"{v1}{v2}{v3}\".strip() for v1, v2, v3 in zip(group_labels,group_counts,group_percentages)]\n",
        "    box_labels = np.asarray(box_labels).reshape(cf.shape[0],cf.shape[1])\n",
        "\n",
        "    # CODE TO GENERATE SUMMARY STATISTICS & TEXT FOR SUMMARY STATS\n",
        "    if sum_stats:\n",
        "        #Accuracy is sum of diagonal divided by total observations\n",
        "        accuracy  = np.trace(cf) / float(np.sum(cf))\n",
        "\n",
        "\n",
        "\n",
        "    # SET FIGURE PARAMETERS ACCORDING TO OTHER ARGUMENTS\n",
        "    if figsize==None:\n",
        "        #Get default figure size if not set\n",
        "        figsize = plt.rcParams.get('figure.figsize')\n",
        "\n",
        "    if xyticks==False:\n",
        "        #Do not show categories if xyticks is False\n",
        "        categories=False\n",
        "\n",
        "\n",
        "    # MAKE THE HEATMAP VISUALIZATION\n",
        "    plt.figure(figsize=figsize)\n",
        "    sns.heatmap(cf,annot=box_labels,fmt=\"\",cmap=cmap,cbar=cbar,xticklabels=categories,yticklabels=categories)\n",
        "    plt.ylabel('Actual')\n",
        "    plt.xlabel('Predicted')\n",
        "    \n",
        "    if title:\n",
        "        plt.title(title)"
      ],
      "metadata": {
        "id": "9PqxQgq5WHRb"
      },
      "id": "9PqxQgq5WHRb",
      "execution_count": null,
      "outputs": []
    },
    {
      "cell_type": "code",
      "source": [
        "#Calculating the confusion matrix \n",
        "from sklearn.metrics import confusion_matrix, classification_report\n",
        "from sklearn import metrics\n",
        "print(classification_report(y_test, y_pred))\n",
        "cm=confusion_matrix(y_test, y_pred)\n",
        "labels = ['True Negative','False Positive','False Negative','True Positive']\n",
        "categories = [ 'Not Satisfied','Satisfied']\n",
        "make_confusion_matrix(cm, \n",
        "                      group_names=labels,\n",
        "                      categories=categories, \n",
        "                      cmap='Blues')"
      ],
      "metadata": {
        "colab": {
          "base_uri": "https://localhost:8080/",
          "height": 435
        },
        "id": "vzHiCO35WZG0",
        "outputId": "c17fb72e-3529-4273-f49a-1931dc0c5ba3"
      },
      "id": "vzHiCO35WZG0",
      "execution_count": null,
      "outputs": [
        {
          "output_type": "stream",
          "name": "stdout",
          "text": [
            "              precision    recall  f1-score   support\n",
            "\n",
            "           0       1.00      0.00      0.00     12608\n",
            "           1       0.55      1.00      0.71     15706\n",
            "\n",
            "    accuracy                           0.55     28314\n",
            "   macro avg       0.78      0.50      0.36     28314\n",
            "weighted avg       0.75      0.55      0.40     28314\n",
            "\n"
          ]
        },
        {
          "output_type": "display_data",
          "data": {
            "text/plain": [
              "<Figure size 432x288 with 2 Axes>"
            ],
            "image/png": "[encoded data removed]"
          },
          "metadata": {
            "needs_background": "light"
          }
        }
      ]
    },
    {
      "cell_type": "markdown",
      "source": [
        "- Here, the 0.00% of False Negatives is because we gave 0.5 as the threshold to the model. this model predicted that every traveller is satisfied which is not correct. About 44% is False positive which means the model predicted travellers are satisfied when they actually are not\n",
        "- The accuracy here is 0.55%, although the f1 score is good at 71%"
      ],
      "metadata": {
        "id": "6CwYvlM1YAjs"
      },
      "id": "6CwYvlM1YAjs"
    },
    {
      "cell_type": "markdown",
      "source": [
        "Let's try to change the optimizer, tune the decision threshold, increase the layers and configure some other hyperparameters accordingly, in order to improve the model's performance."
      ],
      "metadata": {
        "id": "iykjP-TZZkSZ"
      },
      "id": "iykjP-TZZkSZ"
    },
    {
      "cell_type": "markdown",
      "source": [
        "### MODEL 2"
      ],
      "metadata": {
        "id": "aqcW901eZlxA"
      },
      "id": "aqcW901eZlxA"
    },
    {
      "cell_type": "code",
      "source": [
        "backend.clear_session()\n",
        "np.random.seed(42)\n",
        "import random\n",
        "random.seed(42)\n",
        "tf.random.set_seed(42)"
      ],
      "metadata": {
        "id": "MHekTxMNWfi0"
      },
      "id": "MHekTxMNWfi0",
      "execution_count": null,
      "outputs": []
    },
    {
      "cell_type": "code",
      "source": [
        "model1 = Sequential()\n",
        "      #Adding the hidden and output layers\n",
        "model1.add(Dense(256,activation='relu',kernel_initializer='he_uniform',input_dim = X_train.shape[1]))\n",
        "model1.add(Dense(128,activation='relu',kernel_initializer='he_uniform'))\n",
        "model1.add(Dense(64,activation='relu',kernel_initializer='he_uniform'))\n",
        "model1.add(Dense(32,activation='relu',kernel_initializer='he_uniform'))\n",
        "model1.add(Dense(1, activation = 'sigmoid'))\n",
        "      #Compiling the ANN with Adam optimizer and binary cross entropy loss function \n",
        "optimizer = tf.keras.optimizers.Adam(0.001)\n",
        "model1.compile(loss='binary_crossentropy',optimizer=optimizer,metrics=['accuracy'])"
      ],
      "metadata": {
        "id": "9efDInIDZslK"
      },
      "id": "9efDInIDZslK",
      "execution_count": null,
      "outputs": []
    },
    {
      "cell_type": "code",
      "source": [
        "model1.summary()"
      ],
      "metadata": {
        "colab": {
          "base_uri": "https://localhost:8080/"
        },
        "id": "W84LvXGZZv6u",
        "outputId": "88efd56d-2456-4cb6-fb0a-d05f5a5ddc06"
      },
      "id": "W84LvXGZZv6u",
      "execution_count": null,
      "outputs": [
        {
          "output_type": "stream",
          "name": "stdout",
          "text": [
            "Model: \"sequential\"\n",
            "_________________________________________________________________\n",
            " Layer (type)                Output Shape              Param #   \n",
            "=================================================================\n",
            " dense (Dense)               (None, 256)               6144      \n",
            "                                                                 \n",
            " dense_1 (Dense)             (None, 128)               32896     \n",
            "                                                                 \n",
            " dense_2 (Dense)             (None, 64)                8256      \n",
            "                                                                 \n",
            " dense_3 (Dense)             (None, 32)                2080      \n",
            "                                                                 \n",
            " dense_4 (Dense)             (None, 1)                 33        \n",
            "                                                                 \n",
            "=================================================================\n",
            "Total params: 49,409\n",
            "Trainable params: 49,409\n",
            "Non-trainable params: 0\n",
            "_________________________________________________________________\n"
          ]
        }
      ]
    },
    {
      "cell_type": "code",
      "source": [
        "history1 = model1.fit(X_train,y_train,batch_size=64,epochs=50,verbose=1,validation_split = 0.2)"
      ],
      "metadata": {
        "colab": {
          "base_uri": "https://localhost:8080/"
        },
        "id": "wdpbh587ZzcF",
        "outputId": "50b84d30-2f21-48e7-bc06-bfb0c47014ac"
      },
      "id": "wdpbh587ZzcF",
      "execution_count": null,
      "outputs": [
        {
          "output_type": "stream",
          "name": "stdout",
          "text": [
            "Epoch 1/50\n",
            "826/826 [==============================] - 3s 3ms/step - loss: 7.3518 - accuracy: 0.5342 - val_loss: 2.0135 - val_accuracy: 0.5566\n",
            "Epoch 2/50\n",
            "826/826 [==============================] - 2s 2ms/step - loss: 1.6096 - accuracy: 0.5755 - val_loss: 7.7982 - val_accuracy: 0.4570\n",
            "Epoch 3/50\n",
            "826/826 [==============================] - 2s 3ms/step - loss: 1.0210 - accuracy: 0.5979 - val_loss: 0.5928 - val_accuracy: 0.6888\n",
            "Epoch 4/50\n",
            "826/826 [==============================] - 2s 2ms/step - loss: 0.7645 - accuracy: 0.6253 - val_loss: 0.9346 - val_accuracy: 0.5684\n",
            "Epoch 5/50\n",
            "826/826 [==============================] - 2s 3ms/step - loss: 1.2810 - accuracy: 0.6075 - val_loss: 0.7455 - val_accuracy: 0.5433\n",
            "Epoch 6/50\n",
            "826/826 [==============================] - 2s 2ms/step - loss: 0.6495 - accuracy: 0.6334 - val_loss: 0.6027 - val_accuracy: 0.6859\n",
            "Epoch 7/50\n",
            "826/826 [==============================] - 2s 2ms/step - loss: 0.6476 - accuracy: 0.6387 - val_loss: 0.7160 - val_accuracy: 0.5433\n",
            "Epoch 8/50\n",
            "826/826 [==============================] - 2s 3ms/step - loss: 1.2326 - accuracy: 0.6147 - val_loss: 0.6505 - val_accuracy: 0.6023\n",
            "Epoch 9/50\n",
            "826/826 [==============================] - 2s 2ms/step - loss: 0.6756 - accuracy: 0.6332 - val_loss: 0.6212 - val_accuracy: 0.6494\n",
            "Epoch 10/50\n",
            "826/826 [==============================] - 2s 3ms/step - loss: 0.6237 - accuracy: 0.6640 - val_loss: 0.5793 - val_accuracy: 0.7102\n",
            "Epoch 11/50\n",
            "826/826 [==============================] - 2s 3ms/step - loss: 0.6128 - accuracy: 0.6780 - val_loss: 0.6193 - val_accuracy: 0.6678\n",
            "Epoch 12/50\n",
            "826/826 [==============================] - 2s 3ms/step - loss: 0.6047 - accuracy: 0.6848 - val_loss: 0.5353 - val_accuracy: 0.7370\n",
            "Epoch 13/50\n",
            "826/826 [==============================] - 2s 3ms/step - loss: 0.5971 - accuracy: 0.6974 - val_loss: 0.6002 - val_accuracy: 0.6781\n",
            "Epoch 14/50\n",
            "826/826 [==============================] - 2s 3ms/step - loss: 0.5648 - accuracy: 0.7146 - val_loss: 0.6476 - val_accuracy: 0.6644\n",
            "Epoch 15/50\n",
            "826/826 [==============================] - 2s 3ms/step - loss: 0.5424 - accuracy: 0.7360 - val_loss: 0.5099 - val_accuracy: 0.7580\n",
            "Epoch 16/50\n",
            "826/826 [==============================] - 2s 3ms/step - loss: 0.5114 - accuracy: 0.7560 - val_loss: 0.4732 - val_accuracy: 0.7870\n",
            "Epoch 17/50\n",
            "826/826 [==============================] - 2s 3ms/step - loss: 0.5069 - accuracy: 0.7602 - val_loss: 0.5208 - val_accuracy: 0.7371\n",
            "Epoch 18/50\n",
            "826/826 [==============================] - 2s 3ms/step - loss: 0.4905 - accuracy: 0.7714 - val_loss: 0.4387 - val_accuracy: 0.8034\n",
            "Epoch 19/50\n",
            "826/826 [==============================] - 2s 2ms/step - loss: 0.4687 - accuracy: 0.7823 - val_loss: 0.4282 - val_accuracy: 0.8090\n",
            "Epoch 20/50\n",
            "826/826 [==============================] - 2s 3ms/step - loss: 0.4560 - accuracy: 0.7931 - val_loss: 0.5811 - val_accuracy: 0.6898\n",
            "Epoch 21/50\n",
            "826/826 [==============================] - 3s 4ms/step - loss: 0.4560 - accuracy: 0.7925 - val_loss: 0.4237 - val_accuracy: 0.8132\n",
            "Epoch 22/50\n",
            "826/826 [==============================] - 3s 4ms/step - loss: 0.4336 - accuracy: 0.8055 - val_loss: 0.4722 - val_accuracy: 0.7792\n",
            "Epoch 23/50\n",
            "826/826 [==============================] - 2s 3ms/step - loss: 0.4190 - accuracy: 0.8140 - val_loss: 0.3889 - val_accuracy: 0.8330\n",
            "Epoch 24/50\n",
            "826/826 [==============================] - 2s 3ms/step - loss: 0.4146 - accuracy: 0.8172 - val_loss: 0.4065 - val_accuracy: 0.8214\n",
            "Epoch 25/50\n",
            "826/826 [==============================] - 2s 3ms/step - loss: 0.4093 - accuracy: 0.8192 - val_loss: 0.4313 - val_accuracy: 0.8106\n",
            "Epoch 26/50\n",
            "826/826 [==============================] - 2s 3ms/step - loss: 0.3982 - accuracy: 0.8253 - val_loss: 0.5461 - val_accuracy: 0.7439\n",
            "Epoch 27/50\n",
            "826/826 [==============================] - 2s 3ms/step - loss: 0.3966 - accuracy: 0.8273 - val_loss: 0.3784 - val_accuracy: 0.8342\n",
            "Epoch 28/50\n",
            "826/826 [==============================] - 2s 3ms/step - loss: 0.3814 - accuracy: 0.8350 - val_loss: 0.4755 - val_accuracy: 0.7824\n",
            "Epoch 29/50\n",
            "826/826 [==============================] - 2s 3ms/step - loss: 0.3839 - accuracy: 0.8331 - val_loss: 0.3558 - val_accuracy: 0.8459\n",
            "Epoch 30/50\n",
            "826/826 [==============================] - 2s 2ms/step - loss: 0.3660 - accuracy: 0.8420 - val_loss: 0.3399 - val_accuracy: 0.8584\n",
            "Epoch 31/50\n",
            "826/826 [==============================] - 2s 3ms/step - loss: 0.3591 - accuracy: 0.8461 - val_loss: 0.4246 - val_accuracy: 0.8146\n",
            "Epoch 32/50\n",
            "826/826 [==============================] - 2s 3ms/step - loss: 0.3531 - accuracy: 0.8499 - val_loss: 0.3326 - val_accuracy: 0.8627\n",
            "Epoch 33/50\n",
            "826/826 [==============================] - 2s 2ms/step - loss: 0.3495 - accuracy: 0.8521 - val_loss: 0.3597 - val_accuracy: 0.8430\n",
            "Epoch 34/50\n",
            "826/826 [==============================] - 2s 2ms/step - loss: 0.3589 - accuracy: 0.8476 - val_loss: 0.3205 - val_accuracy: 0.8684\n",
            "Epoch 35/50\n",
            "826/826 [==============================] - 2s 2ms/step - loss: 0.3427 - accuracy: 0.8535 - val_loss: 0.3330 - val_accuracy: 0.8590\n",
            "Epoch 36/50\n",
            "826/826 [==============================] - 2s 3ms/step - loss: 0.3400 - accuracy: 0.8536 - val_loss: 0.3131 - val_accuracy: 0.8687\n",
            "Epoch 37/50\n",
            "826/826 [==============================] - 2s 3ms/step - loss: 0.3382 - accuracy: 0.8556 - val_loss: 0.3049 - val_accuracy: 0.8747\n",
            "Epoch 38/50\n",
            "826/826 [==============================] - 2s 3ms/step - loss: 0.3274 - accuracy: 0.8613 - val_loss: 0.3072 - val_accuracy: 0.8739\n",
            "Epoch 39/50\n",
            "826/826 [==============================] - 2s 2ms/step - loss: 0.3266 - accuracy: 0.8613 - val_loss: 0.3173 - val_accuracy: 0.8666\n",
            "Epoch 40/50\n",
            "826/826 [==============================] - 2s 3ms/step - loss: 0.3220 - accuracy: 0.8650 - val_loss: 0.3349 - val_accuracy: 0.8584\n",
            "Epoch 41/50\n",
            "826/826 [==============================] - 2s 3ms/step - loss: 0.3257 - accuracy: 0.8622 - val_loss: 0.3561 - val_accuracy: 0.8462\n",
            "Epoch 42/50\n",
            "826/826 [==============================] - 2s 3ms/step - loss: 0.3159 - accuracy: 0.8670 - val_loss: 0.3031 - val_accuracy: 0.8722\n",
            "Epoch 43/50\n",
            "826/826 [==============================] - 2s 3ms/step - loss: 0.3186 - accuracy: 0.8649 - val_loss: 0.3445 - val_accuracy: 0.8508\n",
            "Epoch 44/50\n",
            "826/826 [==============================] - 2s 3ms/step - loss: 0.3113 - accuracy: 0.8682 - val_loss: 0.3129 - val_accuracy: 0.8684\n",
            "Epoch 45/50\n",
            "826/826 [==============================] - 2s 3ms/step - loss: 0.3133 - accuracy: 0.8675 - val_loss: 0.3004 - val_accuracy: 0.8701\n",
            "Epoch 46/50\n",
            "826/826 [==============================] - 2s 3ms/step - loss: 0.3137 - accuracy: 0.8673 - val_loss: 0.2984 - val_accuracy: 0.8750\n",
            "Epoch 47/50\n",
            "826/826 [==============================] - 2s 3ms/step - loss: 0.3141 - accuracy: 0.8680 - val_loss: 0.2858 - val_accuracy: 0.8819\n",
            "Epoch 48/50\n",
            "826/826 [==============================] - 2s 3ms/step - loss: 0.3090 - accuracy: 0.8699 - val_loss: 0.2886 - val_accuracy: 0.8766\n",
            "Epoch 49/50\n",
            "826/826 [==============================] - 2s 3ms/step - loss: 0.3032 - accuracy: 0.8713 - val_loss: 0.4583 - val_accuracy: 0.8011\n",
            "Epoch 50/50\n",
            "826/826 [==============================] - 2s 3ms/step - loss: 0.3057 - accuracy: 0.8711 - val_loss: 0.3068 - val_accuracy: 0.8715\n"
          ]
        }
      ]
    },
    {
      "cell_type": "code",
      "source": [
        "#Plotting Train Loss vs Validation Loss\n",
        "plt.plot(history1.history['loss'])\n",
        "plt.plot(history1.history['val_loss'])\n",
        "plt.title('model loss')\n",
        "plt.ylabel('Loss')\n",
        "plt.xlabel('Epoch')\n",
        "plt.legend(['train', 'validation'], loc='upper left')\n",
        "plt.show()"
      ],
      "metadata": {
        "colab": {
          "base_uri": "https://localhost:8080/",
          "height": 295
        },
        "id": "ZOgqpLiHZ2hm",
        "outputId": "cd0f1171-76cf-4c86-8f2a-ea598c94eca9"
      },
      "id": "ZOgqpLiHZ2hm",
      "execution_count": null,
      "outputs": [
        {
          "output_type": "display_data",
          "data": {
            "text/plain": [
              "<Figure size 432x288 with 1 Axes>"
            ],
            "image/png": "[encoded data removed]"
          },
          "metadata": {
            "needs_background": "light"
          }
        }
      ]
    },
    {
      "cell_type": "markdown",
      "source": [
        "As we increased the depth of the neural network and changed the optimizer to Adam, we can see smoother loss curves for both train and validation."
      ],
      "metadata": {
        "id": "AAZp9jyGaG84"
      },
      "id": "AAZp9jyGaG84"
    },
    {
      "cell_type": "code",
      "source": [
        "from sklearn.metrics import roc_curve\n",
        "\n",
        "from matplotlib import pyplot\n",
        "\n",
        "\n",
        "# predict probabilities\n",
        "yhat1 = model1.predict(X_test)\n",
        "# keep probabilities for the positive outcome only\n",
        "yhat1 = yhat1[:, 0]\n",
        "# calculate roc curves\n",
        "fpr, tpr, thresholds1 = roc_curve(y_test, yhat1)\n",
        "# calculate the g-mean for each threshold\n",
        "gmeans1 = np.sqrt(tpr * (1-fpr))\n",
        "# locate the index of the largest g-mean\n",
        "ix = np.argmax(gmeans1)\n",
        "print('Best Threshold=%f, G-Mean=%.3f' % (thresholds1[ix], gmeans1[ix]))\n",
        "# plot the roc curve for the model\n",
        "pyplot.plot([0,1], [0,1], linestyle='--', label='No Skill')\n",
        "pyplot.plot(fpr, tpr, marker='.')\n",
        "pyplot.scatter(fpr[ix], tpr[ix], marker='o', color='black', label='Best')\n",
        "# axis labels\n",
        "pyplot.xlabel('False Positive Rate')\n",
        "pyplot.ylabel('True Positive Rate')\n",
        "pyplot.legend()\n",
        "# show the plot\n",
        "pyplot.show()"
      ],
      "metadata": {
        "colab": {
          "base_uri": "https://localhost:8080/",
          "height": 314
        },
        "id": "NPjBAUb4aHe7",
        "outputId": "2db4a0b7-6a77-4d07-8e98-2c8026781264"
      },
      "id": "NPjBAUb4aHe7",
      "execution_count": null,
      "outputs": [
        {
          "output_type": "stream",
          "name": "stdout",
          "text": [
            "885/885 [==============================] - 1s 1ms/step\n",
            "Best Threshold=0.737252, G-Mean=0.880\n"
          ]
        },
        {
          "output_type": "display_data",
          "data": {
            "text/plain": [
              "<Figure size 432x288 with 1 Axes>"
            ],
            "image/png": "[encoded data removed]"
          },
          "metadata": {
            "needs_background": "light"
          }
        }
      ]
    },
    {
      "cell_type": "code",
      "source": [
        "#Predicting the results using best as a threshold\n",
        "y_pred_e1=model1.predict(X_test)\n",
        "y_pred_e1 = (y_pred_e1 > thresholds1[ix])\n",
        "y_pred_e1"
      ],
      "metadata": {
        "colab": {
          "base_uri": "https://localhost:8080/"
        },
        "id": "vu4wv_ZGa69g",
        "outputId": "d101115e-026b-4294-d32d-acc749745744"
      },
      "id": "vu4wv_ZGa69g",
      "execution_count": null,
      "outputs": [
        {
          "output_type": "stream",
          "name": "stdout",
          "text": [
            "885/885 [==============================] - 1s 1ms/step\n"
          ]
        },
        {
          "output_type": "execute_result",
          "data": {
            "text/plain": [
              "array([[ True],\n",
              "       [False],\n",
              "       [False],\n",
              "       ...,\n",
              "       [False],\n",
              "       [False],\n",
              "       [False]])"
            ]
          },
          "metadata": {},
          "execution_count": 73
        }
      ]
    },
    {
      "cell_type": "code",
      "source": [
        "classification_report,\n",
        "#Calculating the confusion matrix \n",
        "from sklearn.metrics import confusion_matrix\n",
        "print(classification_report(y_test,y_pred_e1))\n",
        "cm1=confusion_matrix(y_test, y_pred_e1)\n",
        "labels = ['True Negative','False Positive','False Negative','True Positive']\n",
        "categories = [ 'Not Satisfied','Satisfied']\n",
        "make_confusion_matrix(cm1, \n",
        "                      group_names=labels,\n",
        "                      categories=categories, \n",
        "                      cmap='Blues')"
      ],
      "metadata": {
        "colab": {
          "base_uri": "https://localhost:8080/",
          "height": 435
        },
        "id": "huSiqy6RbNCg",
        "outputId": "3062c686-7710-43f6-c58b-6799f09f1316"
      },
      "id": "huSiqy6RbNCg",
      "execution_count": null,
      "outputs": [
        {
          "output_type": "stream",
          "name": "stdout",
          "text": [
            "              precision    recall  f1-score   support\n",
            "\n",
            "           0       0.84      0.89      0.87     12608\n",
            "           1       0.91      0.87      0.89     15706\n",
            "\n",
            "    accuracy                           0.88     28314\n",
            "   macro avg       0.88      0.88      0.88     28314\n",
            "weighted avg       0.88      0.88      0.88     28314\n",
            "\n"
          ]
        },
        {
          "output_type": "display_data",
          "data": {
            "text/plain": [
              "<Figure size 432x288 with 2 Axes>"
            ],
            "image/png": "[encoded data removed]"
          },
          "metadata": {
            "needs_background": "light"
          }
        }
      ]
    },
    {
      "cell_type": "markdown",
      "source": [
        "- The model improved significantly compared with model 1 with an accuracy of 88% as against 55% of model 1. f1 score improved significantly as well from 71% to 89%. The model is not overfitting and well generalized.\n",
        "- As the number of layers in the neural network has increased, we can see that the macro F1 score has increased, and the False positive percentage has decreased. "
      ],
      "metadata": {
        "id": "7eSyNnDNcuys"
      },
      "id": "7eSyNnDNcuys"
    },
    {
      "cell_type": "markdown",
      "source": [
        "Now let's try to use the Batch Normalization technique and check to see if we can increase the F1 score. "
      ],
      "metadata": {
        "id": "TpD4-oTHdmPw"
      },
      "id": "TpD4-oTHdmPw"
    },
    {
      "cell_type": "markdown",
      "source": [
        "### MODEL 3"
      ],
      "metadata": {
        "id": "SAFbAH1hdo6m"
      },
      "id": "SAFbAH1hdo6m"
    },
    {
      "cell_type": "code",
      "source": [
        "backend.clear_session()\n",
        "np.random.seed(42)\n",
        "import random\n",
        "random.seed(42)\n",
        "tf.random.set_seed(42)"
      ],
      "metadata": {
        "id": "B4ty3kmNbb2A"
      },
      "id": "B4ty3kmNbb2A",
      "execution_count": null,
      "outputs": []
    },
    {
      "cell_type": "code",
      "source": [
        "model2 = Sequential()\n",
        "model2.add(Dense(128,activation='relu',input_dim = X_train.shape[1]))\n",
        "model2.add(BatchNormalization())\n",
        "model2.add(Dense(64,activation='relu',kernel_initializer='he_uniform'))\n",
        "model2.add(BatchNormalization())\n",
        "model2.add(Dense(32,activation='relu',kernel_initializer='he_uniform'))\n",
        "model2.add(Dense(1, activation = 'sigmoid'))"
      ],
      "metadata": {
        "id": "TjGnR26BdtQG"
      },
      "id": "TjGnR26BdtQG",
      "execution_count": null,
      "outputs": []
    },
    {
      "cell_type": "code",
      "source": [
        "model2.summary()"
      ],
      "metadata": {
        "colab": {
          "base_uri": "https://localhost:8080/"
        },
        "id": "ZKvrRXemdvqd",
        "outputId": "f9174691-ef10-4f06-ea5d-f7b10a33210c"
      },
      "id": "ZKvrRXemdvqd",
      "execution_count": null,
      "outputs": [
        {
          "output_type": "stream",
          "name": "stdout",
          "text": [
            "Model: \"sequential\"\n",
            "_________________________________________________________________\n",
            " Layer (type)                Output Shape              Param #   \n",
            "=================================================================\n",
            " dense (Dense)               (None, 128)               3072      \n",
            "                                                                 \n",
            " batch_normalization (BatchN  (None, 128)              512       \n",
            " ormalization)                                                   \n",
            "                                                                 \n",
            " dense_1 (Dense)             (None, 64)                8256      \n",
            "                                                                 \n",
            " batch_normalization_1 (Batc  (None, 64)               256       \n",
            " hNormalization)                                                 \n",
            "                                                                 \n",
            " dense_2 (Dense)             (None, 32)                2080      \n",
            "                                                                 \n",
            " dense_3 (Dense)             (None, 1)                 33        \n",
            "                                                                 \n",
            "=================================================================\n",
            "Total params: 14,209\n",
            "Trainable params: 13,825\n",
            "Non-trainable params: 384\n",
            "_________________________________________________________________\n"
          ]
        }
      ]
    },
    {
      "cell_type": "code",
      "source": [
        "optimizer = tf.keras.optimizers.Adam(0.001)\n",
        "model2.compile(loss='binary_crossentropy',optimizer=optimizer,metrics=['accuracy'])"
      ],
      "metadata": {
        "id": "gcbcn_D8dyDg"
      },
      "id": "gcbcn_D8dyDg",
      "execution_count": null,
      "outputs": []
    },
    {
      "cell_type": "code",
      "source": [
        "history_2 = model2.fit(X_train,y_train,batch_size=64,epochs=50,verbose=1,validation_split = 0.2)"
      ],
      "metadata": {
        "colab": {
          "base_uri": "https://localhost:8080/"
        },
        "id": "Xg-wGUwKd9YU",
        "outputId": "228c2082-80fa-4cd5-914b-5e017730588b"
      },
      "id": "Xg-wGUwKd9YU",
      "execution_count": null,
      "outputs": [
        {
          "output_type": "stream",
          "name": "stdout",
          "text": [
            "Epoch 1/50\n",
            "826/826 [==============================] - 3s 3ms/step - loss: 0.5863 - accuracy: 0.6871 - val_loss: 0.7174 - val_accuracy: 0.6114\n",
            "Epoch 2/50\n",
            "826/826 [==============================] - 2s 2ms/step - loss: 0.4739 - accuracy: 0.7767 - val_loss: 0.5254 - val_accuracy: 0.7438\n",
            "Epoch 3/50\n",
            "826/826 [==============================] - 2s 2ms/step - loss: 0.4166 - accuracy: 0.8122 - val_loss: 0.5586 - val_accuracy: 0.7542\n",
            "Epoch 4/50\n",
            "826/826 [==============================] - 2s 2ms/step - loss: 0.3755 - accuracy: 0.8349 - val_loss: 1.1080 - val_accuracy: 0.6077\n",
            "Epoch 5/50\n",
            "826/826 [==============================] - 2s 2ms/step - loss: 0.3482 - accuracy: 0.8482 - val_loss: 1.1239 - val_accuracy: 0.6267\n",
            "Epoch 6/50\n",
            "826/826 [==============================] - 2s 2ms/step - loss: 0.3328 - accuracy: 0.8547 - val_loss: 0.4863 - val_accuracy: 0.7733\n",
            "Epoch 7/50\n",
            "826/826 [==============================] - 2s 2ms/step - loss: 0.3207 - accuracy: 0.8619 - val_loss: 0.5221 - val_accuracy: 0.7413\n",
            "Epoch 8/50\n",
            "826/826 [==============================] - 2s 2ms/step - loss: 0.3133 - accuracy: 0.8659 - val_loss: 0.4307 - val_accuracy: 0.8190\n",
            "Epoch 9/50\n",
            "826/826 [==============================] - 2s 2ms/step - loss: 0.3091 - accuracy: 0.8666 - val_loss: 0.8355 - val_accuracy: 0.7017\n",
            "Epoch 10/50\n",
            "826/826 [==============================] - 2s 2ms/step - loss: 0.2968 - accuracy: 0.8703 - val_loss: 0.5586 - val_accuracy: 0.7350\n",
            "Epoch 11/50\n",
            "826/826 [==============================] - 2s 2ms/step - loss: 0.2802 - accuracy: 0.8790 - val_loss: 0.5715 - val_accuracy: 0.7664\n",
            "Epoch 12/50\n",
            "826/826 [==============================] - 2s 2ms/step - loss: 0.2843 - accuracy: 0.8754 - val_loss: 0.7236 - val_accuracy: 0.7615\n",
            "Epoch 13/50\n",
            "826/826 [==============================] - 2s 2ms/step - loss: 0.2620 - accuracy: 0.8855 - val_loss: 0.5819 - val_accuracy: 0.7782\n",
            "Epoch 14/50\n",
            "826/826 [==============================] - 2s 2ms/step - loss: 0.2534 - accuracy: 0.8895 - val_loss: 0.3139 - val_accuracy: 0.8691\n",
            "Epoch 15/50\n",
            "826/826 [==============================] - 2s 2ms/step - loss: 0.2467 - accuracy: 0.8927 - val_loss: 0.6095 - val_accuracy: 0.7359\n",
            "Epoch 16/50\n",
            "826/826 [==============================] - 2s 2ms/step - loss: 0.2414 - accuracy: 0.8965 - val_loss: 0.3825 - val_accuracy: 0.8341\n",
            "Epoch 17/50\n",
            "826/826 [==============================] - 2s 2ms/step - loss: 0.2383 - accuracy: 0.8984 - val_loss: 0.3262 - val_accuracy: 0.8528\n",
            "Epoch 18/50\n",
            "826/826 [==============================] - 2s 2ms/step - loss: 0.2329 - accuracy: 0.9000 - val_loss: 0.2214 - val_accuracy: 0.9028\n",
            "Epoch 19/50\n",
            "826/826 [==============================] - 2s 2ms/step - loss: 0.2315 - accuracy: 0.9006 - val_loss: 0.3709 - val_accuracy: 0.8476\n",
            "Epoch 20/50\n",
            "826/826 [==============================] - 2s 2ms/step - loss: 0.2277 - accuracy: 0.9027 - val_loss: 0.3056 - val_accuracy: 0.8607\n",
            "Epoch 21/50\n",
            "826/826 [==============================] - 2s 2ms/step - loss: 0.2288 - accuracy: 0.9020 - val_loss: 0.6099 - val_accuracy: 0.7751\n",
            "Epoch 22/50\n",
            "826/826 [==============================] - 2s 2ms/step - loss: 0.2224 - accuracy: 0.9040 - val_loss: 0.4627 - val_accuracy: 0.8136\n",
            "Epoch 23/50\n",
            "826/826 [==============================] - 2s 2ms/step - loss: 0.2217 - accuracy: 0.9038 - val_loss: 0.2989 - val_accuracy: 0.8723\n",
            "Epoch 24/50\n",
            "826/826 [==============================] - 3s 3ms/step - loss: 0.2155 - accuracy: 0.9083 - val_loss: 0.2858 - val_accuracy: 0.8852\n",
            "Epoch 25/50\n",
            "826/826 [==============================] - 2s 2ms/step - loss: 0.2155 - accuracy: 0.9070 - val_loss: 0.4679 - val_accuracy: 0.7891\n",
            "Epoch 26/50\n",
            "826/826 [==============================] - 2s 2ms/step - loss: 0.2089 - accuracy: 0.9100 - val_loss: 0.8617 - val_accuracy: 0.7198\n",
            "Epoch 27/50\n",
            "826/826 [==============================] - 2s 2ms/step - loss: 0.2089 - accuracy: 0.9106 - val_loss: 0.3877 - val_accuracy: 0.8358\n",
            "Epoch 28/50\n",
            "826/826 [==============================] - 2s 2ms/step - loss: 0.2046 - accuracy: 0.9126 - val_loss: 0.7588 - val_accuracy: 0.7266\n",
            "Epoch 29/50\n",
            "826/826 [==============================] - 2s 2ms/step - loss: 0.2049 - accuracy: 0.9116 - val_loss: 0.2598 - val_accuracy: 0.8852\n",
            "Epoch 30/50\n",
            "826/826 [==============================] - 2s 2ms/step - loss: 0.2011 - accuracy: 0.9130 - val_loss: 0.2977 - val_accuracy: 0.8755\n",
            "Epoch 31/50\n",
            "826/826 [==============================] - 2s 2ms/step - loss: 0.1971 - accuracy: 0.9151 - val_loss: 0.4314 - val_accuracy: 0.8256\n",
            "Epoch 32/50\n",
            "826/826 [==============================] - 2s 2ms/step - loss: 0.1990 - accuracy: 0.9137 - val_loss: 0.3040 - val_accuracy: 0.8722\n",
            "Epoch 33/50\n",
            "826/826 [==============================] - 2s 2ms/step - loss: 0.1959 - accuracy: 0.9155 - val_loss: 0.5839 - val_accuracy: 0.7933\n",
            "Epoch 34/50\n",
            "826/826 [==============================] - 2s 2ms/step - loss: 0.1973 - accuracy: 0.9160 - val_loss: 0.3730 - val_accuracy: 0.8422\n",
            "Epoch 35/50\n",
            "826/826 [==============================] - 2s 2ms/step - loss: 0.1984 - accuracy: 0.9159 - val_loss: 0.2872 - val_accuracy: 0.8776\n",
            "Epoch 36/50\n",
            "826/826 [==============================] - 2s 2ms/step - loss: 0.1939 - accuracy: 0.9175 - val_loss: 0.2350 - val_accuracy: 0.9026\n",
            "Epoch 37/50\n",
            "826/826 [==============================] - 2s 2ms/step - loss: 0.1925 - accuracy: 0.9175 - val_loss: 0.2183 - val_accuracy: 0.9063\n",
            "Epoch 38/50\n",
            "826/826 [==============================] - 2s 2ms/step - loss: 0.1916 - accuracy: 0.9189 - val_loss: 0.6661 - val_accuracy: 0.7667\n",
            "Epoch 39/50\n",
            "826/826 [==============================] - 2s 2ms/step - loss: 0.1914 - accuracy: 0.9187 - val_loss: 0.5471 - val_accuracy: 0.7950\n",
            "Epoch 40/50\n",
            "826/826 [==============================] - 2s 2ms/step - loss: 0.1875 - accuracy: 0.9197 - val_loss: 0.2605 - val_accuracy: 0.8940\n",
            "Epoch 41/50\n",
            "826/826 [==============================] - 2s 2ms/step - loss: 0.1893 - accuracy: 0.9191 - val_loss: 0.3885 - val_accuracy: 0.8366\n",
            "Epoch 42/50\n",
            "826/826 [==============================] - 2s 2ms/step - loss: 0.1856 - accuracy: 0.9195 - val_loss: 0.2108 - val_accuracy: 0.9074\n",
            "Epoch 43/50\n",
            "826/826 [==============================] - 2s 2ms/step - loss: 0.1847 - accuracy: 0.9207 - val_loss: 0.3369 - val_accuracy: 0.8565\n",
            "Epoch 44/50\n",
            "826/826 [==============================] - 2s 2ms/step - loss: 0.1848 - accuracy: 0.9202 - val_loss: 0.3721 - val_accuracy: 0.8372\n",
            "Epoch 45/50\n",
            "826/826 [==============================] - 2s 2ms/step - loss: 0.1828 - accuracy: 0.9216 - val_loss: 0.4177 - val_accuracy: 0.8386\n",
            "Epoch 46/50\n",
            "826/826 [==============================] - 2s 2ms/step - loss: 0.1810 - accuracy: 0.9225 - val_loss: 0.4227 - val_accuracy: 0.8389\n",
            "Epoch 47/50\n",
            "826/826 [==============================] - 2s 2ms/step - loss: 0.1826 - accuracy: 0.9207 - val_loss: 0.3187 - val_accuracy: 0.8708\n",
            "Epoch 48/50\n",
            "826/826 [==============================] - 2s 2ms/step - loss: 0.1815 - accuracy: 0.9225 - val_loss: 0.4037 - val_accuracy: 0.8440\n",
            "Epoch 49/50\n",
            "826/826 [==============================] - 2s 2ms/step - loss: 0.1794 - accuracy: 0.9233 - val_loss: 0.4569 - val_accuracy: 0.8256\n",
            "Epoch 50/50\n",
            "826/826 [==============================] - 2s 2ms/step - loss: 0.1816 - accuracy: 0.9220 - val_loss: 0.3495 - val_accuracy: 0.8591\n"
          ]
        }
      ]
    },
    {
      "cell_type": "code",
      "source": [
        "#Plotting Train Loss vs Validation Loss\n",
        "plt.plot(history_2.history['loss'])\n",
        "plt.plot(history_2.history['val_loss'])\n",
        "plt.title('model loss')\n",
        "plt.ylabel('Loss')\n",
        "plt.xlabel('Epoch')\n",
        "plt.legend(['train', 'validation'], loc='upper left')\n",
        "plt.show()"
      ],
      "metadata": {
        "colab": {
          "base_uri": "https://localhost:8080/",
          "height": 295
        },
        "id": "QeWwM1WkeBxa",
        "outputId": "e143883a-e600-4a72-8218-812fb7fa6584"
      },
      "id": "QeWwM1WkeBxa",
      "execution_count": null,
      "outputs": [
        {
          "output_type": "display_data",
          "data": {
            "text/plain": [
              "<Figure size 432x288 with 1 Axes>"
            ],
            "image/png": "[encoded data removed]"
          },
          "metadata": {
            "needs_background": "light"
          }
        }
      ]
    },
    {
      "cell_type": "markdown",
      "source": [
        "Unfortunately, from the above plot we observe that there is a lot of noise in the model, and it and seems to have overfitted on the training data because there is a significant difference in performance between train and validation."
      ],
      "metadata": {
        "id": "hBVOvZZKjX7P"
      },
      "id": "hBVOvZZKjX7P"
    },
    {
      "cell_type": "code",
      "source": [
        "from sklearn.metrics import roc_curve\n",
        "\n",
        "from matplotlib import pyplot\n",
        "\n",
        "\n",
        "# predict probabilities\n",
        "yhat2 = model2.predict(X_test)\n",
        "# keep probabilities for the positive outcome only\n",
        "yhat2 = yhat2[:, 0]\n",
        "# calculate roc curves\n",
        "fpr, tpr, thresholds2 = roc_curve(y_test, yhat2)\n",
        "# calculate the g-mean for each threshold\n",
        "gmeans2 = np.sqrt(tpr * (1-fpr))\n",
        "# locate the index of the largest g-mean\n",
        "ix = np.argmax(gmeans2)\n",
        "print('Best Threshold=%f, G-Mean=%.3f' % (thresholds2[ix], gmeans2[ix]))\n",
        "# plot the roc curve for the model\n",
        "pyplot.plot([0,1], [0,1], linestyle='--', label='No Skill')\n",
        "pyplot.plot(fpr, tpr, marker='.')\n",
        "pyplot.scatter(fpr[ix], tpr[ix], marker='o', color='black', label='Best')\n",
        "# axis labels\n",
        "pyplot.xlabel('False Positive Rate')\n",
        "pyplot.ylabel('True Positive Rate')\n",
        "pyplot.legend()\n",
        "# show the plot\n",
        "pyplot.show()"
      ],
      "metadata": {
        "colab": {
          "base_uri": "https://localhost:8080/",
          "height": 314
        },
        "id": "COiLeZBJjhTx",
        "outputId": "44e17a43-3eee-4886-fd83-47e4bdfafa00"
      },
      "id": "COiLeZBJjhTx",
      "execution_count": null,
      "outputs": [
        {
          "output_type": "stream",
          "name": "stdout",
          "text": [
            "885/885 [==============================] - 1s 964us/step\n",
            "Best Threshold=0.240044, G-Mean=0.883\n"
          ]
        },
        {
          "output_type": "display_data",
          "data": {
            "text/plain": [
              "<Figure size 432x288 with 1 Axes>"
            ],
            "image/png": "[encoded data removed]"
          },
          "metadata": {
            "needs_background": "light"
          }
        }
      ]
    },
    {
      "cell_type": "code",
      "source": [
        "y_pred_e2=model2.predict(X_test)\n",
        "y_pred_e2 = (y_pred_e2 > thresholds2[ix])\n",
        "y_pred_e2"
      ],
      "metadata": {
        "colab": {
          "base_uri": "https://localhost:8080/"
        },
        "id": "wqLotpfijhv7",
        "outputId": "7e8848f3-45ad-4a70-f6f3-b12eef627854"
      },
      "id": "wqLotpfijhv7",
      "execution_count": null,
      "outputs": [
        {
          "output_type": "stream",
          "name": "stdout",
          "text": [
            "885/885 [==============================] - 1s 1ms/step\n"
          ]
        },
        {
          "output_type": "execute_result",
          "data": {
            "text/plain": [
              "array([[False],\n",
              "       [False],\n",
              "       [False],\n",
              "       ...,\n",
              "       [False],\n",
              "       [False],\n",
              "       [ True]])"
            ]
          },
          "metadata": {},
          "execution_count": 82
        }
      ]
    },
    {
      "cell_type": "code",
      "source": [
        "classification_report,\n",
        "#Calculating the confusion matrix \n",
        "from sklearn.metrics import confusion_matrix\n",
        "print(classification_report(y_test,y_pred_e2))\n",
        "cm2=confusion_matrix(y_test, y_pred_e2)\n",
        "labels = ['True Negative','False Positive','False Negative','True Positive']\n",
        "categories = [ 'Not Satisfied','Satisfied']\n",
        "make_confusion_matrix(cm2, \n",
        "                      group_names=labels,\n",
        "                      categories=categories, \n",
        "                      cmap='Blues')"
      ],
      "metadata": {
        "colab": {
          "base_uri": "https://localhost:8080/",
          "height": 435
        },
        "id": "8ZDHbGgejpDh",
        "outputId": "935c88a5-9548-461d-bf90-505176de5d96"
      },
      "id": "8ZDHbGgejpDh",
      "execution_count": null,
      "outputs": [
        {
          "output_type": "stream",
          "name": "stdout",
          "text": [
            "              precision    recall  f1-score   support\n",
            "\n",
            "           0       0.85      0.90      0.87     12608\n",
            "           1       0.91      0.87      0.89     15706\n",
            "\n",
            "    accuracy                           0.88     28314\n",
            "   macro avg       0.88      0.88      0.88     28314\n",
            "weighted avg       0.88      0.88      0.88     28314\n",
            "\n"
          ]
        },
        {
          "output_type": "display_data",
          "data": {
            "text/plain": [
              "<Figure size 432x288 with 2 Axes>"
            ],
            "image/png": "[encoded data removed]"
          },
          "metadata": {
            "needs_background": "light"
          }
        }
      ]
    },
    {
      "cell_type": "markdown",
      "source": [
        "The Train and Validation curves seem to show overfitting despite having a good F1 score and a low False Negative rate. \n",
        "\n",
        "Let's try to use the Dropout technique and check to see if it can reduce the False Negative rate. "
      ],
      "metadata": {
        "id": "mOajj1kNkjXu"
      },
      "id": "mOajj1kNkjXu"
    },
    {
      "cell_type": "markdown",
      "source": [
        "### Model 4"
      ],
      "metadata": {
        "id": "lye1rWZYk95E"
      },
      "id": "lye1rWZYk95E"
    },
    {
      "cell_type": "code",
      "source": [
        "backend.clear_session()\n",
        "np.random.seed(42)\n",
        "import random\n",
        "random.seed(42)\n",
        "tf.random.set_seed(42)"
      ],
      "metadata": {
        "id": "oau3mk2XkKdP"
      },
      "id": "oau3mk2XkKdP",
      "execution_count": null,
      "outputs": []
    },
    {
      "cell_type": "code",
      "source": [
        "model3 = Sequential()\n",
        "model3.add(Dense(256,activation='relu',input_dim = X_train.shape[1]))\n",
        "model3.add(Dropout(0.2))\n",
        "model3.add(Dense(128,activation='relu'))\n",
        "model3.add(Dropout(0.2))\n",
        "model3.add(Dense(64,activation='relu'))\n",
        "model3.add(Dropout(0.2))\n",
        "model3.add(Dense(32,activation='relu'))\n",
        "model3.add(Dense(1, activation = 'sigmoid'))"
      ],
      "metadata": {
        "id": "3nMfQ0jelAx6"
      },
      "id": "3nMfQ0jelAx6",
      "execution_count": null,
      "outputs": []
    },
    {
      "cell_type": "code",
      "source": [
        "model3.summary()"
      ],
      "metadata": {
        "colab": {
          "base_uri": "https://localhost:8080/"
        },
        "id": "7XqXqPyslIBJ",
        "outputId": "78820c50-893e-4dbb-ee57-4a4f1382f056"
      },
      "id": "7XqXqPyslIBJ",
      "execution_count": null,
      "outputs": [
        {
          "output_type": "stream",
          "name": "stdout",
          "text": [
            "Model: \"sequential\"\n",
            "_________________________________________________________________\n",
            " Layer (type)                Output Shape              Param #   \n",
            "=================================================================\n",
            " dense (Dense)               (None, 256)               6144      \n",
            "                                                                 \n",
            " dropout (Dropout)           (None, 256)               0         \n",
            "                                                                 \n",
            " dense_1 (Dense)             (None, 128)               32896     \n",
            "                                                                 \n",
            " dropout_1 (Dropout)         (None, 128)               0         \n",
            "                                                                 \n",
            " dense_2 (Dense)             (None, 64)                8256      \n",
            "                                                                 \n",
            " dropout_2 (Dropout)         (None, 64)                0         \n",
            "                                                                 \n",
            " dense_3 (Dense)             (None, 32)                2080      \n",
            "                                                                 \n",
            " dense_4 (Dense)             (None, 1)                 33        \n",
            "                                                                 \n",
            "=================================================================\n",
            "Total params: 49,409\n",
            "Trainable params: 49,409\n",
            "Non-trainable params: 0\n",
            "_________________________________________________________________\n"
          ]
        }
      ]
    },
    {
      "cell_type": "code",
      "source": [
        "optimizer = tf.keras.optimizers.Adam(0.001)\n",
        "model3.compile(loss='binary_crossentropy',optimizer=optimizer,metrics=['accuracy'])"
      ],
      "metadata": {
        "id": "7HzVy7vQlK5d"
      },
      "id": "7HzVy7vQlK5d",
      "execution_count": null,
      "outputs": []
    },
    {
      "cell_type": "code",
      "source": [
        "history_3 = model3.fit(X_train,y_train,batch_size=64,epochs=50,verbose=1,validation_split = 0.2)"
      ],
      "metadata": {
        "colab": {
          "base_uri": "https://localhost:8080/"
        },
        "id": "ZmOk9z2umT1i",
        "outputId": "89649736-c9fa-41e0-fd08-cc4afaee241e"
      },
      "id": "ZmOk9z2umT1i",
      "execution_count": null,
      "outputs": [
        {
          "output_type": "stream",
          "name": "stdout",
          "text": [
            "Epoch 1/50\n",
            "826/826 [==============================] - 3s 3ms/step - loss: 1.3419 - accuracy: 0.5315 - val_loss: 0.6892 - val_accuracy: 0.5448\n",
            "Epoch 2/50\n",
            "826/826 [==============================] - 2s 3ms/step - loss: 0.6918 - accuracy: 0.5425 - val_loss: 0.6891 - val_accuracy: 0.5448\n",
            "Epoch 3/50\n",
            "826/826 [==============================] - 2s 3ms/step - loss: 0.6905 - accuracy: 0.5425 - val_loss: 0.6892 - val_accuracy: 0.5448\n",
            "Epoch 4/50\n",
            "826/826 [==============================] - 2s 3ms/step - loss: 0.6900 - accuracy: 0.5427 - val_loss: 0.6892 - val_accuracy: 0.5448\n",
            "Epoch 5/50\n",
            "826/826 [==============================] - 2s 3ms/step - loss: 0.6902 - accuracy: 0.5427 - val_loss: 0.6891 - val_accuracy: 0.5448\n",
            "Epoch 6/50\n",
            "826/826 [==============================] - 3s 3ms/step - loss: 0.6900 - accuracy: 0.5430 - val_loss: 0.6891 - val_accuracy: 0.5448\n",
            "Epoch 7/50\n",
            "826/826 [==============================] - 3s 3ms/step - loss: 0.6896 - accuracy: 0.5428 - val_loss: 0.6891 - val_accuracy: 0.5448\n",
            "Epoch 8/50\n",
            "826/826 [==============================] - 3s 3ms/step - loss: 0.6901 - accuracy: 0.5428 - val_loss: 0.6891 - val_accuracy: 0.5448\n",
            "Epoch 9/50\n",
            "826/826 [==============================] - 3s 3ms/step - loss: 0.6903 - accuracy: 0.5429 - val_loss: 0.6891 - val_accuracy: 0.5448\n",
            "Epoch 10/50\n",
            "826/826 [==============================] - 2s 3ms/step - loss: 0.6905 - accuracy: 0.5427 - val_loss: 0.6891 - val_accuracy: 0.5448\n",
            "Epoch 11/50\n",
            "826/826 [==============================] - 2s 3ms/step - loss: 0.6901 - accuracy: 0.5428 - val_loss: 0.6892 - val_accuracy: 0.5448\n",
            "Epoch 12/50\n",
            "826/826 [==============================] - 3s 3ms/step - loss: 0.6900 - accuracy: 0.5427 - val_loss: 0.6891 - val_accuracy: 0.5448\n",
            "Epoch 13/50\n",
            "826/826 [==============================] - 2s 3ms/step - loss: 0.6896 - accuracy: 0.5428 - val_loss: 0.6891 - val_accuracy: 0.5448\n",
            "Epoch 14/50\n",
            "826/826 [==============================] - 2s 3ms/step - loss: 0.6898 - accuracy: 0.5428 - val_loss: 0.6891 - val_accuracy: 0.5448\n",
            "Epoch 15/50\n",
            "826/826 [==============================] - 3s 3ms/step - loss: 0.6896 - accuracy: 0.5428 - val_loss: 0.6891 - val_accuracy: 0.5448\n",
            "Epoch 16/50\n",
            "826/826 [==============================] - 2s 3ms/step - loss: 0.6909 - accuracy: 0.5427 - val_loss: 0.6891 - val_accuracy: 0.5448\n",
            "Epoch 17/50\n",
            "826/826 [==============================] - 2s 3ms/step - loss: 0.6900 - accuracy: 0.5428 - val_loss: 0.6891 - val_accuracy: 0.5448\n",
            "Epoch 18/50\n",
            "826/826 [==============================] - 3s 4ms/step - loss: 0.6897 - accuracy: 0.5429 - val_loss: 0.6892 - val_accuracy: 0.5448\n",
            "Epoch 19/50\n",
            "826/826 [==============================] - 3s 3ms/step - loss: 0.6898 - accuracy: 0.5428 - val_loss: 0.6891 - val_accuracy: 0.5448\n",
            "Epoch 20/50\n",
            "826/826 [==============================] - 3s 3ms/step - loss: 0.6895 - accuracy: 0.5428 - val_loss: 0.6892 - val_accuracy: 0.5448\n",
            "Epoch 21/50\n",
            "826/826 [==============================] - 3s 3ms/step - loss: 0.6896 - accuracy: 0.5428 - val_loss: 0.6891 - val_accuracy: 0.5448\n",
            "Epoch 22/50\n",
            "826/826 [==============================] - 2s 3ms/step - loss: 0.6898 - accuracy: 0.5428 - val_loss: 0.6891 - val_accuracy: 0.5448\n",
            "Epoch 23/50\n",
            "826/826 [==============================] - 2s 3ms/step - loss: 0.6917 - accuracy: 0.5429 - val_loss: 0.6891 - val_accuracy: 0.5448\n",
            "Epoch 24/50\n",
            "826/826 [==============================] - 2s 3ms/step - loss: 0.6903 - accuracy: 0.5428 - val_loss: 0.6891 - val_accuracy: 0.5448\n",
            "Epoch 25/50\n",
            "826/826 [==============================] - 2s 3ms/step - loss: 0.6896 - accuracy: 0.5428 - val_loss: 0.6891 - val_accuracy: 0.5448\n",
            "Epoch 26/50\n",
            "826/826 [==============================] - 2s 3ms/step - loss: 0.6897 - accuracy: 0.5428 - val_loss: 0.6891 - val_accuracy: 0.5448\n",
            "Epoch 27/50\n",
            "826/826 [==============================] - 2s 3ms/step - loss: 0.6895 - accuracy: 0.5428 - val_loss: 0.6892 - val_accuracy: 0.5448\n",
            "Epoch 28/50\n",
            "826/826 [==============================] - 2s 3ms/step - loss: 0.6895 - accuracy: 0.5428 - val_loss: 0.6892 - val_accuracy: 0.5448\n",
            "Epoch 29/50\n",
            "826/826 [==============================] - 2s 3ms/step - loss: 0.6895 - accuracy: 0.5428 - val_loss: 0.6891 - val_accuracy: 0.5448\n",
            "Epoch 30/50\n",
            "826/826 [==============================] - 2s 3ms/step - loss: 0.6901 - accuracy: 0.5428 - val_loss: 0.6891 - val_accuracy: 0.5448\n",
            "Epoch 31/50\n",
            "826/826 [==============================] - 2s 3ms/step - loss: 0.6897 - accuracy: 0.5428 - val_loss: 0.6891 - val_accuracy: 0.5448\n",
            "Epoch 32/50\n",
            "826/826 [==============================] - 2s 3ms/step - loss: 0.6896 - accuracy: 0.5428 - val_loss: 0.6892 - val_accuracy: 0.5448\n",
            "Epoch 33/50\n",
            "826/826 [==============================] - 2s 3ms/step - loss: 0.6896 - accuracy: 0.5428 - val_loss: 0.6891 - val_accuracy: 0.5448\n",
            "Epoch 34/50\n",
            "826/826 [==============================] - 2s 3ms/step - loss: 0.6896 - accuracy: 0.5428 - val_loss: 0.6891 - val_accuracy: 0.5448\n",
            "Epoch 35/50\n",
            "826/826 [==============================] - 2s 3ms/step - loss: 0.6904 - accuracy: 0.5428 - val_loss: 0.6891 - val_accuracy: 0.5448\n",
            "Epoch 36/50\n",
            "826/826 [==============================] - 2s 3ms/step - loss: 0.6896 - accuracy: 0.5428 - val_loss: 0.6891 - val_accuracy: 0.5448\n",
            "Epoch 37/50\n",
            "826/826 [==============================] - 2s 3ms/step - loss: 0.6898 - accuracy: 0.5428 - val_loss: 0.6891 - val_accuracy: 0.5448\n",
            "Epoch 38/50\n",
            "826/826 [==============================] - 2s 3ms/step - loss: 0.6898 - accuracy: 0.5428 - val_loss: 0.6892 - val_accuracy: 0.5448\n",
            "Epoch 39/50\n",
            "826/826 [==============================] - 2s 3ms/step - loss: 0.6895 - accuracy: 0.5428 - val_loss: 0.6891 - val_accuracy: 0.5448\n",
            "Epoch 40/50\n",
            "826/826 [==============================] - 2s 3ms/step - loss: 0.6897 - accuracy: 0.5428 - val_loss: 0.6892 - val_accuracy: 0.5448\n",
            "Epoch 41/50\n",
            "826/826 [==============================] - 2s 3ms/step - loss: 0.6896 - accuracy: 0.5428 - val_loss: 0.6891 - val_accuracy: 0.5448\n",
            "Epoch 42/50\n",
            "826/826 [==============================] - 2s 3ms/step - loss: 0.6895 - accuracy: 0.5428 - val_loss: 0.6891 - val_accuracy: 0.5448\n",
            "Epoch 43/50\n",
            "826/826 [==============================] - 2s 3ms/step - loss: 0.6895 - accuracy: 0.5428 - val_loss: 0.6891 - val_accuracy: 0.5448\n",
            "Epoch 44/50\n",
            "826/826 [==============================] - 2s 3ms/step - loss: 0.6895 - accuracy: 0.5428 - val_loss: 0.6892 - val_accuracy: 0.5448\n",
            "Epoch 45/50\n",
            "826/826 [==============================] - 2s 3ms/step - loss: 0.6895 - accuracy: 0.5428 - val_loss: 0.6891 - val_accuracy: 0.5448\n",
            "Epoch 46/50\n",
            "826/826 [==============================] - 2s 3ms/step - loss: 0.6895 - accuracy: 0.5428 - val_loss: 0.6891 - val_accuracy: 0.5448\n",
            "Epoch 47/50\n",
            "826/826 [==============================] - 2s 3ms/step - loss: 0.6895 - accuracy: 0.5428 - val_loss: 0.6891 - val_accuracy: 0.5448\n",
            "Epoch 48/50\n",
            "826/826 [==============================] - 2s 3ms/step - loss: 0.6897 - accuracy: 0.5428 - val_loss: 0.6891 - val_accuracy: 0.5448\n",
            "Epoch 49/50\n",
            "826/826 [==============================] - 2s 3ms/step - loss: 0.6896 - accuracy: 0.5428 - val_loss: 0.6891 - val_accuracy: 0.5448\n",
            "Epoch 50/50\n",
            "826/826 [==============================] - 2s 3ms/step - loss: 0.6895 - accuracy: 0.5428 - val_loss: 0.6893 - val_accuracy: 0.5448\n"
          ]
        }
      ]
    },
    {
      "cell_type": "code",
      "source": [
        "#Plotting Train Loss vs Validation Loss\n",
        "plt.plot(history_3.history['loss'])\n",
        "plt.plot(history_3.history['val_loss'])\n",
        "plt.title('model loss')\n",
        "plt.ylabel('Loss')\n",
        "plt.xlabel('Epoch')\n",
        "plt.legend(['train', 'validation'], loc='upper left')\n",
        "plt.show()"
      ],
      "metadata": {
        "colab": {
          "base_uri": "https://localhost:8080/",
          "height": 295
        },
        "id": "IRFwLroJmWpg",
        "outputId": "b5700451-1f8a-4eb5-d345-3797df4a5021"
      },
      "id": "IRFwLroJmWpg",
      "execution_count": null,
      "outputs": [
        {
          "output_type": "display_data",
          "data": {
            "text/plain": [
              "<Figure size 432x288 with 1 Axes>"
            ],
            "image/png": "[encoded data removed]"
          },
          "metadata": {
            "needs_background": "light"
          }
        }
      ]
    },
    {
      "cell_type": "markdown",
      "source": [
        "### Model 5\n",
        "\n",
        "#### **Random Search CV**\n",
        "\n",
        "Some important hyperparameters to look out for while optimizing neural networks are:\n",
        "\n",
        "* Type of Architecture\n",
        "\n",
        "* Number of Layers\n",
        "\n",
        "* Number of Neurons in a layer\n",
        "\n",
        "* Regularization hyperparameters\n",
        "\n",
        "* Learning Rate\n",
        "\n",
        "* Type of Optimizer\n",
        "\n",
        "* Dropout Rate"
      ],
      "metadata": {
        "id": "zC6JTBfyoJlB"
      },
      "id": "zC6JTBfyoJlB"
    },
    {
      "cell_type": "code",
      "source": [
        "backend.clear_session()\n",
        "np.random.seed(42)\n",
        "import random\n",
        "random.seed(42)\n",
        "tf.random.set_seed(42)"
      ],
      "metadata": {
        "id": "CpfyeDxcn2O-"
      },
      "id": "CpfyeDxcn2O-",
      "execution_count": null,
      "outputs": []
    },
    {
      "cell_type": "code",
      "source": [
        "def create_model_v4(lr,batch_size):  \n",
        "    np.random.seed(1337)\n",
        "    model = Sequential()\n",
        "    model.add(Dense(256,activation='relu',input_dim = X_train.shape[1]))\n",
        "    model.add(Dropout(0.3))\n",
        "    #model.add(Dense(128,activation='relu',kernel_initializer='he_uniform'))\n",
        "    model.add(Dense(128,activation='relu'))\n",
        "    model.add(Dropout(0.3))\n",
        "    model.add(Dense(64,activation='relu'))\n",
        "    model.add(Dropout(0.2))\n",
        "    #model.add(Dense(32,activation='relu',kernel_initializer='he_uniform'))\n",
        "    #model.add(Dropout(0.3))\n",
        "    model.add(Dense(32,activation='relu')) \n",
        "    model.add(Dense(1, activation='sigmoid'))\n",
        "\n",
        "    #compile model\n",
        "    optimizer = tf.keras.optimizers.Adam(learning_rate=lr)\n",
        "    model.compile(optimizer = optimizer,loss = 'binary_crossentropy', metrics = ['accuracy'])\n",
        "    return model"
      ],
      "metadata": {
        "id": "-tFi3g5foNdB"
      },
      "id": "-tFi3g5foNdB",
      "execution_count": null,
      "outputs": []
    },
    {
      "cell_type": "markdown",
      "source": [
        "We are using Random search to optimize two hyperparameters - **Batch size** & **Learning Rate**.\n",
        "\n",
        "You can also optimize other hyperparameters as mentioned above."
      ],
      "metadata": {
        "id": "B5K1nGjjoTkQ"
      },
      "id": "B5K1nGjjoTkQ"
    },
    {
      "cell_type": "code",
      "source": [
        "keras_estimator = KerasClassifier(build_fn=create_model_v4, verbose=1)\n",
        "# define the grid search parameters\n",
        "param_random = {\n",
        "    'batch_size':[32, 64, 128],\n",
        "    \"lr\":[0.01,0.1,0.001],}\n",
        "\n",
        "kfold_splits = 3\n",
        "random= RandomizedSearchCV(estimator=keras_estimator,  \n",
        "                    verbose=1,\n",
        "                    cv=kfold_splits,  \n",
        "                    param_distributions=param_random,n_jobs=-1)"
      ],
      "metadata": {
        "id": "jCBYQlV5oQ3Y"
      },
      "id": "jCBYQlV5oQ3Y",
      "execution_count": null,
      "outputs": []
    },
    {
      "cell_type": "code",
      "source": [
        "random_result = random.fit(X_train, y_train,validation_split=0.2,verbose=1) \n",
        "\n",
        "# Summarize results\n",
        "print(\"Best: %f using %s\" % (random_result.best_score_, random_result.best_params_))\n",
        "means = random_result.cv_results_['mean_test_score']\n",
        "stds = random_result.cv_results_['std_test_score']\n",
        "params = random_result.cv_results_['params']"
      ],
      "metadata": {
        "colab": {
          "base_uri": "https://localhost:8080/"
        },
        "id": "V8CeiUexoXNs",
        "outputId": "8f4238c1-6d86-4c04-8fe8-13c51bd3441a"
      },
      "id": "V8CeiUexoXNs",
      "execution_count": null,
      "outputs": [
        {
          "output_type": "stream",
          "name": "stdout",
          "text": [
            "Fitting 3 folds for each of 9 candidates, totalling 27 fits\n",
            "1652/1652 [==============================] - 5s 2ms/step - loss: 12.6216 - accuracy: 0.5353 - val_loss: 0.6912 - val_accuracy: 0.5448\n",
            "Best: 0.543223 using {'lr': 0.1, 'batch_size': 32}\n"
          ]
        }
      ]
    },
    {
      "cell_type": "markdown",
      "source": [
        "The best model is with the following configuration: \n",
        "\n",
        "( It may vary each time the code runs ) \n",
        "\n",
        "**Result of Random Search**\n",
        "\n",
        "{'batch_size': 32, 'learning_rate\": 0.01}\n",
        "\n",
        "Let's create the final model with the above mentioned configuration"
      ],
      "metadata": {
        "id": "J7E9OSaQodxq"
      },
      "id": "J7E9OSaQodxq"
    },
    {
      "cell_type": "code",
      "source": [
        "estimator_v4=create_model_v4(batch_size=random_result.best_params_['batch_size'],lr=random_result.best_params_['lr'])\n",
        "\n",
        "estimator_v4.summary()"
      ],
      "metadata": {
        "colab": {
          "base_uri": "https://localhost:8080/"
        },
        "id": "NBcWyepYoZSe",
        "outputId": "c2314fa5-ca48-41fe-f788-200ad150b8d4"
      },
      "id": "NBcWyepYoZSe",
      "execution_count": null,
      "outputs": [
        {
          "output_type": "stream",
          "name": "stdout",
          "text": [
            "Model: \"sequential_1\"\n",
            "_________________________________________________________________\n",
            " Layer (type)                Output Shape              Param #   \n",
            "=================================================================\n",
            " dense_5 (Dense)             (None, 256)               6144      \n",
            "                                                                 \n",
            " dropout_3 (Dropout)         (None, 256)               0         \n",
            "                                                                 \n",
            " dense_6 (Dense)             (None, 128)               32896     \n",
            "                                                                 \n",
            " dropout_4 (Dropout)         (None, 128)               0         \n",
            "                                                                 \n",
            " dense_7 (Dense)             (None, 64)                8256      \n",
            "                                                                 \n",
            " dropout_5 (Dropout)         (None, 64)                0         \n",
            "                                                                 \n",
            " dense_8 (Dense)             (None, 32)                2080      \n",
            "                                                                 \n",
            " dense_9 (Dense)             (None, 1)                 33        \n",
            "                                                                 \n",
            "=================================================================\n",
            "Total params: 49,409\n",
            "Trainable params: 49,409\n",
            "Non-trainable params: 0\n",
            "_________________________________________________________________\n"
          ]
        }
      ]
    },
    {
      "cell_type": "code",
      "source": [
        "optimizer = tf.keras.optimizers.Adam(random_result.best_params_['lr'])\n",
        "estimator_v4.compile(loss='binary_crossentropy',optimizer=optimizer,metrics=['accuracy'])\n",
        "history_4=estimator_v4.fit(X_train, y_train, epochs=50, batch_size = 64, verbose=1,validation_split=0.2)"
      ],
      "metadata": {
        "colab": {
          "base_uri": "https://localhost:8080/"
        },
        "id": "m-gLGjoKolHE",
        "outputId": "cc909736-e26a-42d4-8348-621cbbffa7f9"
      },
      "id": "m-gLGjoKolHE",
      "execution_count": null,
      "outputs": [
        {
          "output_type": "stream",
          "name": "stdout",
          "text": [
            "Epoch 1/50\n",
            "826/826 [==============================] - 3s 3ms/step - loss: 58.0966 - accuracy: 0.5383 - val_loss: 0.6892 - val_accuracy: 0.5448\n",
            "Epoch 2/50\n",
            "826/826 [==============================] - 2s 3ms/step - loss: 0.7230 - accuracy: 0.5379 - val_loss: 0.6904 - val_accuracy: 0.5448\n",
            "Epoch 3/50\n",
            "826/826 [==============================] - 2s 3ms/step - loss: 0.6906 - accuracy: 0.5407 - val_loss: 0.6893 - val_accuracy: 0.5448\n",
            "Epoch 4/50\n",
            "826/826 [==============================] - 2s 3ms/step - loss: 0.6911 - accuracy: 0.5369 - val_loss: 0.6901 - val_accuracy: 0.5448\n",
            "Epoch 5/50\n",
            "826/826 [==============================] - 2s 3ms/step - loss: 0.6907 - accuracy: 0.5400 - val_loss: 0.6891 - val_accuracy: 0.5448\n",
            "Epoch 6/50\n",
            "826/826 [==============================] - 2s 3ms/step - loss: 0.6910 - accuracy: 0.5375 - val_loss: 0.6936 - val_accuracy: 0.5448\n",
            "Epoch 7/50\n",
            "826/826 [==============================] - 2s 3ms/step - loss: 0.6910 - accuracy: 0.5376 - val_loss: 0.6901 - val_accuracy: 0.5448\n",
            "Epoch 8/50\n",
            "826/826 [==============================] - 2s 3ms/step - loss: 0.6908 - accuracy: 0.5373 - val_loss: 0.6904 - val_accuracy: 0.5448\n",
            "Epoch 9/50\n",
            "826/826 [==============================] - 2s 3ms/step - loss: 0.6918 - accuracy: 0.5320 - val_loss: 0.6892 - val_accuracy: 0.5448\n",
            "Epoch 10/50\n",
            "826/826 [==============================] - 2s 3ms/step - loss: 0.6908 - accuracy: 0.5386 - val_loss: 0.6943 - val_accuracy: 0.5448\n",
            "Epoch 11/50\n",
            "826/826 [==============================] - 2s 3ms/step - loss: 0.6908 - accuracy: 0.5387 - val_loss: 0.6891 - val_accuracy: 0.5448\n",
            "Epoch 12/50\n",
            "826/826 [==============================] - 2s 3ms/step - loss: 0.6910 - accuracy: 0.5389 - val_loss: 0.6918 - val_accuracy: 0.5448\n",
            "Epoch 13/50\n",
            "826/826 [==============================] - 2s 3ms/step - loss: 0.6906 - accuracy: 0.5402 - val_loss: 0.6892 - val_accuracy: 0.5448\n",
            "Epoch 14/50\n",
            "826/826 [==============================] - 2s 3ms/step - loss: 0.6911 - accuracy: 0.5350 - val_loss: 0.6923 - val_accuracy: 0.5448\n",
            "Epoch 15/50\n",
            "826/826 [==============================] - 2s 3ms/step - loss: 0.6909 - accuracy: 0.5391 - val_loss: 0.6893 - val_accuracy: 0.5448\n",
            "Epoch 16/50\n",
            "826/826 [==============================] - 2s 3ms/step - loss: 0.6910 - accuracy: 0.5375 - val_loss: 0.6892 - val_accuracy: 0.5448\n",
            "Epoch 17/50\n",
            "826/826 [==============================] - 2s 3ms/step - loss: 0.6907 - accuracy: 0.5405 - val_loss: 0.6893 - val_accuracy: 0.5448\n",
            "Epoch 18/50\n",
            "826/826 [==============================] - 2s 3ms/step - loss: 0.6909 - accuracy: 0.5383 - val_loss: 0.6893 - val_accuracy: 0.5448\n",
            "Epoch 19/50\n",
            "826/826 [==============================] - 2s 3ms/step - loss: 0.6912 - accuracy: 0.5403 - val_loss: 0.6894 - val_accuracy: 0.5448\n",
            "Epoch 20/50\n",
            "826/826 [==============================] - 2s 3ms/step - loss: 0.6910 - accuracy: 0.5366 - val_loss: 0.6899 - val_accuracy: 0.5448\n",
            "Epoch 21/50\n",
            "826/826 [==============================] - 2s 3ms/step - loss: 0.6911 - accuracy: 0.5367 - val_loss: 0.6892 - val_accuracy: 0.5448\n",
            "Epoch 22/50\n",
            "826/826 [==============================] - 2s 3ms/step - loss: 0.6907 - accuracy: 0.5394 - val_loss: 0.6892 - val_accuracy: 0.5448\n",
            "Epoch 23/50\n",
            "826/826 [==============================] - 2s 3ms/step - loss: 0.6906 - accuracy: 0.5383 - val_loss: 0.6901 - val_accuracy: 0.5448\n",
            "Epoch 24/50\n",
            "826/826 [==============================] - 2s 3ms/step - loss: 0.6911 - accuracy: 0.5386 - val_loss: 0.6919 - val_accuracy: 0.5448\n",
            "Epoch 25/50\n",
            "826/826 [==============================] - 2s 3ms/step - loss: 0.6910 - accuracy: 0.5376 - val_loss: 0.6896 - val_accuracy: 0.5448\n",
            "Epoch 26/50\n",
            "826/826 [==============================] - 2s 3ms/step - loss: 0.6910 - accuracy: 0.5379 - val_loss: 0.6928 - val_accuracy: 0.5448\n",
            "Epoch 27/50\n",
            "826/826 [==============================] - 2s 3ms/step - loss: 0.6912 - accuracy: 0.5361 - val_loss: 0.6904 - val_accuracy: 0.5448\n",
            "Epoch 28/50\n",
            "826/826 [==============================] - 2s 3ms/step - loss: 0.6914 - accuracy: 0.5382 - val_loss: 0.6904 - val_accuracy: 0.5448\n",
            "Epoch 29/50\n",
            "826/826 [==============================] - 2s 3ms/step - loss: 0.6906 - accuracy: 0.5397 - val_loss: 0.6941 - val_accuracy: 0.4552\n",
            "Epoch 30/50\n",
            "826/826 [==============================] - 2s 3ms/step - loss: 0.6909 - accuracy: 0.5341 - val_loss: 0.6974 - val_accuracy: 0.5448\n",
            "Epoch 31/50\n",
            "826/826 [==============================] - 2s 3ms/step - loss: 0.6908 - accuracy: 0.5394 - val_loss: 0.6916 - val_accuracy: 0.5448\n",
            "Epoch 32/50\n",
            "826/826 [==============================] - 2s 3ms/step - loss: 0.6909 - accuracy: 0.5381 - val_loss: 0.6895 - val_accuracy: 0.5448\n",
            "Epoch 33/50\n",
            "826/826 [==============================] - 2s 3ms/step - loss: 0.6908 - accuracy: 0.5402 - val_loss: 0.6907 - val_accuracy: 0.5448\n",
            "Epoch 34/50\n",
            "826/826 [==============================] - 2s 3ms/step - loss: 0.6906 - accuracy: 0.5378 - val_loss: 0.6894 - val_accuracy: 0.5448\n",
            "Epoch 35/50\n",
            "826/826 [==============================] - 2s 3ms/step - loss: 0.6911 - accuracy: 0.5378 - val_loss: 0.7002 - val_accuracy: 0.4552\n",
            "Epoch 36/50\n",
            "826/826 [==============================] - 2s 3ms/step - loss: 0.6916 - accuracy: 0.5356 - val_loss: 0.6917 - val_accuracy: 0.5448\n",
            "Epoch 37/50\n",
            "826/826 [==============================] - 2s 3ms/step - loss: 0.6910 - accuracy: 0.5380 - val_loss: 0.6891 - val_accuracy: 0.5448\n",
            "Epoch 38/50\n",
            "826/826 [==============================] - 2s 3ms/step - loss: 0.6908 - accuracy: 0.5381 - val_loss: 0.6926 - val_accuracy: 0.5448\n",
            "Epoch 39/50\n",
            "826/826 [==============================] - 2s 3ms/step - loss: 0.6908 - accuracy: 0.5389 - val_loss: 0.6891 - val_accuracy: 0.5448\n",
            "Epoch 40/50\n",
            "826/826 [==============================] - 2s 3ms/step - loss: 0.6908 - accuracy: 0.5364 - val_loss: 0.6921 - val_accuracy: 0.5448\n",
            "Epoch 41/50\n",
            "826/826 [==============================] - 2s 3ms/step - loss: 0.6913 - accuracy: 0.5383 - val_loss: 0.6891 - val_accuracy: 0.5448\n",
            "Epoch 42/50\n",
            "826/826 [==============================] - 2s 3ms/step - loss: 0.6916 - accuracy: 0.5363 - val_loss: 0.6918 - val_accuracy: 0.5448\n",
            "Epoch 43/50\n",
            "826/826 [==============================] - 2s 3ms/step - loss: 0.6906 - accuracy: 0.5378 - val_loss: 0.6892 - val_accuracy: 0.5448\n",
            "Epoch 44/50\n",
            "826/826 [==============================] - 2s 3ms/step - loss: 0.6905 - accuracy: 0.5401 - val_loss: 0.6893 - val_accuracy: 0.5448\n",
            "Epoch 45/50\n",
            "826/826 [==============================] - 2s 3ms/step - loss: 0.6906 - accuracy: 0.5374 - val_loss: 0.6892 - val_accuracy: 0.5448\n",
            "Epoch 46/50\n",
            "826/826 [==============================] - 2s 3ms/step - loss: 0.6909 - accuracy: 0.5366 - val_loss: 0.6891 - val_accuracy: 0.5448\n",
            "Epoch 47/50\n",
            "826/826 [==============================] - 2s 3ms/step - loss: 0.6909 - accuracy: 0.5353 - val_loss: 0.6915 - val_accuracy: 0.5448\n",
            "Epoch 48/50\n",
            "826/826 [==============================] - 2s 3ms/step - loss: 0.6906 - accuracy: 0.5411 - val_loss: 0.6917 - val_accuracy: 0.5448\n",
            "Epoch 49/50\n",
            "826/826 [==============================] - 2s 3ms/step - loss: 0.6907 - accuracy: 0.5367 - val_loss: 0.6896 - val_accuracy: 0.5448\n",
            "Epoch 50/50\n",
            "826/826 [==============================] - 2s 3ms/step - loss: 0.6910 - accuracy: 0.5375 - val_loss: 0.6894 - val_accuracy: 0.5448\n"
          ]
        }
      ]
    },
    {
      "cell_type": "code",
      "source": [
        "#Plotting Train Loss vs Validation Loss\n",
        "plt.plot(history_4.history['loss'])\n",
        "plt.plot(history_4.history['val_loss'])\n",
        "plt.title('model loss')\n",
        "plt.ylabel('Loss')\n",
        "plt.xlabel('Epoch')\n",
        "plt.legend(['train', 'validation'], loc='upper left')\n",
        "plt.show()"
      ],
      "metadata": {
        "colab": {
          "base_uri": "https://localhost:8080/",
          "height": 295
        },
        "id": "mh5bjIL5orJa",
        "outputId": "ca72406c-2c13-44d7-db4c-812c3eeec629"
      },
      "id": "mh5bjIL5orJa",
      "execution_count": null,
      "outputs": [
        {
          "output_type": "display_data",
          "data": {
            "text/plain": [
              "<Figure size 432x288 with 1 Axes>"
            ],
            "image/png": "[encoded data removed]"
          },
          "metadata": {
            "needs_background": "light"
          }
        }
      ]
    },
    {
      "cell_type": "markdown",
      "source": [
        "From the above plot, we observe that there is noise in the training behavior of the model."
      ],
      "metadata": {
        "id": "Lia2Kcxrowc8"
      },
      "id": "Lia2Kcxrowc8"
    },
    {
      "cell_type": "code",
      "source": [
        "from sklearn.metrics import roc_curve\n",
        "\n",
        "from matplotlib import pyplot\n",
        "\n",
        "\n",
        "# predict probabilities\n",
        "yhat4 = estimator_v4.predict(X_test)\n",
        "# keep probabilities for the positive outcome only\n",
        "yhat4 = yhat4[:, 0]\n",
        "# calculate roc curves\n",
        "fpr, tpr, thresholds4 = roc_curve(y_test, yhat4)\n",
        "# calculate the g-mean for each threshold\n",
        "gmeans4 = np.sqrt(tpr * (1-fpr))\n",
        "# locate the index of the largest g-mean\n",
        "ix = np.argmax(gmeans4)\n",
        "print('Best Threshold=%f, G-Mean=%.3f' % (thresholds4[ix], gmeans4[ix]))\n",
        "# plot the roc curve for the model\n",
        "pyplot.plot([0,1], [0,1], linestyle='--', label='No Skill')\n",
        "pyplot.plot(fpr, tpr, marker='.')\n",
        "pyplot.scatter(fpr[ix], tpr[ix], marker='o', color='black', label='Best')\n",
        "# axis labels\n",
        "pyplot.xlabel('False Positive Rate')\n",
        "pyplot.ylabel('True Positive Rate')\n",
        "pyplot.legend()\n",
        "# show the plot\n",
        "pyplot.show()"
      ],
      "metadata": {
        "colab": {
          "base_uri": "https://localhost:8080/",
          "height": 314
        },
        "id": "zFxefKlgoxBA",
        "outputId": "49dbc341-ab18-4a48-b4ca-4329ebfed9b6"
      },
      "id": "zFxefKlgoxBA",
      "execution_count": null,
      "outputs": [
        {
          "output_type": "stream",
          "name": "stdout",
          "text": [
            "885/885 [==============================] - 1s 939us/step\n",
            "Best Threshold=1.556131, G-Mean=0.000\n"
          ]
        },
        {
          "output_type": "display_data",
          "data": {
            "text/plain": [
              "<Figure size 432x288 with 1 Axes>"
            ],
            "image/png": "[encoded data removed]"
          },
          "metadata": {
            "needs_background": "light"
          }
        }
      ]
    },
    {
      "cell_type": "markdown",
      "source": [
        "### Keras Tuner"
      ],
      "metadata": {
        "id": "WobkTtGBssnh"
      },
      "id": "WobkTtGBssnh"
    },
    {
      "cell_type": "code",
      "source": [
        "## Install Keras Tuner\n",
        "!pip install keras-tuner "
      ],
      "metadata": {
        "colab": {
          "base_uri": "https://localhost:8080/"
        },
        "id": "Et-QR6Pjs2Zm",
        "outputId": "bcc347c8-b4da-481f-f530-4eacd76cdc5f"
      },
      "id": "Et-QR6Pjs2Zm",
      "execution_count": null,
      "outputs": [
        {
          "output_type": "stream",
          "name": "stdout",
          "text": [
            "Looking in indexes: https://pypi.org/simple, https://us-python.pkg.dev/colab-wheels/public/simple/\n",
            "Requirement already satisfied: keras-tuner in /usr/local/lib/python3.7/dist-packages (1.1.3)\n",
            "Requirement already satisfied: requests in /usr/local/lib/python3.7/dist-packages (from keras-tuner) (2.23.0)\n",
            "Requirement already satisfied: kt-legacy in /usr/local/lib/python3.7/dist-packages (from keras-tuner) (1.0.4)\n",
            "Requirement already satisfied: packaging in /usr/local/lib/python3.7/dist-packages (from keras-tuner) (21.3)\n",
            "Requirement already satisfied: ipython in /usr/local/lib/python3.7/dist-packages (from keras-tuner) (7.9.0)\n",
            "Requirement already satisfied: tensorboard in /usr/local/lib/python3.7/dist-packages (from keras-tuner) (2.9.1)\n",
            "Requirement already satisfied: numpy in /usr/local/lib/python3.7/dist-packages (from keras-tuner) (1.21.6)\n",
            "Requirement already satisfied: traitlets>=4.2 in /usr/local/lib/python3.7/dist-packages (from ipython->keras-tuner) (5.1.1)\n",
            "Requirement already satisfied: prompt-toolkit<2.1.0,>=2.0.0 in /usr/local/lib/python3.7/dist-packages (from ipython->keras-tuner) (2.0.10)\n",
            "Requirement already satisfied: jedi>=0.10 in /usr/local/lib/python3.7/dist-packages (from ipython->keras-tuner) (0.18.1)\n",
            "Requirement already satisfied: pygments in /usr/local/lib/python3.7/dist-packages (from ipython->keras-tuner) (2.6.1)\n",
            "Requirement already satisfied: pickleshare in /usr/local/lib/python3.7/dist-packages (from ipython->keras-tuner) (0.7.5)\n",
            "Requirement already satisfied: decorator in /usr/local/lib/python3.7/dist-packages (from ipython->keras-tuner) (4.4.2)\n",
            "Requirement already satisfied: backcall in /usr/local/lib/python3.7/dist-packages (from ipython->keras-tuner) (0.2.0)\n",
            "Requirement already satisfied: setuptools>=18.5 in /usr/local/lib/python3.7/dist-packages (from ipython->keras-tuner) (57.4.0)\n",
            "Requirement already satisfied: pexpect in /usr/local/lib/python3.7/dist-packages (from ipython->keras-tuner) (4.8.0)\n",
            "Requirement already satisfied: parso<0.9.0,>=0.8.0 in /usr/local/lib/python3.7/dist-packages (from jedi>=0.10->ipython->keras-tuner) (0.8.3)\n",
            "Requirement already satisfied: six>=1.9.0 in /usr/local/lib/python3.7/dist-packages (from prompt-toolkit<2.1.0,>=2.0.0->ipython->keras-tuner) (1.15.0)\n",
            "Requirement already satisfied: wcwidth in /usr/local/lib/python3.7/dist-packages (from prompt-toolkit<2.1.0,>=2.0.0->ipython->keras-tuner) (0.2.5)\n",
            "Requirement already satisfied: pyparsing!=3.0.5,>=2.0.2 in /usr/local/lib/python3.7/dist-packages (from packaging->keras-tuner) (3.0.9)\n",
            "Requirement already satisfied: ptyprocess>=0.5 in /usr/local/lib/python3.7/dist-packages (from pexpect->ipython->keras-tuner) (0.7.0)\n",
            "Requirement already satisfied: certifi>=2017.4.17 in /usr/local/lib/python3.7/dist-packages (from requests->keras-tuner) (2022.9.24)\n",
            "Requirement already satisfied: urllib3!=1.25.0,!=1.25.1,<1.26,>=1.21.1 in /usr/local/lib/python3.7/dist-packages (from requests->keras-tuner) (1.24.3)\n",
            "Requirement already satisfied: chardet<4,>=3.0.2 in /usr/local/lib/python3.7/dist-packages (from requests->keras-tuner) (3.0.4)\n",
            "Requirement already satisfied: idna<3,>=2.5 in /usr/local/lib/python3.7/dist-packages (from requests->keras-tuner) (2.10)\n",
            "Requirement already satisfied: protobuf<3.20,>=3.9.2 in /usr/local/lib/python3.7/dist-packages (from tensorboard->keras-tuner) (3.17.3)\n",
            "Requirement already satisfied: google-auth<3,>=1.6.3 in /usr/local/lib/python3.7/dist-packages (from tensorboard->keras-tuner) (1.35.0)\n",
            "Requirement already satisfied: grpcio>=1.24.3 in /usr/local/lib/python3.7/dist-packages (from tensorboard->keras-tuner) (1.49.1)\n",
            "Requirement already satisfied: tensorboard-plugin-wit>=1.6.0 in /usr/local/lib/python3.7/dist-packages (from tensorboard->keras-tuner) (1.8.1)\n",
            "Requirement already satisfied: google-auth-oauthlib<0.5,>=0.4.1 in /usr/local/lib/python3.7/dist-packages (from tensorboard->keras-tuner) (0.4.6)\n",
            "Requirement already satisfied: tensorboard-data-server<0.7.0,>=0.6.0 in /usr/local/lib/python3.7/dist-packages (from tensorboard->keras-tuner) (0.6.1)\n",
            "Requirement already satisfied: wheel>=0.26 in /usr/local/lib/python3.7/dist-packages (from tensorboard->keras-tuner) (0.37.1)\n",
            "Requirement already satisfied: werkzeug>=1.0.1 in /usr/local/lib/python3.7/dist-packages (from tensorboard->keras-tuner) (1.0.1)\n",
            "Requirement already satisfied: markdown>=2.6.8 in /usr/local/lib/python3.7/dist-packages (from tensorboard->keras-tuner) (3.4.1)\n",
            "Requirement already satisfied: absl-py>=0.4 in /usr/local/lib/python3.7/dist-packages (from tensorboard->keras-tuner) (1.3.0)\n",
            "Requirement already satisfied: rsa<5,>=3.1.4 in /usr/local/lib/python3.7/dist-packages (from google-auth<3,>=1.6.3->tensorboard->keras-tuner) (4.9)\n",
            "Requirement already satisfied: cachetools<5.0,>=2.0.0 in /usr/local/lib/python3.7/dist-packages (from google-auth<3,>=1.6.3->tensorboard->keras-tuner) (4.2.4)\n",
            "Requirement already satisfied: pyasn1-modules>=0.2.1 in /usr/local/lib/python3.7/dist-packages (from google-auth<3,>=1.6.3->tensorboard->keras-tuner) (0.2.8)\n",
            "Requirement already satisfied: requests-oauthlib>=0.7.0 in /usr/local/lib/python3.7/dist-packages (from google-auth-oauthlib<0.5,>=0.4.1->tensorboard->keras-tuner) (1.3.1)\n",
            "Requirement already satisfied: importlib-metadata>=4.4 in /usr/local/lib/python3.7/dist-packages (from markdown>=2.6.8->tensorboard->keras-tuner) (4.13.0)\n",
            "Requirement already satisfied: zipp>=0.5 in /usr/local/lib/python3.7/dist-packages (from importlib-metadata>=4.4->markdown>=2.6.8->tensorboard->keras-tuner) (3.9.0)\n",
            "Requirement already satisfied: typing-extensions>=3.6.4 in /usr/local/lib/python3.7/dist-packages (from importlib-metadata>=4.4->markdown>=2.6.8->tensorboard->keras-tuner) (4.1.1)\n",
            "Requirement already satisfied: pyasn1<0.5.0,>=0.4.6 in /usr/local/lib/python3.7/dist-packages (from pyasn1-modules>=0.2.1->google-auth<3,>=1.6.3->tensorboard->keras-tuner) (0.4.8)\n",
            "Requirement already satisfied: oauthlib>=3.0.0 in /usr/local/lib/python3.7/dist-packages (from requests-oauthlib>=0.7.0->google-auth-oauthlib<0.5,>=0.4.1->tensorboard->keras-tuner) (3.2.1)\n"
          ]
        }
      ]
    },
    {
      "cell_type": "code",
      "source": [
        "from tensorflow import keras\n",
        "from tensorflow.keras import layers\n",
        "from kerastuner.tuners import RandomSearch"
      ],
      "metadata": {
        "id": "SMAqsftBpAji"
      },
      "id": "SMAqsftBpAji",
      "execution_count": null,
      "outputs": []
    },
    {
      "cell_type": "code",
      "source": [
        "backend.clear_session()\n",
        "np.random.seed(42)\n",
        "import random\n",
        "random.seed(42)\n",
        "tf.random.set_seed(42)"
      ],
      "metadata": {
        "id": "OesqNcsAsvVi"
      },
      "id": "OesqNcsAsvVi",
      "execution_count": null,
      "outputs": []
    },
    {
      "cell_type": "markdown",
      "source": [
        "**Hyperparameters**\n",
        "* How many hidden layers should the model have?\n",
        "* How many neurons should the model have in each hidden layer?\n",
        "* Learning Rate"
      ],
      "metadata": {
        "id": "AvsEZB0mtBCL"
      },
      "id": "AvsEZB0mtBCL"
    },
    {
      "cell_type": "code",
      "source": [
        "def build_model(h):\n",
        "    model = keras.Sequential()\n",
        "    for i in range(h.Int('num_layers', 2, 10)):\n",
        "        model.add(layers.Dense(units=h.Int('units_' + str(i),\n",
        "                                            min_value=32,\n",
        "                                            max_value=256,\n",
        "                                            step=32),\n",
        "                               activation='relu'))\n",
        "    model.add(layers.Dense(1, activation='sigmoid'))\n",
        "    model.compile(\n",
        "        optimizer=keras.optimizers.Adam(\n",
        "            h.Choice('learning_rate', [1e-2, 1e-3, 1e-4])),\n",
        "        loss='binary_crossentropy',\n",
        "        metrics=['accuracy'])\n",
        "    return model"
      ],
      "metadata": {
        "id": "8vY5nD_Ls-PP"
      },
      "id": "8vY5nD_Ls-PP",
      "execution_count": null,
      "outputs": []
    },
    {
      "cell_type": "markdown",
      "source": [
        "Initialize a tuner (here, RandomSearch). We use objective to specify the objective to select the best models, and we use max_trials to specify the number of different models to try.\n"
      ],
      "metadata": {
        "id": "HpX93V4qtJvv"
      },
      "id": "HpX93V4qtJvv"
    },
    {
      "cell_type": "code",
      "source": [
        "tuner = RandomSearch(\n",
        "    build_model,\n",
        "    objective='val_accuracy',\n",
        "    max_trials=5,\n",
        "    executions_per_trial=3,\n",
        "     project_name='Job_')"
      ],
      "metadata": {
        "id": "nqVsBb0ItFsq"
      },
      "id": "nqVsBb0ItFsq",
      "execution_count": null,
      "outputs": []
    },
    {
      "cell_type": "code",
      "source": [
        "tuner.search_space_summary()"
      ],
      "metadata": {
        "colab": {
          "base_uri": "https://localhost:8080/"
        },
        "id": "p1RfISKFtMzU",
        "outputId": "67fbe6b5-4f79-4f35-ad11-f7079b1cdcaa"
      },
      "id": "p1RfISKFtMzU",
      "execution_count": null,
      "outputs": [
        {
          "output_type": "stream",
          "name": "stdout",
          "text": [
            "Search space summary\n",
            "Default search space size: 11\n",
            "num_layers (Int)\n",
            "{'default': None, 'conditions': [], 'min_value': 2, 'max_value': 10, 'step': 1, 'sampling': None}\n",
            "units_0 (Int)\n",
            "{'default': None, 'conditions': [], 'min_value': 32, 'max_value': 256, 'step': 32, 'sampling': None}\n",
            "units_1 (Int)\n",
            "{'default': None, 'conditions': [], 'min_value': 32, 'max_value': 256, 'step': 32, 'sampling': None}\n",
            "learning_rate (Choice)\n",
            "{'default': 0.01, 'conditions': [], 'values': [0.01, 0.001, 0.0001], 'ordered': True}\n",
            "units_2 (Int)\n",
            "{'default': None, 'conditions': [], 'min_value': 32, 'max_value': 256, 'step': 32, 'sampling': None}\n",
            "units_3 (Int)\n",
            "{'default': None, 'conditions': [], 'min_value': 32, 'max_value': 256, 'step': 32, 'sampling': None}\n",
            "units_4 (Int)\n",
            "{'default': None, 'conditions': [], 'min_value': 32, 'max_value': 256, 'step': 32, 'sampling': None}\n",
            "units_5 (Int)\n",
            "{'default': None, 'conditions': [], 'min_value': 32, 'max_value': 256, 'step': 32, 'sampling': None}\n",
            "units_6 (Int)\n",
            "{'default': None, 'conditions': [], 'min_value': 32, 'max_value': 256, 'step': 32, 'sampling': None}\n",
            "units_7 (Int)\n",
            "{'default': None, 'conditions': [], 'min_value': 32, 'max_value': 256, 'step': 32, 'sampling': None}\n",
            "units_8 (Int)\n",
            "{'default': None, 'conditions': [], 'min_value': 32, 'max_value': 256, 'step': 32, 'sampling': None}\n"
          ]
        }
      ]
    },
    {
      "cell_type": "code",
      "source": [
        "### Searching the best model on X and y train\n",
        "tuner.search(X_train, y_train,\n",
        "             epochs=5,\n",
        "             validation_split = 0.2)"
      ],
      "metadata": {
        "id": "IfGFvaHNtQN2"
      },
      "id": "IfGFvaHNtQN2",
      "execution_count": null,
      "outputs": []
    },
    {
      "cell_type": "code",
      "source": [
        "## Printing the best models with their hyperparameters\n",
        "tuner.results_summary()"
      ],
      "metadata": {
        "colab": {
          "base_uri": "https://localhost:8080/"
        },
        "id": "Jga47OL0tVBL",
        "outputId": "a8335530-0eb4-4ca0-c409-0cbde4f04e05"
      },
      "id": "Jga47OL0tVBL",
      "execution_count": null,
      "outputs": [
        {
          "output_type": "stream",
          "name": "stdout",
          "text": [
            "Results summary\n",
            "Results in ./Job_\n",
            "Showing 10 best trials\n",
            "<keras_tuner.engine.objective.Objective object at 0x7f6d8e8b6750>\n",
            "Trial summary\n",
            "Hyperparameters:\n",
            "num_layers: 5\n",
            "units_0: 160\n",
            "units_1: 160\n",
            "learning_rate: 0.001\n",
            "units_2: 224\n",
            "units_3: 128\n",
            "units_4: 224\n",
            "units_5: 64\n",
            "units_6: 160\n",
            "units_7: 64\n",
            "units_8: 32\n",
            "Score: 0.7158101995786031\n",
            "Trial summary\n",
            "Hyperparameters:\n",
            "num_layers: 9\n",
            "units_0: 128\n",
            "units_1: 32\n",
            "learning_rate: 0.0001\n",
            "units_2: 160\n",
            "units_3: 160\n",
            "units_4: 160\n",
            "units_5: 192\n",
            "units_6: 96\n",
            "units_7: 128\n",
            "units_8: 96\n",
            "Score: 0.7073588967323303\n",
            "Trial summary\n",
            "Hyperparameters:\n",
            "num_layers: 9\n",
            "units_0: 192\n",
            "units_1: 96\n",
            "learning_rate: 0.0001\n",
            "units_2: 32\n",
            "units_3: 32\n",
            "units_4: 32\n",
            "units_5: 32\n",
            "units_6: 32\n",
            "units_7: 32\n",
            "units_8: 32\n",
            "Score: 0.6891949971516927\n",
            "Trial summary\n",
            "Hyperparameters:\n",
            "num_layers: 5\n",
            "units_0: 64\n",
            "units_1: 96\n",
            "learning_rate: 0.001\n",
            "units_2: 96\n",
            "units_3: 224\n",
            "units_4: 256\n",
            "units_5: 160\n",
            "units_6: 192\n",
            "units_7: 224\n",
            "units_8: 224\n",
            "Score: 0.6089709798494974\n",
            "Trial summary\n",
            "Hyperparameters:\n",
            "num_layers: 8\n",
            "units_0: 160\n",
            "units_1: 64\n",
            "learning_rate: 0.001\n",
            "units_2: 160\n",
            "units_3: 64\n",
            "units_4: 192\n",
            "units_5: 32\n",
            "units_6: 224\n",
            "units_7: 96\n",
            "units_8: 192\n",
            "Score: 0.5462801655133566\n"
          ]
        }
      ]
    },
    {
      "cell_type": "markdown",
      "source": [
        "##Model 6"
      ],
      "metadata": {
        "id": "N5hksju408CO"
      },
      "id": "N5hksju408CO"
    },
    {
      "cell_type": "markdown",
      "source": [
        "* Let's create a model with the above mentioned best configuration given by Keras Tuner."
      ],
      "metadata": {
        "id": "0BwEA1lS093n"
      },
      "id": "0BwEA1lS093n"
    },
    {
      "cell_type": "code",
      "source": [
        "backend.clear_session()\n",
        "np.random.seed(42)\n",
        "import random\n",
        "random.seed(42)\n",
        "tf.random.set_seed(42)"
      ],
      "metadata": {
        "id": "zfiSIgsduQ4H"
      },
      "id": "zfiSIgsduQ4H",
      "execution_count": null,
      "outputs": []
    },
    {
      "cell_type": "code",
      "source": [
        "model7 = Sequential()\n",
        "model7.add(Dense(160,activation='relu',kernel_initializer='he_uniform',input_dim = X_train.shape[1]))\n",
        "model7.add(Dense(160,activation='relu',kernel_initializer='he_uniform'))\n",
        "model7.add(Dense(224,activation='relu',kernel_initializer='he_uniform'))\n",
        "model7.add(Dense(128,activation='relu',kernel_initializer='he_uniform'))\n",
        "model7.add(Dense(224,activation='relu',kernel_initializer='he_uniform'))\n",
        "model7.add(Dense(1, activation = 'sigmoid'))"
      ],
      "metadata": {
        "id": "bbhN1bWr1DcX"
      },
      "id": "bbhN1bWr1DcX",
      "execution_count": null,
      "outputs": []
    },
    {
      "cell_type": "code",
      "source": [
        "model7.summary()"
      ],
      "metadata": {
        "colab": {
          "base_uri": "https://localhost:8080/"
        },
        "id": "qVCoMXw71GxV",
        "outputId": "2a41770c-98a7-4c17-b1c8-28f723bccae8"
      },
      "id": "qVCoMXw71GxV",
      "execution_count": null,
      "outputs": [
        {
          "output_type": "stream",
          "name": "stdout",
          "text": [
            "Model: \"sequential\"\n",
            "_________________________________________________________________\n",
            " Layer (type)                Output Shape              Param #   \n",
            "=================================================================\n",
            " dense (Dense)               (None, 160)               3840      \n",
            "                                                                 \n",
            " dense_1 (Dense)             (None, 160)               25760     \n",
            "                                                                 \n",
            " dense_2 (Dense)             (None, 224)               36064     \n",
            "                                                                 \n",
            " dense_3 (Dense)             (None, 128)               28800     \n",
            "                                                                 \n",
            " dense_4 (Dense)             (None, 224)               28896     \n",
            "                                                                 \n",
            " dense_5 (Dense)             (None, 1)                 225       \n",
            "                                                                 \n",
            "=================================================================\n",
            "Total params: 123,585\n",
            "Trainable params: 123,585\n",
            "Non-trainable params: 0\n",
            "_________________________________________________________________\n"
          ]
        }
      ]
    },
    {
      "cell_type": "code",
      "source": [
        "optimizer = tf.keras.optimizers.Adam(0.001)\n",
        "model7.compile(loss='binary_crossentropy',optimizer=optimizer,metrics=['accuracy'])"
      ],
      "metadata": {
        "id": "_8HWTb4z1JPs"
      },
      "id": "_8HWTb4z1JPs",
      "execution_count": null,
      "outputs": []
    },
    {
      "cell_type": "code",
      "source": [
        "history_7 = model7.fit(X_train,y_train,batch_size=64,epochs=50,verbose=1,validation_split = 0.2)"
      ],
      "metadata": {
        "colab": {
          "base_uri": "https://localhost:8080/"
        },
        "id": "m7PppIQT1O3w",
        "outputId": "7f2a7bab-2f17-4905-8a99-e01d72b290e5"
      },
      "id": "m7PppIQT1O3w",
      "execution_count": null,
      "outputs": [
        {
          "output_type": "stream",
          "name": "stdout",
          "text": [
            "Epoch 1/50\n",
            "826/826 [==============================] - 5s 5ms/step - loss: 7.4929 - accuracy: 0.5338 - val_loss: 0.6686 - val_accuracy: 0.6150\n",
            "Epoch 2/50\n",
            "826/826 [==============================] - 5s 6ms/step - loss: 0.8733 - accuracy: 0.5718 - val_loss: 0.7913 - val_accuracy: 0.5651\n",
            "Epoch 3/50\n",
            "826/826 [==============================] - 5s 6ms/step - loss: 0.7978 - accuracy: 0.5669 - val_loss: 0.6981 - val_accuracy: 0.5632\n",
            "Epoch 4/50\n",
            "826/826 [==============================] - 6s 7ms/step - loss: 0.6676 - accuracy: 0.6039 - val_loss: 0.7104 - val_accuracy: 0.5190\n",
            "Epoch 5/50\n",
            "826/826 [==============================] - 5s 7ms/step - loss: 0.6765 - accuracy: 0.6093 - val_loss: 0.7759 - val_accuracy: 0.5460\n",
            "Epoch 6/50\n",
            "826/826 [==============================] - 4s 5ms/step - loss: 0.6647 - accuracy: 0.6266 - val_loss: 0.5904 - val_accuracy: 0.6913\n",
            "Epoch 7/50\n",
            "826/826 [==============================] - 3s 3ms/step - loss: 0.6474 - accuracy: 0.6412 - val_loss: 0.6087 - val_accuracy: 0.6799\n",
            "Epoch 8/50\n",
            "826/826 [==============================] - 3s 3ms/step - loss: 0.6212 - accuracy: 0.6594 - val_loss: 0.5826 - val_accuracy: 0.6964\n",
            "Epoch 9/50\n",
            "826/826 [==============================] - 3s 4ms/step - loss: 0.6110 - accuracy: 0.6744 - val_loss: 0.5595 - val_accuracy: 0.7263\n",
            "Epoch 10/50\n",
            "826/826 [==============================] - 3s 4ms/step - loss: 0.5883 - accuracy: 0.6932 - val_loss: 0.5610 - val_accuracy: 0.7261\n",
            "Epoch 11/50\n",
            "826/826 [==============================] - 3s 3ms/step - loss: 0.5806 - accuracy: 0.7016 - val_loss: 0.5787 - val_accuracy: 0.7006\n",
            "Epoch 12/50\n",
            "826/826 [==============================] - 3s 3ms/step - loss: 0.5692 - accuracy: 0.7090 - val_loss: 0.5979 - val_accuracy: 0.6945\n",
            "Epoch 13/50\n",
            "826/826 [==============================] - 3s 3ms/step - loss: 0.5775 - accuracy: 0.7046 - val_loss: 0.5434 - val_accuracy: 0.7356\n",
            "Epoch 14/50\n",
            "826/826 [==============================] - 3s 3ms/step - loss: 0.5740 - accuracy: 0.7105 - val_loss: 0.6228 - val_accuracy: 0.6419\n",
            "Epoch 15/50\n",
            "826/826 [==============================] - 3s 3ms/step - loss: 0.5552 - accuracy: 0.7240 - val_loss: 0.5975 - val_accuracy: 0.6729\n",
            "Epoch 16/50\n",
            "826/826 [==============================] - 3s 3ms/step - loss: 0.5550 - accuracy: 0.7253 - val_loss: 0.7271 - val_accuracy: 0.6167\n",
            "Epoch 17/50\n",
            "826/826 [==============================] - 3s 3ms/step - loss: 0.5461 - accuracy: 0.7311 - val_loss: 0.5698 - val_accuracy: 0.7078\n",
            "Epoch 18/50\n",
            "826/826 [==============================] - 3s 3ms/step - loss: 0.5377 - accuracy: 0.7410 - val_loss: 0.5385 - val_accuracy: 0.7406\n",
            "Epoch 19/50\n",
            "826/826 [==============================] - 3s 3ms/step - loss: 0.5426 - accuracy: 0.7358 - val_loss: 0.5248 - val_accuracy: 0.7436\n",
            "Epoch 20/50\n",
            "826/826 [==============================] - 3s 3ms/step - loss: 0.5281 - accuracy: 0.7466 - val_loss: 0.5133 - val_accuracy: 0.7574\n",
            "Epoch 21/50\n",
            "826/826 [==============================] - 3s 3ms/step - loss: 0.5240 - accuracy: 0.7487 - val_loss: 0.4997 - val_accuracy: 0.7680\n",
            "Epoch 22/50\n",
            "826/826 [==============================] - 3s 3ms/step - loss: 0.5185 - accuracy: 0.7530 - val_loss: 0.4911 - val_accuracy: 0.7759\n",
            "Epoch 23/50\n",
            "826/826 [==============================] - 3s 3ms/step - loss: 0.5058 - accuracy: 0.7627 - val_loss: 0.4871 - val_accuracy: 0.7779\n",
            "Epoch 24/50\n",
            "826/826 [==============================] - 3s 3ms/step - loss: 0.4955 - accuracy: 0.7695 - val_loss: 0.5342 - val_accuracy: 0.7409\n",
            "Epoch 25/50\n",
            "826/826 [==============================] - 3s 3ms/step - loss: 0.4866 - accuracy: 0.7766 - val_loss: 0.4718 - val_accuracy: 0.7864\n",
            "Epoch 26/50\n",
            "826/826 [==============================] - 3s 3ms/step - loss: 0.4687 - accuracy: 0.7872 - val_loss: 0.4776 - val_accuracy: 0.7799\n",
            "Epoch 27/50\n",
            "826/826 [==============================] - 3s 4ms/step - loss: 0.4606 - accuracy: 0.7924 - val_loss: 0.4319 - val_accuracy: 0.8087\n",
            "Epoch 28/50\n",
            "826/826 [==============================] - 3s 3ms/step - loss: 0.4413 - accuracy: 0.8044 - val_loss: 0.4909 - val_accuracy: 0.7695\n",
            "Epoch 29/50\n",
            "826/826 [==============================] - 4s 5ms/step - loss: 0.4273 - accuracy: 0.8103 - val_loss: 0.4112 - val_accuracy: 0.8203\n",
            "Epoch 30/50\n",
            "826/826 [==============================] - 4s 4ms/step - loss: 0.4171 - accuracy: 0.8162 - val_loss: 0.3976 - val_accuracy: 0.8287\n",
            "Epoch 31/50\n",
            "826/826 [==============================] - 3s 3ms/step - loss: 0.4057 - accuracy: 0.8235 - val_loss: 0.3969 - val_accuracy: 0.8277\n",
            "Epoch 32/50\n",
            "826/826 [==============================] - 3s 4ms/step - loss: 0.3982 - accuracy: 0.8273 - val_loss: 0.3794 - val_accuracy: 0.8343\n",
            "Epoch 33/50\n",
            "826/826 [==============================] - 3s 3ms/step - loss: 0.3894 - accuracy: 0.8323 - val_loss: 0.4252 - val_accuracy: 0.8136\n",
            "Epoch 34/50\n",
            "826/826 [==============================] - 3s 3ms/step - loss: 0.3855 - accuracy: 0.8332 - val_loss: 0.3692 - val_accuracy: 0.8439\n",
            "Epoch 35/50\n",
            "826/826 [==============================] - 3s 3ms/step - loss: 0.3740 - accuracy: 0.8381 - val_loss: 0.3475 - val_accuracy: 0.8513\n",
            "Epoch 36/50\n",
            "826/826 [==============================] - 5s 5ms/step - loss: 0.3701 - accuracy: 0.8400 - val_loss: 0.3422 - val_accuracy: 0.8554\n",
            "Epoch 37/50\n",
            "826/826 [==============================] - 3s 4ms/step - loss: 0.3589 - accuracy: 0.8466 - val_loss: 0.3693 - val_accuracy: 0.8391\n",
            "Epoch 38/50\n",
            "826/826 [==============================] - 3s 4ms/step - loss: 0.3570 - accuracy: 0.8473 - val_loss: 0.3606 - val_accuracy: 0.8469\n",
            "Epoch 39/50\n",
            "826/826 [==============================] - 3s 4ms/step - loss: 0.3463 - accuracy: 0.8526 - val_loss: 0.3238 - val_accuracy: 0.8614\n",
            "Epoch 40/50\n",
            "826/826 [==============================] - 3s 3ms/step - loss: 0.3419 - accuracy: 0.8553 - val_loss: 0.4214 - val_accuracy: 0.8100\n",
            "Epoch 41/50\n",
            "826/826 [==============================] - 3s 3ms/step - loss: 0.3494 - accuracy: 0.8515 - val_loss: 0.4308 - val_accuracy: 0.8002\n",
            "Epoch 42/50\n",
            "826/826 [==============================] - 3s 3ms/step - loss: 0.3315 - accuracy: 0.8605 - val_loss: 0.3213 - val_accuracy: 0.8615\n",
            "Epoch 43/50\n",
            "826/826 [==============================] - 3s 4ms/step - loss: 0.3489 - accuracy: 0.8533 - val_loss: 0.3163 - val_accuracy: 0.8677\n",
            "Epoch 44/50\n",
            "826/826 [==============================] - 3s 3ms/step - loss: 0.3204 - accuracy: 0.8659 - val_loss: 0.3022 - val_accuracy: 0.8784\n",
            "Epoch 45/50\n",
            "826/826 [==============================] - 3s 3ms/step - loss: 0.3196 - accuracy: 0.8648 - val_loss: 0.3015 - val_accuracy: 0.8730\n",
            "Epoch 46/50\n",
            "826/826 [==============================] - 3s 4ms/step - loss: 0.3238 - accuracy: 0.8623 - val_loss: 0.3963 - val_accuracy: 0.8305\n",
            "Epoch 47/50\n",
            "826/826 [==============================] - 3s 4ms/step - loss: 0.3173 - accuracy: 0.8679 - val_loss: 0.2935 - val_accuracy: 0.8783\n",
            "Epoch 48/50\n",
            "826/826 [==============================] - 3s 3ms/step - loss: 0.3087 - accuracy: 0.8706 - val_loss: 0.2928 - val_accuracy: 0.8767\n",
            "Epoch 49/50\n",
            "826/826 [==============================] - 3s 3ms/step - loss: 0.3082 - accuracy: 0.8714 - val_loss: 0.3734 - val_accuracy: 0.8355\n",
            "Epoch 50/50\n",
            "826/826 [==============================] - 3s 4ms/step - loss: 0.3060 - accuracy: 0.8711 - val_loss: 0.3115 - val_accuracy: 0.8690\n"
          ]
        }
      ]
    },
    {
      "cell_type": "code",
      "source": [
        "#Plotting Train Loss vs Validation Loss\n",
        "plt.plot(history_7.history['loss'])\n",
        "plt.plot(history_7.history['val_loss'])\n",
        "plt.title('model loss')\n",
        "plt.ylabel('Loss')\n",
        "plt.xlabel('Epoch')\n",
        "plt.legend(['train', 'validation'], loc='upper left')\n",
        "plt.show()"
      ],
      "metadata": {
        "colab": {
          "base_uri": "https://localhost:8080/",
          "height": 295
        },
        "id": "fWfKYeZT1SC9",
        "outputId": "b714e09f-fc87-4bc3-ef97-6968485cbdc1"
      },
      "id": "fWfKYeZT1SC9",
      "execution_count": null,
      "outputs": [
        {
          "output_type": "display_data",
          "data": {
            "text/plain": [
              "<Figure size 432x288 with 1 Axes>"
            ],
            "image/png": "[encoded data removed]"
          },
          "metadata": {
            "needs_background": "light"
          }
        }
      ]
    },
    {
      "cell_type": "code",
      "source": [
        "from sklearn.metrics import roc_curve\n",
        "\n",
        "from matplotlib import pyplot\n",
        "\n",
        "\n",
        "# predict probabilities\n",
        "yhat7 = model7.predict(X_test)\n",
        "# keep probabilities for the positive outcome only\n",
        "yhat7 = yhat7[:, 0]\n",
        "# calculate roc curves\n",
        "fpr, tpr, thresholds7 = roc_curve(y_test, yhat7)\n",
        "# calculate the g-mean for each threshold\n",
        "gmeans7 = np.sqrt(tpr * (1-fpr))\n",
        "# locate the index of the largest g-mean\n",
        "ix = np.argmax(gmeans7)\n",
        "print('Best Threshold=%f, G-Mean=%.3f' % (thresholds7[ix], gmeans7[ix]))\n",
        "# plot the roc curve for the model\n",
        "pyplot.plot([0,1], [0,1], linestyle='--', label='No Skill')\n",
        "pyplot.plot(fpr, tpr, marker='.')\n",
        "pyplot.scatter(fpr[ix], tpr[ix], marker='o', color='black', label='Best')\n",
        "# axis labels\n",
        "pyplot.xlabel('False Positive Rate')\n",
        "pyplot.ylabel('True Positive Rate')\n",
        "pyplot.legend()\n",
        "# show the plot\n",
        "pyplot.show()"
      ],
      "metadata": {
        "colab": {
          "base_uri": "https://localhost:8080/",
          "height": 314
        },
        "id": "SkmoWXNk6IHH",
        "outputId": "db97bc0c-3e80-42d6-8d4c-980282d383e8"
      },
      "id": "SkmoWXNk6IHH",
      "execution_count": null,
      "outputs": [
        {
          "output_type": "stream",
          "name": "stdout",
          "text": [
            "885/885 [==============================] - 1s 1ms/step\n",
            "Best Threshold=0.745447, G-Mean=0.879\n"
          ]
        },
        {
          "output_type": "display_data",
          "data": {
            "text/plain": [
              "<Figure size 432x288 with 1 Axes>"
            ],
            "image/png": "[encoded data removed]"
          },
          "metadata": {
            "needs_background": "light"
          }
        }
      ]
    },
    {
      "cell_type": "code",
      "source": [
        "y_pred_e7=model7.predict(X_test)\n",
        "y_pred_e7 = (y_pred_e7 > thresholds7[ix])\n",
        "y_pred_e7"
      ],
      "metadata": {
        "colab": {
          "base_uri": "https://localhost:8080/"
        },
        "id": "WfZdPPo41ZyI",
        "outputId": "17c620a3-8e76-465b-a6cf-d528df440153"
      },
      "id": "WfZdPPo41ZyI",
      "execution_count": null,
      "outputs": [
        {
          "output_type": "stream",
          "name": "stdout",
          "text": [
            "885/885 [==============================] - 1s 1ms/step\n"
          ]
        },
        {
          "output_type": "execute_result",
          "data": {
            "text/plain": [
              "array([[ True],\n",
              "       [False],\n",
              "       [False],\n",
              "       ...,\n",
              "       [False],\n",
              "       [False],\n",
              "       [False]])"
            ]
          },
          "metadata": {},
          "execution_count": 113
        }
      ]
    },
    {
      "cell_type": "code",
      "source": [
        "#Calculating the confusion matrix \n",
        "from sklearn.metrics import confusion_matrix\n",
        "print(classification_report(y_test,y_pred_e7))\n",
        "cm7=confusion_matrix(y_test, y_pred_e7)\n",
        "labels = ['True Negative','False Positive','False Negative','True Positive']\n",
        "categories = [ 'Not Satisfied','Satisfied']\n",
        "make_confusion_matrix(cm7, \n",
        "                      group_names=labels,\n",
        "                      categories=categories, \n",
        "                      cmap='Blues')\n"
      ],
      "metadata": {
        "colab": {
          "base_uri": "https://localhost:8080/",
          "height": 435
        },
        "id": "wEujfdya1i4N",
        "outputId": "1e7c0d11-4a96-4741-fa5f-6ca343b40c2c"
      },
      "id": "wEujfdya1i4N",
      "execution_count": null,
      "outputs": [
        {
          "output_type": "stream",
          "name": "stdout",
          "text": [
            "              precision    recall  f1-score   support\n",
            "\n",
            "           0       0.84      0.89      0.87     12608\n",
            "           1       0.91      0.87      0.89     15706\n",
            "\n",
            "    accuracy                           0.88     28314\n",
            "   macro avg       0.88      0.88      0.88     28314\n",
            "weighted avg       0.88      0.88      0.88     28314\n",
            "\n"
          ]
        },
        {
          "output_type": "display_data",
          "data": {
            "text/plain": [
              "<Figure size 432x288 with 2 Axes>"
            ],
            "image/png": "[encoded data removed]"
          },
          "metadata": {
            "needs_background": "light"
          }
        }
      ]
    },
    {
      "cell_type": "markdown",
      "source": [
        "\n",
        "* Model 2 had accuracy of 88% with f1 score of 89%\n",
        "* Model 6 has accuracy of 88% with f1 score of 89%\n",
        "* Model 6, which uses Keras tuner has the best model performance"
      ],
      "metadata": {
        "id": "WT87TZk9CtZV"
      },
      "id": "WT87TZk9CtZV"
    },
    {
      "cell_type": "code",
      "source": [
        "test = test_data.copy()"
      ],
      "metadata": {
        "id": "u2OXs3JHEQ1o"
      },
      "id": "u2OXs3JHEQ1o",
      "execution_count": null,
      "outputs": []
    },
    {
      "cell_type": "code",
      "source": [
        "test_data.drop('ID',axis = 1, inplace = True)"
      ],
      "metadata": {
        "id": "L2zjCPP4EvuP"
      },
      "id": "L2zjCPP4EvuP",
      "execution_count": null,
      "outputs": []
    },
    {
      "cell_type": "markdown",
      "source": [
        "testing the model on our test_data with model 2"
      ],
      "metadata": {
        "id": "97GztV28DkZ3"
      },
      "id": "97GztV28DkZ3"
    },
    {
      "cell_type": "code",
      "source": [
        "y_pred_test=model2.predict(test_data)\n",
        "y_pred_test = (y_pred_test > thresholds2[ix])\n",
        "y_pred_test"
      ],
      "metadata": {
        "colab": {
          "base_uri": "https://localhost:8080/"
        },
        "id": "KzU_u7Eh10Ua",
        "outputId": "602373e0-6004-4921-c948-510dec97688e"
      },
      "id": "KzU_u7Eh10Ua",
      "execution_count": null,
      "outputs": [
        {
          "output_type": "stream",
          "name": "stdout",
          "text": [
            "1113/1113 [==============================] - 1s 1ms/step\n"
          ]
        },
        {
          "output_type": "execute_result",
          "data": {
            "text/plain": [
              "array([[ True],\n",
              "       [ True],\n",
              "       [ True],\n",
              "       ...,\n",
              "       [False],\n",
              "       [ True],\n",
              "       [False]])"
            ]
          },
          "metadata": {},
          "execution_count": 129
        }
      ]
    },
    {
      "cell_type": "code",
      "source": [
        "y_pred_test.size"
      ],
      "metadata": {
        "colab": {
          "base_uri": "https://localhost:8080/"
        },
        "id": "W1kloYSKKFNG",
        "outputId": "a8d5084a-6bac-4e9a-9590-cde4f5c6a7f9"
      },
      "id": "W1kloYSKKFNG",
      "execution_count": null,
      "outputs": [
        {
          "output_type": "execute_result",
          "data": {
            "text/plain": [
              "35602"
            ]
          },
          "metadata": {},
          "execution_count": 130
        }
      ]
    },
    {
      "cell_type": "code",
      "source": [
        "submit = pd.read_csv('/content/drive/MyDrive/Machine Learning/Classification/Hackathon/Sample_Submission.csv')"
      ],
      "metadata": {
        "id": "dqZv8BcbFZ9m"
      },
      "id": "dqZv8BcbFZ9m",
      "execution_count": null,
      "outputs": []
    },
    {
      "cell_type": "code",
      "source": [
        "y_result = pd.DataFrame(y_pred_test, columns = ['Overall_Experience'])"
      ],
      "metadata": {
        "id": "T0YymsGdGDW-"
      },
      "id": "T0YymsGdGDW-",
      "execution_count": null,
      "outputs": []
    },
    {
      "cell_type": "code",
      "source": [
        "y_result.head()"
      ],
      "metadata": {
        "colab": {
          "base_uri": "https://localhost:8080/",
          "height": 206
        },
        "id": "Hx8DsEKyG_MQ",
        "outputId": "9b20fed3-9116-474a-f330-803114944143"
      },
      "id": "Hx8DsEKyG_MQ",
      "execution_count": null,
      "outputs": [
        {
          "output_type": "execute_result",
          "data": {
            "text/plain": [
              "   Overall_Experience\n",
              "0                True\n",
              "1                True\n",
              "2                True\n",
              "3               False\n",
              "4                True"
            ],
            "text/html": [
              "\n",
              "  <div id=\"df-b63c12c7-638c-45bd-9341-cd8cf058ae0f\">\n",
              "    <div class=\"colab-df-container\">\n",
              "      <div>\n",
              "<style scoped>\n",
              "    .dataframe tbody tr th:only-of-type {\n",
              "        vertical-align: middle;\n",
              "    }\n",
              "\n",
              "    .dataframe tbody tr th {\n",
              "        vertical-align: top;\n",
              "    }\n",
              "\n",
              "    .dataframe thead th {\n",
              "        text-align: right;\n",
              "    }\n",
              "</style>\n",
              "<table border=\"1\" class=\"dataframe\">\n",
              "  <thead>\n",
              "    <tr style=\"text-align: right;\">\n",
              "      <th></th>\n",
              "      <th>Overall_Experience</th>\n",
              "    </tr>\n",
              "  </thead>\n",
              "  <tbody>\n",
              "    <tr>\n",
              "      <th>0</th>\n",
              "      <td>True</td>\n",
              "    </tr>\n",
              "    <tr>\n",
              "      <th>1</th>\n",
              "      <td>True</td>\n",
              "    </tr>\n",
              "    <tr>\n",
              "      <th>2</th>\n",
              "      <td>True</td>\n",
              "    </tr>\n",
              "    <tr>\n",
              "      <th>3</th>\n",
              "      <td>False</td>\n",
              "    </tr>\n",
              "    <tr>\n",
              "      <th>4</th>\n",
              "      <td>True</td>\n",
              "    </tr>\n",
              "  </tbody>\n",
              "</table>\n",
              "</div>\n",
              "      <button class=\"colab-df-convert\" onclick=\"convertToInteractive('df-b63c12c7-638c-45bd-9341-cd8cf058ae0f')\"\n",
              "              title=\"Convert this dataframe to an interactive table.\"\n",
              "              style=\"display:none;\">\n",
              "        \n",
              "  <svg xmlns=\"http://www.w3.org/2000/svg\" height=\"24px\"viewBox=\"0 0 24 24\"\n",
              "       width=\"24px\">\n",
              "    <path d=\"M0 0h24v24H0V0z\" fill=\"none\"/>\n",
              "    <path d=\"M18.56 5.44l.94 2.06.94-2.06 2.06-.94-2.06-.94-.94-2.06-.94 2.06-2.06.94zm-11 1L8.5 8.5l.94-2.06 2.06-.94-2.06-.94L8.5 2.5l-.94 2.06-2.06.94zm10 10l.94 2.06.94-2.06 2.06-.94-2.06-.94-.94-2.06-.94 2.06-2.06.94z\"/><path d=\"M17.41 7.96l-1.37-1.37c-.4-.4-.92-.59-1.43-.59-.52 0-1.04.2-1.43.59L10.3 9.45l-7.72 7.72c-.78.78-.78 2.05 0 2.83L4 21.41c.39.39.9.59 1.41.59.51 0 1.02-.2 1.41-.59l7.78-7.78 2.81-2.81c.8-.78.8-2.07 0-2.86zM5.41 20L4 18.59l7.72-7.72 1.47 1.35L5.41 20z\"/>\n",
              "  </svg>\n",
              "      </button>\n",
              "      \n",
              "  <style>\n",
              "    .colab-df-container {\n",
              "      display:flex;\n",
              "      flex-wrap:wrap;\n",
              "      gap: 12px;\n",
              "    }\n",
              "\n",
              "    .colab-df-convert {\n",
              "      background-color: #E8F0FE;\n",
              "      border: none;\n",
              "      border-radius: 50%;\n",
              "      cursor: pointer;\n",
              "      display: none;\n",
              "      fill: #1967D2;\n",
              "      height: 32px;\n",
              "      padding: 0 0 0 0;\n",
              "      width: 32px;\n",
              "    }\n",
              "\n",
              "    .colab-df-convert:hover {\n",
              "      background-color: #E2EBFA;\n",
              "      box-shadow: 0px 1px 2px rgba(60, 64, 67, 0.3), 0px 1px 3px 1px rgba(60, 64, 67, 0.15);\n",
              "      fill: #174EA6;\n",
              "    }\n",
              "\n",
              "    [theme=dark] .colab-df-convert {\n",
              "      background-color: #3B4455;\n",
              "      fill: #D2E3FC;\n",
              "    }\n",
              "\n",
              "    [theme=dark] .colab-df-convert:hover {\n",
              "      background-color: #434B5C;\n",
              "      box-shadow: 0px 1px 3px 1px rgba(0, 0, 0, 0.15);\n",
              "      filter: drop-shadow(0px 1px 2px rgba(0, 0, 0, 0.3));\n",
              "      fill: #FFFFFF;\n",
              "    }\n",
              "  </style>\n",
              "\n",
              "      <script>\n",
              "        const buttonEl =\n",
              "          document.querySelector('#df-b63c12c7-638c-45bd-9341-cd8cf058ae0f button.colab-df-convert');\n",
              "        buttonEl.style.display =\n",
              "          google.colab.kernel.accessAllowed ? 'block' : 'none';\n",
              "\n",
              "        async function convertToInteractive(key) {\n",
              "          const element = document.querySelector('#df-b63c12c7-638c-45bd-9341-cd8cf058ae0f');\n",
              "          const dataTable =\n",
              "            await google.colab.kernel.invokeFunction('convertToInteractive',\n",
              "                                                     [key], {});\n",
              "          if (!dataTable) return;\n",
              "\n",
              "          const docLinkHtml = 'Like what you see? Visit the ' +\n",
              "            '<a target=\"_blank\" href=https://colab.research.google.com/notebooks/data_table.ipynb>data table notebook</a>'\n",
              "            + ' to learn more about interactive tables.';\n",
              "          element.innerHTML = '';\n",
              "          dataTable['output_type'] = 'display_data';\n",
              "          await google.colab.output.renderOutput(dataTable, element);\n",
              "          const docLink = document.createElement('div');\n",
              "          docLink.innerHTML = docLinkHtml;\n",
              "          element.appendChild(docLink);\n",
              "        }\n",
              "      </script>\n",
              "    </div>\n",
              "  </div>\n",
              "  "
            ]
          },
          "metadata": {},
          "execution_count": 133
        }
      ]
    },
    {
      "cell_type": "code",
      "source": [
        "y_result['Overall_Experience'] = y_result['Overall_Experience'].map({True:'True',False:'False'})"
      ],
      "metadata": {
        "id": "JI6_y29MLjbD"
      },
      "id": "JI6_y29MLjbD",
      "execution_count": null,
      "outputs": []
    },
    {
      "cell_type": "code",
      "source": [
        "y_result['Overall_Experience'] = y_result['Overall_Experience'].map({'True':1,'False':0})"
      ],
      "metadata": {
        "id": "_9-niO7bFWfN"
      },
      "id": "_9-niO7bFWfN",
      "execution_count": null,
      "outputs": []
    },
    {
      "cell_type": "code",
      "source": [
        "y_result.head()"
      ],
      "metadata": {
        "colab": {
          "base_uri": "https://localhost:8080/",
          "height": 206
        },
        "id": "bPrSZxVMMk4T",
        "outputId": "a280164d-e800-4423-9c20-4f42f34128c2"
      },
      "id": "bPrSZxVMMk4T",
      "execution_count": null,
      "outputs": [
        {
          "output_type": "execute_result",
          "data": {
            "text/plain": [
              "   Overall_Experience\n",
              "0                   1\n",
              "1                   1\n",
              "2                   1\n",
              "3                   0\n",
              "4                   1"
            ],
            "text/html": [
              "\n",
              "  <div id=\"df-e46025db-943b-43f9-94af-57b6825b2b41\">\n",
              "    <div class=\"colab-df-container\">\n",
              "      <div>\n",
              "<style scoped>\n",
              "    .dataframe tbody tr th:only-of-type {\n",
              "        vertical-align: middle;\n",
              "    }\n",
              "\n",
              "    .dataframe tbody tr th {\n",
              "        vertical-align: top;\n",
              "    }\n",
              "\n",
              "    .dataframe thead th {\n",
              "        text-align: right;\n",
              "    }\n",
              "</style>\n",
              "<table border=\"1\" class=\"dataframe\">\n",
              "  <thead>\n",
              "    <tr style=\"text-align: right;\">\n",
              "      <th></th>\n",
              "      <th>Overall_Experience</th>\n",
              "    </tr>\n",
              "  </thead>\n",
              "  <tbody>\n",
              "    <tr>\n",
              "      <th>0</th>\n",
              "      <td>1</td>\n",
              "    </tr>\n",
              "    <tr>\n",
              "      <th>1</th>\n",
              "      <td>1</td>\n",
              "    </tr>\n",
              "    <tr>\n",
              "      <th>2</th>\n",
              "      <td>1</td>\n",
              "    </tr>\n",
              "    <tr>\n",
              "      <th>3</th>\n",
              "      <td>0</td>\n",
              "    </tr>\n",
              "    <tr>\n",
              "      <th>4</th>\n",
              "      <td>1</td>\n",
              "    </tr>\n",
              "  </tbody>\n",
              "</table>\n",
              "</div>\n",
              "      <button class=\"colab-df-convert\" onclick=\"convertToInteractive('df-e46025db-943b-43f9-94af-57b6825b2b41')\"\n",
              "              title=\"Convert this dataframe to an interactive table.\"\n",
              "              style=\"display:none;\">\n",
              "        \n",
              "  <svg xmlns=\"http://www.w3.org/2000/svg\" height=\"24px\"viewBox=\"0 0 24 24\"\n",
              "       width=\"24px\">\n",
              "    <path d=\"M0 0h24v24H0V0z\" fill=\"none\"/>\n",
              "    <path d=\"M18.56 5.44l.94 2.06.94-2.06 2.06-.94-2.06-.94-.94-2.06-.94 2.06-2.06.94zm-11 1L8.5 8.5l.94-2.06 2.06-.94-2.06-.94L8.5 2.5l-.94 2.06-2.06.94zm10 10l.94 2.06.94-2.06 2.06-.94-2.06-.94-.94-2.06-.94 2.06-2.06.94z\"/><path d=\"M17.41 7.96l-1.37-1.37c-.4-.4-.92-.59-1.43-.59-.52 0-1.04.2-1.43.59L10.3 9.45l-7.72 7.72c-.78.78-.78 2.05 0 2.83L4 21.41c.39.39.9.59 1.41.59.51 0 1.02-.2 1.41-.59l7.78-7.78 2.81-2.81c.8-.78.8-2.07 0-2.86zM5.41 20L4 18.59l7.72-7.72 1.47 1.35L5.41 20z\"/>\n",
              "  </svg>\n",
              "      </button>\n",
              "      \n",
              "  <style>\n",
              "    .colab-df-container {\n",
              "      display:flex;\n",
              "      flex-wrap:wrap;\n",
              "      gap: 12px;\n",
              "    }\n",
              "\n",
              "    .colab-df-convert {\n",
              "      background-color: #E8F0FE;\n",
              "      border: none;\n",
              "      border-radius: 50%;\n",
              "      cursor: pointer;\n",
              "      display: none;\n",
              "      fill: #1967D2;\n",
              "      height: 32px;\n",
              "      padding: 0 0 0 0;\n",
              "      width: 32px;\n",
              "    }\n",
              "\n",
              "    .colab-df-convert:hover {\n",
              "      background-color: #E2EBFA;\n",
              "      box-shadow: 0px 1px 2px rgba(60, 64, 67, 0.3), 0px 1px 3px 1px rgba(60, 64, 67, 0.15);\n",
              "      fill: #174EA6;\n",
              "    }\n",
              "\n",
              "    [theme=dark] .colab-df-convert {\n",
              "      background-color: #3B4455;\n",
              "      fill: #D2E3FC;\n",
              "    }\n",
              "\n",
              "    [theme=dark] .colab-df-convert:hover {\n",
              "      background-color: #434B5C;\n",
              "      box-shadow: 0px 1px 3px 1px rgba(0, 0, 0, 0.15);\n",
              "      filter: drop-shadow(0px 1px 2px rgba(0, 0, 0, 0.3));\n",
              "      fill: #FFFFFF;\n",
              "    }\n",
              "  </style>\n",
              "\n",
              "      <script>\n",
              "        const buttonEl =\n",
              "          document.querySelector('#df-e46025db-943b-43f9-94af-57b6825b2b41 button.colab-df-convert');\n",
              "        buttonEl.style.display =\n",
              "          google.colab.kernel.accessAllowed ? 'block' : 'none';\n",
              "\n",
              "        async function convertToInteractive(key) {\n",
              "          const element = document.querySelector('#df-e46025db-943b-43f9-94af-57b6825b2b41');\n",
              "          const dataTable =\n",
              "            await google.colab.kernel.invokeFunction('convertToInteractive',\n",
              "                                                     [key], {});\n",
              "          if (!dataTable) return;\n",
              "\n",
              "          const docLinkHtml = 'Like what you see? Visit the ' +\n",
              "            '<a target=\"_blank\" href=https://colab.research.google.com/notebooks/data_table.ipynb>data table notebook</a>'\n",
              "            + ' to learn more about interactive tables.';\n",
              "          element.innerHTML = '';\n",
              "          dataTable['output_type'] = 'display_data';\n",
              "          await google.colab.output.renderOutput(dataTable, element);\n",
              "          const docLink = document.createElement('div');\n",
              "          docLink.innerHTML = docLinkHtml;\n",
              "          element.appendChild(docLink);\n",
              "        }\n",
              "      </script>\n",
              "    </div>\n",
              "  </div>\n",
              "  "
            ]
          },
          "metadata": {},
          "execution_count": 136
        }
      ]
    },
    {
      "cell_type": "code",
      "source": [
        "test.columns"
      ],
      "metadata": {
        "id": "6LV1vcfyGF-x",
        "colab": {
          "base_uri": "https://localhost:8080/"
        },
        "outputId": "584193f1-2d47-4a08-e897-b091baee46c4"
      },
      "id": "6LV1vcfyGF-x",
      "execution_count": null,
      "outputs": [
        {
          "output_type": "execute_result",
          "data": {
            "text/plain": [
              "Index(['ID', 'Gender', 'Customer_Type', 'Age', 'Type_Travel', 'Travel_Class',\n",
              "       'Travel_Distance', 'Departure_Delay_in_Mins', 'Arrival_Delay_in_Mins',\n",
              "       'Seat_Comfort', 'Seat_Class', 'Arrival_Time_Convenient', 'Catering',\n",
              "       'Platform_Location', 'Onboard_Wifi_Service', 'Onboard_Entertainment',\n",
              "       'Online_Support', 'Ease_of_Online_Booking', 'Onboard_Service',\n",
              "       'Legroom', 'Baggage_Handling', 'CheckIn_Service', 'Cleanliness',\n",
              "       'Online_Boarding'],\n",
              "      dtype='object')"
            ]
          },
          "metadata": {},
          "execution_count": 137
        }
      ]
    },
    {
      "cell_type": "code",
      "source": [
        "test.head()"
      ],
      "metadata": {
        "colab": {
          "base_uri": "https://localhost:8080/",
          "height": 299
        },
        "id": "1BxDoxA-NqDh",
        "outputId": "b532fcc0-4c78-4f2d-fc26-5d8249fa74bd"
      },
      "id": "1BxDoxA-NqDh",
      "execution_count": null,
      "outputs": [
        {
          "output_type": "execute_result",
          "data": {
            "text/plain": [
              "         ID  Gender  Customer_Type   Age  Type_Travel  Travel_Class  \\\n",
              "0  99900001       0              1  36.0            0             0   \n",
              "1  99900002       0              0  21.0            0             0   \n",
              "2  99900003       1              1  60.0            0             0   \n",
              "3  99900004       0              1  29.0            1             1   \n",
              "4  99900005       1              0  18.0            0             0   \n",
              "\n",
              "   Travel_Distance  Departure_Delay_in_Mins  Arrival_Delay_in_Mins  \\\n",
              "0            532.0                      0.0                    0.0   \n",
              "1           1425.0                      9.0                   28.0   \n",
              "2           2832.0                      0.0                    0.0   \n",
              "3           1352.0                      0.0                    0.0   \n",
              "4           1610.0                     17.0                    0.0   \n",
              "\n",
              "   Seat_Comfort  ...  Onboard_Wifi_Service  Onboard_Entertainment  \\\n",
              "0             0  ...                     4                      1   \n",
              "1             2  ...                     0                      5   \n",
              "2             1  ...                     1                      1   \n",
              "3             0  ...                     5                      0   \n",
              "4             1  ...                     1                      1   \n",
              "\n",
              "   Online_Support  Ease_of_Online_Booking  Onboard_Service  Legroom  \\\n",
              "0               2                       1                1        1   \n",
              "1               0                       0                1        0   \n",
              "2               1                       4                3        4   \n",
              "3               1                       5                0        4   \n",
              "4               1                       1                2        0   \n",
              "\n",
              "   Baggage_Handling  CheckIn_Service  Cleanliness  Online_Boarding  \n",
              "0                 1                2            1                5  \n",
              "1                 2                0            1                0  \n",
              "2                 3                2            3                1  \n",
              "3                 1                1            1                5  \n",
              "4                 1                1            1                1  \n",
              "\n",
              "[5 rows x 24 columns]"
            ],
            "text/html": [
              "\n",
              "  <div id=\"df-2b805503-135c-4795-aa1c-5e34e4b91abf\">\n",
              "    <div class=\"colab-df-container\">\n",
              "      <div>\n",
              "<style scoped>\n",
              "    .dataframe tbody tr th:only-of-type {\n",
              "        vertical-align: middle;\n",
              "    }\n",
              "\n",
              "    .dataframe tbody tr th {\n",
              "        vertical-align: top;\n",
              "    }\n",
              "\n",
              "    .dataframe thead th {\n",
              "        text-align: right;\n",
              "    }\n",
              "</style>\n",
              "<table border=\"1\" class=\"dataframe\">\n",
              "  <thead>\n",
              "    <tr style=\"text-align: right;\">\n",
              "      <th></th>\n",
              "      <th>ID</th>\n",
              "      <th>Gender</th>\n",
              "      <th>Customer_Type</th>\n",
              "      <th>Age</th>\n",
              "      <th>Type_Travel</th>\n",
              "      <th>Travel_Class</th>\n",
              "      <th>Travel_Distance</th>\n",
              "      <th>Departure_Delay_in_Mins</th>\n",
              "      <th>Arrival_Delay_in_Mins</th>\n",
              "      <th>Seat_Comfort</th>\n",
              "      <th>...</th>\n",
              "      <th>Onboard_Wifi_Service</th>\n",
              "      <th>Onboard_Entertainment</th>\n",
              "      <th>Online_Support</th>\n",
              "      <th>Ease_of_Online_Booking</th>\n",
              "      <th>Onboard_Service</th>\n",
              "      <th>Legroom</th>\n",
              "      <th>Baggage_Handling</th>\n",
              "      <th>CheckIn_Service</th>\n",
              "      <th>Cleanliness</th>\n",
              "      <th>Online_Boarding</th>\n",
              "    </tr>\n",
              "  </thead>\n",
              "  <tbody>\n",
              "    <tr>\n",
              "      <th>0</th>\n",
              "      <td>99900001</td>\n",
              "      <td>0</td>\n",
              "      <td>1</td>\n",
              "      <td>36.0</td>\n",
              "      <td>0</td>\n",
              "      <td>0</td>\n",
              "      <td>532.0</td>\n",
              "      <td>0.0</td>\n",
              "      <td>0.0</td>\n",
              "      <td>0</td>\n",
              "      <td>...</td>\n",
              "      <td>4</td>\n",
              "      <td>1</td>\n",
              "      <td>2</td>\n",
              "      <td>1</td>\n",
              "      <td>1</td>\n",
              "      <td>1</td>\n",
              "      <td>1</td>\n",
              "      <td>2</td>\n",
              "      <td>1</td>\n",
              "      <td>5</td>\n",
              "    </tr>\n",
              "    <tr>\n",
              "      <th>1</th>\n",
              "      <td>99900002</td>\n",
              "      <td>0</td>\n",
              "      <td>0</td>\n",
              "      <td>21.0</td>\n",
              "      <td>0</td>\n",
              "      <td>0</td>\n",
              "      <td>1425.0</td>\n",
              "      <td>9.0</td>\n",
              "      <td>28.0</td>\n",
              "      <td>2</td>\n",
              "      <td>...</td>\n",
              "      <td>0</td>\n",
              "      <td>5</td>\n",
              "      <td>0</td>\n",
              "      <td>0</td>\n",
              "      <td>1</td>\n",
              "      <td>0</td>\n",
              "      <td>2</td>\n",
              "      <td>0</td>\n",
              "      <td>1</td>\n",
              "      <td>0</td>\n",
              "    </tr>\n",
              "    <tr>\n",
              "      <th>2</th>\n",
              "      <td>99900003</td>\n",
              "      <td>1</td>\n",
              "      <td>1</td>\n",
              "      <td>60.0</td>\n",
              "      <td>0</td>\n",
              "      <td>0</td>\n",
              "      <td>2832.0</td>\n",
              "      <td>0.0</td>\n",
              "      <td>0.0</td>\n",
              "      <td>1</td>\n",
              "      <td>...</td>\n",
              "      <td>1</td>\n",
              "      <td>1</td>\n",
              "      <td>1</td>\n",
              "      <td>4</td>\n",
              "      <td>3</td>\n",
              "      <td>4</td>\n",
              "      <td>3</td>\n",
              "      <td>2</td>\n",
              "      <td>3</td>\n",
              "      <td>1</td>\n",
              "    </tr>\n",
              "    <tr>\n",
              "      <th>3</th>\n",
              "      <td>99900004</td>\n",
              "      <td>0</td>\n",
              "      <td>1</td>\n",
              "      <td>29.0</td>\n",
              "      <td>1</td>\n",
              "      <td>1</td>\n",
              "      <td>1352.0</td>\n",
              "      <td>0.0</td>\n",
              "      <td>0.0</td>\n",
              "      <td>0</td>\n",
              "      <td>...</td>\n",
              "      <td>5</td>\n",
              "      <td>0</td>\n",
              "      <td>1</td>\n",
              "      <td>5</td>\n",
              "      <td>0</td>\n",
              "      <td>4</td>\n",
              "      <td>1</td>\n",
              "      <td>1</td>\n",
              "      <td>1</td>\n",
              "      <td>5</td>\n",
              "    </tr>\n",
              "    <tr>\n",
              "      <th>4</th>\n",
              "      <td>99900005</td>\n",
              "      <td>1</td>\n",
              "      <td>0</td>\n",
              "      <td>18.0</td>\n",
              "      <td>0</td>\n",
              "      <td>0</td>\n",
              "      <td>1610.0</td>\n",
              "      <td>17.0</td>\n",
              "      <td>0.0</td>\n",
              "      <td>1</td>\n",
              "      <td>...</td>\n",
              "      <td>1</td>\n",
              "      <td>1</td>\n",
              "      <td>1</td>\n",
              "      <td>1</td>\n",
              "      <td>2</td>\n",
              "      <td>0</td>\n",
              "      <td>1</td>\n",
              "      <td>1</td>\n",
              "      <td>1</td>\n",
              "      <td>1</td>\n",
              "    </tr>\n",
              "  </tbody>\n",
              "</table>\n",
              "<p>5 rows × 24 columns</p>\n",
              "</div>\n",
              "      <button class=\"colab-df-convert\" onclick=\"convertToInteractive('df-2b805503-135c-4795-aa1c-5e34e4b91abf')\"\n",
              "              title=\"Convert this dataframe to an interactive table.\"\n",
              "              style=\"display:none;\">\n",
              "        \n",
              "  <svg xmlns=\"http://www.w3.org/2000/svg\" height=\"24px\"viewBox=\"0 0 24 24\"\n",
              "       width=\"24px\">\n",
              "    <path d=\"M0 0h24v24H0V0z\" fill=\"none\"/>\n",
              "    <path d=\"M18.56 5.44l.94 2.06.94-2.06 2.06-.94-2.06-.94-.94-2.06-.94 2.06-2.06.94zm-11 1L8.5 8.5l.94-2.06 2.06-.94-2.06-.94L8.5 2.5l-.94 2.06-2.06.94zm10 10l.94 2.06.94-2.06 2.06-.94-2.06-.94-.94-2.06-.94 2.06-2.06.94z\"/><path d=\"M17.41 7.96l-1.37-1.37c-.4-.4-.92-.59-1.43-.59-.52 0-1.04.2-1.43.59L10.3 9.45l-7.72 7.72c-.78.78-.78 2.05 0 2.83L4 21.41c.39.39.9.59 1.41.59.51 0 1.02-.2 1.41-.59l7.78-7.78 2.81-2.81c.8-.78.8-2.07 0-2.86zM5.41 20L4 18.59l7.72-7.72 1.47 1.35L5.41 20z\"/>\n",
              "  </svg>\n",
              "      </button>\n",
              "      \n",
              "  <style>\n",
              "    .colab-df-container {\n",
              "      display:flex;\n",
              "      flex-wrap:wrap;\n",
              "      gap: 12px;\n",
              "    }\n",
              "\n",
              "    .colab-df-convert {\n",
              "      background-color: #E8F0FE;\n",
              "      border: none;\n",
              "      border-radius: 50%;\n",
              "      cursor: pointer;\n",
              "      display: none;\n",
              "      fill: #1967D2;\n",
              "      height: 32px;\n",
              "      padding: 0 0 0 0;\n",
              "      width: 32px;\n",
              "    }\n",
              "\n",
              "    .colab-df-convert:hover {\n",
              "      background-color: #E2EBFA;\n",
              "      box-shadow: 0px 1px 2px rgba(60, 64, 67, 0.3), 0px 1px 3px 1px rgba(60, 64, 67, 0.15);\n",
              "      fill: #174EA6;\n",
              "    }\n",
              "\n",
              "    [theme=dark] .colab-df-convert {\n",
              "      background-color: #3B4455;\n",
              "      fill: #D2E3FC;\n",
              "    }\n",
              "\n",
              "    [theme=dark] .colab-df-convert:hover {\n",
              "      background-color: #434B5C;\n",
              "      box-shadow: 0px 1px 3px 1px rgba(0, 0, 0, 0.15);\n",
              "      filter: drop-shadow(0px 1px 2px rgba(0, 0, 0, 0.3));\n",
              "      fill: #FFFFFF;\n",
              "    }\n",
              "  </style>\n",
              "\n",
              "      <script>\n",
              "        const buttonEl =\n",
              "          document.querySelector('#df-2b805503-135c-4795-aa1c-5e34e4b91abf button.colab-df-convert');\n",
              "        buttonEl.style.display =\n",
              "          google.colab.kernel.accessAllowed ? 'block' : 'none';\n",
              "\n",
              "        async function convertToInteractive(key) {\n",
              "          const element = document.querySelector('#df-2b805503-135c-4795-aa1c-5e34e4b91abf');\n",
              "          const dataTable =\n",
              "            await google.colab.kernel.invokeFunction('convertToInteractive',\n",
              "                                                     [key], {});\n",
              "          if (!dataTable) return;\n",
              "\n",
              "          const docLinkHtml = 'Like what you see? Visit the ' +\n",
              "            '<a target=\"_blank\" href=https://colab.research.google.com/notebooks/data_table.ipynb>data table notebook</a>'\n",
              "            + ' to learn more about interactive tables.';\n",
              "          element.innerHTML = '';\n",
              "          dataTable['output_type'] = 'display_data';\n",
              "          await google.colab.output.renderOutput(dataTable, element);\n",
              "          const docLink = document.createElement('div');\n",
              "          docLink.innerHTML = docLinkHtml;\n",
              "          element.appendChild(docLink);\n",
              "        }\n",
              "      </script>\n",
              "    </div>\n",
              "  </div>\n",
              "  "
            ]
          },
          "metadata": {},
          "execution_count": 138
        }
      ]
    },
    {
      "cell_type": "code",
      "source": [
        "new = pd.DataFrame(test.ID)"
      ],
      "metadata": {
        "id": "AdAQQG8kOBNd"
      },
      "id": "AdAQQG8kOBNd",
      "execution_count": null,
      "outputs": []
    },
    {
      "cell_type": "code",
      "source": [
        "new.head()"
      ],
      "metadata": {
        "colab": {
          "base_uri": "https://localhost:8080/",
          "height": 206
        },
        "id": "DhU2L5ICON0o",
        "outputId": "6c5626f1-1dae-4f85-9df2-5391ac321eca"
      },
      "id": "DhU2L5ICON0o",
      "execution_count": null,
      "outputs": [
        {
          "output_type": "execute_result",
          "data": {
            "text/plain": [
              "         ID\n",
              "0  99900001\n",
              "1  99900002\n",
              "2  99900003\n",
              "3  99900004\n",
              "4  99900005"
            ],
            "text/html": [
              "\n",
              "  <div id=\"df-98660866-0617-408b-b3db-a5ec33ec9ae8\">\n",
              "    <div class=\"colab-df-container\">\n",
              "      <div>\n",
              "<style scoped>\n",
              "    .dataframe tbody tr th:only-of-type {\n",
              "        vertical-align: middle;\n",
              "    }\n",
              "\n",
              "    .dataframe tbody tr th {\n",
              "        vertical-align: top;\n",
              "    }\n",
              "\n",
              "    .dataframe thead th {\n",
              "        text-align: right;\n",
              "    }\n",
              "</style>\n",
              "<table border=\"1\" class=\"dataframe\">\n",
              "  <thead>\n",
              "    <tr style=\"text-align: right;\">\n",
              "      <th></th>\n",
              "      <th>ID</th>\n",
              "    </tr>\n",
              "  </thead>\n",
              "  <tbody>\n",
              "    <tr>\n",
              "      <th>0</th>\n",
              "      <td>99900001</td>\n",
              "    </tr>\n",
              "    <tr>\n",
              "      <th>1</th>\n",
              "      <td>99900002</td>\n",
              "    </tr>\n",
              "    <tr>\n",
              "      <th>2</th>\n",
              "      <td>99900003</td>\n",
              "    </tr>\n",
              "    <tr>\n",
              "      <th>3</th>\n",
              "      <td>99900004</td>\n",
              "    </tr>\n",
              "    <tr>\n",
              "      <th>4</th>\n",
              "      <td>99900005</td>\n",
              "    </tr>\n",
              "  </tbody>\n",
              "</table>\n",
              "</div>\n",
              "      <button class=\"colab-df-convert\" onclick=\"convertToInteractive('df-98660866-0617-408b-b3db-a5ec33ec9ae8')\"\n",
              "              title=\"Convert this dataframe to an interactive table.\"\n",
              "              style=\"display:none;\">\n",
              "        \n",
              "  <svg xmlns=\"http://www.w3.org/2000/svg\" height=\"24px\"viewBox=\"0 0 24 24\"\n",
              "       width=\"24px\">\n",
              "    <path d=\"M0 0h24v24H0V0z\" fill=\"none\"/>\n",
              "    <path d=\"M18.56 5.44l.94 2.06.94-2.06 2.06-.94-2.06-.94-.94-2.06-.94 2.06-2.06.94zm-11 1L8.5 8.5l.94-2.06 2.06-.94-2.06-.94L8.5 2.5l-.94 2.06-2.06.94zm10 10l.94 2.06.94-2.06 2.06-.94-2.06-.94-.94-2.06-.94 2.06-2.06.94z\"/><path d=\"M17.41 7.96l-1.37-1.37c-.4-.4-.92-.59-1.43-.59-.52 0-1.04.2-1.43.59L10.3 9.45l-7.72 7.72c-.78.78-.78 2.05 0 2.83L4 21.41c.39.39.9.59 1.41.59.51 0 1.02-.2 1.41-.59l7.78-7.78 2.81-2.81c.8-.78.8-2.07 0-2.86zM5.41 20L4 18.59l7.72-7.72 1.47 1.35L5.41 20z\"/>\n",
              "  </svg>\n",
              "      </button>\n",
              "      \n",
              "  <style>\n",
              "    .colab-df-container {\n",
              "      display:flex;\n",
              "      flex-wrap:wrap;\n",
              "      gap: 12px;\n",
              "    }\n",
              "\n",
              "    .colab-df-convert {\n",
              "      background-color: #E8F0FE;\n",
              "      border: none;\n",
              "      border-radius: 50%;\n",
              "      cursor: pointer;\n",
              "      display: none;\n",
              "      fill: #1967D2;\n",
              "      height: 32px;\n",
              "      padding: 0 0 0 0;\n",
              "      width: 32px;\n",
              "    }\n",
              "\n",
              "    .colab-df-convert:hover {\n",
              "      background-color: #E2EBFA;\n",
              "      box-shadow: 0px 1px 2px rgba(60, 64, 67, 0.3), 0px 1px 3px 1px rgba(60, 64, 67, 0.15);\n",
              "      fill: #174EA6;\n",
              "    }\n",
              "\n",
              "    [theme=dark] .colab-df-convert {\n",
              "      background-color: #3B4455;\n",
              "      fill: #D2E3FC;\n",
              "    }\n",
              "\n",
              "    [theme=dark] .colab-df-convert:hover {\n",
              "      background-color: #434B5C;\n",
              "      box-shadow: 0px 1px 3px 1px rgba(0, 0, 0, 0.15);\n",
              "      filter: drop-shadow(0px 1px 2px rgba(0, 0, 0, 0.3));\n",
              "      fill: #FFFFFF;\n",
              "    }\n",
              "  </style>\n",
              "\n",
              "      <script>\n",
              "        const buttonEl =\n",
              "          document.querySelector('#df-98660866-0617-408b-b3db-a5ec33ec9ae8 button.colab-df-convert');\n",
              "        buttonEl.style.display =\n",
              "          google.colab.kernel.accessAllowed ? 'block' : 'none';\n",
              "\n",
              "        async function convertToInteractive(key) {\n",
              "          const element = document.querySelector('#df-98660866-0617-408b-b3db-a5ec33ec9ae8');\n",
              "          const dataTable =\n",
              "            await google.colab.kernel.invokeFunction('convertToInteractive',\n",
              "                                                     [key], {});\n",
              "          if (!dataTable) return;\n",
              "\n",
              "          const docLinkHtml = 'Like what you see? Visit the ' +\n",
              "            '<a target=\"_blank\" href=https://colab.research.google.com/notebooks/data_table.ipynb>data table notebook</a>'\n",
              "            + ' to learn more about interactive tables.';\n",
              "          element.innerHTML = '';\n",
              "          dataTable['output_type'] = 'display_data';\n",
              "          await google.colab.output.renderOutput(dataTable, element);\n",
              "          const docLink = document.createElement('div');\n",
              "          docLink.innerHTML = docLinkHtml;\n",
              "          element.appendChild(docLink);\n",
              "        }\n",
              "      </script>\n",
              "    </div>\n",
              "  </div>\n",
              "  "
            ]
          },
          "metadata": {},
          "execution_count": 140
        }
      ]
    },
    {
      "cell_type": "code",
      "source": [
        "submit = pd.concat([new,y_result], axis = 1)"
      ],
      "metadata": {
        "id": "684Rs3D3OV-1"
      },
      "id": "684Rs3D3OV-1",
      "execution_count": null,
      "outputs": []
    },
    {
      "cell_type": "code",
      "source": [
        "submit.count()"
      ],
      "metadata": {
        "colab": {
          "base_uri": "https://localhost:8080/"
        },
        "id": "hqQZ6vYwX-z7",
        "outputId": "ae9a8f58-a65d-460d-be97-b612da312994"
      },
      "id": "hqQZ6vYwX-z7",
      "execution_count": null,
      "outputs": [
        {
          "output_type": "execute_result",
          "data": {
            "text/plain": [
              "ID                    35602\n",
              "Overall_Experience    35602\n",
              "dtype: int64"
            ]
          },
          "metadata": {},
          "execution_count": 143
        }
      ]
    },
    {
      "cell_type": "code",
      "source": [
        "submit_format = pd.read_csv('/content/drive/MyDrive/Machine Learning/Classification/Hackathon/Sample_Submission.csv')"
      ],
      "metadata": {
        "id": "0g6-YXUmYA-F"
      },
      "id": "0g6-YXUmYA-F",
      "execution_count": null,
      "outputs": []
    },
    {
      "cell_type": "code",
      "source": [
        "submit_format.head()"
      ],
      "metadata": {
        "colab": {
          "base_uri": "https://localhost:8080/",
          "height": 206
        },
        "id": "qkQ4Wcu7YwNh",
        "outputId": "a41f617f-2732-4e89-cc66-dbf032788e67"
      },
      "id": "qkQ4Wcu7YwNh",
      "execution_count": null,
      "outputs": [
        {
          "output_type": "execute_result",
          "data": {
            "text/plain": [
              "         ID  Overall_Experience\n",
              "0  99900001                   1\n",
              "1  99900002                   0\n",
              "2  99900003                   0\n",
              "3  99900004                   0\n",
              "4  99900005                   1"
            ],
            "text/html": [
              "\n",
              "  <div id=\"df-e97aabf6-15df-4ec2-9146-3515184afe84\">\n",
              "    <div class=\"colab-df-container\">\n",
              "      <div>\n",
              "<style scoped>\n",
              "    .dataframe tbody tr th:only-of-type {\n",
              "        vertical-align: middle;\n",
              "    }\n",
              "\n",
              "    .dataframe tbody tr th {\n",
              "        vertical-align: top;\n",
              "    }\n",
              "\n",
              "    .dataframe thead th {\n",
              "        text-align: right;\n",
              "    }\n",
              "</style>\n",
              "<table border=\"1\" class=\"dataframe\">\n",
              "  <thead>\n",
              "    <tr style=\"text-align: right;\">\n",
              "      <th></th>\n",
              "      <th>ID</th>\n",
              "      <th>Overall_Experience</th>\n",
              "    </tr>\n",
              "  </thead>\n",
              "  <tbody>\n",
              "    <tr>\n",
              "      <th>0</th>\n",
              "      <td>99900001</td>\n",
              "      <td>1</td>\n",
              "    </tr>\n",
              "    <tr>\n",
              "      <th>1</th>\n",
              "      <td>99900002</td>\n",
              "      <td>0</td>\n",
              "    </tr>\n",
              "    <tr>\n",
              "      <th>2</th>\n",
              "      <td>99900003</td>\n",
              "      <td>0</td>\n",
              "    </tr>\n",
              "    <tr>\n",
              "      <th>3</th>\n",
              "      <td>99900004</td>\n",
              "      <td>0</td>\n",
              "    </tr>\n",
              "    <tr>\n",
              "      <th>4</th>\n",
              "      <td>99900005</td>\n",
              "      <td>1</td>\n",
              "    </tr>\n",
              "  </tbody>\n",
              "</table>\n",
              "</div>\n",
              "      <button class=\"colab-df-convert\" onclick=\"convertToInteractive('df-e97aabf6-15df-4ec2-9146-3515184afe84')\"\n",
              "              title=\"Convert this dataframe to an interactive table.\"\n",
              "              style=\"display:none;\">\n",
              "        \n",
              "  <svg xmlns=\"http://www.w3.org/2000/svg\" height=\"24px\"viewBox=\"0 0 24 24\"\n",
              "       width=\"24px\">\n",
              "    <path d=\"M0 0h24v24H0V0z\" fill=\"none\"/>\n",
              "    <path d=\"M18.56 5.44l.94 2.06.94-2.06 2.06-.94-2.06-.94-.94-2.06-.94 2.06-2.06.94zm-11 1L8.5 8.5l.94-2.06 2.06-.94-2.06-.94L8.5 2.5l-.94 2.06-2.06.94zm10 10l.94 2.06.94-2.06 2.06-.94-2.06-.94-.94-2.06-.94 2.06-2.06.94z\"/><path d=\"M17.41 7.96l-1.37-1.37c-.4-.4-.92-.59-1.43-.59-.52 0-1.04.2-1.43.59L10.3 9.45l-7.72 7.72c-.78.78-.78 2.05 0 2.83L4 21.41c.39.39.9.59 1.41.59.51 0 1.02-.2 1.41-.59l7.78-7.78 2.81-2.81c.8-.78.8-2.07 0-2.86zM5.41 20L4 18.59l7.72-7.72 1.47 1.35L5.41 20z\"/>\n",
              "  </svg>\n",
              "      </button>\n",
              "      \n",
              "  <style>\n",
              "    .colab-df-container {\n",
              "      display:flex;\n",
              "      flex-wrap:wrap;\n",
              "      gap: 12px;\n",
              "    }\n",
              "\n",
              "    .colab-df-convert {\n",
              "      background-color: #E8F0FE;\n",
              "      border: none;\n",
              "      border-radius: 50%;\n",
              "      cursor: pointer;\n",
              "      display: none;\n",
              "      fill: #1967D2;\n",
              "      height: 32px;\n",
              "      padding: 0 0 0 0;\n",
              "      width: 32px;\n",
              "    }\n",
              "\n",
              "    .colab-df-convert:hover {\n",
              "      background-color: #E2EBFA;\n",
              "      box-shadow: 0px 1px 2px rgba(60, 64, 67, 0.3), 0px 1px 3px 1px rgba(60, 64, 67, 0.15);\n",
              "      fill: #174EA6;\n",
              "    }\n",
              "\n",
              "    [theme=dark] .colab-df-convert {\n",
              "      background-color: #3B4455;\n",
              "      fill: #D2E3FC;\n",
              "    }\n",
              "\n",
              "    [theme=dark] .colab-df-convert:hover {\n",
              "      background-color: #434B5C;\n",
              "      box-shadow: 0px 1px 3px 1px rgba(0, 0, 0, 0.15);\n",
              "      filter: drop-shadow(0px 1px 2px rgba(0, 0, 0, 0.3));\n",
              "      fill: #FFFFFF;\n",
              "    }\n",
              "  </style>\n",
              "\n",
              "      <script>\n",
              "        const buttonEl =\n",
              "          document.querySelector('#df-e97aabf6-15df-4ec2-9146-3515184afe84 button.colab-df-convert');\n",
              "        buttonEl.style.display =\n",
              "          google.colab.kernel.accessAllowed ? 'block' : 'none';\n",
              "\n",
              "        async function convertToInteractive(key) {\n",
              "          const element = document.querySelector('#df-e97aabf6-15df-4ec2-9146-3515184afe84');\n",
              "          const dataTable =\n",
              "            await google.colab.kernel.invokeFunction('convertToInteractive',\n",
              "                                                     [key], {});\n",
              "          if (!dataTable) return;\n",
              "\n",
              "          const docLinkHtml = 'Like what you see? Visit the ' +\n",
              "            '<a target=\"_blank\" href=https://colab.research.google.com/notebooks/data_table.ipynb>data table notebook</a>'\n",
              "            + ' to learn more about interactive tables.';\n",
              "          element.innerHTML = '';\n",
              "          dataTable['output_type'] = 'display_data';\n",
              "          await google.colab.output.renderOutput(dataTable, element);\n",
              "          const docLink = document.createElement('div');\n",
              "          docLink.innerHTML = docLinkHtml;\n",
              "          element.appendChild(docLink);\n",
              "        }\n",
              "      </script>\n",
              "    </div>\n",
              "  </div>\n",
              "  "
            ]
          },
          "metadata": {},
          "execution_count": 145
        }
      ]
    },
    {
      "cell_type": "code",
      "source": [
        "submit.head()"
      ],
      "metadata": {
        "colab": {
          "base_uri": "https://localhost:8080/",
          "height": 206
        },
        "id": "pSLgX0D0YzOj",
        "outputId": "34f05b71-a800-47ba-bc72-f8b7444eb557"
      },
      "id": "pSLgX0D0YzOj",
      "execution_count": null,
      "outputs": [
        {
          "output_type": "execute_result",
          "data": {
            "text/plain": [
              "         ID  Overall_Experience\n",
              "0  99900001                   1\n",
              "1  99900002                   1\n",
              "2  99900003                   1\n",
              "3  99900004                   0\n",
              "4  99900005                   1"
            ],
            "text/html": [
              "\n",
              "  <div id=\"df-1b36692e-b362-4890-a4b4-9fdac7704620\">\n",
              "    <div class=\"colab-df-container\">\n",
              "      <div>\n",
              "<style scoped>\n",
              "    .dataframe tbody tr th:only-of-type {\n",
              "        vertical-align: middle;\n",
              "    }\n",
              "\n",
              "    .dataframe tbody tr th {\n",
              "        vertical-align: top;\n",
              "    }\n",
              "\n",
              "    .dataframe thead th {\n",
              "        text-align: right;\n",
              "    }\n",
              "</style>\n",
              "<table border=\"1\" class=\"dataframe\">\n",
              "  <thead>\n",
              "    <tr style=\"text-align: right;\">\n",
              "      <th></th>\n",
              "      <th>ID</th>\n",
              "      <th>Overall_Experience</th>\n",
              "    </tr>\n",
              "  </thead>\n",
              "  <tbody>\n",
              "    <tr>\n",
              "      <th>0</th>\n",
              "      <td>99900001</td>\n",
              "      <td>1</td>\n",
              "    </tr>\n",
              "    <tr>\n",
              "      <th>1</th>\n",
              "      <td>99900002</td>\n",
              "      <td>1</td>\n",
              "    </tr>\n",
              "    <tr>\n",
              "      <th>2</th>\n",
              "      <td>99900003</td>\n",
              "      <td>1</td>\n",
              "    </tr>\n",
              "    <tr>\n",
              "      <th>3</th>\n",
              "      <td>99900004</td>\n",
              "      <td>0</td>\n",
              "    </tr>\n",
              "    <tr>\n",
              "      <th>4</th>\n",
              "      <td>99900005</td>\n",
              "      <td>1</td>\n",
              "    </tr>\n",
              "  </tbody>\n",
              "</table>\n",
              "</div>\n",
              "      <button class=\"colab-df-convert\" onclick=\"convertToInteractive('df-1b36692e-b362-4890-a4b4-9fdac7704620')\"\n",
              "              title=\"Convert this dataframe to an interactive table.\"\n",
              "              style=\"display:none;\">\n",
              "        \n",
              "  <svg xmlns=\"http://www.w3.org/2000/svg\" height=\"24px\"viewBox=\"0 0 24 24\"\n",
              "       width=\"24px\">\n",
              "    <path d=\"M0 0h24v24H0V0z\" fill=\"none\"/>\n",
              "    <path d=\"M18.56 5.44l.94 2.06.94-2.06 2.06-.94-2.06-.94-.94-2.06-.94 2.06-2.06.94zm-11 1L8.5 8.5l.94-2.06 2.06-.94-2.06-.94L8.5 2.5l-.94 2.06-2.06.94zm10 10l.94 2.06.94-2.06 2.06-.94-2.06-.94-.94-2.06-.94 2.06-2.06.94z\"/><path d=\"M17.41 7.96l-1.37-1.37c-.4-.4-.92-.59-1.43-.59-.52 0-1.04.2-1.43.59L10.3 9.45l-7.72 7.72c-.78.78-.78 2.05 0 2.83L4 21.41c.39.39.9.59 1.41.59.51 0 1.02-.2 1.41-.59l7.78-7.78 2.81-2.81c.8-.78.8-2.07 0-2.86zM5.41 20L4 18.59l7.72-7.72 1.47 1.35L5.41 20z\"/>\n",
              "  </svg>\n",
              "      </button>\n",
              "      \n",
              "  <style>\n",
              "    .colab-df-container {\n",
              "      display:flex;\n",
              "      flex-wrap:wrap;\n",
              "      gap: 12px;\n",
              "    }\n",
              "\n",
              "    .colab-df-convert {\n",
              "      background-color: #E8F0FE;\n",
              "      border: none;\n",
              "      border-radius: 50%;\n",
              "      cursor: pointer;\n",
              "      display: none;\n",
              "      fill: #1967D2;\n",
              "      height: 32px;\n",
              "      padding: 0 0 0 0;\n",
              "      width: 32px;\n",
              "    }\n",
              "\n",
              "    .colab-df-convert:hover {\n",
              "      background-color: #E2EBFA;\n",
              "      box-shadow: 0px 1px 2px rgba(60, 64, 67, 0.3), 0px 1px 3px 1px rgba(60, 64, 67, 0.15);\n",
              "      fill: #174EA6;\n",
              "    }\n",
              "\n",
              "    [theme=dark] .colab-df-convert {\n",
              "      background-color: #3B4455;\n",
              "      fill: #D2E3FC;\n",
              "    }\n",
              "\n",
              "    [theme=dark] .colab-df-convert:hover {\n",
              "      background-color: #434B5C;\n",
              "      box-shadow: 0px 1px 3px 1px rgba(0, 0, 0, 0.15);\n",
              "      filter: drop-shadow(0px 1px 2px rgba(0, 0, 0, 0.3));\n",
              "      fill: #FFFFFF;\n",
              "    }\n",
              "  </style>\n",
              "\n",
              "      <script>\n",
              "        const buttonEl =\n",
              "          document.querySelector('#df-1b36692e-b362-4890-a4b4-9fdac7704620 button.colab-df-convert');\n",
              "        buttonEl.style.display =\n",
              "          google.colab.kernel.accessAllowed ? 'block' : 'none';\n",
              "\n",
              "        async function convertToInteractive(key) {\n",
              "          const element = document.querySelector('#df-1b36692e-b362-4890-a4b4-9fdac7704620');\n",
              "          const dataTable =\n",
              "            await google.colab.kernel.invokeFunction('convertToInteractive',\n",
              "                                                     [key], {});\n",
              "          if (!dataTable) return;\n",
              "\n",
              "          const docLinkHtml = 'Like what you see? Visit the ' +\n",
              "            '<a target=\"_blank\" href=https://colab.research.google.com/notebooks/data_table.ipynb>data table notebook</a>'\n",
              "            + ' to learn more about interactive tables.';\n",
              "          element.innerHTML = '';\n",
              "          dataTable['output_type'] = 'display_data';\n",
              "          await google.colab.output.renderOutput(dataTable, element);\n",
              "          const docLink = document.createElement('div');\n",
              "          docLink.innerHTML = docLinkHtml;\n",
              "          element.appendChild(docLink);\n",
              "        }\n",
              "      </script>\n",
              "    </div>\n",
              "  </div>\n",
              "  "
            ]
          },
          "metadata": {},
          "execution_count": 146
        }
      ]
    },
    {
      "cell_type": "code",
      "source": [
        "submit.to_csv('/content/drive/MyDrive/Machine Learning/Classification/Hackathon/submission1.csv', index=False)"
      ],
      "metadata": {
        "id": "7RlRIPRyY207"
      },
      "id": "7RlRIPRyY207",
      "execution_count": null,
      "outputs": []
    },
    {
      "cell_type": "markdown",
      "source": [
        "testing the model on our test_data with model 7"
      ],
      "metadata": {
        "id": "mpSVftZoaUR2"
      },
      "id": "mpSVftZoaUR2"
    },
    {
      "cell_type": "code",
      "source": [
        "y_pred_test=model7.predict(test_data)\n",
        "y_pred_test = (y_pred_test > thresholds7[ix])\n",
        "y_pred_test"
      ],
      "metadata": {
        "colab": {
          "base_uri": "https://localhost:8080/"
        },
        "id": "vD6fTGFuZ2_E",
        "outputId": "4fab55df-2247-4c14-ffe0-a52f661c5bd2"
      },
      "id": "vD6fTGFuZ2_E",
      "execution_count": null,
      "outputs": [
        {
          "output_type": "stream",
          "name": "stdout",
          "text": [
            "1113/1113 [==============================] - 2s 2ms/step\n"
          ]
        },
        {
          "output_type": "execute_result",
          "data": {
            "text/plain": [
              "array([[ True],\n",
              "       [False],\n",
              "       [ True],\n",
              "       ...,\n",
              "       [False],\n",
              "       [ True],\n",
              "       [False]])"
            ]
          },
          "metadata": {},
          "execution_count": 149
        }
      ]
    },
    {
      "cell_type": "code",
      "source": [
        "y_result_7 = pd.DataFrame(y_pred_test, columns = ['Overall_Experience'])"
      ],
      "metadata": {
        "id": "_U7RYBB9adTU"
      },
      "id": "_U7RYBB9adTU",
      "execution_count": null,
      "outputs": []
    },
    {
      "cell_type": "code",
      "source": [],
      "metadata": {
        "id": "EOP6pqXwaqKb"
      },
      "id": "EOP6pqXwaqKb",
      "execution_count": null,
      "outputs": []
    },
    {
      "cell_type": "code",
      "source": [
        "y_result_7['Overall_Experience'] = y_result_7['Overall_Experience'].map({True:'True',False:'False'})"
      ],
      "metadata": {
        "id": "opJDmfU9ay7u"
      },
      "execution_count": null,
      "outputs": [],
      "id": "opJDmfU9ay7u"
    },
    {
      "cell_type": "code",
      "source": [
        "y_result_7['Overall_Experience'] = y_result_7['Overall_Experience'].map({'True':1,'False':0})"
      ],
      "metadata": {
        "id": "YdIw5shsay7v"
      },
      "execution_count": null,
      "outputs": [],
      "id": "YdIw5shsay7v"
    },
    {
      "cell_type": "code",
      "source": [
        "submit_7 = pd.concat([new,y_result_7], axis = 1)"
      ],
      "metadata": {
        "id": "VZxXfPs9a7ms"
      },
      "id": "VZxXfPs9a7ms",
      "execution_count": null,
      "outputs": []
    },
    {
      "cell_type": "code",
      "source": [
        "submit_7.to_csv('/content/drive/MyDrive/Machine Learning/Classification/Hackathon/submission2.csv', index = False)"
      ],
      "metadata": {
        "id": "ek2QuahebEH2"
      },
      "id": "ek2QuahebEH2",
      "execution_count": null,
      "outputs": []
    },
    {
      "cell_type": "code",
      "source": [],
      "metadata": {
        "id": "-iF8WhChbJwT"
      },
      "id": "-iF8WhChbJwT",
      "execution_count": null,
      "outputs": []
    }
  ],
  "metadata": {
    "kernelspec": {
      "display_name": "Python 3 (ipykernel)",
      "language": "python",
      "name": "python3"
    },
    "language_info": {
      "codemirror_mode": {
        "name": "ipython",
        "version": 3
      },
      "file_extension": ".py",
      "mimetype": "text/x-python",
      "name": "python",
      "nbconvert_exporter": "python",
      "pygments_lexer": "ipython3",
      "version": "3.10.8"
    },
    "colab": {
      "provenance": []
    }
  },
  "nbformat": 4,
  "nbformat_minor": 5
}
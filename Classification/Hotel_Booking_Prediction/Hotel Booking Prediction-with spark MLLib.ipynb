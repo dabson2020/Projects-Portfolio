{
 "cells": [
  {
   "cell_type": "markdown",
   "id": "dense-medicaid",
   "metadata": {
    "id": "dense-medicaid"
   },
   "source": [
    "# **Project - Hotel Booking Cancellation Prediction**\n",
    "\n",
    "\n",
    "\n",
    "---------------\n",
    "## **Problem Statement**\n",
    "\n",
    "### **Context**\n",
    "\n",
    "**A significant number of hotel bookings are called off due to cancellations or no-shows.** Typical reasons for cancellations include change of plans, scheduling conflicts, etc. This is often made easier by the option to do so free of charge or preferably at a low cost. This may be beneficial to hotel guests, but it is a less desirable and possibly revenue-diminishing factor for hotels to deal with. Such losses are particularly high on last-minute cancellations.\n",
    "\n",
    "The new technologies involving online booking channels have dramatically changed customers’ booking possibilities and behavior. This adds a further dimension to the challenge of how hotels handle cancellations, which are no longer limited to traditional booking and guest characteristics.\n",
    "\n",
    "This pattern of cancellations of bookings impacts a hotel on various fronts:\n",
    "1. **Loss of resources (revenue)** when the hotel cannot resell the room.\n",
    "2. **Additional costs of distribution channels** by increasing commissions or paying for publicity to help sell these rooms.\n",
    "3. **Lowering prices last minute**, so the hotel can resell a room, resulting in reducing the profit margin.\n",
    "4. **Human resources to make arrangements** for the guests.\n",
    "\n",
    "### **Objective**\n",
    "\n",
    "This increasing number of cancellations calls for a Machine Learning based solution that can help in predicting which booking is likely to be canceled. INN Hotels Group has a chain of hotels in Portugal - they are facing problems with this high number of booking cancellations and have reached out to your firm for data-driven solutions. You, as a Data Scientist, have to analyze the data provided to find which factors have a high influence on booking cancellations, build a predictive model that can predict which booking is going to be canceled in advance, and help in formulating profitable policies for cancellations and refunds.\n",
    "\n",
    "\n",
    "### **Data Description**\n",
    "\n",
    "The data contains the different attributes of customers' booking details. The detailed data dictionary is given below:\n",
    "\n",
    "\n",
    "**Data Dictionary**\n",
    "\n",
    "* **Booking_ID:** Unique identifier of each booking\n",
    "* **no_of_adults:** Number of adults\n",
    "* **no_of_children:** Number of children\n",
    "* **no_of_weekend_nights:** Number of weekend nights (Saturday or Sunday) the guest stayed or booked to stay at the hotel\n",
    "* **no_of_week_nights:** Number of weekday nights (Monday to Friday) the guest stayed or booked to stay at the hotel\n",
    "* **type_of_meal_plan:** Type of meal plan booked by the customer:\n",
    "    * Not Selected – No meal plan selected\n",
    "    * Meal Plan 1 – Breakfast\n",
    "    * Meal Plan 2 – Half board (breakfast and one other meal)\n",
    "    * Meal Plan 3 – Full board (breakfast, lunch, and dinner)\n",
    "* **required_car_parking_space:** Does the customer require a car parking space? (0 - No, 1- Yes)\n",
    "* **room_type_reserved:** Type of room reserved by the customer. The values are ciphered (encoded) by INN Hotels.\n",
    "* **lead_time:** Number of days between the date of booking and the arrival date\n",
    "* **arrival_year:** Year of arrival date\n",
    "* **arrival_month:** Month of arrival date\n",
    "* **arrival_date:** Date of the month\n",
    "* **market_segment_type:** Market segment designation.\n",
    "* **repeated_guest:** Is the customer a repeated guest? (0 - No, 1- Yes)\n",
    "* **no_of_previous_cancellations:** Number of previous bookings that were canceled by the customer prior to the current booking\n",
    "* **no_of_previous_bookings_not_canceled:** Number of previous bookings not canceled by the customer prior to the current booking\n",
    "* **avg_price_per_room:** Average price per day of the reservation; prices of the rooms are dynamic. (in euros)\n",
    "* **no_of_special_requests:** Total number of special requests made by the customer (e.g. high floor, view from the room, etc)\n",
    "* **booking_status:** Flag indicating if the booking was canceled or not."
   ]
  },
  {
   "cell_type": "code",
   "execution_count": 1,
   "id": "c5bd4490",
   "metadata": {},
   "outputs": [],
   "source": [
    "import findspark"
   ]
  },
  {
   "cell_type": "code",
   "execution_count": 2,
   "id": "c6c051c2",
   "metadata": {},
   "outputs": [],
   "source": [
    "findspark.init(\"/home/adeola/spark-3.3.0-bin-hadoop3\")"
   ]
  },
  {
   "cell_type": "code",
   "execution_count": 3,
   "id": "a4835476",
   "metadata": {},
   "outputs": [],
   "source": [
    "from pyspark.sql import SparkSession"
   ]
  },
  {
   "cell_type": "code",
   "execution_count": 178,
   "id": "d23f07b8",
   "metadata": {},
   "outputs": [],
   "source": [
    "import pyspark.sql.types as T\n",
    "from pyspark.sql.functions import *"
   ]
  },
  {
   "cell_type": "code",
   "execution_count": 6,
   "id": "20355527",
   "metadata": {},
   "outputs": [
    {
     "name": "stdout",
     "output_type": "stream",
     "text": [
      "22/09/30 07:48:05 WARN Utils: Your hostname, adeola-VirtualBox resolves to a loopback address: 127.0.1.1; using 10.0.2.15 instead (on interface enp0s3)\n",
      "22/09/30 07:48:05 WARN Utils: Set SPARK_LOCAL_IP if you need to bind to another address\n"
     ]
    },
    {
     "name": "stderr",
     "output_type": "stream",
     "text": [
      "Setting default log level to \"WARN\".\n",
      "To adjust logging level use sc.setLogLevel(newLevel). For SparkR, use setLogLevel(newLevel).\n"
     ]
    },
    {
     "name": "stdout",
     "output_type": "stream",
     "text": [
      "22/09/30 07:48:09 WARN NativeCodeLoader: Unable to load native-hadoop library for your platform... using builtin-java classes where applicable\n"
     ]
    }
   ],
   "source": [
    "spark = SparkSession.builder.getOrCreate()"
   ]
  },
  {
   "cell_type": "code",
   "execution_count": 7,
   "id": "6f1458b0",
   "metadata": {},
   "outputs": [
    {
     "data": {
      "text/html": [
       "\n",
       "            <div>\n",
       "                <p><b>SparkSession - in-memory</b></p>\n",
       "                \n",
       "        <div>\n",
       "            <p><b>SparkContext</b></p>\n",
       "\n",
       "            <p><a href=\"http://10.0.2.15:4040\">Spark UI</a></p>\n",
       "\n",
       "            <dl>\n",
       "              <dt>Version</dt>\n",
       "                <dd><code>v3.3.0</code></dd>\n",
       "              <dt>Master</dt>\n",
       "                <dd><code>local[*]</code></dd>\n",
       "              <dt>AppName</dt>\n",
       "                <dd><code>pyspark-shell</code></dd>\n",
       "            </dl>\n",
       "        </div>\n",
       "        \n",
       "            </div>\n",
       "        "
      ],
      "text/plain": [
       "<pyspark.sql.session.SparkSession at 0x7f0d6e8338b0>"
      ]
     },
     "execution_count": 7,
     "metadata": {},
     "output_type": "execute_result"
    }
   ],
   "source": [
    "spark"
   ]
  },
  {
   "cell_type": "markdown",
   "id": "a4f6547a",
   "metadata": {},
   "source": [
    "Load the dataset"
   ]
  },
  {
   "cell_type": "code",
   "execution_count": 8,
   "id": "8925d852",
   "metadata": {},
   "outputs": [],
   "source": [
    "df = spark.read.csv('INNHotelsGroup.csv', header=True, inferSchema=True)"
   ]
  },
  {
   "cell_type": "markdown",
   "id": "fa549f73",
   "metadata": {},
   "source": [
    "#### Print the schema of the dataset"
   ]
  },
  {
   "cell_type": "code",
   "execution_count": 11,
   "id": "7e3cf002",
   "metadata": {},
   "outputs": [
    {
     "name": "stdout",
     "output_type": "stream",
     "text": [
      "root\n",
      " |-- Booking_ID: string (nullable = true)\n",
      " |-- no_of_adults: integer (nullable = true)\n",
      " |-- no_of_children: integer (nullable = true)\n",
      " |-- no_of_weekend_nights: integer (nullable = true)\n",
      " |-- no_of_week_nights: integer (nullable = true)\n",
      " |-- type_of_meal_plan: string (nullable = true)\n",
      " |-- required_car_parking_space: integer (nullable = true)\n",
      " |-- room_type_reserved: string (nullable = true)\n",
      " |-- lead_time: integer (nullable = true)\n",
      " |-- arrival_year: integer (nullable = true)\n",
      " |-- arrival_month: integer (nullable = true)\n",
      " |-- arrival_date: integer (nullable = true)\n",
      " |-- market_segment_type: string (nullable = true)\n",
      " |-- repeated_guest: integer (nullable = true)\n",
      " |-- no_of_previous_cancellations: integer (nullable = true)\n",
      " |-- no_of_previous_bookings_not_canceled: integer (nullable = true)\n",
      " |-- avg_price_per_room: double (nullable = true)\n",
      " |-- no_of_special_requests: integer (nullable = true)\n",
      " |-- booking_status: string (nullable = true)\n",
      "\n"
     ]
    }
   ],
   "source": [
    "df.printSchema()"
   ]
  },
  {
   "cell_type": "markdown",
   "id": "tqfNqaJCQeEE",
   "metadata": {
    "id": "tqfNqaJCQeEE"
   },
   "source": [
    "## **Importing the libraries required**"
   ]
  },
  {
   "cell_type": "code",
   "execution_count": 1,
   "id": "proper-calgary",
   "metadata": {
    "id": "proper-calgary"
   },
   "outputs": [],
   "source": [
    "# Importing the basic libraries we will require for the project\n",
    "\n",
    "# Libraries to help with reading and manipulating data\n",
    "import pandas as pd\n",
    "import numpy as np\n",
    "\n",
    "# Libaries to help with data visualization\n",
    "import matplotlib.pyplot as plt\n",
    "import seaborn as sns\n",
    "sns.set()\n",
    "\n",
    "# Importing the Machine Learning models we require from Scikit-Learn\n",
    "from sklearn.linear_model import LogisticRegression\n",
    "from sklearn.svm import SVC\n",
    "from sklearn.tree import DecisionTreeClassifier\n",
    "from sklearn import tree\n",
    "from sklearn.ensemble import RandomForestClassifier\n",
    "\n",
    "# Importing the other functions we may require from Scikit-Learn\n",
    "from sklearn.model_selection import train_test_split, GridSearchCV\n",
    "from sklearn.preprocessing import MinMaxScaler, LabelEncoder, OneHotEncoder\n",
    "\n",
    "# To get diferent metric scores\n",
    "from sklearn.metrics import confusion_matrix,classification_report,roc_auc_score,plot_confusion_matrix,precision_recall_curve,roc_curve,make_scorer\n",
    "\n",
    "# Code to ignore warnings from function usage\n",
    "import warnings;\n",
    "import numpy as np\n",
    "warnings.filterwarnings('ignore')"
   ]
  },
  {
   "cell_type": "markdown",
   "id": "fantastic-rebel",
   "metadata": {
    "id": "fantastic-rebel"
   },
   "source": [
    "## **Loading the dataset**"
   ]
  },
  {
   "cell_type": "code",
   "execution_count": 12,
   "id": "precious-leonard",
   "metadata": {
    "id": "precious-leonard"
   },
   "outputs": [],
   "source": [
    "hotel = spark.read.csv('INNHotelsGroup.csv', header=True, inferSchema=True)"
   ]
  },
  {
   "cell_type": "code",
   "execution_count": 16,
   "id": "200f48a9",
   "metadata": {},
   "outputs": [],
   "source": [
    "data = hotel"
   ]
  },
  {
   "cell_type": "markdown",
   "id": "fD7H-dajQqyQ",
   "metadata": {
    "id": "fD7H-dajQqyQ"
   },
   "source": [
    "## **Overview of the dataset**"
   ]
  },
  {
   "cell_type": "markdown",
   "id": "convinced-blackberry",
   "metadata": {
    "id": "convinced-blackberry"
   },
   "source": [
    "### **Viewing the first and last 5 rows of the dataset**\n",
    "\n",
    "Let's **view the first few rows and last few rows** of the dataset in order to understand its structure a little better.\n",
    "\n",
    "We will use the head() and tail() methods from Pandas to do this."
   ]
  },
  {
   "cell_type": "code",
   "execution_count": 18,
   "id": "tested-adjustment",
   "metadata": {
    "id": "tested-adjustment"
   },
   "outputs": [
    {
     "name": "stdout",
     "output_type": "stream",
     "text": [
      "+----------+------------+--------------+--------------------+-----------------+-----------------+--------------------------+------------------+---------+------------+-------------+------------+-------------------+--------------+----------------------------+------------------------------------+------------------+----------------------+--------------+\n",
      "|Booking_ID|no_of_adults|no_of_children|no_of_weekend_nights|no_of_week_nights|type_of_meal_plan|required_car_parking_space|room_type_reserved|lead_time|arrival_year|arrival_month|arrival_date|market_segment_type|repeated_guest|no_of_previous_cancellations|no_of_previous_bookings_not_canceled|avg_price_per_room|no_of_special_requests|booking_status|\n",
      "+----------+------------+--------------+--------------------+-----------------+-----------------+--------------------------+------------------+---------+------------+-------------+------------+-------------------+--------------+----------------------------+------------------------------------+------------------+----------------------+--------------+\n",
      "|  INN00001|           2|             0|                   1|                2|      Meal Plan 1|                         0|       Room_Type 1|      224|        2017|           10|           2|            Offline|             0|                           0|                                   0|              65.0|                     0|  Not_Canceled|\n",
      "|  INN00002|           2|             0|                   2|                3|     Not Selected|                         0|       Room_Type 1|        5|        2018|           11|           6|             Online|             0|                           0|                                   0|            106.68|                     1|  Not_Canceled|\n",
      "+----------+------------+--------------+--------------------+-----------------+-----------------+--------------------------+------------------+---------+------------+-------------+------------+-------------------+--------------+----------------------------+------------------------------------+------------------+----------------------+--------------+\n",
      "only showing top 2 rows\n",
      "\n"
     ]
    }
   ],
   "source": [
    "data.show(2)"
   ]
  },
  {
   "cell_type": "code",
   "execution_count": 21,
   "id": "demonstrated-charger",
   "metadata": {
    "id": "demonstrated-charger"
   },
   "outputs": [
    {
     "data": {
      "text/plain": [
       "[Row(Booking_ID='INN36274', no_of_adults=2, no_of_children=0, no_of_weekend_nights=0, no_of_week_nights=3, type_of_meal_plan='Not Selected', required_car_parking_space=0, room_type_reserved='Room_Type 1', lead_time=63, arrival_year=2018, arrival_month=4, arrival_date=21, market_segment_type='Online', repeated_guest=0, no_of_previous_cancellations=0, no_of_previous_bookings_not_canceled=0, avg_price_per_room=94.5, no_of_special_requests=0, booking_status='Canceled'),\n",
       " Row(Booking_ID='INN36275', no_of_adults=2, no_of_children=0, no_of_weekend_nights=1, no_of_week_nights=2, type_of_meal_plan='Meal Plan 1', required_car_parking_space=0, room_type_reserved='Room_Type 1', lead_time=207, arrival_year=2018, arrival_month=12, arrival_date=30, market_segment_type='Offline', repeated_guest=0, no_of_previous_cancellations=0, no_of_previous_bookings_not_canceled=0, avg_price_per_room=161.67, no_of_special_requests=0, booking_status='Not_Canceled')]"
      ]
     },
     "execution_count": 21,
     "metadata": {},
     "output_type": "execute_result"
    }
   ],
   "source": [
    "data.tail(2)"
   ]
  },
  {
   "cell_type": "markdown",
   "id": "prepared-clause",
   "metadata": {
    "id": "prepared-clause"
   },
   "source": [
    "### **Understanding the shape of the dataset**"
   ]
  },
  {
   "cell_type": "code",
   "execution_count": 24,
   "id": "likely-scene",
   "metadata": {
    "id": "likely-scene"
   },
   "outputs": [
    {
     "data": {
      "text/plain": [
       "(36275, 19)"
      ]
     },
     "execution_count": 24,
     "metadata": {},
     "output_type": "execute_result"
    }
   ],
   "source": [
    "data.count(),len(data.columns)"
   ]
  },
  {
   "cell_type": "markdown",
   "id": "sacred-language",
   "metadata": {
    "id": "sacred-language"
   },
   "source": [
    "* The dataset has 36275 rows and 19 columns. "
   ]
  },
  {
   "cell_type": "markdown",
   "id": "creative-warner",
   "metadata": {
    "id": "creative-warner"
   },
   "source": [
    "### **Checking the data types of the columns for the dataset**"
   ]
  },
  {
   "cell_type": "code",
   "execution_count": 26,
   "id": "expanded-technique",
   "metadata": {
    "id": "expanded-technique"
   },
   "outputs": [
    {
     "name": "stdout",
     "output_type": "stream",
     "text": [
      "root\n",
      " |-- Booking_ID: string (nullable = true)\n",
      " |-- no_of_adults: integer (nullable = true)\n",
      " |-- no_of_children: integer (nullable = true)\n",
      " |-- no_of_weekend_nights: integer (nullable = true)\n",
      " |-- no_of_week_nights: integer (nullable = true)\n",
      " |-- type_of_meal_plan: string (nullable = true)\n",
      " |-- required_car_parking_space: integer (nullable = true)\n",
      " |-- room_type_reserved: string (nullable = true)\n",
      " |-- lead_time: integer (nullable = true)\n",
      " |-- arrival_year: integer (nullable = true)\n",
      " |-- arrival_month: integer (nullable = true)\n",
      " |-- arrival_date: integer (nullable = true)\n",
      " |-- market_segment_type: string (nullable = true)\n",
      " |-- repeated_guest: integer (nullable = true)\n",
      " |-- no_of_previous_cancellations: integer (nullable = true)\n",
      " |-- no_of_previous_bookings_not_canceled: integer (nullable = true)\n",
      " |-- avg_price_per_room: double (nullable = true)\n",
      " |-- no_of_special_requests: integer (nullable = true)\n",
      " |-- booking_status: string (nullable = true)\n",
      "\n"
     ]
    }
   ],
   "source": [
    "data.printSchema()"
   ]
  },
  {
   "cell_type": "markdown",
   "id": "august-hopkins",
   "metadata": {
    "id": "august-hopkins"
   },
   "source": [
    "* `Booking_ID`, `type_of_meal_plan`, `room_type_reserved`, `market_segment_type`, and `booking_status` are of object type while rest columns are numeric in nature.\n",
    "\n",
    "* There are no null values in the dataset."
   ]
  },
  {
   "cell_type": "markdown",
   "id": "adjustable-programmer",
   "metadata": {
    "id": "adjustable-programmer"
   },
   "source": [
    "- There are **no duplicate values** in the data."
   ]
  },
  {
   "cell_type": "markdown",
   "id": "1-CD9xCkQ-bu",
   "metadata": {
    "id": "1-CD9xCkQ-bu"
   },
   "source": [
    "### **Dropping the unique values column**"
   ]
  },
  {
   "cell_type": "markdown",
   "id": "928c50b6",
   "metadata": {
    "id": "928c50b6"
   },
   "source": [
    "**Let's drop the Booking_ID column first before we proceed forward**, as a column with unique values will have almost no predictive power for the Machine Learning problem at hand."
   ]
  },
  {
   "cell_type": "code",
   "execution_count": 30,
   "id": "referenced-architect",
   "metadata": {
    "id": "referenced-architect"
   },
   "outputs": [],
   "source": [
    "data = data.drop(data[\"Booking_ID\"])"
   ]
  },
  {
   "cell_type": "code",
   "execution_count": 31,
   "id": "40b248aa",
   "metadata": {
    "id": "40b248aa"
   },
   "outputs": [
    {
     "data": {
      "text/plain": [
       "[Row(no_of_adults=2, no_of_children=0, no_of_weekend_nights=1, no_of_week_nights=2, type_of_meal_plan='Meal Plan 1', required_car_parking_space=0, room_type_reserved='Room_Type 1', lead_time=224, arrival_year=2017, arrival_month=10, arrival_date=2, market_segment_type='Offline', repeated_guest=0, no_of_previous_cancellations=0, no_of_previous_bookings_not_canceled=0, avg_price_per_room=65.0, no_of_special_requests=0, booking_status='Not_Canceled'),\n",
       " Row(no_of_adults=2, no_of_children=0, no_of_weekend_nights=2, no_of_week_nights=3, type_of_meal_plan='Not Selected', required_car_parking_space=0, room_type_reserved='Room_Type 1', lead_time=5, arrival_year=2018, arrival_month=11, arrival_date=6, market_segment_type='Online', repeated_guest=0, no_of_previous_cancellations=0, no_of_previous_bookings_not_canceled=0, avg_price_per_room=106.68, no_of_special_requests=1, booking_status='Not_Canceled'),\n",
       " Row(no_of_adults=1, no_of_children=0, no_of_weekend_nights=2, no_of_week_nights=1, type_of_meal_plan='Meal Plan 1', required_car_parking_space=0, room_type_reserved='Room_Type 1', lead_time=1, arrival_year=2018, arrival_month=2, arrival_date=28, market_segment_type='Online', repeated_guest=0, no_of_previous_cancellations=0, no_of_previous_bookings_not_canceled=0, avg_price_per_room=60.0, no_of_special_requests=0, booking_status='Canceled'),\n",
       " Row(no_of_adults=2, no_of_children=0, no_of_weekend_nights=0, no_of_week_nights=2, type_of_meal_plan='Meal Plan 1', required_car_parking_space=0, room_type_reserved='Room_Type 1', lead_time=211, arrival_year=2018, arrival_month=5, arrival_date=20, market_segment_type='Online', repeated_guest=0, no_of_previous_cancellations=0, no_of_previous_bookings_not_canceled=0, avg_price_per_room=100.0, no_of_special_requests=0, booking_status='Canceled'),\n",
       " Row(no_of_adults=2, no_of_children=0, no_of_weekend_nights=1, no_of_week_nights=1, type_of_meal_plan='Not Selected', required_car_parking_space=0, room_type_reserved='Room_Type 1', lead_time=48, arrival_year=2018, arrival_month=4, arrival_date=11, market_segment_type='Online', repeated_guest=0, no_of_previous_cancellations=0, no_of_previous_bookings_not_canceled=0, avg_price_per_room=94.5, no_of_special_requests=0, booking_status='Canceled')]"
      ]
     },
     "execution_count": 31,
     "metadata": {},
     "output_type": "execute_result"
    }
   ],
   "source": [
    "data.head(5)"
   ]
  },
  {
   "cell_type": "markdown",
   "id": "pleased-chicken",
   "metadata": {
    "id": "pleased-chicken"
   },
   "source": [
    "## **Data Preparation for Modeling**\n",
    "\n",
    "- We want to predict which bookings will be canceled.\n",
    "- Before we proceed to build a model, we'll have to encode categorical features.\n",
    "- We'll split the data into train and test to be able to evaluate the model that we build on the train data."
   ]
  },
  {
   "cell_type": "markdown",
   "id": "Q1yU3LeM5p73",
   "metadata": {
    "id": "Q1yU3LeM5p73"
   },
   "source": [
    "**Separating the independent variables (X) and the dependent variable (Y)**"
   ]
  },
  {
   "cell_type": "code",
   "execution_count": 39,
   "id": "298bd0c4",
   "metadata": {},
   "outputs": [],
   "source": [
    "import pyspark.pandas as pd"
   ]
  },
  {
   "cell_type": "code",
   "execution_count": 48,
   "id": "durable-allergy",
   "metadata": {
    "id": "durable-allergy"
   },
   "outputs": [],
   "source": [
    "X = hotel.drop(data[\"booking_status\"])\n",
    "Y = hotel[\"booking_status\"]\n",
    "\n"
   ]
  },
  {
   "cell_type": "code",
   "execution_count": 54,
   "id": "61531205",
   "metadata": {},
   "outputs": [
    {
     "name": "stdout",
     "output_type": "stream",
     "text": [
      "root\n",
      " |-- Booking_ID: string (nullable = true)\n",
      " |-- no_of_adults: integer (nullable = true)\n",
      " |-- no_of_children: integer (nullable = true)\n",
      " |-- no_of_weekend_nights: integer (nullable = true)\n",
      " |-- no_of_week_nights: integer (nullable = true)\n",
      " |-- type_of_meal_plan: string (nullable = true)\n",
      " |-- required_car_parking_space: integer (nullable = true)\n",
      " |-- room_type_reserved: string (nullable = true)\n",
      " |-- lead_time: integer (nullable = true)\n",
      " |-- arrival_year: integer (nullable = true)\n",
      " |-- arrival_month: integer (nullable = true)\n",
      " |-- arrival_date: integer (nullable = true)\n",
      " |-- market_segment_type: string (nullable = true)\n",
      " |-- repeated_guest: integer (nullable = true)\n",
      " |-- no_of_previous_cancellations: integer (nullable = true)\n",
      " |-- no_of_previous_bookings_not_canceled: integer (nullable = true)\n",
      " |-- avg_price_per_room: double (nullable = true)\n",
      " |-- no_of_special_requests: integer (nullable = true)\n",
      "\n"
     ]
    }
   ],
   "source": [
    "X.printSchema()"
   ]
  },
  {
   "cell_type": "code",
   "execution_count": 87,
   "id": "bf776559",
   "metadata": {},
   "outputs": [
    {
     "name": "stdout",
     "output_type": "stream",
     "text": [
      "+------------------------+\n",
      "|count(type_of_meal_plan)|\n",
      "+------------------------+\n",
      "|                       4|\n",
      "+------------------------+\n",
      "\n"
     ]
    }
   ],
   "source": [
    "train.agg(F.count_distinct('type_of_meal_plan')).show()"
   ]
  },
  {
   "cell_type": "code",
   "execution_count": 53,
   "id": "fcf4a5ec",
   "metadata": {},
   "outputs": [
    {
     "name": "stdout",
     "output_type": "stream",
     "text": [
      "+-----------------+-----+\n",
      "|type_of_meal_plan|count|\n",
      "+-----------------+-----+\n",
      "|      Meal Plan 1|27835|\n",
      "|     Not Selected| 5130|\n",
      "|      Meal Plan 3|    5|\n",
      "|      Meal Plan 2| 3305|\n",
      "+-----------------+-----+\n",
      "\n"
     ]
    }
   ],
   "source": [
    "X.groupBy('type_of_meal_plan').count().show()"
   ]
  },
  {
   "cell_type": "code",
   "execution_count": 55,
   "id": "6d11ab22",
   "metadata": {},
   "outputs": [
    {
     "name": "stdout",
     "output_type": "stream",
     "text": [
      "+-------------------------+\n",
      "|count(room_type_reserved)|\n",
      "+-------------------------+\n",
      "|                        7|\n",
      "+-------------------------+\n",
      "\n"
     ]
    }
   ],
   "source": [
    "X.agg(F.count_distinct('room_type_reserved')).show()"
   ]
  },
  {
   "cell_type": "code",
   "execution_count": 56,
   "id": "08dd2d78",
   "metadata": {},
   "outputs": [
    {
     "name": "stdout",
     "output_type": "stream",
     "text": [
      "+------------------+-----+\n",
      "|room_type_reserved|count|\n",
      "+------------------+-----+\n",
      "|       Room_Type 7|  158|\n",
      "|       Room_Type 2|  692|\n",
      "|       Room_Type 3|    7|\n",
      "|       Room_Type 1|28130|\n",
      "|       Room_Type 5|  265|\n",
      "|       Room_Type 6|  966|\n",
      "|       Room_Type 4| 6057|\n",
      "+------------------+-----+\n",
      "\n"
     ]
    }
   ],
   "source": [
    "X.groupBy('room_type_reserved').count().show()"
   ]
  },
  {
   "cell_type": "code",
   "execution_count": 57,
   "id": "b9ba4af6",
   "metadata": {},
   "outputs": [],
   "source": [
    "from pyspark.ml.feature import (OneHotEncoder, StringIndexer)"
   ]
  },
  {
   "cell_type": "code",
   "execution_count": 145,
   "id": "b84f3716",
   "metadata": {},
   "outputs": [],
   "source": [
    "catCols = [x for (x,dataType) in train.dtypes if (dataType == 'string') & (x!= 'booking_status')]\n",
    "numdata = train.drop('type_of_meal_plan','room_type_reserved','market_segment_type','booking_status')\n",
    "numCols = numdata.columns"
   ]
  },
  {
   "cell_type": "code",
   "execution_count": 146,
   "id": "ef99308c",
   "metadata": {},
   "outputs": [
    {
     "data": {
      "text/plain": [
       "['type_of_meal_plan', 'room_type_reserved', 'market_segment_type']"
      ]
     },
     "execution_count": 146,
     "metadata": {},
     "output_type": "execute_result"
    }
   ],
   "source": [
    "catCols"
   ]
  },
  {
   "cell_type": "code",
   "execution_count": 147,
   "id": "b68aa695",
   "metadata": {},
   "outputs": [
    {
     "data": {
      "text/plain": [
       "['no_of_adults',\n",
       " 'no_of_children',\n",
       " 'no_of_weekend_nights',\n",
       " 'no_of_week_nights',\n",
       " 'required_car_parking_space',\n",
       " 'lead_time',\n",
       " 'arrival_year',\n",
       " 'arrival_month',\n",
       " 'arrival_date',\n",
       " 'repeated_guest',\n",
       " 'no_of_previous_cancellations',\n",
       " 'no_of_previous_bookings_not_canceled',\n",
       " 'avg_price_per_room',\n",
       " 'no_of_special_requests']"
      ]
     },
     "execution_count": 147,
     "metadata": {},
     "output_type": "execute_result"
    }
   ],
   "source": [
    "numCols"
   ]
  },
  {
   "cell_type": "code",
   "execution_count": 148,
   "id": "2491ad97",
   "metadata": {},
   "outputs": [],
   "source": [
    "string_indexer = [StringIndexer(inputCol=x,outputCol=x + \"_StringIndexer\", handleInvalid='skip') for x in catCols]"
   ]
  },
  {
   "cell_type": "code",
   "execution_count": 149,
   "id": "514597b9",
   "metadata": {},
   "outputs": [
    {
     "data": {
      "text/plain": [
       "[StringIndexer_4f9aa032859c,\n",
       " StringIndexer_66e4b99c8c26,\n",
       " StringIndexer_557cd10194a7]"
      ]
     },
     "execution_count": 149,
     "metadata": {},
     "output_type": "execute_result"
    }
   ],
   "source": [
    "string_indexer"
   ]
  },
  {
   "cell_type": "code",
   "execution_count": 150,
   "id": "2e365f2e",
   "metadata": {},
   "outputs": [],
   "source": [
    "onehot_encoder  = [OneHotEncoder(inputCols= [f\"{x}_StringIndexer\" for x in catCols],\n",
    "                                 outputCols= [f\"{x}_OneHotEncoder\" for x in catCols]\n",
    "                                )\n",
    "                  ]\n",
    "                                 "
   ]
  },
  {
   "cell_type": "code",
   "execution_count": 151,
   "id": "b45b19eb",
   "metadata": {},
   "outputs": [
    {
     "data": {
      "text/plain": [
       "[OneHotEncoder_dd5bf824eb69]"
      ]
     },
     "execution_count": 151,
     "metadata": {},
     "output_type": "execute_result"
    }
   ],
   "source": [
    "onehot_encoder"
   ]
  },
  {
   "cell_type": "markdown",
   "id": "f6535d21",
   "metadata": {},
   "source": [
    "### Transform all your features into one feature with VectorAssembler"
   ]
  },
  {
   "cell_type": "code",
   "execution_count": 152,
   "id": "630caac5",
   "metadata": {},
   "outputs": [],
   "source": [
    "from pyspark.ml.feature import VectorAssembler"
   ]
  },
  {
   "cell_type": "code",
   "execution_count": 153,
   "id": "4af4ce5e",
   "metadata": {},
   "outputs": [],
   "source": [
    "assemblerinput = [x for x in numCols]"
   ]
  },
  {
   "cell_type": "code",
   "execution_count": 154,
   "id": "d792268b",
   "metadata": {},
   "outputs": [],
   "source": [
    "assemblerinput += [f\"{x}_OneHotEncoder\" for x in catCols]"
   ]
  },
  {
   "cell_type": "code",
   "execution_count": 155,
   "id": "a68dfc83",
   "metadata": {},
   "outputs": [
    {
     "data": {
      "text/plain": [
       "['no_of_adults',\n",
       " 'no_of_children',\n",
       " 'no_of_weekend_nights',\n",
       " 'no_of_week_nights',\n",
       " 'required_car_parking_space',\n",
       " 'lead_time',\n",
       " 'arrival_year',\n",
       " 'arrival_month',\n",
       " 'arrival_date',\n",
       " 'repeated_guest',\n",
       " 'no_of_previous_cancellations',\n",
       " 'no_of_previous_bookings_not_canceled',\n",
       " 'avg_price_per_room',\n",
       " 'no_of_special_requests',\n",
       " 'type_of_meal_plan_OneHotEncoder',\n",
       " 'room_type_reserved_OneHotEncoder',\n",
       " 'market_segment_type_OneHotEncoder']"
      ]
     },
     "execution_count": 155,
     "metadata": {},
     "output_type": "execute_result"
    }
   ],
   "source": [
    "assemblerinput"
   ]
  },
  {
   "cell_type": "code",
   "execution_count": 156,
   "id": "06f49085",
   "metadata": {},
   "outputs": [],
   "source": [
    "vector_assembler = VectorAssembler(inputCols=assemblerinput,outputCol=\"Vector_Assembler_features\")"
   ]
  },
  {
   "cell_type": "markdown",
   "id": "ugL1fDmu5sU-",
   "metadata": {
    "id": "ugL1fDmu5sU-"
   },
   "source": [
    "**Splitting the data into a 70% train and 30% test set**\n",
    "\n"
   ]
  },
  {
   "cell_type": "code",
   "execution_count": 81,
   "id": "Xve9js0S5xPV",
   "metadata": {
    "id": "Xve9js0S5xPV"
   },
   "outputs": [],
   "source": [
    "train,test = data.randomSplit([0.7,0.3], seed = 7)"
   ]
  },
  {
   "cell_type": "code",
   "execution_count": 82,
   "id": "ecological-principal",
   "metadata": {
    "id": "ecological-principal"
   },
   "outputs": [
    {
     "name": "stdout",
     "output_type": "stream",
     "text": [
      "Shape of Training set is 25358 records\n",
      "Shape of test set 10917 records\n"
     ]
    }
   ],
   "source": [
    "print(f\"Shape of Training set is {train.count()} records\")\n",
    "print(f\"Shape of test set {test.count()} records\")\n"
   ]
  },
  {
   "cell_type": "markdown",
   "id": "eb2ba673",
   "metadata": {},
   "source": [
    "### build a pipeline"
   ]
  },
  {
   "cell_type": "code",
   "execution_count": 157,
   "id": "26ad80ac",
   "metadata": {},
   "outputs": [],
   "source": [
    "stages = []\n",
    "stages+= string_indexer\n",
    "stages += onehot_encoder\n",
    "stages += [vector_assembler]"
   ]
  },
  {
   "cell_type": "code",
   "execution_count": 158,
   "id": "319951e7",
   "metadata": {},
   "outputs": [],
   "source": [
    "from pyspark.ml import Pipeline"
   ]
  },
  {
   "cell_type": "code",
   "execution_count": 159,
   "id": "2b047122",
   "metadata": {},
   "outputs": [],
   "source": [
    "pipeline = Pipeline().setStages(stages)"
   ]
  },
  {
   "cell_type": "code",
   "execution_count": 160,
   "id": "25e1c213",
   "metadata": {},
   "outputs": [],
   "source": [
    "model = pipeline.fit(train)"
   ]
  },
  {
   "cell_type": "code",
   "execution_count": 161,
   "id": "798966a4",
   "metadata": {},
   "outputs": [],
   "source": [
    "pp_df = model.transform(test)"
   ]
  },
  {
   "cell_type": "code",
   "execution_count": 169,
   "id": "fbe78673",
   "metadata": {},
   "outputs": [
    {
     "data": {
      "text/plain": [
       "['no_of_adults',\n",
       " 'no_of_children',\n",
       " 'no_of_weekend_nights',\n",
       " 'no_of_week_nights',\n",
       " 'type_of_meal_plan',\n",
       " 'required_car_parking_space',\n",
       " 'room_type_reserved',\n",
       " 'lead_time',\n",
       " 'arrival_year',\n",
       " 'arrival_month',\n",
       " 'arrival_date',\n",
       " 'market_segment_type',\n",
       " 'repeated_guest',\n",
       " 'no_of_previous_cancellations',\n",
       " 'no_of_previous_bookings_not_canceled',\n",
       " 'avg_price_per_room',\n",
       " 'no_of_special_requests',\n",
       " 'booking_status',\n",
       " 'type_of_meal_plan_StringIndexer',\n",
       " 'room_type_reserved_StringIndexer',\n",
       " 'market_segment_type_StringIndexer',\n",
       " 'type_of_meal_plan_OneHotEncoder',\n",
       " 'room_type_reserved_OneHotEncoder',\n",
       " 'market_segment_type_OneHotEncoder',\n",
       " 'Vector_Assembler_features']"
      ]
     },
     "execution_count": 169,
     "metadata": {},
     "output_type": "execute_result"
    }
   ],
   "source": [
    "pp_df.columns"
   ]
  },
  {
   "cell_type": "code",
   "execution_count": 167,
   "id": "7cf7a190",
   "metadata": {},
   "outputs": [
    {
     "name": "stdout",
     "output_type": "stream",
     "text": [
      "+------------+--------------+--------------------+-----------------+-----------------+--------------------------+------------------+---------+------------+-------------+------------+-------------------+--------------+----------------------------+------------------------------------+------------------+----------------------+-------------------------+\n",
      "|no_of_adults|no_of_children|no_of_weekend_nights|no_of_week_nights|type_of_meal_plan|required_car_parking_space|room_type_reserved|lead_time|arrival_year|arrival_month|arrival_date|market_segment_type|repeated_guest|no_of_previous_cancellations|no_of_previous_bookings_not_canceled|avg_price_per_room|no_of_special_requests|Vector_Assembler_features|\n",
      "+------------+--------------+--------------------+-----------------+-----------------+--------------------------+------------------+---------+------------+-------------+------------+-------------------+--------------+----------------------------+------------------------------------+------------------+----------------------+-------------------------+\n",
      "|           0|             2|                   0|                1|      Meal Plan 1|                         0|       Room_Type 2|        0|        2018|            1|           7|             Online|             0|                           0|                                   0|               6.0|                     0|     (27,[1,3,6,7,8,12...|\n",
      "|           0|             2|                   0|                1|      Meal Plan 1|                         0|       Room_Type 2|       11|        2018|            8|          19|             Online|             0|                           0|                                   0|             127.6|                     1|     (27,[1,3,5,6,7,8,...|\n",
      "|           0|             2|                   0|                1|      Meal Plan 1|                         0|       Room_Type 2|       15|        2017|            8|          28|      Complementary|             0|                           0|                                   0|               0.0|                     1|     (27,[1,3,5,6,7,8,...|\n",
      "|           0|             2|                   0|                1|      Meal Plan 1|                         0|       Room_Type 2|       65|        2018|            8|           4|             Online|             0|                           0|                                   0|            127.38|                     1|     (27,[1,3,5,6,7,8,...|\n",
      "|           0|             2|                   0|                1|      Meal Plan 1|                         0|       Room_Type 2|       71|        2018|           10|           7|             Online|             0|                           0|                                   0|             108.0|                     1|     (27,[1,3,5,6,7,8,...|\n",
      "|           0|             2|                   0|                1|      Meal Plan 1|                         0|       Room_Type 2|       72|        2018|            7|          27|             Online|             0|                           0|                                   0|             97.54|                     0|     (27,[1,3,5,6,7,8,...|\n",
      "|           0|             2|                   0|                1|      Meal Plan 1|                         0|       Room_Type 2|      143|        2018|            8|          18|             Online|             0|                           0|                                   0|             97.54|                     1|     (27,[1,3,5,6,7,8,...|\n",
      "|           0|             2|                   0|                1|      Meal Plan 1|                         0|       Room_Type 2|      193|        2018|            7|          15|             Online|             0|                           0|                                   0|              86.5|                     0|     (27,[1,3,5,6,7,8,...|\n",
      "|           0|             2|                   0|                1|      Meal Plan 1|                         1|       Room_Type 6|        0|        2018|            4|           8|             Online|             0|                           0|                                   0|               6.0|                     0|     (27,[1,3,4,6,7,8,...|\n",
      "|           0|             2|                   0|                2|      Meal Plan 1|                         0|       Room_Type 2|       33|        2018|            1|           6|             Online|             0|                           0|                                   0|               6.0|                     1|     (27,[1,3,5,6,7,8,...|\n",
      "|           0|             2|                   0|                2|      Meal Plan 1|                         0|       Room_Type 2|       61|        2018|           12|           8|             Online|             0|                           0|                                   0|              91.6|                     0|     (27,[1,3,5,6,7,8,...|\n",
      "|           0|             2|                   0|                2|      Meal Plan 1|                         0|       Room_Type 2|       66|        2018|           10|          20|             Online|             0|                           0|                                   0|             108.0|                     1|     (27,[1,3,5,6,7,8,...|\n",
      "|           0|             2|                   0|                2|      Meal Plan 1|                         0|       Room_Type 2|      120|        2018|            6|          30|             Online|             0|                           0|                                   0|             97.55|                     0|     (27,[1,3,5,6,7,8,...|\n",
      "|           0|             2|                   0|                2|      Meal Plan 1|                         0|       Room_Type 2|      187|        2018|            7|           7|             Online|             0|                           0|                                   0|              86.5|                     1|     (27,[1,3,5,6,7,8,...|\n",
      "|           0|             2|                   0|                2|      Meal Plan 1|                         0|       Room_Type 2|      195|        2018|           12|           2|             Online|             0|                           0|                                   0|             71.22|                     0|     (27,[1,3,5,6,7,8,...|\n",
      "|           0|             2|                   0|                3|      Meal Plan 1|                         0|       Room_Type 2|       13|        2018|            1|          21|             Online|             0|                           0|                                   0|             77.25|                     0|     (27,[1,3,5,6,7,8,...|\n",
      "|           0|             2|                   0|                3|      Meal Plan 1|                         0|       Room_Type 2|       14|        2018|            6|           9|             Online|             0|                           0|                                   0|            116.49|                     0|     (27,[1,3,5,6,7,8,...|\n",
      "|           0|             2|                   0|                3|      Meal Plan 1|                         0|       Room_Type 2|       40|        2018|            1|          14|             Online|             0|                           0|                                   0|               6.0|                     1|     (27,[1,3,5,6,7,8,...|\n",
      "|           0|             2|                   0|                3|      Meal Plan 1|                         0|       Room_Type 2|       85|        2018|            7|          26|             Online|             0|                           0|                                   0|            106.54|                     1|     (27,[1,3,5,6,7,8,...|\n",
      "|           0|             2|                   0|                3|      Meal Plan 1|                         0|       Room_Type 2|      113|        2018|            3|          31|             Online|             0|                           0|                                   0|              78.0|                     1|     (27,[1,3,5,6,7,8,...|\n",
      "+------------+--------------+--------------------+-----------------+-----------------+--------------------------+------------------+---------+------------+-------------+------------+-------------------+--------------+----------------------------+------------------------------------+------------------+----------------------+-------------------------+\n",
      "only showing top 20 rows\n",
      "\n"
     ]
    }
   ],
   "source": [
    "pp_df.select('no_of_adults',\n",
    " 'no_of_children',\n",
    " 'no_of_weekend_nights',\n",
    " 'no_of_week_nights',\n",
    " 'type_of_meal_plan',\n",
    " 'required_car_parking_space',\n",
    " 'room_type_reserved',\n",
    " 'lead_time',\n",
    " 'arrival_year',\n",
    " 'arrival_month',\n",
    " 'arrival_date',\n",
    " 'market_segment_type',\n",
    " 'repeated_guest',\n",
    " 'no_of_previous_cancellations',\n",
    " 'no_of_previous_bookings_not_canceled',\n",
    " 'avg_price_per_room',\n",
    " 'no_of_special_requests',\n",
    " 'Vector_Assembler_features').show()"
   ]
  },
  {
   "cell_type": "code",
   "execution_count": null,
   "id": "5aaa3fc4",
   "metadata": {},
   "outputs": [],
   "source": []
  },
  {
   "cell_type": "markdown",
   "id": "TIvULwEQ6NJO",
   "metadata": {
    "id": "TIvULwEQ6NJO"
   },
   "source": [
    "**Also, let's create a function to calculate and print the classification report and confusion matrix so that we don't have to rewrite the same code repeatedly for each model.**"
   ]
  },
  {
   "cell_type": "markdown",
   "id": "V6r7bPlp8W3E",
   "metadata": {
    "id": "V6r7bPlp8W3E"
   },
   "source": [
    "## **Building the model**\n",
    "\n",
    "We will be building 4 different models:\n",
    "\n",
    "- **Logistic Regression**"
   ]
  },
  {
   "cell_type": "code",
   "execution_count": 168,
   "id": "b47d49fc",
   "metadata": {},
   "outputs": [],
   "source": [
    "from pyspark.ml.classification import LogisticRegression"
   ]
  },
  {
   "cell_type": "markdown",
   "id": "bT_PaZ94M5hb",
   "metadata": {
    "id": "bT_PaZ94M5hb"
   },
   "source": [
    "#### **Building a Logistic Regression model**"
   ]
  },
  {
   "cell_type": "code",
   "execution_count": 179,
   "id": "nominated-tumor",
   "metadata": {
    "id": "nominated-tumor"
   },
   "outputs": [],
   "source": [
    "data = pp_df.select(col('Vector_Assembler_features').alias('features'),\n",
    "                   col('booking_status').alias('label'))"
   ]
  },
  {
   "cell_type": "code",
   "execution_count": 180,
   "id": "61631692",
   "metadata": {},
   "outputs": [
    {
     "name": "stdout",
     "output_type": "stream",
     "text": [
      "+------------+-----+\n",
      "|       label|count|\n",
      "+------------+-----+\n",
      "|Not_Canceled| 7317|\n",
      "|    Canceled| 3600|\n",
      "+------------+-----+\n",
      "\n"
     ]
    }
   ],
   "source": [
    "data.groupBy('label').count().show()"
   ]
  },
  {
   "cell_type": "code",
   "execution_count": 182,
   "id": "c9524d58",
   "metadata": {},
   "outputs": [],
   "source": [
    "data = data.withColumn('label', when(data['label'] == 'Not Canceled', lit(0)).otherwise(lit(1)))"
   ]
  },
  {
   "cell_type": "code",
   "execution_count": 183,
   "id": "9eb005bf",
   "metadata": {},
   "outputs": [
    {
     "name": "stdout",
     "output_type": "stream",
     "text": [
      "+--------------------------------------------------------------------------------------+-----+\n",
      "|features                                                                              |label|\n",
      "+--------------------------------------------------------------------------------------+-----+\n",
      "|(27,[1,3,6,7,8,12,14,20,23],[2.0,1.0,2018.0,1.0,7.0,6.0,1.0,1.0,1.0])                 |1    |\n",
      "|(27,[1,3,5,6,7,8,12,13,14,20,23],[2.0,1.0,11.0,2018.0,8.0,19.0,127.6,1.0,1.0,1.0,1.0])|1    |\n",
      "|(27,[1,3,5,6,7,8,13,14,20,26],[2.0,1.0,15.0,2017.0,8.0,28.0,1.0,1.0,1.0,1.0])         |1    |\n",
      "|(27,[1,3,5,6,7,8,12,13,14,20,23],[2.0,1.0,65.0,2018.0,8.0,4.0,127.38,1.0,1.0,1.0,1.0])|1    |\n",
      "|(27,[1,3,5,6,7,8,12,13,14,20,23],[2.0,1.0,71.0,2018.0,10.0,7.0,108.0,1.0,1.0,1.0,1.0])|1    |\n",
      "+--------------------------------------------------------------------------------------+-----+\n",
      "only showing top 5 rows\n",
      "\n"
     ]
    }
   ],
   "source": [
    "data.show(5,truncate=False)"
   ]
  },
  {
   "cell_type": "code",
   "execution_count": 184,
   "id": "8566485f",
   "metadata": {},
   "outputs": [
    {
     "name": "stderr",
     "output_type": "stream",
     "text": [
      "\r\n",
      "[Stage 97:>                                                         (0 + 1) / 1]\r\n",
      "\r\n",
      "                                                                                \r"
     ]
    },
    {
     "name": "stdout",
     "output_type": "stream",
     "text": [
      "22/09/30 11:06:47 WARN Instrumentation: [7b37ef71] All labels are the same value and fitIntercept=true, so the coefficients will be zeros. Training is not needed.\n",
      "CPU times: user 4.78 ms, sys: 8.64 ms, total: 13.4 ms\n",
      "Wall time: 1.47 s\n"
     ]
    }
   ],
   "source": [
    "%%time\n",
    "model = LogisticRegression().fit(data)"
   ]
  },
  {
   "cell_type": "code",
   "execution_count": 186,
   "id": "c9435cbf",
   "metadata": {},
   "outputs": [
    {
     "data": {
      "text/plain": [
       "1.0"
      ]
     },
     "execution_count": 186,
     "metadata": {},
     "output_type": "execute_result"
    }
   ],
   "source": [
    "model.summary.accuracy"
   ]
  },
  {
   "cell_type": "code",
   "execution_count": 187,
   "id": "daa07c47",
   "metadata": {},
   "outputs": [
    {
     "name": "stdout",
     "output_type": "stream",
     "text": [
      "+------+---------+\n",
      "|recall|precision|\n",
      "+------+---------+\n",
      "|   0.0|      1.0|\n",
      "|   1.0|      1.0|\n",
      "+------+---------+\n",
      "\n",
      "22/09/30 16:12:16 WARN HeartbeatReceiver: Removing executor driver with no recent heartbeats: 14404291 ms exceeds timeout 120000 ms\n",
      "22/09/30 16:12:16 WARN SparkContext: Killing executors is not supported by current scheduler.\n"
     ]
    }
   ],
   "source": [
    "model.summary.pr.show()"
   ]
  }
 ],
 "metadata": {
  "colab": {
   "collapsed_sections": [],
   "name": "CHT_Graded_Project-Learner-Notebook",
   "provenance": []
  },
  "kernelspec": {
   "display_name": "Python 3 (ipykernel)",
   "language": "python",
   "name": "python3"
  },
  "language_info": {
   "codemirror_mode": {
    "name": "ipython",
    "version": 3
   },
   "file_extension": ".py",
   "mimetype": "text/x-python",
   "name": "python",
   "nbconvert_exporter": "python",
   "pygments_lexer": "ipython3",
   "version": "3.10.4"
  }
 },
 "nbformat": 4,
 "nbformat_minor": 5
}

{
 "cells": [
  {
   "cell_type": "markdown",
   "id": "dense-medicaid",
   "metadata": {
    "id": "dense-medicaid"
   },
   "source": [
    "# **Project - Hotel Booking Cancellation Prediction**\n",
    "\n",
    "\n",
    "\n",
    "---------------\n",
    "## **Problem Statement**\n",
    "\n",
    "### **Context**\n",
    "\n",
    "**A significant number of hotel bookings are called off due to cancellations or no-shows.** Typical reasons for cancellations include change of plans, scheduling conflicts, etc. This is often made easier by the option to do so free of charge or preferably at a low cost. This may be beneficial to hotel guests, but it is a less desirable and possibly revenue-diminishing factor for hotels to deal with. Such losses are particularly high on last-minute cancellations.\n",
    "\n",
    "The new technologies involving online booking channels have dramatically changed customers’ booking possibilities and behavior. This adds a further dimension to the challenge of how hotels handle cancellations, which are no longer limited to traditional booking and guest characteristics.\n",
    "\n",
    "This pattern of cancellations of bookings impacts a hotel on various fronts:\n",
    "1. **Loss of resources (revenue)** when the hotel cannot resell the room.\n",
    "2. **Additional costs of distribution channels** by increasing commissions or paying for publicity to help sell these rooms.\n",
    "3. **Lowering prices last minute**, so the hotel can resell a room, resulting in reducing the profit margin.\n",
    "4. **Human resources to make arrangements** for the guests.\n",
    "\n",
    "### **Objective**\n",
    "\n",
    "This increasing number of cancellations calls for a Machine Learning based solution that can help in predicting which booking is likely to be canceled. INN Hotels Group has a chain of hotels in Portugal - they are facing problems with this high number of booking cancellations and have reached out to your firm for data-driven solutions. You, as a Data Scientist, have to analyze the data provided to find which factors have a high influence on booking cancellations, build a predictive model that can predict which booking is going to be canceled in advance, and help in formulating profitable policies for cancellations and refunds.\n",
    "\n",
    "\n",
    "### **Data Description**\n",
    "\n",
    "The data contains the different attributes of customers' booking details. The detailed data dictionary is given below:\n",
    "\n",
    "\n",
    "**Data Dictionary**\n",
    "\n",
    "* **Booking_ID:** Unique identifier of each booking\n",
    "* **no_of_adults:** Number of adults\n",
    "* **no_of_children:** Number of children\n",
    "* **no_of_weekend_nights:** Number of weekend nights (Saturday or Sunday) the guest stayed or booked to stay at the hotel\n",
    "* **no_of_week_nights:** Number of weekday nights (Monday to Friday) the guest stayed or booked to stay at the hotel\n",
    "* **type_of_meal_plan:** Type of meal plan booked by the customer:\n",
    "    * Not Selected – No meal plan selected\n",
    "    * Meal Plan 1 – Breakfast\n",
    "    * Meal Plan 2 – Half board (breakfast and one other meal)\n",
    "    * Meal Plan 3 – Full board (breakfast, lunch, and dinner)\n",
    "* **required_car_parking_space:** Does the customer require a car parking space? (0 - No, 1- Yes)\n",
    "* **room_type_reserved:** Type of room reserved by the customer. The values are ciphered (encoded) by INN Hotels.\n",
    "* **lead_time:** Number of days between the date of booking and the arrival date\n",
    "* **arrival_year:** Year of arrival date\n",
    "* **arrival_month:** Month of arrival date\n",
    "* **arrival_date:** Date of the month\n",
    "* **market_segment_type:** Market segment designation.\n",
    "* **repeated_guest:** Is the customer a repeated guest? (0 - No, 1- Yes)\n",
    "* **no_of_previous_cancellations:** Number of previous bookings that were canceled by the customer prior to the current booking\n",
    "* **no_of_previous_bookings_not_canceled:** Number of previous bookings not canceled by the customer prior to the current booking\n",
    "* **avg_price_per_room:** Average price per day of the reservation; prices of the rooms are dynamic. (in euros)\n",
    "* **no_of_special_requests:** Total number of special requests made by the customer (e.g. high floor, view from the room, etc)\n",
    "* **booking_status:** Flag indicating if the booking was canceled or not."
   ]
  },
  {
   "cell_type": "markdown",
   "id": "tqfNqaJCQeEE",
   "metadata": {
    "id": "tqfNqaJCQeEE"
   },
   "source": [
    "## **Importing the libraries required**"
   ]
  },
  {
   "cell_type": "code",
   "execution_count": 1,
   "id": "proper-calgary",
   "metadata": {
    "id": "proper-calgary"
   },
   "outputs": [],
   "source": [
    "# Importing the basic libraries we will require for the project\n",
    "\n",
    "# Libraries to help with reading and manipulating data\n",
    "import pandas as pd\n",
    "import numpy as np\n",
    "\n",
    "# Libaries to help with data visualization\n",
    "import matplotlib.pyplot as plt\n",
    "import seaborn as sns\n",
    "sns.set()\n",
    "\n",
    "# Importing the Machine Learning models we require from Scikit-Learn\n",
    "from sklearn.linear_model import LogisticRegression\n",
    "from sklearn.svm import SVC\n",
    "from sklearn.tree import DecisionTreeClassifier\n",
    "from sklearn import tree\n",
    "from sklearn.ensemble import RandomForestClassifier\n",
    "\n",
    "# Importing the other functions we may require from Scikit-Learn\n",
    "from sklearn.model_selection import train_test_split, GridSearchCV\n",
    "from sklearn.preprocessing import MinMaxScaler, LabelEncoder, OneHotEncoder\n",
    "\n",
    "# To get diferent metric scores\n",
    "from sklearn.metrics import confusion_matrix,classification_report,roc_auc_score,plot_confusion_matrix,precision_recall_curve,roc_curve,make_scorer\n",
    "\n",
    "# Code to ignore warnings from function usage\n",
    "import warnings;\n",
    "import numpy as np\n",
    "warnings.filterwarnings('ignore')"
   ]
  },
  {
   "cell_type": "markdown",
   "id": "fantastic-rebel",
   "metadata": {
    "id": "fantastic-rebel"
   },
   "source": [
    "## **Loading the dataset**"
   ]
  },
  {
   "cell_type": "code",
   "execution_count": 2,
   "id": "precious-leonard",
   "metadata": {
    "id": "precious-leonard"
   },
   "outputs": [],
   "source": [
    "hotel = pd.read_csv(\"INNHotelsGroup.csv\")"
   ]
  },
  {
   "cell_type": "code",
   "execution_count": 3,
   "id": "geographic-gender",
   "metadata": {
    "id": "geographic-gender"
   },
   "outputs": [],
   "source": [
    "# Copying data to another variable to avoid any changes to original data\n",
    "data = hotel.copy()"
   ]
  },
  {
   "cell_type": "markdown",
   "id": "fD7H-dajQqyQ",
   "metadata": {
    "id": "fD7H-dajQqyQ"
   },
   "source": [
    "## **Overview of the dataset**"
   ]
  },
  {
   "cell_type": "markdown",
   "id": "convinced-blackberry",
   "metadata": {
    "id": "convinced-blackberry"
   },
   "source": [
    "### **Viewing the first and last 5 rows of the dataset**\n",
    "\n",
    "Let's **view the first few rows and last few rows** of the dataset in order to understand its structure a little better.\n",
    "\n",
    "We will use the head() and tail() methods from Pandas to do this."
   ]
  },
  {
   "cell_type": "code",
   "execution_count": 4,
   "id": "tested-adjustment",
   "metadata": {
    "id": "tested-adjustment"
   },
   "outputs": [
    {
     "data": {
      "text/html": [
       "<div>\n",
       "<style scoped>\n",
       "    .dataframe tbody tr th:only-of-type {\n",
       "        vertical-align: middle;\n",
       "    }\n",
       "\n",
       "    .dataframe tbody tr th {\n",
       "        vertical-align: top;\n",
       "    }\n",
       "\n",
       "    .dataframe thead th {\n",
       "        text-align: right;\n",
       "    }\n",
       "</style>\n",
       "<table border=\"1\" class=\"dataframe\">\n",
       "  <thead>\n",
       "    <tr style=\"text-align: right;\">\n",
       "      <th></th>\n",
       "      <th>Booking_ID</th>\n",
       "      <th>no_of_adults</th>\n",
       "      <th>no_of_children</th>\n",
       "      <th>no_of_weekend_nights</th>\n",
       "      <th>no_of_week_nights</th>\n",
       "      <th>type_of_meal_plan</th>\n",
       "      <th>required_car_parking_space</th>\n",
       "      <th>room_type_reserved</th>\n",
       "      <th>lead_time</th>\n",
       "      <th>arrival_year</th>\n",
       "      <th>arrival_month</th>\n",
       "      <th>arrival_date</th>\n",
       "      <th>market_segment_type</th>\n",
       "      <th>repeated_guest</th>\n",
       "      <th>no_of_previous_cancellations</th>\n",
       "      <th>no_of_previous_bookings_not_canceled</th>\n",
       "      <th>avg_price_per_room</th>\n",
       "      <th>no_of_special_requests</th>\n",
       "      <th>booking_status</th>\n",
       "    </tr>\n",
       "  </thead>\n",
       "  <tbody>\n",
       "    <tr>\n",
       "      <th>0</th>\n",
       "      <td>INN00001</td>\n",
       "      <td>2</td>\n",
       "      <td>0</td>\n",
       "      <td>1</td>\n",
       "      <td>2</td>\n",
       "      <td>Meal Plan 1</td>\n",
       "      <td>0</td>\n",
       "      <td>Room_Type 1</td>\n",
       "      <td>224</td>\n",
       "      <td>2017</td>\n",
       "      <td>10</td>\n",
       "      <td>2</td>\n",
       "      <td>Offline</td>\n",
       "      <td>0</td>\n",
       "      <td>0</td>\n",
       "      <td>0</td>\n",
       "      <td>65.00</td>\n",
       "      <td>0</td>\n",
       "      <td>Not_Canceled</td>\n",
       "    </tr>\n",
       "    <tr>\n",
       "      <th>1</th>\n",
       "      <td>INN00002</td>\n",
       "      <td>2</td>\n",
       "      <td>0</td>\n",
       "      <td>2</td>\n",
       "      <td>3</td>\n",
       "      <td>Not Selected</td>\n",
       "      <td>0</td>\n",
       "      <td>Room_Type 1</td>\n",
       "      <td>5</td>\n",
       "      <td>2018</td>\n",
       "      <td>11</td>\n",
       "      <td>6</td>\n",
       "      <td>Online</td>\n",
       "      <td>0</td>\n",
       "      <td>0</td>\n",
       "      <td>0</td>\n",
       "      <td>106.68</td>\n",
       "      <td>1</td>\n",
       "      <td>Not_Canceled</td>\n",
       "    </tr>\n",
       "    <tr>\n",
       "      <th>2</th>\n",
       "      <td>INN00003</td>\n",
       "      <td>1</td>\n",
       "      <td>0</td>\n",
       "      <td>2</td>\n",
       "      <td>1</td>\n",
       "      <td>Meal Plan 1</td>\n",
       "      <td>0</td>\n",
       "      <td>Room_Type 1</td>\n",
       "      <td>1</td>\n",
       "      <td>2018</td>\n",
       "      <td>2</td>\n",
       "      <td>28</td>\n",
       "      <td>Online</td>\n",
       "      <td>0</td>\n",
       "      <td>0</td>\n",
       "      <td>0</td>\n",
       "      <td>60.00</td>\n",
       "      <td>0</td>\n",
       "      <td>Canceled</td>\n",
       "    </tr>\n",
       "    <tr>\n",
       "      <th>3</th>\n",
       "      <td>INN00004</td>\n",
       "      <td>2</td>\n",
       "      <td>0</td>\n",
       "      <td>0</td>\n",
       "      <td>2</td>\n",
       "      <td>Meal Plan 1</td>\n",
       "      <td>0</td>\n",
       "      <td>Room_Type 1</td>\n",
       "      <td>211</td>\n",
       "      <td>2018</td>\n",
       "      <td>5</td>\n",
       "      <td>20</td>\n",
       "      <td>Online</td>\n",
       "      <td>0</td>\n",
       "      <td>0</td>\n",
       "      <td>0</td>\n",
       "      <td>100.00</td>\n",
       "      <td>0</td>\n",
       "      <td>Canceled</td>\n",
       "    </tr>\n",
       "    <tr>\n",
       "      <th>4</th>\n",
       "      <td>INN00005</td>\n",
       "      <td>2</td>\n",
       "      <td>0</td>\n",
       "      <td>1</td>\n",
       "      <td>1</td>\n",
       "      <td>Not Selected</td>\n",
       "      <td>0</td>\n",
       "      <td>Room_Type 1</td>\n",
       "      <td>48</td>\n",
       "      <td>2018</td>\n",
       "      <td>4</td>\n",
       "      <td>11</td>\n",
       "      <td>Online</td>\n",
       "      <td>0</td>\n",
       "      <td>0</td>\n",
       "      <td>0</td>\n",
       "      <td>94.50</td>\n",
       "      <td>0</td>\n",
       "      <td>Canceled</td>\n",
       "    </tr>\n",
       "  </tbody>\n",
       "</table>\n",
       "</div>"
      ],
      "text/plain": [
       "  Booking_ID  no_of_adults  no_of_children  no_of_weekend_nights  \\\n",
       "0   INN00001             2               0                     1   \n",
       "1   INN00002             2               0                     2   \n",
       "2   INN00003             1               0                     2   \n",
       "3   INN00004             2               0                     0   \n",
       "4   INN00005             2               0                     1   \n",
       "\n",
       "   no_of_week_nights type_of_meal_plan  required_car_parking_space  \\\n",
       "0                  2       Meal Plan 1                           0   \n",
       "1                  3      Not Selected                           0   \n",
       "2                  1       Meal Plan 1                           0   \n",
       "3                  2       Meal Plan 1                           0   \n",
       "4                  1      Not Selected                           0   \n",
       "\n",
       "  room_type_reserved  lead_time  arrival_year  arrival_month  arrival_date  \\\n",
       "0        Room_Type 1        224          2017             10             2   \n",
       "1        Room_Type 1          5          2018             11             6   \n",
       "2        Room_Type 1          1          2018              2            28   \n",
       "3        Room_Type 1        211          2018              5            20   \n",
       "4        Room_Type 1         48          2018              4            11   \n",
       "\n",
       "  market_segment_type  repeated_guest  no_of_previous_cancellations  \\\n",
       "0             Offline               0                             0   \n",
       "1              Online               0                             0   \n",
       "2              Online               0                             0   \n",
       "3              Online               0                             0   \n",
       "4              Online               0                             0   \n",
       "\n",
       "   no_of_previous_bookings_not_canceled  avg_price_per_room  \\\n",
       "0                                     0               65.00   \n",
       "1                                     0              106.68   \n",
       "2                                     0               60.00   \n",
       "3                                     0              100.00   \n",
       "4                                     0               94.50   \n",
       "\n",
       "   no_of_special_requests booking_status  \n",
       "0                       0   Not_Canceled  \n",
       "1                       1   Not_Canceled  \n",
       "2                       0       Canceled  \n",
       "3                       0       Canceled  \n",
       "4                       0       Canceled  "
      ]
     },
     "execution_count": 4,
     "metadata": {},
     "output_type": "execute_result"
    }
   ],
   "source": [
    "data.head()"
   ]
  },
  {
   "cell_type": "code",
   "execution_count": 5,
   "id": "demonstrated-charger",
   "metadata": {
    "id": "demonstrated-charger"
   },
   "outputs": [
    {
     "data": {
      "text/html": [
       "<div>\n",
       "<style scoped>\n",
       "    .dataframe tbody tr th:only-of-type {\n",
       "        vertical-align: middle;\n",
       "    }\n",
       "\n",
       "    .dataframe tbody tr th {\n",
       "        vertical-align: top;\n",
       "    }\n",
       "\n",
       "    .dataframe thead th {\n",
       "        text-align: right;\n",
       "    }\n",
       "</style>\n",
       "<table border=\"1\" class=\"dataframe\">\n",
       "  <thead>\n",
       "    <tr style=\"text-align: right;\">\n",
       "      <th></th>\n",
       "      <th>Booking_ID</th>\n",
       "      <th>no_of_adults</th>\n",
       "      <th>no_of_children</th>\n",
       "      <th>no_of_weekend_nights</th>\n",
       "      <th>no_of_week_nights</th>\n",
       "      <th>type_of_meal_plan</th>\n",
       "      <th>required_car_parking_space</th>\n",
       "      <th>room_type_reserved</th>\n",
       "      <th>lead_time</th>\n",
       "      <th>arrival_year</th>\n",
       "      <th>arrival_month</th>\n",
       "      <th>arrival_date</th>\n",
       "      <th>market_segment_type</th>\n",
       "      <th>repeated_guest</th>\n",
       "      <th>no_of_previous_cancellations</th>\n",
       "      <th>no_of_previous_bookings_not_canceled</th>\n",
       "      <th>avg_price_per_room</th>\n",
       "      <th>no_of_special_requests</th>\n",
       "      <th>booking_status</th>\n",
       "    </tr>\n",
       "  </thead>\n",
       "  <tbody>\n",
       "    <tr>\n",
       "      <th>36270</th>\n",
       "      <td>INN36271</td>\n",
       "      <td>3</td>\n",
       "      <td>0</td>\n",
       "      <td>2</td>\n",
       "      <td>6</td>\n",
       "      <td>Meal Plan 1</td>\n",
       "      <td>0</td>\n",
       "      <td>Room_Type 4</td>\n",
       "      <td>85</td>\n",
       "      <td>2018</td>\n",
       "      <td>8</td>\n",
       "      <td>3</td>\n",
       "      <td>Online</td>\n",
       "      <td>0</td>\n",
       "      <td>0</td>\n",
       "      <td>0</td>\n",
       "      <td>167.80</td>\n",
       "      <td>1</td>\n",
       "      <td>Not_Canceled</td>\n",
       "    </tr>\n",
       "    <tr>\n",
       "      <th>36271</th>\n",
       "      <td>INN36272</td>\n",
       "      <td>2</td>\n",
       "      <td>0</td>\n",
       "      <td>1</td>\n",
       "      <td>3</td>\n",
       "      <td>Meal Plan 1</td>\n",
       "      <td>0</td>\n",
       "      <td>Room_Type 1</td>\n",
       "      <td>228</td>\n",
       "      <td>2018</td>\n",
       "      <td>10</td>\n",
       "      <td>17</td>\n",
       "      <td>Online</td>\n",
       "      <td>0</td>\n",
       "      <td>0</td>\n",
       "      <td>0</td>\n",
       "      <td>90.95</td>\n",
       "      <td>2</td>\n",
       "      <td>Canceled</td>\n",
       "    </tr>\n",
       "    <tr>\n",
       "      <th>36272</th>\n",
       "      <td>INN36273</td>\n",
       "      <td>2</td>\n",
       "      <td>0</td>\n",
       "      <td>2</td>\n",
       "      <td>6</td>\n",
       "      <td>Meal Plan 1</td>\n",
       "      <td>0</td>\n",
       "      <td>Room_Type 1</td>\n",
       "      <td>148</td>\n",
       "      <td>2018</td>\n",
       "      <td>7</td>\n",
       "      <td>1</td>\n",
       "      <td>Online</td>\n",
       "      <td>0</td>\n",
       "      <td>0</td>\n",
       "      <td>0</td>\n",
       "      <td>98.39</td>\n",
       "      <td>2</td>\n",
       "      <td>Not_Canceled</td>\n",
       "    </tr>\n",
       "    <tr>\n",
       "      <th>36273</th>\n",
       "      <td>INN36274</td>\n",
       "      <td>2</td>\n",
       "      <td>0</td>\n",
       "      <td>0</td>\n",
       "      <td>3</td>\n",
       "      <td>Not Selected</td>\n",
       "      <td>0</td>\n",
       "      <td>Room_Type 1</td>\n",
       "      <td>63</td>\n",
       "      <td>2018</td>\n",
       "      <td>4</td>\n",
       "      <td>21</td>\n",
       "      <td>Online</td>\n",
       "      <td>0</td>\n",
       "      <td>0</td>\n",
       "      <td>0</td>\n",
       "      <td>94.50</td>\n",
       "      <td>0</td>\n",
       "      <td>Canceled</td>\n",
       "    </tr>\n",
       "    <tr>\n",
       "      <th>36274</th>\n",
       "      <td>INN36275</td>\n",
       "      <td>2</td>\n",
       "      <td>0</td>\n",
       "      <td>1</td>\n",
       "      <td>2</td>\n",
       "      <td>Meal Plan 1</td>\n",
       "      <td>0</td>\n",
       "      <td>Room_Type 1</td>\n",
       "      <td>207</td>\n",
       "      <td>2018</td>\n",
       "      <td>12</td>\n",
       "      <td>30</td>\n",
       "      <td>Offline</td>\n",
       "      <td>0</td>\n",
       "      <td>0</td>\n",
       "      <td>0</td>\n",
       "      <td>161.67</td>\n",
       "      <td>0</td>\n",
       "      <td>Not_Canceled</td>\n",
       "    </tr>\n",
       "  </tbody>\n",
       "</table>\n",
       "</div>"
      ],
      "text/plain": [
       "      Booking_ID  no_of_adults  no_of_children  no_of_weekend_nights  \\\n",
       "36270   INN36271             3               0                     2   \n",
       "36271   INN36272             2               0                     1   \n",
       "36272   INN36273             2               0                     2   \n",
       "36273   INN36274             2               0                     0   \n",
       "36274   INN36275             2               0                     1   \n",
       "\n",
       "       no_of_week_nights type_of_meal_plan  required_car_parking_space  \\\n",
       "36270                  6       Meal Plan 1                           0   \n",
       "36271                  3       Meal Plan 1                           0   \n",
       "36272                  6       Meal Plan 1                           0   \n",
       "36273                  3      Not Selected                           0   \n",
       "36274                  2       Meal Plan 1                           0   \n",
       "\n",
       "      room_type_reserved  lead_time  arrival_year  arrival_month  \\\n",
       "36270        Room_Type 4         85          2018              8   \n",
       "36271        Room_Type 1        228          2018             10   \n",
       "36272        Room_Type 1        148          2018              7   \n",
       "36273        Room_Type 1         63          2018              4   \n",
       "36274        Room_Type 1        207          2018             12   \n",
       "\n",
       "       arrival_date market_segment_type  repeated_guest  \\\n",
       "36270             3              Online               0   \n",
       "36271            17              Online               0   \n",
       "36272             1              Online               0   \n",
       "36273            21              Online               0   \n",
       "36274            30             Offline               0   \n",
       "\n",
       "       no_of_previous_cancellations  no_of_previous_bookings_not_canceled  \\\n",
       "36270                             0                                     0   \n",
       "36271                             0                                     0   \n",
       "36272                             0                                     0   \n",
       "36273                             0                                     0   \n",
       "36274                             0                                     0   \n",
       "\n",
       "       avg_price_per_room  no_of_special_requests booking_status  \n",
       "36270              167.80                       1   Not_Canceled  \n",
       "36271               90.95                       2       Canceled  \n",
       "36272               98.39                       2   Not_Canceled  \n",
       "36273               94.50                       0       Canceled  \n",
       "36274              161.67                       0   Not_Canceled  "
      ]
     },
     "execution_count": 5,
     "metadata": {},
     "output_type": "execute_result"
    }
   ],
   "source": [
    "data.tail()"
   ]
  },
  {
   "cell_type": "markdown",
   "id": "prepared-clause",
   "metadata": {
    "id": "prepared-clause"
   },
   "source": [
    "### **Understanding the shape of the dataset**"
   ]
  },
  {
   "cell_type": "code",
   "execution_count": 6,
   "id": "likely-scene",
   "metadata": {
    "id": "likely-scene"
   },
   "outputs": [
    {
     "data": {
      "text/plain": [
       "(36275, 19)"
      ]
     },
     "execution_count": 6,
     "metadata": {},
     "output_type": "execute_result"
    }
   ],
   "source": [
    "data.shape"
   ]
  },
  {
   "cell_type": "markdown",
   "id": "sacred-language",
   "metadata": {
    "id": "sacred-language"
   },
   "source": [
    "* The dataset has 36275 rows and 19 columns. "
   ]
  },
  {
   "cell_type": "markdown",
   "id": "creative-warner",
   "metadata": {
    "id": "creative-warner"
   },
   "source": [
    "### **Checking the data types of the columns for the dataset**"
   ]
  },
  {
   "cell_type": "code",
   "execution_count": 7,
   "id": "expanded-technique",
   "metadata": {
    "id": "expanded-technique"
   },
   "outputs": [
    {
     "name": "stdout",
     "output_type": "stream",
     "text": [
      "<class 'pandas.core.frame.DataFrame'>\n",
      "RangeIndex: 36275 entries, 0 to 36274\n",
      "Data columns (total 19 columns):\n",
      " #   Column                                Non-Null Count  Dtype  \n",
      "---  ------                                --------------  -----  \n",
      " 0   Booking_ID                            36275 non-null  object \n",
      " 1   no_of_adults                          36275 non-null  int64  \n",
      " 2   no_of_children                        36275 non-null  int64  \n",
      " 3   no_of_weekend_nights                  36275 non-null  int64  \n",
      " 4   no_of_week_nights                     36275 non-null  int64  \n",
      " 5   type_of_meal_plan                     36275 non-null  object \n",
      " 6   required_car_parking_space            36275 non-null  int64  \n",
      " 7   room_type_reserved                    36275 non-null  object \n",
      " 8   lead_time                             36275 non-null  int64  \n",
      " 9   arrival_year                          36275 non-null  int64  \n",
      " 10  arrival_month                         36275 non-null  int64  \n",
      " 11  arrival_date                          36275 non-null  int64  \n",
      " 12  market_segment_type                   36275 non-null  object \n",
      " 13  repeated_guest                        36275 non-null  int64  \n",
      " 14  no_of_previous_cancellations          36275 non-null  int64  \n",
      " 15  no_of_previous_bookings_not_canceled  36275 non-null  int64  \n",
      " 16  avg_price_per_room                    36275 non-null  float64\n",
      " 17  no_of_special_requests                36275 non-null  int64  \n",
      " 18  booking_status                        36275 non-null  object \n",
      "dtypes: float64(1), int64(13), object(5)\n",
      "memory usage: 5.3+ MB\n"
     ]
    }
   ],
   "source": [
    "data.info()"
   ]
  },
  {
   "cell_type": "markdown",
   "id": "august-hopkins",
   "metadata": {
    "id": "august-hopkins"
   },
   "source": [
    "* `Booking_ID`, `type_of_meal_plan`, `room_type_reserved`, `market_segment_type`, and `booking_status` are of object type while rest columns are numeric in nature.\n",
    "\n",
    "* There are no null values in the dataset."
   ]
  },
  {
   "cell_type": "markdown",
   "id": "JrjZHnfFQ4fh",
   "metadata": {
    "id": "JrjZHnfFQ4fh"
   },
   "source": [
    "### **Dropping duplicate valuesmif any**"
   ]
  },
  {
   "cell_type": "code",
   "execution_count": 8,
   "id": "greenhouse-vertical",
   "metadata": {
    "id": "greenhouse-vertical"
   },
   "outputs": [
    {
     "data": {
      "text/plain": [
       "0"
      ]
     },
     "execution_count": 8,
     "metadata": {},
     "output_type": "execute_result"
    }
   ],
   "source": [
    "# checking for duplicate values\n",
    "data.duplicated().sum()"
   ]
  },
  {
   "cell_type": "markdown",
   "id": "adjustable-programmer",
   "metadata": {
    "id": "adjustable-programmer"
   },
   "source": [
    "- There are **no duplicate values** in the data."
   ]
  },
  {
   "cell_type": "markdown",
   "id": "1-CD9xCkQ-bu",
   "metadata": {
    "id": "1-CD9xCkQ-bu"
   },
   "source": [
    "### **Dropping the unique values column**"
   ]
  },
  {
   "cell_type": "markdown",
   "id": "928c50b6",
   "metadata": {
    "id": "928c50b6"
   },
   "source": [
    "**Let's drop the Booking_ID column first before we proceed forward**, as a column with unique values will have almost no predictive power for the Machine Learning problem at hand."
   ]
  },
  {
   "cell_type": "code",
   "execution_count": 9,
   "id": "referenced-architect",
   "metadata": {
    "id": "referenced-architect"
   },
   "outputs": [],
   "source": [
    "data = data.drop([\"Booking_ID\"], axis=1)"
   ]
  },
  {
   "cell_type": "code",
   "execution_count": 10,
   "id": "40b248aa",
   "metadata": {
    "id": "40b248aa"
   },
   "outputs": [
    {
     "data": {
      "text/html": [
       "<div>\n",
       "<style scoped>\n",
       "    .dataframe tbody tr th:only-of-type {\n",
       "        vertical-align: middle;\n",
       "    }\n",
       "\n",
       "    .dataframe tbody tr th {\n",
       "        vertical-align: top;\n",
       "    }\n",
       "\n",
       "    .dataframe thead th {\n",
       "        text-align: right;\n",
       "    }\n",
       "</style>\n",
       "<table border=\"1\" class=\"dataframe\">\n",
       "  <thead>\n",
       "    <tr style=\"text-align: right;\">\n",
       "      <th></th>\n",
       "      <th>no_of_adults</th>\n",
       "      <th>no_of_children</th>\n",
       "      <th>no_of_weekend_nights</th>\n",
       "      <th>no_of_week_nights</th>\n",
       "      <th>type_of_meal_plan</th>\n",
       "      <th>required_car_parking_space</th>\n",
       "      <th>room_type_reserved</th>\n",
       "      <th>lead_time</th>\n",
       "      <th>arrival_year</th>\n",
       "      <th>arrival_month</th>\n",
       "      <th>arrival_date</th>\n",
       "      <th>market_segment_type</th>\n",
       "      <th>repeated_guest</th>\n",
       "      <th>no_of_previous_cancellations</th>\n",
       "      <th>no_of_previous_bookings_not_canceled</th>\n",
       "      <th>avg_price_per_room</th>\n",
       "      <th>no_of_special_requests</th>\n",
       "      <th>booking_status</th>\n",
       "    </tr>\n",
       "  </thead>\n",
       "  <tbody>\n",
       "    <tr>\n",
       "      <th>0</th>\n",
       "      <td>2</td>\n",
       "      <td>0</td>\n",
       "      <td>1</td>\n",
       "      <td>2</td>\n",
       "      <td>Meal Plan 1</td>\n",
       "      <td>0</td>\n",
       "      <td>Room_Type 1</td>\n",
       "      <td>224</td>\n",
       "      <td>2017</td>\n",
       "      <td>10</td>\n",
       "      <td>2</td>\n",
       "      <td>Offline</td>\n",
       "      <td>0</td>\n",
       "      <td>0</td>\n",
       "      <td>0</td>\n",
       "      <td>65.00</td>\n",
       "      <td>0</td>\n",
       "      <td>Not_Canceled</td>\n",
       "    </tr>\n",
       "    <tr>\n",
       "      <th>1</th>\n",
       "      <td>2</td>\n",
       "      <td>0</td>\n",
       "      <td>2</td>\n",
       "      <td>3</td>\n",
       "      <td>Not Selected</td>\n",
       "      <td>0</td>\n",
       "      <td>Room_Type 1</td>\n",
       "      <td>5</td>\n",
       "      <td>2018</td>\n",
       "      <td>11</td>\n",
       "      <td>6</td>\n",
       "      <td>Online</td>\n",
       "      <td>0</td>\n",
       "      <td>0</td>\n",
       "      <td>0</td>\n",
       "      <td>106.68</td>\n",
       "      <td>1</td>\n",
       "      <td>Not_Canceled</td>\n",
       "    </tr>\n",
       "    <tr>\n",
       "      <th>2</th>\n",
       "      <td>1</td>\n",
       "      <td>0</td>\n",
       "      <td>2</td>\n",
       "      <td>1</td>\n",
       "      <td>Meal Plan 1</td>\n",
       "      <td>0</td>\n",
       "      <td>Room_Type 1</td>\n",
       "      <td>1</td>\n",
       "      <td>2018</td>\n",
       "      <td>2</td>\n",
       "      <td>28</td>\n",
       "      <td>Online</td>\n",
       "      <td>0</td>\n",
       "      <td>0</td>\n",
       "      <td>0</td>\n",
       "      <td>60.00</td>\n",
       "      <td>0</td>\n",
       "      <td>Canceled</td>\n",
       "    </tr>\n",
       "    <tr>\n",
       "      <th>3</th>\n",
       "      <td>2</td>\n",
       "      <td>0</td>\n",
       "      <td>0</td>\n",
       "      <td>2</td>\n",
       "      <td>Meal Plan 1</td>\n",
       "      <td>0</td>\n",
       "      <td>Room_Type 1</td>\n",
       "      <td>211</td>\n",
       "      <td>2018</td>\n",
       "      <td>5</td>\n",
       "      <td>20</td>\n",
       "      <td>Online</td>\n",
       "      <td>0</td>\n",
       "      <td>0</td>\n",
       "      <td>0</td>\n",
       "      <td>100.00</td>\n",
       "      <td>0</td>\n",
       "      <td>Canceled</td>\n",
       "    </tr>\n",
       "    <tr>\n",
       "      <th>4</th>\n",
       "      <td>2</td>\n",
       "      <td>0</td>\n",
       "      <td>1</td>\n",
       "      <td>1</td>\n",
       "      <td>Not Selected</td>\n",
       "      <td>0</td>\n",
       "      <td>Room_Type 1</td>\n",
       "      <td>48</td>\n",
       "      <td>2018</td>\n",
       "      <td>4</td>\n",
       "      <td>11</td>\n",
       "      <td>Online</td>\n",
       "      <td>0</td>\n",
       "      <td>0</td>\n",
       "      <td>0</td>\n",
       "      <td>94.50</td>\n",
       "      <td>0</td>\n",
       "      <td>Canceled</td>\n",
       "    </tr>\n",
       "  </tbody>\n",
       "</table>\n",
       "</div>"
      ],
      "text/plain": [
       "   no_of_adults  no_of_children  no_of_weekend_nights  no_of_week_nights  \\\n",
       "0             2               0                     1                  2   \n",
       "1             2               0                     2                  3   \n",
       "2             1               0                     2                  1   \n",
       "3             2               0                     0                  2   \n",
       "4             2               0                     1                  1   \n",
       "\n",
       "  type_of_meal_plan  required_car_parking_space room_type_reserved  lead_time  \\\n",
       "0       Meal Plan 1                           0        Room_Type 1        224   \n",
       "1      Not Selected                           0        Room_Type 1          5   \n",
       "2       Meal Plan 1                           0        Room_Type 1          1   \n",
       "3       Meal Plan 1                           0        Room_Type 1        211   \n",
       "4      Not Selected                           0        Room_Type 1         48   \n",
       "\n",
       "   arrival_year  arrival_month  arrival_date market_segment_type  \\\n",
       "0          2017             10             2             Offline   \n",
       "1          2018             11             6              Online   \n",
       "2          2018              2            28              Online   \n",
       "3          2018              5            20              Online   \n",
       "4          2018              4            11              Online   \n",
       "\n",
       "   repeated_guest  no_of_previous_cancellations  \\\n",
       "0               0                             0   \n",
       "1               0                             0   \n",
       "2               0                             0   \n",
       "3               0                             0   \n",
       "4               0                             0   \n",
       "\n",
       "   no_of_previous_bookings_not_canceled  avg_price_per_room  \\\n",
       "0                                     0               65.00   \n",
       "1                                     0              106.68   \n",
       "2                                     0               60.00   \n",
       "3                                     0              100.00   \n",
       "4                                     0               94.50   \n",
       "\n",
       "   no_of_special_requests booking_status  \n",
       "0                       0   Not_Canceled  \n",
       "1                       1   Not_Canceled  \n",
       "2                       0       Canceled  \n",
       "3                       0       Canceled  \n",
       "4                       0       Canceled  "
      ]
     },
     "execution_count": 10,
     "metadata": {},
     "output_type": "execute_result"
    }
   ],
   "source": [
    "data.head()"
   ]
  },
  {
   "cell_type": "markdown",
   "id": "PT4JpT2NRKBB",
   "metadata": {
    "id": "PT4JpT2NRKBB"
   },
   "source": [
    "### **Checking the summary statistics of the dataset**\n",
    "\n"
   ]
  },
  {
   "cell_type": "code",
   "execution_count": 11,
   "id": "backed-solution",
   "metadata": {
    "id": "backed-solution"
   },
   "outputs": [
    {
     "data": {
      "text/html": [
       "<div>\n",
       "<style scoped>\n",
       "    .dataframe tbody tr th:only-of-type {\n",
       "        vertical-align: middle;\n",
       "    }\n",
       "\n",
       "    .dataframe tbody tr th {\n",
       "        vertical-align: top;\n",
       "    }\n",
       "\n",
       "    .dataframe thead th {\n",
       "        text-align: right;\n",
       "    }\n",
       "</style>\n",
       "<table border=\"1\" class=\"dataframe\">\n",
       "  <thead>\n",
       "    <tr style=\"text-align: right;\">\n",
       "      <th></th>\n",
       "      <th>count</th>\n",
       "      <th>mean</th>\n",
       "      <th>std</th>\n",
       "      <th>min</th>\n",
       "      <th>25%</th>\n",
       "      <th>50%</th>\n",
       "      <th>75%</th>\n",
       "      <th>max</th>\n",
       "    </tr>\n",
       "  </thead>\n",
       "  <tbody>\n",
       "    <tr>\n",
       "      <th>no_of_adults</th>\n",
       "      <td>36275.0</td>\n",
       "      <td>1.844962</td>\n",
       "      <td>0.518715</td>\n",
       "      <td>0.0</td>\n",
       "      <td>2.0</td>\n",
       "      <td>2.00</td>\n",
       "      <td>2.0</td>\n",
       "      <td>4.0</td>\n",
       "    </tr>\n",
       "    <tr>\n",
       "      <th>no_of_children</th>\n",
       "      <td>36275.0</td>\n",
       "      <td>0.105279</td>\n",
       "      <td>0.402648</td>\n",
       "      <td>0.0</td>\n",
       "      <td>0.0</td>\n",
       "      <td>0.00</td>\n",
       "      <td>0.0</td>\n",
       "      <td>10.0</td>\n",
       "    </tr>\n",
       "    <tr>\n",
       "      <th>no_of_weekend_nights</th>\n",
       "      <td>36275.0</td>\n",
       "      <td>0.810724</td>\n",
       "      <td>0.870644</td>\n",
       "      <td>0.0</td>\n",
       "      <td>0.0</td>\n",
       "      <td>1.00</td>\n",
       "      <td>2.0</td>\n",
       "      <td>7.0</td>\n",
       "    </tr>\n",
       "    <tr>\n",
       "      <th>no_of_week_nights</th>\n",
       "      <td>36275.0</td>\n",
       "      <td>2.204300</td>\n",
       "      <td>1.410905</td>\n",
       "      <td>0.0</td>\n",
       "      <td>1.0</td>\n",
       "      <td>2.00</td>\n",
       "      <td>3.0</td>\n",
       "      <td>17.0</td>\n",
       "    </tr>\n",
       "    <tr>\n",
       "      <th>required_car_parking_space</th>\n",
       "      <td>36275.0</td>\n",
       "      <td>0.030986</td>\n",
       "      <td>0.173281</td>\n",
       "      <td>0.0</td>\n",
       "      <td>0.0</td>\n",
       "      <td>0.00</td>\n",
       "      <td>0.0</td>\n",
       "      <td>1.0</td>\n",
       "    </tr>\n",
       "    <tr>\n",
       "      <th>lead_time</th>\n",
       "      <td>36275.0</td>\n",
       "      <td>85.232557</td>\n",
       "      <td>85.930817</td>\n",
       "      <td>0.0</td>\n",
       "      <td>17.0</td>\n",
       "      <td>57.00</td>\n",
       "      <td>126.0</td>\n",
       "      <td>443.0</td>\n",
       "    </tr>\n",
       "    <tr>\n",
       "      <th>arrival_year</th>\n",
       "      <td>36275.0</td>\n",
       "      <td>2017.820427</td>\n",
       "      <td>0.383836</td>\n",
       "      <td>2017.0</td>\n",
       "      <td>2018.0</td>\n",
       "      <td>2018.00</td>\n",
       "      <td>2018.0</td>\n",
       "      <td>2018.0</td>\n",
       "    </tr>\n",
       "    <tr>\n",
       "      <th>arrival_month</th>\n",
       "      <td>36275.0</td>\n",
       "      <td>7.423653</td>\n",
       "      <td>3.069894</td>\n",
       "      <td>1.0</td>\n",
       "      <td>5.0</td>\n",
       "      <td>8.00</td>\n",
       "      <td>10.0</td>\n",
       "      <td>12.0</td>\n",
       "    </tr>\n",
       "    <tr>\n",
       "      <th>arrival_date</th>\n",
       "      <td>36275.0</td>\n",
       "      <td>15.596995</td>\n",
       "      <td>8.740447</td>\n",
       "      <td>1.0</td>\n",
       "      <td>8.0</td>\n",
       "      <td>16.00</td>\n",
       "      <td>23.0</td>\n",
       "      <td>31.0</td>\n",
       "    </tr>\n",
       "    <tr>\n",
       "      <th>repeated_guest</th>\n",
       "      <td>36275.0</td>\n",
       "      <td>0.025637</td>\n",
       "      <td>0.158053</td>\n",
       "      <td>0.0</td>\n",
       "      <td>0.0</td>\n",
       "      <td>0.00</td>\n",
       "      <td>0.0</td>\n",
       "      <td>1.0</td>\n",
       "    </tr>\n",
       "    <tr>\n",
       "      <th>no_of_previous_cancellations</th>\n",
       "      <td>36275.0</td>\n",
       "      <td>0.023349</td>\n",
       "      <td>0.368331</td>\n",
       "      <td>0.0</td>\n",
       "      <td>0.0</td>\n",
       "      <td>0.00</td>\n",
       "      <td>0.0</td>\n",
       "      <td>13.0</td>\n",
       "    </tr>\n",
       "    <tr>\n",
       "      <th>no_of_previous_bookings_not_canceled</th>\n",
       "      <td>36275.0</td>\n",
       "      <td>0.153411</td>\n",
       "      <td>1.754171</td>\n",
       "      <td>0.0</td>\n",
       "      <td>0.0</td>\n",
       "      <td>0.00</td>\n",
       "      <td>0.0</td>\n",
       "      <td>58.0</td>\n",
       "    </tr>\n",
       "    <tr>\n",
       "      <th>avg_price_per_room</th>\n",
       "      <td>36275.0</td>\n",
       "      <td>103.423539</td>\n",
       "      <td>35.089424</td>\n",
       "      <td>0.0</td>\n",
       "      <td>80.3</td>\n",
       "      <td>99.45</td>\n",
       "      <td>120.0</td>\n",
       "      <td>540.0</td>\n",
       "    </tr>\n",
       "    <tr>\n",
       "      <th>no_of_special_requests</th>\n",
       "      <td>36275.0</td>\n",
       "      <td>0.619655</td>\n",
       "      <td>0.786236</td>\n",
       "      <td>0.0</td>\n",
       "      <td>0.0</td>\n",
       "      <td>0.00</td>\n",
       "      <td>1.0</td>\n",
       "      <td>5.0</td>\n",
       "    </tr>\n",
       "  </tbody>\n",
       "</table>\n",
       "</div>"
      ],
      "text/plain": [
       "                                        count         mean        std     min  \\\n",
       "no_of_adults                          36275.0     1.844962   0.518715     0.0   \n",
       "no_of_children                        36275.0     0.105279   0.402648     0.0   \n",
       "no_of_weekend_nights                  36275.0     0.810724   0.870644     0.0   \n",
       "no_of_week_nights                     36275.0     2.204300   1.410905     0.0   \n",
       "required_car_parking_space            36275.0     0.030986   0.173281     0.0   \n",
       "lead_time                             36275.0    85.232557  85.930817     0.0   \n",
       "arrival_year                          36275.0  2017.820427   0.383836  2017.0   \n",
       "arrival_month                         36275.0     7.423653   3.069894     1.0   \n",
       "arrival_date                          36275.0    15.596995   8.740447     1.0   \n",
       "repeated_guest                        36275.0     0.025637   0.158053     0.0   \n",
       "no_of_previous_cancellations          36275.0     0.023349   0.368331     0.0   \n",
       "no_of_previous_bookings_not_canceled  36275.0     0.153411   1.754171     0.0   \n",
       "avg_price_per_room                    36275.0   103.423539  35.089424     0.0   \n",
       "no_of_special_requests                36275.0     0.619655   0.786236     0.0   \n",
       "\n",
       "                                         25%      50%     75%     max  \n",
       "no_of_adults                             2.0     2.00     2.0     4.0  \n",
       "no_of_children                           0.0     0.00     0.0    10.0  \n",
       "no_of_weekend_nights                     0.0     1.00     2.0     7.0  \n",
       "no_of_week_nights                        1.0     2.00     3.0    17.0  \n",
       "required_car_parking_space               0.0     0.00     0.0     1.0  \n",
       "lead_time                               17.0    57.00   126.0   443.0  \n",
       "arrival_year                          2018.0  2018.00  2018.0  2018.0  \n",
       "arrival_month                            5.0     8.00    10.0    12.0  \n",
       "arrival_date                             8.0    16.00    23.0    31.0  \n",
       "repeated_guest                           0.0     0.00     0.0     1.0  \n",
       "no_of_previous_cancellations             0.0     0.00     0.0    13.0  \n",
       "no_of_previous_bookings_not_canceled     0.0     0.00     0.0    58.0  \n",
       "avg_price_per_room                      80.3    99.45   120.0   540.0  \n",
       "no_of_special_requests                   0.0     0.00     1.0     5.0  "
      ]
     },
     "execution_count": 11,
     "metadata": {},
     "output_type": "execute_result"
    }
   ],
   "source": [
    "data.describe().T"
   ]
  },
  {
   "cell_type": "markdown",
   "id": "personal-detector",
   "metadata": {
    "id": "personal-detector"
   },
   "source": [
    "**Observations**\n",
    "\n",
    "- The number of adults per room is an average of 2.\n",
    "- The number of children  is maximum of 10. This is very unlikely.\n",
    "- Some of the room don't have adults in them which is very unlikely.\n",
    "- For the number of previous cancellation, the maximum is 13\n",
    "- The average price per room is about 103.4. Some of the room has no price which is unlikely or are complimentary or promotional campaign by the hotel to their guests.\n",
    "- The number of previous bookings not cancelled is more than those cancelled with maximum number of 58 as against 13 for the previously cancelled bookings\n",
    "\n"
   ]
  },
  {
   "cell_type": "markdown",
   "id": "realistic-mortgage",
   "metadata": {
    "id": "realistic-mortgage"
   },
   "source": [
    "## **Exploratory Data Analysis**"
   ]
  },
  {
   "cell_type": "markdown",
   "id": "arbitrary-intelligence",
   "metadata": {
    "id": "arbitrary-intelligence"
   },
   "source": [
    "### **Univariate Analysis**"
   ]
  },
  {
   "cell_type": "markdown",
   "id": "mieBnCRTbgT-",
   "metadata": {
    "id": "mieBnCRTbgT-"
   },
   "source": [
    "Let's explore these variables in some more depth by observing their distributions."
   ]
  },
  {
   "cell_type": "markdown",
   "id": "X76cVRmTb-Wb",
   "metadata": {
    "id": "X76cVRmTb-Wb"
   },
   "source": [
    "We will first define a **hist_box() function** that provides both a boxplot and a histogram in the same visual, with which we can perform univariate analysis on the columns of this dataset."
   ]
  },
  {
   "cell_type": "code",
   "execution_count": 12,
   "id": "9k4V_XXCb495",
   "metadata": {
    "id": "9k4V_XXCb495"
   },
   "outputs": [],
   "source": [
    "\n",
    "# Function to plot a boxplot and a histogram along the same scale.\n",
    "\n",
    "\n",
    "def hist_box(data, feature, figsize=(12, 7), kde=False, bins=None):\n",
    "    \"\"\"\n",
    "    Boxplot and histogram combined\n",
    "\n",
    "    data: dataframe\n",
    "    feature: dataframe column\n",
    "    figsize: size of figure (default (12,7))\n",
    "    kde: whether to the show density curve (default False)\n",
    "    bins: number of bins for histogram (default None)\n",
    "    \"\"\"\n",
    "    f2, (ax_box2, ax_hist2) = plt.subplots(\n",
    "        nrows=2,  # Number of rows of the subplot grid= 2\n",
    "        sharex=True,  # x-axis will be shared among all subplots\n",
    "        gridspec_kw={\"height_ratios\": (0.25, 0.75)},\n",
    "        figsize=figsize,\n",
    "    )  # creating the 2 subplots\n",
    "    sns.boxplot(\n",
    "        data=data, x=feature, ax=ax_box2, showmeans=True, color=\"violet\"\n",
    "    )  # boxplot will be created and a star will indicate the mean value of the column\n",
    "    sns.histplot(\n",
    "        data=data, x=feature, kde=kde, ax=ax_hist2, bins=bins, palette=\"winter\"\n",
    "    ) if bins else sns.histplot(\n",
    "        data=data, x=feature, kde=kde, ax=ax_hist2\n",
    "    )  # For histogram\n",
    "    ax_hist2.axvline(\n",
    "        data[feature].mean(), color=\"green\", linestyle=\"--\"\n",
    "    )  # Add mean to the histogram\n",
    "    ax_hist2.axvline(\n",
    "        data[feature].median(), color=\"black\", linestyle=\"-\"\n",
    "    )  # Add median to the histogram"
   ]
  },
  {
   "cell_type": "markdown",
   "id": "GfcXGfchXHLV",
   "metadata": {
    "id": "GfcXGfchXHLV"
   },
   "source": [
    "#### **Plotting the histogram and box plot for the variable `Lead Time` using the hist_box function**"
   ]
  },
  {
   "cell_type": "code",
   "execution_count": 13,
   "id": "italian-imagination",
   "metadata": {
    "id": "italian-imagination"
   },
   "outputs": [
    {
     "data": {
      "image/png": "[encoded data removed]",
      "text/plain": [
       "<Figure size 864x504 with 2 Axes>"
      ]
     },
     "metadata": {
      "needs_background": "light"
     },
     "output_type": "display_data"
    }
   ],
   "source": [
    "hist_box(data,'lead_time') "
   ]
  },
  {
   "cell_type": "markdown",
   "id": "racial-pointer",
   "metadata": {
    "id": "racial-pointer"
   },
   "source": [
    "**Observations**\n",
    "- The distribution of lead time is right skewed\n",
    "- Number of days between the date of booking and the arrival date is in smaller increases."
   ]
  },
  {
   "cell_type": "markdown",
   "id": "UklkmdoEWPD-",
   "metadata": {
    "id": "UklkmdoEWPD-"
   },
   "source": [
    "#### **Plotting the histogram and box plot for the variable `Average Price per Room` using the hist_box function.**"
   ]
  },
  {
   "cell_type": "code",
   "execution_count": 14,
   "id": "29866b80",
   "metadata": {},
   "outputs": [
    {
     "data": {
      "text/plain": [
       "0.6671328746979995"
      ]
     },
     "execution_count": 14,
     "metadata": {},
     "output_type": "execute_result"
    }
   ],
   "source": [
    "data['avg_price_per_room'].skew()"
   ]
  },
  {
   "cell_type": "code",
   "execution_count": 15,
   "id": "liable-guess",
   "metadata": {
    "id": "liable-guess"
   },
   "outputs": [
    {
     "data": {
      "image/png": "[encoded data removed]",
      "text/plain": [
       "<Figure size 864x504 with 2 Axes>"
      ]
     },
     "metadata": {
      "needs_background": "light"
     },
     "output_type": "display_data"
    }
   ],
   "source": [
    "hist_box(data,\"avg_price_per_room\")"
   ]
  },
  {
   "cell_type": "markdown",
   "id": "little-metadata",
   "metadata": {
    "id": "little-metadata"
   },
   "source": [
    "**Observation**\n",
    "- The average price per room is almost normally distributed although the box plot shows outliers towards the right making it right skewed. Let us check these data."
   ]
  },
  {
   "cell_type": "code",
   "execution_count": 17,
   "id": "509158eb",
   "metadata": {},
   "outputs": [
    {
     "data": {
      "text/html": [
       "<div>\n",
       "<style scoped>\n",
       "    .dataframe tbody tr th:only-of-type {\n",
       "        vertical-align: middle;\n",
       "    }\n",
       "\n",
       "    .dataframe tbody tr th {\n",
       "        vertical-align: top;\n",
       "    }\n",
       "\n",
       "    .dataframe thead th {\n",
       "        text-align: right;\n",
       "    }\n",
       "</style>\n",
       "<table border=\"1\" class=\"dataframe\">\n",
       "  <thead>\n",
       "    <tr style=\"text-align: right;\">\n",
       "      <th></th>\n",
       "      <th>no_of_adults</th>\n",
       "      <th>no_of_children</th>\n",
       "      <th>no_of_weekend_nights</th>\n",
       "      <th>no_of_week_nights</th>\n",
       "      <th>type_of_meal_plan</th>\n",
       "      <th>required_car_parking_space</th>\n",
       "      <th>room_type_reserved</th>\n",
       "      <th>lead_time</th>\n",
       "      <th>arrival_year</th>\n",
       "      <th>arrival_month</th>\n",
       "      <th>arrival_date</th>\n",
       "      <th>market_segment_type</th>\n",
       "      <th>repeated_guest</th>\n",
       "      <th>no_of_previous_cancellations</th>\n",
       "      <th>no_of_previous_bookings_not_canceled</th>\n",
       "      <th>avg_price_per_room</th>\n",
       "      <th>no_of_special_requests</th>\n",
       "      <th>booking_status</th>\n",
       "    </tr>\n",
       "  </thead>\n",
       "  <tbody>\n",
       "    <tr>\n",
       "      <th>4150</th>\n",
       "      <td>2</td>\n",
       "      <td>2</td>\n",
       "      <td>1</td>\n",
       "      <td>2</td>\n",
       "      <td>Meal Plan 1</td>\n",
       "      <td>0</td>\n",
       "      <td>Room_Type 7</td>\n",
       "      <td>4</td>\n",
       "      <td>2018</td>\n",
       "      <td>7</td>\n",
       "      <td>8</td>\n",
       "      <td>Online</td>\n",
       "      <td>0</td>\n",
       "      <td>0</td>\n",
       "      <td>0</td>\n",
       "      <td>306.00</td>\n",
       "      <td>3</td>\n",
       "      <td>Not_Canceled</td>\n",
       "    </tr>\n",
       "    <tr>\n",
       "      <th>9461</th>\n",
       "      <td>3</td>\n",
       "      <td>0</td>\n",
       "      <td>0</td>\n",
       "      <td>2</td>\n",
       "      <td>Meal Plan 1</td>\n",
       "      <td>0</td>\n",
       "      <td>Room_Type 4</td>\n",
       "      <td>21</td>\n",
       "      <td>2018</td>\n",
       "      <td>12</td>\n",
       "      <td>30</td>\n",
       "      <td>Online</td>\n",
       "      <td>0</td>\n",
       "      <td>0</td>\n",
       "      <td>0</td>\n",
       "      <td>375.50</td>\n",
       "      <td>0</td>\n",
       "      <td>Not_Canceled</td>\n",
       "    </tr>\n",
       "    <tr>\n",
       "      <th>13944</th>\n",
       "      <td>2</td>\n",
       "      <td>2</td>\n",
       "      <td>0</td>\n",
       "      <td>1</td>\n",
       "      <td>Meal Plan 2</td>\n",
       "      <td>1</td>\n",
       "      <td>Room_Type 6</td>\n",
       "      <td>6</td>\n",
       "      <td>2018</td>\n",
       "      <td>8</td>\n",
       "      <td>13</td>\n",
       "      <td>Online</td>\n",
       "      <td>0</td>\n",
       "      <td>0</td>\n",
       "      <td>0</td>\n",
       "      <td>316.00</td>\n",
       "      <td>0</td>\n",
       "      <td>Canceled</td>\n",
       "    </tr>\n",
       "    <tr>\n",
       "      <th>14773</th>\n",
       "      <td>2</td>\n",
       "      <td>2</td>\n",
       "      <td>0</td>\n",
       "      <td>3</td>\n",
       "      <td>Meal Plan 1</td>\n",
       "      <td>0</td>\n",
       "      <td>Room_Type 6</td>\n",
       "      <td>28</td>\n",
       "      <td>2018</td>\n",
       "      <td>6</td>\n",
       "      <td>2</td>\n",
       "      <td>Online</td>\n",
       "      <td>0</td>\n",
       "      <td>0</td>\n",
       "      <td>0</td>\n",
       "      <td>332.57</td>\n",
       "      <td>1</td>\n",
       "      <td>Not_Canceled</td>\n",
       "    </tr>\n",
       "    <tr>\n",
       "      <th>20900</th>\n",
       "      <td>2</td>\n",
       "      <td>1</td>\n",
       "      <td>1</td>\n",
       "      <td>2</td>\n",
       "      <td>Meal Plan 2</td>\n",
       "      <td>0</td>\n",
       "      <td>Room_Type 1</td>\n",
       "      <td>173</td>\n",
       "      <td>2018</td>\n",
       "      <td>7</td>\n",
       "      <td>25</td>\n",
       "      <td>Offline</td>\n",
       "      <td>0</td>\n",
       "      <td>0</td>\n",
       "      <td>0</td>\n",
       "      <td>365.00</td>\n",
       "      <td>1</td>\n",
       "      <td>Canceled</td>\n",
       "    </tr>\n",
       "    <tr>\n",
       "      <th>25670</th>\n",
       "      <td>2</td>\n",
       "      <td>2</td>\n",
       "      <td>1</td>\n",
       "      <td>2</td>\n",
       "      <td>Meal Plan 2</td>\n",
       "      <td>0</td>\n",
       "      <td>Room_Type 6</td>\n",
       "      <td>11</td>\n",
       "      <td>2018</td>\n",
       "      <td>9</td>\n",
       "      <td>16</td>\n",
       "      <td>Online</td>\n",
       "      <td>0</td>\n",
       "      <td>0</td>\n",
       "      <td>0</td>\n",
       "      <td>306.00</td>\n",
       "      <td>0</td>\n",
       "      <td>Canceled</td>\n",
       "    </tr>\n",
       "    <tr>\n",
       "      <th>33114</th>\n",
       "      <td>2</td>\n",
       "      <td>0</td>\n",
       "      <td>0</td>\n",
       "      <td>1</td>\n",
       "      <td>Meal Plan 1</td>\n",
       "      <td>0</td>\n",
       "      <td>Room_Type 1</td>\n",
       "      <td>35</td>\n",
       "      <td>2018</td>\n",
       "      <td>3</td>\n",
       "      <td>25</td>\n",
       "      <td>Offline</td>\n",
       "      <td>0</td>\n",
       "      <td>0</td>\n",
       "      <td>0</td>\n",
       "      <td>540.00</td>\n",
       "      <td>0</td>\n",
       "      <td>Canceled</td>\n",
       "    </tr>\n",
       "    <tr>\n",
       "      <th>33955</th>\n",
       "      <td>2</td>\n",
       "      <td>0</td>\n",
       "      <td>1</td>\n",
       "      <td>2</td>\n",
       "      <td>Meal Plan 2</td>\n",
       "      <td>0</td>\n",
       "      <td>Room_Type 4</td>\n",
       "      <td>57</td>\n",
       "      <td>2018</td>\n",
       "      <td>12</td>\n",
       "      <td>30</td>\n",
       "      <td>Online</td>\n",
       "      <td>0</td>\n",
       "      <td>0</td>\n",
       "      <td>0</td>\n",
       "      <td>314.10</td>\n",
       "      <td>0</td>\n",
       "      <td>Not_Canceled</td>\n",
       "    </tr>\n",
       "    <tr>\n",
       "      <th>34306</th>\n",
       "      <td>2</td>\n",
       "      <td>2</td>\n",
       "      <td>0</td>\n",
       "      <td>3</td>\n",
       "      <td>Meal Plan 2</td>\n",
       "      <td>0</td>\n",
       "      <td>Room_Type 6</td>\n",
       "      <td>43</td>\n",
       "      <td>2018</td>\n",
       "      <td>12</td>\n",
       "      <td>29</td>\n",
       "      <td>Online</td>\n",
       "      <td>0</td>\n",
       "      <td>0</td>\n",
       "      <td>0</td>\n",
       "      <td>349.63</td>\n",
       "      <td>1</td>\n",
       "      <td>Not_Canceled</td>\n",
       "    </tr>\n",
       "  </tbody>\n",
       "</table>\n",
       "</div>"
      ],
      "text/plain": [
       "       no_of_adults  no_of_children  no_of_weekend_nights  no_of_week_nights  \\\n",
       "4150              2               2                     1                  2   \n",
       "9461              3               0                     0                  2   \n",
       "13944             2               2                     0                  1   \n",
       "14773             2               2                     0                  3   \n",
       "20900             2               1                     1                  2   \n",
       "25670             2               2                     1                  2   \n",
       "33114             2               0                     0                  1   \n",
       "33955             2               0                     1                  2   \n",
       "34306             2               2                     0                  3   \n",
       "\n",
       "      type_of_meal_plan  required_car_parking_space room_type_reserved  \\\n",
       "4150        Meal Plan 1                           0        Room_Type 7   \n",
       "9461        Meal Plan 1                           0        Room_Type 4   \n",
       "13944       Meal Plan 2                           1        Room_Type 6   \n",
       "14773       Meal Plan 1                           0        Room_Type 6   \n",
       "20900       Meal Plan 2                           0        Room_Type 1   \n",
       "25670       Meal Plan 2                           0        Room_Type 6   \n",
       "33114       Meal Plan 1                           0        Room_Type 1   \n",
       "33955       Meal Plan 2                           0        Room_Type 4   \n",
       "34306       Meal Plan 2                           0        Room_Type 6   \n",
       "\n",
       "       lead_time  arrival_year  arrival_month  arrival_date  \\\n",
       "4150           4          2018              7             8   \n",
       "9461          21          2018             12            30   \n",
       "13944          6          2018              8            13   \n",
       "14773         28          2018              6             2   \n",
       "20900        173          2018              7            25   \n",
       "25670         11          2018              9            16   \n",
       "33114         35          2018              3            25   \n",
       "33955         57          2018             12            30   \n",
       "34306         43          2018             12            29   \n",
       "\n",
       "      market_segment_type  repeated_guest  no_of_previous_cancellations  \\\n",
       "4150               Online               0                             0   \n",
       "9461               Online               0                             0   \n",
       "13944              Online               0                             0   \n",
       "14773              Online               0                             0   \n",
       "20900             Offline               0                             0   \n",
       "25670              Online               0                             0   \n",
       "33114             Offline               0                             0   \n",
       "33955              Online               0                             0   \n",
       "34306              Online               0                             0   \n",
       "\n",
       "       no_of_previous_bookings_not_canceled  avg_price_per_room  \\\n",
       "4150                                      0              306.00   \n",
       "9461                                      0              375.50   \n",
       "13944                                     0              316.00   \n",
       "14773                                     0              332.57   \n",
       "20900                                     0              365.00   \n",
       "25670                                     0              306.00   \n",
       "33114                                     0              540.00   \n",
       "33955                                     0              314.10   \n",
       "34306                                     0              349.63   \n",
       "\n",
       "       no_of_special_requests booking_status  \n",
       "4150                        3   Not_Canceled  \n",
       "9461                        0   Not_Canceled  \n",
       "13944                       0       Canceled  \n",
       "14773                       1   Not_Canceled  \n",
       "20900                       1       Canceled  \n",
       "25670                       0       Canceled  \n",
       "33114                       0       Canceled  \n",
       "33955                       0   Not_Canceled  \n",
       "34306                       1   Not_Canceled  "
      ]
     },
     "execution_count": 17,
     "metadata": {},
     "output_type": "execute_result"
    }
   ],
   "source": [
    "data[data['avg_price_per_room']>300]"
   ]
  },
  {
   "cell_type": "markdown",
   "id": "92b4a970",
   "metadata": {},
   "source": [
    "- There are about 9 rooms with average price per room above 300, 5 of which were not canceled."
   ]
  },
  {
   "cell_type": "markdown",
   "id": "KP4f-yCq72Xl",
   "metadata": {
    "id": "KP4f-yCq72Xl"
   },
   "source": [
    "**Interestingly some rooms have a price equal to 0. Let's check them.**"
   ]
  },
  {
   "cell_type": "code",
   "execution_count": 18,
   "id": "southern-organic",
   "metadata": {
    "id": "southern-organic"
   },
   "outputs": [
    {
     "data": {
      "text/html": [
       "<div>\n",
       "<style scoped>\n",
       "    .dataframe tbody tr th:only-of-type {\n",
       "        vertical-align: middle;\n",
       "    }\n",
       "\n",
       "    .dataframe tbody tr th {\n",
       "        vertical-align: top;\n",
       "    }\n",
       "\n",
       "    .dataframe thead th {\n",
       "        text-align: right;\n",
       "    }\n",
       "</style>\n",
       "<table border=\"1\" class=\"dataframe\">\n",
       "  <thead>\n",
       "    <tr style=\"text-align: right;\">\n",
       "      <th></th>\n",
       "      <th>no_of_adults</th>\n",
       "      <th>no_of_children</th>\n",
       "      <th>no_of_weekend_nights</th>\n",
       "      <th>no_of_week_nights</th>\n",
       "      <th>type_of_meal_plan</th>\n",
       "      <th>required_car_parking_space</th>\n",
       "      <th>room_type_reserved</th>\n",
       "      <th>lead_time</th>\n",
       "      <th>arrival_year</th>\n",
       "      <th>arrival_month</th>\n",
       "      <th>arrival_date</th>\n",
       "      <th>market_segment_type</th>\n",
       "      <th>repeated_guest</th>\n",
       "      <th>no_of_previous_cancellations</th>\n",
       "      <th>no_of_previous_bookings_not_canceled</th>\n",
       "      <th>avg_price_per_room</th>\n",
       "      <th>no_of_special_requests</th>\n",
       "      <th>booking_status</th>\n",
       "    </tr>\n",
       "  </thead>\n",
       "  <tbody>\n",
       "    <tr>\n",
       "      <th>63</th>\n",
       "      <td>1</td>\n",
       "      <td>0</td>\n",
       "      <td>0</td>\n",
       "      <td>1</td>\n",
       "      <td>Meal Plan 1</td>\n",
       "      <td>0</td>\n",
       "      <td>Room_Type 1</td>\n",
       "      <td>2</td>\n",
       "      <td>2017</td>\n",
       "      <td>9</td>\n",
       "      <td>10</td>\n",
       "      <td>Complementary</td>\n",
       "      <td>0</td>\n",
       "      <td>0</td>\n",
       "      <td>0</td>\n",
       "      <td>0.0</td>\n",
       "      <td>1</td>\n",
       "      <td>Not_Canceled</td>\n",
       "    </tr>\n",
       "    <tr>\n",
       "      <th>145</th>\n",
       "      <td>1</td>\n",
       "      <td>0</td>\n",
       "      <td>0</td>\n",
       "      <td>2</td>\n",
       "      <td>Meal Plan 1</td>\n",
       "      <td>0</td>\n",
       "      <td>Room_Type 1</td>\n",
       "      <td>13</td>\n",
       "      <td>2018</td>\n",
       "      <td>6</td>\n",
       "      <td>1</td>\n",
       "      <td>Complementary</td>\n",
       "      <td>1</td>\n",
       "      <td>3</td>\n",
       "      <td>5</td>\n",
       "      <td>0.0</td>\n",
       "      <td>1</td>\n",
       "      <td>Not_Canceled</td>\n",
       "    </tr>\n",
       "    <tr>\n",
       "      <th>209</th>\n",
       "      <td>1</td>\n",
       "      <td>0</td>\n",
       "      <td>0</td>\n",
       "      <td>0</td>\n",
       "      <td>Meal Plan 1</td>\n",
       "      <td>0</td>\n",
       "      <td>Room_Type 1</td>\n",
       "      <td>4</td>\n",
       "      <td>2018</td>\n",
       "      <td>2</td>\n",
       "      <td>27</td>\n",
       "      <td>Complementary</td>\n",
       "      <td>0</td>\n",
       "      <td>0</td>\n",
       "      <td>0</td>\n",
       "      <td>0.0</td>\n",
       "      <td>1</td>\n",
       "      <td>Not_Canceled</td>\n",
       "    </tr>\n",
       "    <tr>\n",
       "      <th>266</th>\n",
       "      <td>1</td>\n",
       "      <td>0</td>\n",
       "      <td>0</td>\n",
       "      <td>2</td>\n",
       "      <td>Meal Plan 1</td>\n",
       "      <td>0</td>\n",
       "      <td>Room_Type 1</td>\n",
       "      <td>1</td>\n",
       "      <td>2017</td>\n",
       "      <td>8</td>\n",
       "      <td>12</td>\n",
       "      <td>Complementary</td>\n",
       "      <td>1</td>\n",
       "      <td>0</td>\n",
       "      <td>1</td>\n",
       "      <td>0.0</td>\n",
       "      <td>1</td>\n",
       "      <td>Not_Canceled</td>\n",
       "    </tr>\n",
       "    <tr>\n",
       "      <th>267</th>\n",
       "      <td>1</td>\n",
       "      <td>0</td>\n",
       "      <td>2</td>\n",
       "      <td>1</td>\n",
       "      <td>Meal Plan 1</td>\n",
       "      <td>0</td>\n",
       "      <td>Room_Type 1</td>\n",
       "      <td>4</td>\n",
       "      <td>2017</td>\n",
       "      <td>8</td>\n",
       "      <td>23</td>\n",
       "      <td>Complementary</td>\n",
       "      <td>0</td>\n",
       "      <td>0</td>\n",
       "      <td>0</td>\n",
       "      <td>0.0</td>\n",
       "      <td>1</td>\n",
       "      <td>Not_Canceled</td>\n",
       "    </tr>\n",
       "    <tr>\n",
       "      <th>...</th>\n",
       "      <td>...</td>\n",
       "      <td>...</td>\n",
       "      <td>...</td>\n",
       "      <td>...</td>\n",
       "      <td>...</td>\n",
       "      <td>...</td>\n",
       "      <td>...</td>\n",
       "      <td>...</td>\n",
       "      <td>...</td>\n",
       "      <td>...</td>\n",
       "      <td>...</td>\n",
       "      <td>...</td>\n",
       "      <td>...</td>\n",
       "      <td>...</td>\n",
       "      <td>...</td>\n",
       "      <td>...</td>\n",
       "      <td>...</td>\n",
       "      <td>...</td>\n",
       "    </tr>\n",
       "    <tr>\n",
       "      <th>35983</th>\n",
       "      <td>1</td>\n",
       "      <td>0</td>\n",
       "      <td>0</td>\n",
       "      <td>1</td>\n",
       "      <td>Meal Plan 1</td>\n",
       "      <td>0</td>\n",
       "      <td>Room_Type 7</td>\n",
       "      <td>0</td>\n",
       "      <td>2018</td>\n",
       "      <td>6</td>\n",
       "      <td>7</td>\n",
       "      <td>Complementary</td>\n",
       "      <td>1</td>\n",
       "      <td>4</td>\n",
       "      <td>17</td>\n",
       "      <td>0.0</td>\n",
       "      <td>1</td>\n",
       "      <td>Not_Canceled</td>\n",
       "    </tr>\n",
       "    <tr>\n",
       "      <th>36080</th>\n",
       "      <td>1</td>\n",
       "      <td>0</td>\n",
       "      <td>1</td>\n",
       "      <td>1</td>\n",
       "      <td>Meal Plan 1</td>\n",
       "      <td>0</td>\n",
       "      <td>Room_Type 7</td>\n",
       "      <td>0</td>\n",
       "      <td>2018</td>\n",
       "      <td>3</td>\n",
       "      <td>21</td>\n",
       "      <td>Complementary</td>\n",
       "      <td>1</td>\n",
       "      <td>3</td>\n",
       "      <td>15</td>\n",
       "      <td>0.0</td>\n",
       "      <td>1</td>\n",
       "      <td>Not_Canceled</td>\n",
       "    </tr>\n",
       "    <tr>\n",
       "      <th>36114</th>\n",
       "      <td>1</td>\n",
       "      <td>0</td>\n",
       "      <td>0</td>\n",
       "      <td>1</td>\n",
       "      <td>Meal Plan 1</td>\n",
       "      <td>0</td>\n",
       "      <td>Room_Type 1</td>\n",
       "      <td>1</td>\n",
       "      <td>2018</td>\n",
       "      <td>3</td>\n",
       "      <td>2</td>\n",
       "      <td>Online</td>\n",
       "      <td>0</td>\n",
       "      <td>0</td>\n",
       "      <td>0</td>\n",
       "      <td>0.0</td>\n",
       "      <td>0</td>\n",
       "      <td>Not_Canceled</td>\n",
       "    </tr>\n",
       "    <tr>\n",
       "      <th>36217</th>\n",
       "      <td>2</td>\n",
       "      <td>0</td>\n",
       "      <td>2</td>\n",
       "      <td>1</td>\n",
       "      <td>Meal Plan 1</td>\n",
       "      <td>0</td>\n",
       "      <td>Room_Type 2</td>\n",
       "      <td>3</td>\n",
       "      <td>2017</td>\n",
       "      <td>8</td>\n",
       "      <td>9</td>\n",
       "      <td>Online</td>\n",
       "      <td>0</td>\n",
       "      <td>0</td>\n",
       "      <td>0</td>\n",
       "      <td>0.0</td>\n",
       "      <td>2</td>\n",
       "      <td>Not_Canceled</td>\n",
       "    </tr>\n",
       "    <tr>\n",
       "      <th>36250</th>\n",
       "      <td>1</td>\n",
       "      <td>0</td>\n",
       "      <td>0</td>\n",
       "      <td>2</td>\n",
       "      <td>Meal Plan 2</td>\n",
       "      <td>0</td>\n",
       "      <td>Room_Type 1</td>\n",
       "      <td>6</td>\n",
       "      <td>2017</td>\n",
       "      <td>12</td>\n",
       "      <td>10</td>\n",
       "      <td>Online</td>\n",
       "      <td>0</td>\n",
       "      <td>0</td>\n",
       "      <td>0</td>\n",
       "      <td>0.0</td>\n",
       "      <td>0</td>\n",
       "      <td>Not_Canceled</td>\n",
       "    </tr>\n",
       "  </tbody>\n",
       "</table>\n",
       "<p>545 rows × 18 columns</p>\n",
       "</div>"
      ],
      "text/plain": [
       "       no_of_adults  no_of_children  no_of_weekend_nights  no_of_week_nights  \\\n",
       "63                1               0                     0                  1   \n",
       "145               1               0                     0                  2   \n",
       "209               1               0                     0                  0   \n",
       "266               1               0                     0                  2   \n",
       "267               1               0                     2                  1   \n",
       "...             ...             ...                   ...                ...   \n",
       "35983             1               0                     0                  1   \n",
       "36080             1               0                     1                  1   \n",
       "36114             1               0                     0                  1   \n",
       "36217             2               0                     2                  1   \n",
       "36250             1               0                     0                  2   \n",
       "\n",
       "      type_of_meal_plan  required_car_parking_space room_type_reserved  \\\n",
       "63          Meal Plan 1                           0        Room_Type 1   \n",
       "145         Meal Plan 1                           0        Room_Type 1   \n",
       "209         Meal Plan 1                           0        Room_Type 1   \n",
       "266         Meal Plan 1                           0        Room_Type 1   \n",
       "267         Meal Plan 1                           0        Room_Type 1   \n",
       "...                 ...                         ...                ...   \n",
       "35983       Meal Plan 1                           0        Room_Type 7   \n",
       "36080       Meal Plan 1                           0        Room_Type 7   \n",
       "36114       Meal Plan 1                           0        Room_Type 1   \n",
       "36217       Meal Plan 1                           0        Room_Type 2   \n",
       "36250       Meal Plan 2                           0        Room_Type 1   \n",
       "\n",
       "       lead_time  arrival_year  arrival_month  arrival_date  \\\n",
       "63             2          2017              9            10   \n",
       "145           13          2018              6             1   \n",
       "209            4          2018              2            27   \n",
       "266            1          2017              8            12   \n",
       "267            4          2017              8            23   \n",
       "...          ...           ...            ...           ...   \n",
       "35983          0          2018              6             7   \n",
       "36080          0          2018              3            21   \n",
       "36114          1          2018              3             2   \n",
       "36217          3          2017              8             9   \n",
       "36250          6          2017             12            10   \n",
       "\n",
       "      market_segment_type  repeated_guest  no_of_previous_cancellations  \\\n",
       "63          Complementary               0                             0   \n",
       "145         Complementary               1                             3   \n",
       "209         Complementary               0                             0   \n",
       "266         Complementary               1                             0   \n",
       "267         Complementary               0                             0   \n",
       "...                   ...             ...                           ...   \n",
       "35983       Complementary               1                             4   \n",
       "36080       Complementary               1                             3   \n",
       "36114              Online               0                             0   \n",
       "36217              Online               0                             0   \n",
       "36250              Online               0                             0   \n",
       "\n",
       "       no_of_previous_bookings_not_canceled  avg_price_per_room  \\\n",
       "63                                        0                 0.0   \n",
       "145                                       5                 0.0   \n",
       "209                                       0                 0.0   \n",
       "266                                       1                 0.0   \n",
       "267                                       0                 0.0   \n",
       "...                                     ...                 ...   \n",
       "35983                                    17                 0.0   \n",
       "36080                                    15                 0.0   \n",
       "36114                                     0                 0.0   \n",
       "36217                                     0                 0.0   \n",
       "36250                                     0                 0.0   \n",
       "\n",
       "       no_of_special_requests booking_status  \n",
       "63                          1   Not_Canceled  \n",
       "145                         1   Not_Canceled  \n",
       "209                         1   Not_Canceled  \n",
       "266                         1   Not_Canceled  \n",
       "267                         1   Not_Canceled  \n",
       "...                       ...            ...  \n",
       "35983                       1   Not_Canceled  \n",
       "36080                       1   Not_Canceled  \n",
       "36114                       0   Not_Canceled  \n",
       "36217                       2   Not_Canceled  \n",
       "36250                       0   Not_Canceled  \n",
       "\n",
       "[545 rows x 18 columns]"
      ]
     },
     "execution_count": 18,
     "metadata": {},
     "output_type": "execute_result"
    }
   ],
   "source": [
    "data[data[\"avg_price_per_room\"] == 0]"
   ]
  },
  {
   "cell_type": "markdown",
   "id": "voluntary-diagnosis",
   "metadata": {
    "id": "voluntary-diagnosis"
   },
   "source": [
    "- There are quite a few hotel rooms which have a price equal to 0.\n",
    "- In the market segment column, it looks like many values are complementary."
   ]
  },
  {
   "cell_type": "code",
   "execution_count": 19,
   "id": "written-stone",
   "metadata": {
    "id": "written-stone"
   },
   "outputs": [
    {
     "data": {
      "text/plain": [
       "Complementary    354\n",
       "Online           191\n",
       "Name: market_segment_type, dtype: int64"
      ]
     },
     "execution_count": 19,
     "metadata": {},
     "output_type": "execute_result"
    }
   ],
   "source": [
    "data.loc[data[\"avg_price_per_room\"] == 0, \"market_segment_type\"].value_counts()"
   ]
  },
  {
   "cell_type": "markdown",
   "id": "nutritional-gamma",
   "metadata": {
    "id": "nutritional-gamma"
   },
   "source": [
    "* It makes sense that most values with room prices equal to 0 are the rooms given as complimentary service from the hotel.\n",
    "* The rooms booked online must be a part of some promotional campaign done by the hotel."
   ]
  },
  {
   "cell_type": "code",
   "execution_count": 18,
   "id": "potential-klein",
   "metadata": {
    "id": "potential-klein"
   },
   "outputs": [
    {
     "data": {
      "text/plain": [
       "179.55"
      ]
     },
     "execution_count": 18,
     "metadata": {},
     "output_type": "execute_result"
    }
   ],
   "source": [
    "# Calculating the 25th quantile\n",
    "Q1 = data[\"avg_price_per_room\"].quantile(0.25)\n",
    "\n",
    "# Calculating the 75th quantile\n",
    "Q3 = data[\"avg_price_per_room\"].quantile(0.75)\n",
    "\n",
    "# Calculating IQR\n",
    "IQR = Q3 - Q1\n",
    "\n",
    "# Calculating value of upper whisker\n",
    "Upper_Whisker = Q3 + 1.5 * IQR\n",
    "Upper_Whisker"
   ]
  },
  {
   "cell_type": "code",
   "execution_count": 19,
   "id": "assured-holder",
   "metadata": {
    "id": "assured-holder"
   },
   "outputs": [],
   "source": [
    "# assigning the outliers the value of upper whisker\n",
    "data.loc[data[\"avg_price_per_room\"] >= 500, \"avg_price_per_room\"] = Upper_Whisker"
   ]
  },
  {
   "cell_type": "markdown",
   "id": "skGK7OuPumzs",
   "metadata": {
    "id": "skGK7OuPumzs"
   },
   "source": [
    "#### **Let's understand the distribution of the categorical variables**"
   ]
  },
  {
   "cell_type": "code",
   "execution_count": 22,
   "id": "1e63e0be",
   "metadata": {},
   "outputs": [],
   "source": [
    "# Function to create labeled barplots\n",
    "\n",
    "\n",
    "def labeled_barplot(data, feature, perc=True, n=None):\n",
    "    \"\"\"\n",
    "    Barplot with percentage at the top\n",
    "\n",
    "    data: dataframe\n",
    "    feature: dataframe column\n",
    "    perc: whether to display percentages instead of count (default is False)\n",
    "    n: displays the top n category levels (default is None, i.e., display all levels)\n",
    "    \"\"\"\n",
    "\n",
    "    total = len(data[feature])  # length of the column\n",
    "    count = data[feature].nunique()\n",
    "    if n is None:\n",
    "        plt.figure(figsize=(count + 1, 5))\n",
    "    else:\n",
    "        plt.figure(figsize=(n + 1, 5))\n",
    "\n",
    "    plt.xticks(rotation=90, fontsize=15)\n",
    "    ax = sns.countplot(\n",
    "        data=data,\n",
    "        x=feature,\n",
    "        palette=\"Paired\",\n",
    "        order=data[feature].value_counts().index[:n].sort_values(),\n",
    "    )\n",
    "\n",
    "    for p in ax.patches:\n",
    "        if perc == True:\n",
    "            label = \"{:.1f}%\".format(\n",
    "                100 * p.get_height() / total\n",
    "            )  # percentage of each class of the category\n",
    "        else:\n",
    "            label = p.get_height()  # count of each level of the category\n",
    "\n",
    "        x = p.get_x() + p.get_width() / 2  # width of the plot\n",
    "        y = p.get_height()  # height of the plot\n",
    "        ax.annotate(\n",
    "            label,\n",
    "            (x, y),\n",
    "            ha=\"center\",\n",
    "            va=\"center\",\n",
    "            size=12,\n",
    "            xytext=(0, 5),\n",
    "            textcoords=\"offset points\",\n",
    "        )  # annotate the percentage\n",
    "\n",
    "    plt.show()  # show the plot"
   ]
  },
  {
   "cell_type": "markdown",
   "id": "7dvPDVs3YQV-",
   "metadata": {
    "id": "7dvPDVs3YQV-"
   },
   "source": [
    "**Number of Children**"
   ]
  },
  {
   "cell_type": "code",
   "execution_count": 23,
   "id": "finite-kingston",
   "metadata": {
    "id": "finite-kingston"
   },
   "outputs": [
    {
     "data": {
      "image/png": "[encoded data removed]",
      "text/plain": [
       "<Figure size 504x360 with 1 Axes>"
      ]
     },
     "metadata": {
      "needs_background": "light"
     },
     "output_type": "display_data"
    }
   ],
   "source": [
    "labeled_barplot(data,'no_of_children')\n"
   ]
  },
  {
   "cell_type": "markdown",
   "id": "animated-three",
   "metadata": {
    "id": "animated-three"
   },
   "source": [
    "* Customers were not travelling with children in 93% of cases.\n",
    "* There are some values in the data where the number of children is 9 or 10, which is highly unlikely. \n",
    "* We will replace these values with the maximum value of 3 children."
   ]
  },
  {
   "cell_type": "code",
   "execution_count": 24,
   "id": "necessary-employee",
   "metadata": {
    "id": "necessary-employee"
   },
   "outputs": [],
   "source": [
    "# replacing 9, and 10 children with 3\n",
    "data[\"no_of_children\"] = data[\"no_of_children\"].replace([9, 10], 3)"
   ]
  },
  {
   "cell_type": "markdown",
   "id": "thick-coordination",
   "metadata": {
    "id": "thick-coordination"
   },
   "source": [
    "**Arrival Month**"
   ]
  },
  {
   "cell_type": "code",
   "execution_count": 25,
   "id": "expensive-deposit",
   "metadata": {
    "id": "expensive-deposit"
   },
   "outputs": [
    {
     "data": {
      "image/png": "[encoded data removed]",
      "text/plain": [
       "<Figure size 936x360 with 1 Axes>"
      ]
     },
     "metadata": {
      "needs_background": "light"
     },
     "output_type": "display_data"
    }
   ],
   "source": [
    "labeled_barplot(data,\"arrival_month\")"
   ]
  },
  {
   "cell_type": "markdown",
   "id": "affected-right",
   "metadata": {
    "id": "affected-right"
   },
   "source": [
    "* October is the busiest month for hotel arrivals followed by September and August. **Over 35% of all bookings**, as we see in the above table, were for one of these three months.\n",
    "* Around 14.7% of the bookings were made for an October arrival.\n",
    "* More bookings are done in August, September and October. This is most likely as there are more vacations during summer."
   ]
  },
  {
   "cell_type": "markdown",
   "id": "dramatic-karaoke",
   "metadata": {
    "id": "dramatic-karaoke"
   },
   "source": [
    "**Booking Status**"
   ]
  },
  {
   "cell_type": "code",
   "execution_count": 26,
   "id": "happy-collins",
   "metadata": {
    "id": "happy-collins"
   },
   "outputs": [
    {
     "data": {
      "image/png": "[encoded data removed]",
      "text/plain": [
       "<Figure size 216x360 with 1 Axes>"
      ]
     },
     "metadata": {
      "needs_background": "light"
     },
     "output_type": "display_data"
    }
   ],
   "source": [
    "labeled_barplot(data,\"booking_status\")"
   ]
  },
  {
   "cell_type": "markdown",
   "id": "quantitative-fetish",
   "metadata": {
    "id": "quantitative-fetish"
   },
   "source": [
    "* 32.8% of the bookings were canceled by the customers whilst 67.2% were not cancelled."
   ]
  },
  {
   "cell_type": "markdown",
   "id": "pharmaceutical-grill",
   "metadata": {
    "id": "pharmaceutical-grill"
   },
   "source": [
    "**Let's encode Canceled bookings to 1 and Not_Canceled as 0 for further analysis**"
   ]
  },
  {
   "cell_type": "code",
   "execution_count": 27,
   "id": "voluntary-irish",
   "metadata": {
    "id": "voluntary-irish"
   },
   "outputs": [],
   "source": [
    "data[\"booking_status\"] = data[\"booking_status\"].apply(\n",
    "    lambda x: 1 if x == \"Canceled\" else 0\n",
    ")"
   ]
  },
  {
   "cell_type": "markdown",
   "id": "arranged-courtesy",
   "metadata": {
    "id": "arranged-courtesy"
   },
   "source": [
    "### **Bivariate Analysis**"
   ]
  },
  {
   "cell_type": "markdown",
   "id": "D4vIqPb9aaZW",
   "metadata": {
    "id": "D4vIqPb9aaZW"
   },
   "source": [
    "#### **Finding and visualizing the correlation matrix using a heatmap**"
   ]
  },
  {
   "cell_type": "code",
   "execution_count": 32,
   "id": "official-wyoming",
   "metadata": {
    "id": "official-wyoming"
   },
   "outputs": [
    {
     "data": {
      "image/png": "[encoded data removed]",
      "text/plain": [
       "<Figure size 864x504 with 2 Axes>"
      ]
     },
     "metadata": {
      "needs_background": "light"
     },
     "output_type": "display_data"
    }
   ],
   "source": [
    "cols_list = data.select_dtypes(include=np.number).columns.tolist()\n",
    "plt.figure(figsize=(12, 7))\n",
    "matrix = np.triu(data.corr())\n",
    "sns.heatmap(data.corr(), annot=True, mask=matrix)\n",
    "plt.show()"
   ]
  },
  {
   "cell_type": "markdown",
   "id": "brave-hamilton",
   "metadata": {
    "id": "brave-hamilton"
   },
   "source": [
    "**Observations**\n",
    "\n",
    "- There is a high correlation between repeated guests and the number if previously booked not cancelled. This is possible as some guest that had stayed in the hotel previously had booked again and don't need to cancel maybe due to the great service they enjoyed and would like to stay at the hotel again.\n",
    "- There is a high correlation between number of children and avg price per room. This is expected as the price of a room is higher with the number of its occupants.\n",
    "- There is a hig correlation between lead time and the booking status. This may be so as the client has ample time to make the bookings. They may or may not cancel before the arrival date.\n",
    "- Most of the variables are independent.\n"
   ]
  },
  {
   "cell_type": "markdown",
   "id": "quick-works",
   "metadata": {
    "id": "quick-works"
   },
   "source": [
    "**Hotel rates are dynamic and change according to demand and customer demographics. Let's see how prices vary across different market segments**"
   ]
  },
  {
   "cell_type": "code",
   "execution_count": 33,
   "id": "animal-depth",
   "metadata": {
    "id": "animal-depth"
   },
   "outputs": [
    {
     "data": {
      "image/png": "[encoded data removed]",
      "text/plain": [
       "<Figure size 720x432 with 1 Axes>"
      ]
     },
     "metadata": {
      "needs_background": "light"
     },
     "output_type": "display_data"
    }
   ],
   "source": [
    "plt.figure(figsize=(10, 6))\n",
    "sns.boxplot(\n",
    "    data=data, x=\"market_segment_type\", y=\"avg_price_per_room\", palette=\"gist_rainbow\"\n",
    ")\n",
    "plt.show()"
   ]
  },
  {
   "cell_type": "markdown",
   "id": "advised-community",
   "metadata": {
    "id": "advised-community"
   },
   "source": [
    "* Rooms booked online have high variations in prices.\n",
    "* The offline and corporate room prices are almost similar.\n",
    "* Complementary market segment gets the rooms at very low prices, which makes sense."
   ]
  },
  {
   "cell_type": "markdown",
   "id": "FJhhg4y4i3wO",
   "metadata": {
    "id": "FJhhg4y4i3wO"
   },
   "source": [
    "- We will define a **stacked barplot()** function to help analyse how the target variable varies across predictor categories.\n",
    "- For Booking status, 0 means not cancelled, 1 means cancelled"
   ]
  },
  {
   "cell_type": "code",
   "execution_count": 34,
   "id": "GjDZRQMWiCEs",
   "metadata": {
    "id": "GjDZRQMWiCEs"
   },
   "outputs": [],
   "source": [
    "# Defining the stacked_barplot() function\n",
    "\n",
    "\n",
    "def stacked_barplot(data, predictor, target, figsize=(10,6)):\n",
    "    \"\"\"\n",
    "    Print the category counts and plot a stacked bar chart\n",
    "\n",
    "    data: dataframe\n",
    "    predictor: independent variable\n",
    "    target: target variable\n",
    "    \"\"\"\n",
    "    count = data[predictor].nunique()\n",
    "    sorter = data[target].value_counts().index[-1]\n",
    "    tab1 = pd.crosstab(data[predictor], data[target], margins=True).sort_values(\n",
    "        by=sorter, ascending=False\n",
    "    )\n",
    "    print(tab1)\n",
    "    print(\"-\" * 120)\n",
    "    tab = pd.crosstab(data[predictor], data[target], normalize=\"index\").sort_values(\n",
    "        by=sorter, ascending=False\n",
    "    )\n",
    "    tab.plot(kind=\"bar\", stacked=True, figsize=(count + 1, 5))\n",
    "    plt.legend(\n",
    "        loc=\"lower left\",\n",
    "        frameon=False,\n",
    "    )\n",
    "    plt.legend(loc=\"upper left\", bbox_to_anchor=(1, 1))\n",
    "    plt.ylabel('Percentage Cancellations %')\n",
    "    plt.show()"
   ]
  },
  {
   "cell_type": "markdown",
   "id": "75988GXzuEub",
   "metadata": {
    "id": "75988GXzuEub"
   },
   "source": [
    "#### **Plotting the stacked barplot for the variable `Market Segment Type` against the target variable `Booking Status` using the stacked_barplot function**"
   ]
  },
  {
   "cell_type": "code",
   "execution_count": 35,
   "id": "aMUKgxiFryyN",
   "metadata": {
    "id": "aMUKgxiFryyN"
   },
   "outputs": [
    {
     "name": "stdout",
     "output_type": "stream",
     "text": [
      "booking_status           0      1    All\n",
      "market_segment_type                     \n",
      "All                  24390  11885  36275\n",
      "Online               14739   8475  23214\n",
      "Offline               7375   3153  10528\n",
      "Corporate             1797    220   2017\n",
      "Aviation                88     37    125\n",
      "Complementary          391      0    391\n",
      "------------------------------------------------------------------------------------------------------------------------\n"
     ]
    },
    {
     "data": {
      "image/png": "[encoded data removed]",
      "text/plain": [
       "<Figure size 432x360 with 1 Axes>"
      ]
     },
     "metadata": {
      "needs_background": "light"
     },
     "output_type": "display_data"
    }
   ],
   "source": [
    "stacked_barplot(data,'market_segment_type','booking_status' )"
   ]
  },
  {
   "cell_type": "markdown",
   "id": "IpvdhoHSuhrz",
   "metadata": {
    "id": "IpvdhoHSuhrz"
   },
   "source": [
    "**Observations**\n",
    "- There are no cancellation in the complimentary market segment type. This is a complimentary service which is free and so there may be no cancellation here\n",
    "- Amongst the market segment with cancellation, the percentage of cancellation for the online market segment is the highest while corporate market segment is the lowest. Cancellation of booking in Corporate organizations are not frequent unless situations beyond their control such as change of dates of their events. \n"
   ]
  },
  {
   "cell_type": "markdown",
   "id": "gUldUCUYu3Qb",
   "metadata": {
    "id": "gUldUCUYu3Qb"
   },
   "source": [
    "#### Plotting the stacked barplot for the variable `Repeated Guest` against the target variable `Booking Status` using the stacked_barplot  function**\n",
    "\n",
    "Repeating guests are the guests who stay in the hotel often and are important to brand equity."
   ]
  },
  {
   "cell_type": "code",
   "execution_count": 36,
   "id": "L2AteH8ru-Lm",
   "metadata": {
    "id": "L2AteH8ru-Lm"
   },
   "outputs": [
    {
     "name": "stdout",
     "output_type": "stream",
     "text": [
      "booking_status      0      1    All\n",
      "repeated_guest                     \n",
      "All             24390  11885  36275\n",
      "0               23476  11869  35345\n",
      "1                 914     16    930\n",
      "------------------------------------------------------------------------------------------------------------------------\n"
     ]
    },
    {
     "data": {
      "image/png": "[encoded data removed]",
      "text/plain": [
       "<Figure size 216x360 with 1 Axes>"
      ]
     },
     "metadata": {
      "needs_background": "light"
     },
     "output_type": "display_data"
    }
   ],
   "source": [
    "stacked_barplot(data, 'repeated_guest','booking_status')"
   ]
  },
  {
   "cell_type": "markdown",
   "id": "nmrkaaZPvRGr",
   "metadata": {
    "id": "nmrkaaZPvRGr"
   },
   "source": [
    "**Observations**\n",
    "- Repeated guest rarely cancel their reservation and if they do, it may due to situations beyond their control.\n",
    "- This is because guest they had stayed in the hotel previously and had enjoyed the service of the hotel. They are comfortable with the brand of INN Hotels Group\n",
    "- First time guest tends to cancel more frequently as they have not experience the service of the hotel before.\n"
   ]
  },
  {
   "cell_type": "markdown",
   "id": "WMJ96mlkvhR8",
   "metadata": {
    "id": "WMJ96mlkvhR8"
   },
   "source": [
    "**Let's analyze the customer who stayed for at least a day at the hotel.**"
   ]
  },
  {
   "cell_type": "code",
   "execution_count": 37,
   "id": "j0UdS10Wvfqd",
   "metadata": {
    "id": "j0UdS10Wvfqd"
   },
   "outputs": [
    {
     "name": "stdout",
     "output_type": "stream",
     "text": [
      "booking_status      0     1    All\n",
      "total_days                        \n",
      "All             10979  6115  17094\n",
      "3                3689  2183   5872\n",
      "4                2977  1387   4364\n",
      "5                1593   738   2331\n",
      "2                1301   639   1940\n",
      "6                 566   465   1031\n",
      "7                 590   383    973\n",
      "8                 100    79    179\n",
      "10                 51    58    109\n",
      "9                  58    53    111\n",
      "14                  5    27     32\n",
      "15                  5    26     31\n",
      "13                  3    15     18\n",
      "12                  9    15     24\n",
      "11                 24    15     39\n",
      "20                  3     8     11\n",
      "19                  1     5      6\n",
      "16                  1     5      6\n",
      "17                  1     4      5\n",
      "18                  0     3      3\n",
      "21                  1     3      4\n",
      "22                  0     2      2\n",
      "23                  1     1      2\n",
      "24                  0     1      1\n",
      "------------------------------------------------------------------------------------------------------------------------\n"
     ]
    },
    {
     "data": {
      "image/png": "[encoded data removed]",
      "text/plain": [
       "<Figure size 1728x360 with 1 Axes>"
      ]
     },
     "metadata": {
      "needs_background": "light"
     },
     "output_type": "display_data"
    }
   ],
   "source": [
    "stay_data = data[(data[\"no_of_week_nights\"] > 0) & (data[\"no_of_weekend_nights\"] > 0)]\n",
    "stay_data[\"total_days\"] = (stay_data[\"no_of_week_nights\"] + stay_data[\"no_of_weekend_nights\"])\n",
    "\n",
    "stacked_barplot(stay_data, \"total_days\", \"booking_status\",figsize=(15,6))"
   ]
  },
  {
   "cell_type": "markdown",
   "id": "-aDjNRtfvgNV",
   "metadata": {
    "id": "-aDjNRtfvgNV"
   },
   "source": [
    "* The general trend is that the chances of cancellation increase as the number of days the customer planned to stay at the hotel increases."
   ]
  },
  {
   "cell_type": "markdown",
   "id": "tired-bridges",
   "metadata": {
    "id": "tired-bridges"
   },
   "source": [
    "**As hotel room prices are dynamic, Let's see how the prices vary across different months**"
   ]
  },
  {
   "cell_type": "code",
   "execution_count": 38,
   "id": "atomic-locator",
   "metadata": {
    "id": "atomic-locator"
   },
   "outputs": [
    {
     "data": {
      "image/png": "[encoded data removed]",
      "text/plain": [
       "<Figure size 720x360 with 1 Axes>"
      ]
     },
     "metadata": {
      "needs_background": "light"
     },
     "output_type": "display_data"
    }
   ],
   "source": [
    "plt.figure(figsize=(10, 5))\n",
    "sns.lineplot(y=data[\"avg_price_per_room\"], x=data[\"arrival_month\"], ci=None)\n",
    "plt.show()"
   ]
  },
  {
   "cell_type": "markdown",
   "id": "incorporated-northern",
   "metadata": {
    "id": "incorporated-northern"
   },
   "source": [
    "* The price of rooms is highest in May to September - around 115 euros per room."
   ]
  },
  {
   "cell_type": "markdown",
   "id": "pleased-chicken",
   "metadata": {
    "id": "pleased-chicken"
   },
   "source": [
    "## **Data Preparation for Modeling**\n",
    "\n",
    "- We want to predict which bookings will be canceled.\n",
    "- Before we proceed to build a model, we'll have to encode categorical features.\n",
    "- We'll split the data into train and test to be able to evaluate the model that we build on the train data."
   ]
  },
  {
   "cell_type": "markdown",
   "id": "Q1yU3LeM5p73",
   "metadata": {
    "id": "Q1yU3LeM5p73"
   },
   "source": [
    "**Separating the independent variables (X) and the dependent variable (Y)**"
   ]
  },
  {
   "cell_type": "code",
   "execution_count": 39,
   "id": "durable-allergy",
   "metadata": {
    "id": "durable-allergy"
   },
   "outputs": [],
   "source": [
    "X = data.drop([\"booking_status\"], axis=1)\n",
    "Y = data[\"booking_status\"]\n",
    "\n",
    "X = pd.get_dummies(X, drop_first=True) # Encoding the Categorical features"
   ]
  },
  {
   "cell_type": "markdown",
   "id": "ugL1fDmu5sU-",
   "metadata": {
    "id": "ugL1fDmu5sU-"
   },
   "source": [
    "**Splitting the data into a 70% train and 30% test set**\n",
    "\n",
    "Some classification problems can exhibit a large imbalance in the distribution of the target classes: for instance there could be several times more negative samples than positive samples. In such cases it is recommended to use the **stratified sampling** technique to ensure that relative class frequencies are approximately preserved in each train and validation fold."
   ]
  },
  {
   "cell_type": "code",
   "execution_count": 40,
   "id": "Xve9js0S5xPV",
   "metadata": {
    "id": "Xve9js0S5xPV"
   },
   "outputs": [],
   "source": [
    "# Splitting data in train and test sets\n",
    "X_train, X_test, y_train, y_test = train_test_split(X, Y, test_size=0.30,stratify=Y, random_state=1)"
   ]
  },
  {
   "cell_type": "code",
   "execution_count": 41,
   "id": "ecological-principal",
   "metadata": {
    "id": "ecological-principal"
   },
   "outputs": [
    {
     "name": "stdout",
     "output_type": "stream",
     "text": [
      "Shape of Training set :  (25392, 27)\n",
      "Shape of test set :  (10883, 27)\n",
      "Percentage of classes in training set:\n",
      "0    0.672377\n",
      "1    0.327623\n",
      "Name: booking_status, dtype: float64\n",
      "Percentage of classes in test set:\n",
      "0    0.672333\n",
      "1    0.327667\n",
      "Name: booking_status, dtype: float64\n"
     ]
    }
   ],
   "source": [
    "print(\"Shape of Training set : \", X_train.shape)\n",
    "print(\"Shape of test set : \", X_test.shape)\n",
    "print(\"Percentage of classes in training set:\")\n",
    "print(y_train.value_counts(normalize=True))\n",
    "print(\"Percentage of classes in test set:\")\n",
    "print(y_test.value_counts(normalize=True))"
   ]
  },
  {
   "cell_type": "markdown",
   "id": "cultural-engagement",
   "metadata": {
    "id": "cultural-engagement"
   },
   "source": [
    "## **Model Evaluation Criterion**\n",
    "\n",
    "#### **Model can make wrong predictions as:**\n",
    "\n",
    "1. Predicting a customer will not cancel their booking but in reality, the customer will cancel their booking.\n",
    "2. Predicting a customer will cancel their booking but in reality, the customer will not cancel their booking. \n",
    "\n",
    "#### **Which case is more important?** \n",
    "\n",
    "Both the cases are important as:\n",
    "\n",
    "* If we predict that a booking will not be canceled and the booking gets canceled then the hotel will lose resources and will have to bear additional costs of distribution channels.\n",
    "\n",
    "* If we predict that a booking will get canceled and the booking doesn't get canceled the hotel might not be able to provide satisfactory services to the customer by assuming that this booking will be canceled. This might damage brand equity. \n",
    "\n",
    "\n",
    "\n",
    "#### **How to reduce the losses?**\n",
    "\n",
    "* The hotel would want the `F1 Score` to be maximized, the greater the F1  score, the higher the chances of minimizing False Negatives and False Positives. "
   ]
  },
  {
   "cell_type": "markdown",
   "id": "TIvULwEQ6NJO",
   "metadata": {
    "id": "TIvULwEQ6NJO"
   },
   "source": [
    "**Also, let's create a function to calculate and print the classification report and confusion matrix so that we don't have to rewrite the same code repeatedly for each model.**"
   ]
  },
  {
   "cell_type": "code",
   "execution_count": 42,
   "id": "sx5AmqRM3Cxy",
   "metadata": {
    "id": "sx5AmqRM3Cxy"
   },
   "outputs": [],
   "source": [
    "# Creating metric function \n",
    "def metrics_score(actual, predicted):\n",
    "    print(classification_report(actual, predicted))\n",
    "\n",
    "    cm = confusion_matrix(actual, predicted)\n",
    "    plt.figure(figsize=(8,5))\n",
    "    \n",
    "    sns.heatmap(cm, annot=True,  fmt='.2f', xticklabels=['Not Cancelled', 'Cancelled'], yticklabels=['Not Cancelled', 'Cancelled'])\n",
    "    plt.ylabel('Actual')\n",
    "    plt.xlabel('Predicted')\n",
    "    plt.show()"
   ]
  },
  {
   "cell_type": "markdown",
   "id": "V6r7bPlp8W3E",
   "metadata": {
    "id": "V6r7bPlp8W3E"
   },
   "source": [
    "## **Building the model**\n",
    "\n",
    "We will be building 4 different models:\n",
    "\n",
    "- **Logistic Regression**\n",
    "- **Support Vector Machine (SVM)**\n",
    "- **Decision Tree**\n",
    "- **Random Forest**"
   ]
  },
  {
   "cell_type": "markdown",
   "id": "bT_PaZ94M5hb",
   "metadata": {
    "id": "bT_PaZ94M5hb"
   },
   "source": [
    "#### **Building a Logistic Regression model**"
   ]
  },
  {
   "cell_type": "code",
   "execution_count": 43,
   "id": "nominated-tumor",
   "metadata": {
    "id": "nominated-tumor"
   },
   "outputs": [
    {
     "data": {
      "text/html": [
       "<style>#sk-container-id-1 {color: black;background-color: white;}#sk-container-id-1 pre{padding: 0;}#sk-container-id-1 div.sk-toggleable {background-color: white;}#sk-container-id-1 label.sk-toggleable__label {cursor: pointer;display: block;width: 100%;margin-bottom: 0;padding: 0.3em;box-sizing: border-box;text-align: center;}#sk-container-id-1 label.sk-toggleable__label-arrow:before {content: \"▸\";float: left;margin-right: 0.25em;color: #696969;}#sk-container-id-1 label.sk-toggleable__label-arrow:hover:before {color: black;}#sk-container-id-1 div.sk-estimator:hover label.sk-toggleable__label-arrow:before {color: black;}#sk-container-id-1 div.sk-toggleable__content {max-height: 0;max-width: 0;overflow: hidden;text-align: left;background-color: #f0f8ff;}#sk-container-id-1 div.sk-toggleable__content pre {margin: 0.2em;color: black;border-radius: 0.25em;background-color: #f0f8ff;}#sk-container-id-1 input.sk-toggleable__control:checked~div.sk-toggleable__content {max-height: 200px;max-width: 100%;overflow: auto;}#sk-container-id-1 input.sk-toggleable__control:checked~label.sk-toggleable__label-arrow:before {content: \"▾\";}#sk-container-id-1 div.sk-estimator input.sk-toggleable__control:checked~label.sk-toggleable__label {background-color: #d4ebff;}#sk-container-id-1 div.sk-label input.sk-toggleable__control:checked~label.sk-toggleable__label {background-color: #d4ebff;}#sk-container-id-1 input.sk-hidden--visually {border: 0;clip: rect(1px 1px 1px 1px);clip: rect(1px, 1px, 1px, 1px);height: 1px;margin: -1px;overflow: hidden;padding: 0;position: absolute;width: 1px;}#sk-container-id-1 div.sk-estimator {font-family: monospace;background-color: #f0f8ff;border: 1px dotted black;border-radius: 0.25em;box-sizing: border-box;margin-bottom: 0.5em;}#sk-container-id-1 div.sk-estimator:hover {background-color: #d4ebff;}#sk-container-id-1 div.sk-parallel-item::after {content: \"\";width: 100%;border-bottom: 1px solid gray;flex-grow: 1;}#sk-container-id-1 div.sk-label:hover label.sk-toggleable__label {background-color: #d4ebff;}#sk-container-id-1 div.sk-serial::before {content: \"\";position: absolute;border-left: 1px solid gray;box-sizing: border-box;top: 0;bottom: 0;left: 50%;z-index: 0;}#sk-container-id-1 div.sk-serial {display: flex;flex-direction: column;align-items: center;background-color: white;padding-right: 0.2em;padding-left: 0.2em;position: relative;}#sk-container-id-1 div.sk-item {position: relative;z-index: 1;}#sk-container-id-1 div.sk-parallel {display: flex;align-items: stretch;justify-content: center;background-color: white;position: relative;}#sk-container-id-1 div.sk-item::before, #sk-container-id-1 div.sk-parallel-item::before {content: \"\";position: absolute;border-left: 1px solid gray;box-sizing: border-box;top: 0;bottom: 0;left: 50%;z-index: -1;}#sk-container-id-1 div.sk-parallel-item {display: flex;flex-direction: column;z-index: 1;position: relative;background-color: white;}#sk-container-id-1 div.sk-parallel-item:first-child::after {align-self: flex-end;width: 50%;}#sk-container-id-1 div.sk-parallel-item:last-child::after {align-self: flex-start;width: 50%;}#sk-container-id-1 div.sk-parallel-item:only-child::after {width: 0;}#sk-container-id-1 div.sk-dashed-wrapped {border: 1px dashed gray;margin: 0 0.4em 0.5em 0.4em;box-sizing: border-box;padding-bottom: 0.4em;background-color: white;}#sk-container-id-1 div.sk-label label {font-family: monospace;font-weight: bold;display: inline-block;line-height: 1.2em;}#sk-container-id-1 div.sk-label-container {text-align: center;}#sk-container-id-1 div.sk-container {/* jupyter's `normalize.less` sets `[hidden] { display: none; }` but bootstrap.min.css set `[hidden] { display: none !important; }` so we also need the `!important` here to be able to override the default hidden behavior on the sphinx rendered scikit-learn.org. See: https://github.com/scikit-learn/scikit-learn/issues/21755 */display: inline-block !important;position: relative;}#sk-container-id-1 div.sk-text-repr-fallback {display: none;}</style><div id=\"sk-container-id-1\" class=\"sk-top-container\"><div class=\"sk-text-repr-fallback\"><pre>LogisticRegression()</pre><b>In a Jupyter environment, please rerun this cell to show the HTML representation or trust the notebook. <br />On GitHub, the HTML representation is unable to render, please try loading this page with nbviewer.org.</b></div><div class=\"sk-container\" hidden><div class=\"sk-item\"><div class=\"sk-estimator sk-toggleable\"><input class=\"sk-toggleable__control sk-hidden--visually\" id=\"sk-estimator-id-1\" type=\"checkbox\" checked><label for=\"sk-estimator-id-1\" class=\"sk-toggleable__label sk-toggleable__label-arrow\">LogisticRegression</label><div class=\"sk-toggleable__content\"><pre>LogisticRegression()</pre></div></div></div></div></div>"
      ],
      "text/plain": [
       "LogisticRegression()"
      ]
     },
     "execution_count": 43,
     "metadata": {},
     "output_type": "execute_result"
    }
   ],
   "source": [
    "# Fitting logistic regression model\n",
    "lg = LogisticRegression()\n",
    "lg.fit(X_train,y_train)"
   ]
  },
  {
   "cell_type": "markdown",
   "id": "KY_E1udCOCcN",
   "metadata": {
    "id": "KY_E1udCOCcN"
   },
   "source": [
    "#### **Checking the performance of the model on train and test data**"
   ]
  },
  {
   "cell_type": "code",
   "execution_count": 44,
   "id": "generous-investing",
   "metadata": {
    "id": "generous-investing"
   },
   "outputs": [
    {
     "name": "stdout",
     "output_type": "stream",
     "text": [
      "              precision    recall  f1-score   support\n",
      "\n",
      "           0       0.82      0.89      0.86     17073\n",
      "           1       0.74      0.61      0.67      8319\n",
      "\n",
      "    accuracy                           0.80     25392\n",
      "   macro avg       0.78      0.75      0.76     25392\n",
      "weighted avg       0.80      0.80      0.80     25392\n",
      "\n"
     ]
    },
    {
     "data": {
      "image/png": "[encoded data removed]",
      "text/plain": [
       "<Figure size 576x360 with 2 Axes>"
      ]
     },
     "metadata": {
      "needs_background": "light"
     },
     "output_type": "display_data"
    }
   ],
   "source": [
    "# Checking the performance on the training data\n",
    "y_pred_train = lg.predict(X_train)\n",
    "metrics_score(y_train,y_pred_train)"
   ]
  },
  {
   "cell_type": "markdown",
   "id": "52aOuAUFPJBL",
   "metadata": {
    "id": "52aOuAUFPJBL"
   },
   "source": [
    "**Observations**\n",
    "- In classification, the class of interest is considered the positive class. Here, the class of interest is 1 i.e. identifying the hotel booking at the risk of cancellation.\n",
    "- The recall for the train data is 0.61 for class 1. Let us see if this can be increased significantly with optimal threshold"
   ]
  },
  {
   "cell_type": "markdown",
   "id": "ycKHN5ZGWruu",
   "metadata": {
    "id": "ycKHN5ZGWruu"
   },
   "source": [
    "Let's check the performance on the test set"
   ]
  },
  {
   "cell_type": "code",
   "execution_count": 45,
   "id": "_hbaUbSr6g6d",
   "metadata": {
    "id": "_hbaUbSr6g6d"
   },
   "outputs": [
    {
     "name": "stdout",
     "output_type": "stream",
     "text": [
      "              precision    recall  f1-score   support\n",
      "\n",
      "           0       0.82      0.89      0.85      7317\n",
      "           1       0.73      0.60      0.66      3566\n",
      "\n",
      "    accuracy                           0.79     10883\n",
      "   macro avg       0.77      0.74      0.75     10883\n",
      "weighted avg       0.79      0.79      0.79     10883\n",
      "\n"
     ]
    },
    {
     "data": {
      "image/png": "[encoded data removed]",
      "text/plain": [
       "<Figure size 576x360 with 2 Axes>"
      ]
     },
     "metadata": {
      "needs_background": "light"
     },
     "output_type": "display_data"
    }
   ],
   "source": [
    "# Checking the performance on the test dataset\n",
    "y_pred_test = lg.predict(X_test)\n",
    "metrics_score(y_test,y_pred_test)"
   ]
  },
  {
   "cell_type": "markdown",
   "id": "sBMbUH7DPKKT",
   "metadata": {
    "id": "sBMbUH7DPKKT"
   },
   "source": [
    "**Observation** \n",
    "- The recall for the train data is 0.60 for class 1. Let us see if this can be increased significantly."
   ]
  },
  {
   "cell_type": "markdown",
   "id": "heated-intersection",
   "metadata": {
    "id": "heated-intersection"
   },
   "source": [
    "\n",
    "Precision-Recall curves summarize the trade-off between the true positive rate and the positive predictive value for a predictive model using different probability thresholds.\n",
    "\n",
    "Let's use the Precision-Recall curve and see if we can find a **better threshold.**\n"
   ]
  },
  {
   "cell_type": "code",
   "execution_count": 46,
   "id": "acute-newark",
   "metadata": {
    "id": "acute-newark"
   },
   "outputs": [
    {
     "data": {
      "image/png": "[encoded data removed]",
      "text/plain": [
       "<Figure size 720x504 with 1 Axes>"
      ]
     },
     "metadata": {
      "needs_background": "light"
     },
     "output_type": "display_data"
    }
   ],
   "source": [
    "# Predict_proba gives the probability of each observation belonging to each class\n",
    "y_scores_lg=lg.predict_proba(X_train)\n",
    "\n",
    "precisions_lg, recalls_lg, thresholds_lg = precision_recall_curve(y_train, y_scores_lg[:,1])\n",
    "\n",
    "# Plot values of precisions, recalls, and thresholds\n",
    "plt.figure(figsize=(10,7))\n",
    "plt.plot(thresholds_lg, precisions_lg[:-1], 'b--', label='precision')\n",
    "plt.plot(thresholds_lg, recalls_lg[:-1], 'g--', label = 'recall')\n",
    "plt.xlabel('Threshold')\n",
    "plt.legend(loc='upper left')\n",
    "plt.ylim([0,1])\n",
    "plt.show()"
   ]
  },
  {
   "cell_type": "markdown",
   "id": "supported-series",
   "metadata": {
    "id": "supported-series"
   },
   "source": [
    "**Observation**\n",
    "- Precision and recall are balanced for a threshold of about ~0.42\n"
   ]
  },
  {
   "cell_type": "code",
   "execution_count": 47,
   "id": "brown-advertiser",
   "metadata": {
    "id": "brown-advertiser"
   },
   "outputs": [],
   "source": [
    "# Setting the optimal threshold\n",
    "optimal_threshold = 0.42"
   ]
  },
  {
   "cell_type": "markdown",
   "id": "environmental-surface",
   "metadata": {
    "id": "environmental-surface"
   },
   "source": [
    "#### **Checking the performance of the model on train and test data using the optimal threshold.**"
   ]
  },
  {
   "cell_type": "code",
   "execution_count": 48,
   "id": "mental-albany",
   "metadata": {
    "id": "mental-albany"
   },
   "outputs": [
    {
     "name": "stdout",
     "output_type": "stream",
     "text": [
      "              precision    recall  f1-score   support\n",
      "\n",
      "           0       0.85      0.84      0.84     17073\n",
      "           1       0.68      0.68      0.68      8319\n",
      "\n",
      "    accuracy                           0.79     25392\n",
      "   macro avg       0.76      0.76      0.76     25392\n",
      "weighted avg       0.79      0.79      0.79     25392\n",
      "\n"
     ]
    },
    {
     "data": {
      "image/png": "[encoded data removed]",
      "text/plain": [
       "<Figure size 576x360 with 2 Axes>"
      ]
     },
     "metadata": {
      "needs_background": "light"
     },
     "output_type": "display_data"
    }
   ],
   "source": [
    "# Creating confusion matrix\n",
    "y_pred_train = lg.predict_proba(X_train)\n",
    "metrics_score(y_train,y_pred_train[:,1]>optimal_threshold)"
   ]
  },
  {
   "cell_type": "markdown",
   "id": "indoor-equity",
   "metadata": {
    "id": "indoor-equity"
   },
   "source": [
    "**Observation**\n",
    "\n",
    "- The model performance improved at a threhold of 0.42 on the train data. For class 1 the recall increase from 0.61 to 0.69, which is about 8% increase."
   ]
  },
  {
   "cell_type": "markdown",
   "id": "xK2YZU-oYwnr",
   "metadata": {
    "id": "xK2YZU-oYwnr"
   },
   "source": [
    "Checking the performance on the test set"
   ]
  },
  {
   "cell_type": "code",
   "execution_count": 49,
   "id": "needed-trial",
   "metadata": {
    "id": "needed-trial"
   },
   "outputs": [
    {
     "name": "stdout",
     "output_type": "stream",
     "text": [
      "              precision    recall  f1-score   support\n",
      "\n",
      "           0       0.84      0.84      0.84      7317\n",
      "           1       0.68      0.67      0.67      3566\n",
      "\n",
      "    accuracy                           0.79     10883\n",
      "   macro avg       0.76      0.76      0.76     10883\n",
      "weighted avg       0.79      0.79      0.79     10883\n",
      "\n"
     ]
    },
    {
     "data": {
      "image/png": "[encoded data removed]",
      "text/plain": [
       "<Figure size 576x360 with 2 Axes>"
      ]
     },
     "metadata": {
      "needs_background": "light"
     },
     "output_type": "display_data"
    }
   ],
   "source": [
    "\n",
    "y_pred_test = lg.predict_proba(X_test)\n",
    "metrics_score(y_test,y_pred_test[:,1]>optimal_threshold)"
   ]
  },
  {
   "cell_type": "markdown",
   "id": "virgin-polls",
   "metadata": {
    "id": "virgin-polls"
   },
   "source": [
    "**Observation**\n",
    "\n",
    "- The model performance improved for class 1 from 0.60 to 0.68, which is about 8% increase on the test data with the optimal threhold of 0.42. \n"
   ]
  },
  {
   "cell_type": "markdown",
   "id": "42mzmgkfAB6r",
   "metadata": {
    "id": "42mzmgkfAB6r"
   },
   "source": [
    "### **Building the Support Vector Machine Models**"
   ]
  },
  {
   "cell_type": "markdown",
   "id": "DzJnFhWNry13",
   "metadata": {
    "id": "DzJnFhWNry13"
   },
   "source": [
    "To accelerate SVM training, let's scale the data for support vector machines."
   ]
  },
  {
   "cell_type": "code",
   "execution_count": 50,
   "id": "rvXQgpBFrxRv",
   "metadata": {
    "id": "rvXQgpBFrxRv"
   },
   "outputs": [],
   "source": [
    "scaling = MinMaxScaler(feature_range=(-1,1)).fit(X_train)\n",
    "X_train_scaled = scaling.transform(X_train)\n",
    "X_test_scaled = scaling.transform(X_test)"
   ]
  },
  {
   "cell_type": "markdown",
   "id": "ZF0KYzZYAB-I",
   "metadata": {
    "id": "ZF0KYzZYAB-I"
   },
   "source": [
    "Let's build the models using the two of the widely used kernel functions:\n",
    "\n",
    "1.   **Linear Kernel**\n",
    "2.   **RBF Kernel**\n",
    "\n"
   ]
  },
  {
   "cell_type": "markdown",
   "id": "ym5BVbHfH6gQ",
   "metadata": {
    "id": "ym5BVbHfH6gQ"
   },
   "source": [
    "#### **Building a Support Vector Machine model using a linear kernel (with scaled data)**"
   ]
  },
  {
   "cell_type": "code",
   "execution_count": 51,
   "id": "YjXGT-G3AArW",
   "metadata": {
    "id": "YjXGT-G3AArW"
   },
   "outputs": [],
   "source": [
    "svm = SVC(kernel='linear',probability=True) # Linear kernal or linear decision boundary\n",
    "model = svm.fit(X_train_scaled, y_train)"
   ]
  },
  {
   "cell_type": "markdown",
   "id": "xPYFGhb6BSfJ",
   "metadata": {
    "id": "xPYFGhb6BSfJ"
   },
   "source": [
    "#### **Checking the performance of the model on train and test data**"
   ]
  },
  {
   "cell_type": "code",
   "execution_count": 52,
   "id": "3xWoYJarBBBF",
   "metadata": {
    "id": "3xWoYJarBBBF"
   },
   "outputs": [
    {
     "name": "stdout",
     "output_type": "stream",
     "text": [
      "              precision    recall  f1-score   support\n",
      "\n",
      "           0       0.83      0.90      0.86     17073\n",
      "           1       0.75      0.61      0.67      8319\n",
      "\n",
      "    accuracy                           0.80     25392\n",
      "   macro avg       0.79      0.76      0.77     25392\n",
      "weighted avg       0.80      0.80      0.80     25392\n",
      "\n"
     ]
    },
    {
     "data": {
      "image/png": "[encoded data removed]",
      "text/plain": [
       "<Figure size 576x360 with 2 Axes>"
      ]
     },
     "metadata": {
      "needs_background": "light"
     },
     "output_type": "display_data"
    }
   ],
   "source": [
    "y_pred_train_svm = model.predict(X_train_scaled)\n",
    "metrics_score(y_train,y_pred_train_svm)"
   ]
  },
  {
   "cell_type": "markdown",
   "id": "NOSJn5ZKRTDS",
   "metadata": {
    "id": "NOSJn5ZKRTDS"
   },
   "source": [
    "**Observation**\n",
    "- With the SVM model with linear kernel, the recall for class 1 is about 61% and the accuracy is 80% which means the model is not overfitting\n",
    " \n"
   ]
  },
  {
   "cell_type": "markdown",
   "id": "zgbgteTXyVN5",
   "metadata": {
    "id": "zgbgteTXyVN5"
   },
   "source": [
    "Checking model performance on test set"
   ]
  },
  {
   "cell_type": "code",
   "execution_count": 53,
   "id": "8fpUk_cIAAuv",
   "metadata": {
    "id": "8fpUk_cIAAuv"
   },
   "outputs": [
    {
     "name": "stdout",
     "output_type": "stream",
     "text": [
      "              precision    recall  f1-score   support\n",
      "\n",
      "           0       0.82      0.90      0.86      7317\n",
      "           1       0.74      0.61      0.67      3566\n",
      "\n",
      "    accuracy                           0.80     10883\n",
      "   macro avg       0.78      0.75      0.76     10883\n",
      "weighted avg       0.80      0.80      0.80     10883\n",
      "\n"
     ]
    },
    {
     "data": {
      "image/png": "[encoded data removed]",
      "text/plain": [
       "<Figure size 576x360 with 2 Axes>"
      ]
     },
     "metadata": {
      "needs_background": "light"
     },
     "output_type": "display_data"
    }
   ],
   "source": [
    "y_pred_test_svm = model.predict(X_test_scaled)\n",
    "metrics_score(y_test,y_pred_test_svm)"
   ]
  },
  {
   "cell_type": "markdown",
   "id": "uQhJR6A4dLRr",
   "metadata": {
    "id": "uQhJR6A4dLRr"
   },
   "source": [
    "**Observation**\n",
    "- With the SVM model with linear kernel, the recall for class 1 is about 61% and the accuracy is 80% which means the model is not overfitting"
   ]
  },
  {
   "cell_type": "markdown",
   "id": "biqGCISyTSHj",
   "metadata": {
    "id": "biqGCISyTSHj"
   },
   "source": [
    "#### **Obtaining the optimal threshold for the model using the Precision-Recall Curve.**\n"
   ]
  },
  {
   "cell_type": "code",
   "execution_count": 54,
   "id": "-m-5ArrO0m_A",
   "metadata": {
    "id": "-m-5ArrO0m_A"
   },
   "outputs": [
    {
     "data": {
      "image/png": "[encoded data removed]",
      "text/plain": [
       "<Figure size 720x504 with 1 Axes>"
      ]
     },
     "metadata": {
      "needs_background": "light"
     },
     "output_type": "display_data"
    }
   ],
   "source": [
    "# Predict on train data\n",
    "y_scores_svm=model.predict_proba(X_train_scaled)\n",
    "\n",
    "precisions_svm, recalls_svm, thresholds_svm = precision_recall_curve(y_train,y_scores_svm[:,1])\n",
    "\n",
    "# Plot values of precisions, recalls, and thresholds\n",
    "plt.figure(figsize=(10,7))\n",
    "plt.plot(thresholds_svm, precisions_svm[:-1], 'b--', label='precision')\n",
    "plt.plot(thresholds_svm, recalls_svm[:-1], 'g--', label = 'recall')\n",
    "plt.xlabel('Threshold')\n",
    "plt.legend(loc='upper left')\n",
    "plt.ylim([0,1])\n",
    "plt.show()"
   ]
  },
  {
   "cell_type": "markdown",
   "id": "KIhLeNBKEplE",
   "metadata": {
    "id": "KIhLeNBKEplE"
   },
   "source": [
    "**Observation**\n",
    "- Precision and recall are balanced for a threshold of about ~0.41\n"
   ]
  },
  {
   "cell_type": "code",
   "execution_count": 55,
   "id": "0G6DAkF_Thzl",
   "metadata": {
    "id": "0G6DAkF_Thzl"
   },
   "outputs": [],
   "source": [
    "optimal_threshold_svm= 0.41"
   ]
  },
  {
   "cell_type": "markdown",
   "id": "KavLMkflTm57",
   "metadata": {
    "id": "KavLMkflTm57"
   },
   "source": [
    "#### **Checking the performance of the model on train and test data using the optimal threshold.**"
   ]
  },
  {
   "cell_type": "code",
   "execution_count": 56,
   "id": "ICf9R7L_TvS7",
   "metadata": {
    "id": "ICf9R7L_TvS7"
   },
   "outputs": [
    {
     "name": "stdout",
     "output_type": "stream",
     "text": [
      "              precision    recall  f1-score   support\n",
      "\n",
      "           0       0.85      0.85      0.85     17073\n",
      "           1       0.70      0.70      0.70      8319\n",
      "\n",
      "    accuracy                           0.80     25392\n",
      "   macro avg       0.78      0.78      0.78     25392\n",
      "weighted avg       0.80      0.80      0.80     25392\n",
      "\n"
     ]
    },
    {
     "data": {
      "image/png": "[encoded data removed]",
      "text/plain": [
       "<Figure size 576x360 with 2 Axes>"
      ]
     },
     "metadata": {
      "needs_background": "light"
     },
     "output_type": "display_data"
    }
   ],
   "source": [
    "y_pred_train_svm = model.predict_proba(X_train_scaled)\n",
    "metrics_score(y_train,y_pred_train_svm[:,1]>optimal_threshold_svm)"
   ]
  },
  {
   "cell_type": "markdown",
   "id": "5X5QMI2VS3_h",
   "metadata": {
    "id": "5X5QMI2VS3_h"
   },
   "source": [
    "**Observation**\n",
    "- The model performance on the train data improved from 0.61 to 0.70, an increase of about 9% on the recall for class 1 with a threshold of 0.41\n"
   ]
  },
  {
   "cell_type": "code",
   "execution_count": 57,
   "id": "s2BC_MXfH2x6",
   "metadata": {
    "id": "s2BC_MXfH2x6"
   },
   "outputs": [
    {
     "name": "stdout",
     "output_type": "stream",
     "text": [
      "              precision    recall  f1-score   support\n",
      "\n",
      "           0       0.85      0.85      0.85      7317\n",
      "           1       0.70      0.69      0.69      3566\n",
      "\n",
      "    accuracy                           0.80     10883\n",
      "   macro avg       0.77      0.77      0.77     10883\n",
      "weighted avg       0.80      0.80      0.80     10883\n",
      "\n"
     ]
    },
    {
     "data": {
      "image/png": "[encoded data removed]",
      "text/plain": [
       "<Figure size 576x360 with 2 Axes>"
      ]
     },
     "metadata": {
      "needs_background": "light"
     },
     "output_type": "display_data"
    }
   ],
   "source": [
    "y_pred_test = model.predict_proba(X_test_scaled)\n",
    "metrics_score(y_test,y_pred_test[:,1]>optimal_threshold)"
   ]
  },
  {
   "cell_type": "markdown",
   "id": "QCuuTrvCGSyK",
   "metadata": {
    "id": "QCuuTrvCGSyK"
   },
   "source": [
    "**Observation**\n",
    "- The model performance on the test data improved from 0.61 to 0.69, an increase of about 9% on the recall for class 1 with a threshold of 0.41\n"
   ]
  },
  {
   "cell_type": "markdown",
   "id": "RWKtJmto0mwB",
   "metadata": {
    "id": "RWKtJmto0mwB"
   },
   "source": [
    "#### **Building a Support Vector Machines model using an RBF kernel**"
   ]
  },
  {
   "cell_type": "code",
   "execution_count": 58,
   "id": "lJTfIaQ30m5o",
   "metadata": {
    "id": "lJTfIaQ30m5o"
   },
   "outputs": [
    {
     "data": {
      "text/html": [
       "<style>#sk-container-id-2 {color: black;background-color: white;}#sk-container-id-2 pre{padding: 0;}#sk-container-id-2 div.sk-toggleable {background-color: white;}#sk-container-id-2 label.sk-toggleable__label {cursor: pointer;display: block;width: 100%;margin-bottom: 0;padding: 0.3em;box-sizing: border-box;text-align: center;}#sk-container-id-2 label.sk-toggleable__label-arrow:before {content: \"▸\";float: left;margin-right: 0.25em;color: #696969;}#sk-container-id-2 label.sk-toggleable__label-arrow:hover:before {color: black;}#sk-container-id-2 div.sk-estimator:hover label.sk-toggleable__label-arrow:before {color: black;}#sk-container-id-2 div.sk-toggleable__content {max-height: 0;max-width: 0;overflow: hidden;text-align: left;background-color: #f0f8ff;}#sk-container-id-2 div.sk-toggleable__content pre {margin: 0.2em;color: black;border-radius: 0.25em;background-color: #f0f8ff;}#sk-container-id-2 input.sk-toggleable__control:checked~div.sk-toggleable__content {max-height: 200px;max-width: 100%;overflow: auto;}#sk-container-id-2 input.sk-toggleable__control:checked~label.sk-toggleable__label-arrow:before {content: \"▾\";}#sk-container-id-2 div.sk-estimator input.sk-toggleable__control:checked~label.sk-toggleable__label {background-color: #d4ebff;}#sk-container-id-2 div.sk-label input.sk-toggleable__control:checked~label.sk-toggleable__label {background-color: #d4ebff;}#sk-container-id-2 input.sk-hidden--visually {border: 0;clip: rect(1px 1px 1px 1px);clip: rect(1px, 1px, 1px, 1px);height: 1px;margin: -1px;overflow: hidden;padding: 0;position: absolute;width: 1px;}#sk-container-id-2 div.sk-estimator {font-family: monospace;background-color: #f0f8ff;border: 1px dotted black;border-radius: 0.25em;box-sizing: border-box;margin-bottom: 0.5em;}#sk-container-id-2 div.sk-estimator:hover {background-color: #d4ebff;}#sk-container-id-2 div.sk-parallel-item::after {content: \"\";width: 100%;border-bottom: 1px solid gray;flex-grow: 1;}#sk-container-id-2 div.sk-label:hover label.sk-toggleable__label {background-color: #d4ebff;}#sk-container-id-2 div.sk-serial::before {content: \"\";position: absolute;border-left: 1px solid gray;box-sizing: border-box;top: 0;bottom: 0;left: 50%;z-index: 0;}#sk-container-id-2 div.sk-serial {display: flex;flex-direction: column;align-items: center;background-color: white;padding-right: 0.2em;padding-left: 0.2em;position: relative;}#sk-container-id-2 div.sk-item {position: relative;z-index: 1;}#sk-container-id-2 div.sk-parallel {display: flex;align-items: stretch;justify-content: center;background-color: white;position: relative;}#sk-container-id-2 div.sk-item::before, #sk-container-id-2 div.sk-parallel-item::before {content: \"\";position: absolute;border-left: 1px solid gray;box-sizing: border-box;top: 0;bottom: 0;left: 50%;z-index: -1;}#sk-container-id-2 div.sk-parallel-item {display: flex;flex-direction: column;z-index: 1;position: relative;background-color: white;}#sk-container-id-2 div.sk-parallel-item:first-child::after {align-self: flex-end;width: 50%;}#sk-container-id-2 div.sk-parallel-item:last-child::after {align-self: flex-start;width: 50%;}#sk-container-id-2 div.sk-parallel-item:only-child::after {width: 0;}#sk-container-id-2 div.sk-dashed-wrapped {border: 1px dashed gray;margin: 0 0.4em 0.5em 0.4em;box-sizing: border-box;padding-bottom: 0.4em;background-color: white;}#sk-container-id-2 div.sk-label label {font-family: monospace;font-weight: bold;display: inline-block;line-height: 1.2em;}#sk-container-id-2 div.sk-label-container {text-align: center;}#sk-container-id-2 div.sk-container {/* jupyter's `normalize.less` sets `[hidden] { display: none; }` but bootstrap.min.css set `[hidden] { display: none !important; }` so we also need the `!important` here to be able to override the default hidden behavior on the sphinx rendered scikit-learn.org. See: https://github.com/scikit-learn/scikit-learn/issues/21755 */display: inline-block !important;position: relative;}#sk-container-id-2 div.sk-text-repr-fallback {display: none;}</style><div id=\"sk-container-id-2\" class=\"sk-top-container\"><div class=\"sk-text-repr-fallback\"><pre>SVC(probability=True)</pre><b>In a Jupyter environment, please rerun this cell to show the HTML representation or trust the notebook. <br />On GitHub, the HTML representation is unable to render, please try loading this page with nbviewer.org.</b></div><div class=\"sk-container\" hidden><div class=\"sk-item\"><div class=\"sk-estimator sk-toggleable\"><input class=\"sk-toggleable__control sk-hidden--visually\" id=\"sk-estimator-id-2\" type=\"checkbox\" checked><label for=\"sk-estimator-id-2\" class=\"sk-toggleable__label sk-toggleable__label-arrow\">SVC</label><div class=\"sk-toggleable__content\"><pre>SVC(probability=True)</pre></div></div></div></div></div>"
      ],
      "text/plain": [
       "SVC(probability=True)"
      ]
     },
     "execution_count": 58,
     "metadata": {},
     "output_type": "execute_result"
    }
   ],
   "source": [
    "svm_rbf=SVC(kernel='rbf',probability=True)\n",
    "svm_rbf.fit(X_train_scaled,y_train)"
   ]
  },
  {
   "cell_type": "markdown",
   "id": "wA1qWKRS025i",
   "metadata": {
    "id": "wA1qWKRS025i"
   },
   "source": [
    "#### **Checking the performance of the model on train and test data**"
   ]
  },
  {
   "cell_type": "code",
   "execution_count": 59,
   "id": "EKjry-eL0vxy",
   "metadata": {
    "id": "EKjry-eL0vxy"
   },
   "outputs": [
    {
     "name": "stdout",
     "output_type": "stream",
     "text": [
      "              precision    recall  f1-score   support\n",
      "\n",
      "           0       0.84      0.91      0.88     17073\n",
      "           1       0.78      0.65      0.71      8319\n",
      "\n",
      "    accuracy                           0.83     25392\n",
      "   macro avg       0.81      0.78      0.79     25392\n",
      "weighted avg       0.82      0.83      0.82     25392\n",
      "\n"
     ]
    },
    {
     "data": {
      "image/png": "[encoded data removed]",
      "text/plain": [
       "<Figure size 576x360 with 2 Axes>"
      ]
     },
     "metadata": {
      "needs_background": "light"
     },
     "output_type": "display_data"
    }
   ],
   "source": [
    "\n",
    "y_pred_train_svm = svm_rbf.predict(X_train_scaled)\n",
    "metrics_score(y_train,y_pred_train_svm)"
   ]
  },
  {
   "cell_type": "markdown",
   "id": "eVQ7ISZPTEfy",
   "metadata": {
    "id": "eVQ7ISZPTEfy"
   },
   "source": [
    "**Observations**\n",
    "- With the SVM model with rbf kernel, the recall for class 1 is about 65% on train data which is an improvement compared with the linear model. \n",
    "- The accuracy is 83% which means the model is not overfitting.\n"
   ]
  },
  {
   "cell_type": "markdown",
   "id": "G-MGcMO903sp",
   "metadata": {
    "id": "G-MGcMO903sp"
   },
   "source": [
    "##### **Checking model performance on test set**"
   ]
  },
  {
   "cell_type": "code",
   "execution_count": 60,
   "id": "s3WqNK2lUXlp",
   "metadata": {
    "id": "s3WqNK2lUXlp"
   },
   "outputs": [
    {
     "name": "stdout",
     "output_type": "stream",
     "text": [
      "              precision    recall  f1-score   support\n",
      "\n",
      "           0       0.84      0.91      0.87      7317\n",
      "           1       0.77      0.64      0.70      3566\n",
      "\n",
      "    accuracy                           0.82     10883\n",
      "   macro avg       0.81      0.77      0.79     10883\n",
      "weighted avg       0.82      0.82      0.82     10883\n",
      "\n"
     ]
    },
    {
     "data": {
      "image/png": "[encoded data removed]",
      "text/plain": [
       "<Figure size 576x360 with 2 Axes>"
      ]
     },
     "metadata": {
      "needs_background": "light"
     },
     "output_type": "display_data"
    }
   ],
   "source": [
    "y_pred_test = svm_rbf.predict(X_test_scaled)\n",
    "\n",
    "metrics_score(y_test, y_pred_test)"
   ]
  },
  {
   "cell_type": "markdown",
   "id": "xeEUvWSZTlEA",
   "metadata": {
    "id": "xeEUvWSZTlEA"
   },
   "source": [
    "**Observations**\n",
    "- With the SVM model with rbf kernel, the recall for class 1 is about 63% on test data which is an improvement compared with the linear model. \n",
    "- The accuracy is 82% which means the model is not overfitting."
   ]
  },
  {
   "cell_type": "code",
   "execution_count": 61,
   "id": "IdktVBlKHuhM",
   "metadata": {
    "id": "IdktVBlKHuhM"
   },
   "outputs": [
    {
     "data": {
      "image/png": "[encoded data removed]",
      "text/plain": [
       "<Figure size 720x504 with 1 Axes>"
      ]
     },
     "metadata": {
      "needs_background": "light"
     },
     "output_type": "display_data"
    }
   ],
   "source": [
    "# Predict on train data\n",
    "y_scores_svm=svm_rbf.predict_proba(X_train_scaled)\n",
    "\n",
    "precisions_svm, recalls_svm, thresholds_svm = precision_recall_curve(y_train, y_scores_svm[:,1])\n",
    "\n",
    "# Plot values of precisions, recalls, and thresholds\n",
    "plt.figure(figsize=(10,7))\n",
    "plt.plot(thresholds_svm, precisions_svm[:-1], 'b--', label='precision')\n",
    "plt.plot(thresholds_svm, recalls_svm[:-1], 'g--', label = 'recall')\n",
    "plt.xlabel('Threshold')\n",
    "plt.legend(loc='upper left')\n",
    "plt.ylim([0,1])\n",
    "plt.show()"
   ]
  },
  {
   "cell_type": "code",
   "execution_count": 62,
   "id": "TLTllfbBWYjo",
   "metadata": {
    "id": "TLTllfbBWYjo"
   },
   "outputs": [],
   "source": [
    "optimal_threshold_svm=0.41"
   ]
  },
  {
   "cell_type": "markdown",
   "id": "1OakprjnXNY8",
   "metadata": {
    "id": "1OakprjnXNY8"
   },
   "source": [
    "#### **Checking the performance of the model on train and test data using the optimal threshold.**"
   ]
  },
  {
   "cell_type": "code",
   "execution_count": 63,
   "id": "CjuakUWKsYMN",
   "metadata": {
    "id": "CjuakUWKsYMN"
   },
   "outputs": [
    {
     "name": "stdout",
     "output_type": "stream",
     "text": [
      "              precision    recall  f1-score   support\n",
      "\n",
      "           0       0.87      0.87      0.87     17073\n",
      "           1       0.73      0.73      0.73      8319\n",
      "\n",
      "    accuracy                           0.82     25392\n",
      "   macro avg       0.80      0.80      0.80     25392\n",
      "weighted avg       0.82      0.82      0.82     25392\n",
      "\n"
     ]
    },
    {
     "data": {
      "image/png": "[encoded data removed]",
      "text/plain": [
       "<Figure size 576x360 with 2 Axes>"
      ]
     },
     "metadata": {
      "needs_background": "light"
     },
     "output_type": "display_data"
    }
   ],
   "source": [
    "y_pred_train_svm = svm_rbf.predict_proba(X_train_scaled)\n",
    "metrics_score(y_train,y_pred_train_svm[:,1]>optimal_threshold_svm)"
   ]
  },
  {
   "cell_type": "markdown",
   "id": "jaZgooCfFoLx",
   "metadata": {
    "id": "jaZgooCfFoLx"
   },
   "source": [
    "**Observations**\n",
    "\n",
    "- With optimal threhold of 0.41, the accuracy of of the model is 82% on the train data which means the model is not overfitting.\n",
    "- The model performed well with a non-linear kernel (rbf)\n",
    "- The model performance improved from  recall value of 0.65 to 0.73 on class 1\n",
    "- As the recall is high, the model will do better in classifying the cancelled hotel bookings and the bookings that are not cancelled.\n"
   ]
  },
  {
   "cell_type": "code",
   "execution_count": 64,
   "id": "nQs1WAI_2jlr",
   "metadata": {
    "id": "nQs1WAI_2jlr"
   },
   "outputs": [
    {
     "name": "stdout",
     "output_type": "stream",
     "text": [
      "              precision    recall  f1-score   support\n",
      "\n",
      "           0       0.86      0.86      0.86      7317\n",
      "           1       0.72      0.72      0.72      3566\n",
      "\n",
      "    accuracy                           0.81     10883\n",
      "   macro avg       0.79      0.79      0.79     10883\n",
      "weighted avg       0.81      0.81      0.81     10883\n",
      "\n"
     ]
    },
    {
     "data": {
      "image/png": "[encoded data removed]",
      "text/plain": [
       "<Figure size 576x360 with 2 Axes>"
      ]
     },
     "metadata": {
      "needs_background": "light"
     },
     "output_type": "display_data"
    }
   ],
   "source": [
    "y_pred_test = svm_rbf.predict_proba(X_test_scaled)\n",
    "metrics_score(y_test,y_pred_test[:,1]>optimal_threshold_svm)"
   ]
  },
  {
   "cell_type": "markdown",
   "id": "xBu1WHxOOyg8",
   "metadata": {
    "id": "xBu1WHxOOyg8"
   },
   "source": [
    "**Observations**\n",
    "- With optimal threhold of 0.41, the accuracy of of the model is 82% on the test data which means the model is not overfitting.\n",
    "- The model performed well with a non-linear kernel (rbf)\n",
    "- The model performance improved from  recall value of 0.63 to 0.72 on class 1\n",
    "- As the recall is high, the model will do better in classifying the cancelled hotel bookings and the bookings that are not cancelled."
   ]
  },
  {
   "cell_type": "markdown",
   "id": "immune-malta",
   "metadata": {
    "id": "immune-malta"
   },
   "source": [
    "#### **Building a Decision Tree Model**"
   ]
  },
  {
   "cell_type": "code",
   "execution_count": 65,
   "id": "recognized-nurse",
   "metadata": {
    "id": "recognized-nurse"
   },
   "outputs": [
    {
     "data": {
      "text/html": [
       "<style>#sk-container-id-3 {color: black;background-color: white;}#sk-container-id-3 pre{padding: 0;}#sk-container-id-3 div.sk-toggleable {background-color: white;}#sk-container-id-3 label.sk-toggleable__label {cursor: pointer;display: block;width: 100%;margin-bottom: 0;padding: 0.3em;box-sizing: border-box;text-align: center;}#sk-container-id-3 label.sk-toggleable__label-arrow:before {content: \"▸\";float: left;margin-right: 0.25em;color: #696969;}#sk-container-id-3 label.sk-toggleable__label-arrow:hover:before {color: black;}#sk-container-id-3 div.sk-estimator:hover label.sk-toggleable__label-arrow:before {color: black;}#sk-container-id-3 div.sk-toggleable__content {max-height: 0;max-width: 0;overflow: hidden;text-align: left;background-color: #f0f8ff;}#sk-container-id-3 div.sk-toggleable__content pre {margin: 0.2em;color: black;border-radius: 0.25em;background-color: #f0f8ff;}#sk-container-id-3 input.sk-toggleable__control:checked~div.sk-toggleable__content {max-height: 200px;max-width: 100%;overflow: auto;}#sk-container-id-3 input.sk-toggleable__control:checked~label.sk-toggleable__label-arrow:before {content: \"▾\";}#sk-container-id-3 div.sk-estimator input.sk-toggleable__control:checked~label.sk-toggleable__label {background-color: #d4ebff;}#sk-container-id-3 div.sk-label input.sk-toggleable__control:checked~label.sk-toggleable__label {background-color: #d4ebff;}#sk-container-id-3 input.sk-hidden--visually {border: 0;clip: rect(1px 1px 1px 1px);clip: rect(1px, 1px, 1px, 1px);height: 1px;margin: -1px;overflow: hidden;padding: 0;position: absolute;width: 1px;}#sk-container-id-3 div.sk-estimator {font-family: monospace;background-color: #f0f8ff;border: 1px dotted black;border-radius: 0.25em;box-sizing: border-box;margin-bottom: 0.5em;}#sk-container-id-3 div.sk-estimator:hover {background-color: #d4ebff;}#sk-container-id-3 div.sk-parallel-item::after {content: \"\";width: 100%;border-bottom: 1px solid gray;flex-grow: 1;}#sk-container-id-3 div.sk-label:hover label.sk-toggleable__label {background-color: #d4ebff;}#sk-container-id-3 div.sk-serial::before {content: \"\";position: absolute;border-left: 1px solid gray;box-sizing: border-box;top: 0;bottom: 0;left: 50%;z-index: 0;}#sk-container-id-3 div.sk-serial {display: flex;flex-direction: column;align-items: center;background-color: white;padding-right: 0.2em;padding-left: 0.2em;position: relative;}#sk-container-id-3 div.sk-item {position: relative;z-index: 1;}#sk-container-id-3 div.sk-parallel {display: flex;align-items: stretch;justify-content: center;background-color: white;position: relative;}#sk-container-id-3 div.sk-item::before, #sk-container-id-3 div.sk-parallel-item::before {content: \"\";position: absolute;border-left: 1px solid gray;box-sizing: border-box;top: 0;bottom: 0;left: 50%;z-index: -1;}#sk-container-id-3 div.sk-parallel-item {display: flex;flex-direction: column;z-index: 1;position: relative;background-color: white;}#sk-container-id-3 div.sk-parallel-item:first-child::after {align-self: flex-end;width: 50%;}#sk-container-id-3 div.sk-parallel-item:last-child::after {align-self: flex-start;width: 50%;}#sk-container-id-3 div.sk-parallel-item:only-child::after {width: 0;}#sk-container-id-3 div.sk-dashed-wrapped {border: 1px dashed gray;margin: 0 0.4em 0.5em 0.4em;box-sizing: border-box;padding-bottom: 0.4em;background-color: white;}#sk-container-id-3 div.sk-label label {font-family: monospace;font-weight: bold;display: inline-block;line-height: 1.2em;}#sk-container-id-3 div.sk-label-container {text-align: center;}#sk-container-id-3 div.sk-container {/* jupyter's `normalize.less` sets `[hidden] { display: none; }` but bootstrap.min.css set `[hidden] { display: none !important; }` so we also need the `!important` here to be able to override the default hidden behavior on the sphinx rendered scikit-learn.org. See: https://github.com/scikit-learn/scikit-learn/issues/21755 */display: inline-block !important;position: relative;}#sk-container-id-3 div.sk-text-repr-fallback {display: none;}</style><div id=\"sk-container-id-3\" class=\"sk-top-container\"><div class=\"sk-text-repr-fallback\"><pre>DecisionTreeClassifier()</pre><b>In a Jupyter environment, please rerun this cell to show the HTML representation or trust the notebook. <br />On GitHub, the HTML representation is unable to render, please try loading this page with nbviewer.org.</b></div><div class=\"sk-container\" hidden><div class=\"sk-item\"><div class=\"sk-estimator sk-toggleable\"><input class=\"sk-toggleable__control sk-hidden--visually\" id=\"sk-estimator-id-3\" type=\"checkbox\" checked><label for=\"sk-estimator-id-3\" class=\"sk-toggleable__label sk-toggleable__label-arrow\">DecisionTreeClassifier</label><div class=\"sk-toggleable__content\"><pre>DecisionTreeClassifier()</pre></div></div></div></div></div>"
      ],
      "text/plain": [
       "DecisionTreeClassifier()"
      ]
     },
     "execution_count": 65,
     "metadata": {},
     "output_type": "execute_result"
    }
   ],
   "source": [
    "model_dt = DecisionTreeClassifier()\n",
    "model_dt.fit(X_train,y_train)"
   ]
  },
  {
   "cell_type": "code",
   "execution_count": 66,
   "id": "female-kennedy",
   "metadata": {
    "id": "female-kennedy"
   },
   "outputs": [
    {
     "name": "stdout",
     "output_type": "stream",
     "text": [
      "              precision    recall  f1-score   support\n",
      "\n",
      "           0       0.99      1.00      1.00     17073\n",
      "           1       1.00      0.99      0.99      8319\n",
      "\n",
      "    accuracy                           0.99     25392\n",
      "   macro avg       1.00      0.99      0.99     25392\n",
      "weighted avg       0.99      0.99      0.99     25392\n",
      "\n"
     ]
    },
    {
     "data": {
      "image/png": "[encoded data removed]",
      "text/plain": [
       "<Figure size 576x360 with 2 Axes>"
      ]
     },
     "metadata": {
      "needs_background": "light"
     },
     "output_type": "display_data"
    }
   ],
   "source": [
    "# Checking performance on the training dataset\n",
    "pred_train_dt = model_dt.predict(X_train)\n",
    "metrics_score(y_train, pred_train_dt)"
   ]
  },
  {
   "cell_type": "markdown",
   "id": "laden-london",
   "metadata": {
    "id": "laden-london"
   },
   "source": [
    "**Observations**\n",
    "- The accuracy score is 99% with a recall of 0.99. On the training data, almost all the samples were classified correctly\n",
    "- The model performance is great on the training data.\n"
   ]
  },
  {
   "cell_type": "markdown",
   "id": "neither-omaha",
   "metadata": {
    "id": "neither-omaha"
   },
   "source": [
    "#### **Checking model performance on test set**"
   ]
  },
  {
   "cell_type": "code",
   "execution_count": 67,
   "id": "42537a82",
   "metadata": {
    "id": "42537a82"
   },
   "outputs": [
    {
     "name": "stdout",
     "output_type": "stream",
     "text": [
      "              precision    recall  f1-score   support\n",
      "\n",
      "           0       0.90      0.90      0.90      7317\n",
      "           1       0.79      0.79      0.79      3566\n",
      "\n",
      "    accuracy                           0.86     10883\n",
      "   macro avg       0.85      0.85      0.85     10883\n",
      "weighted avg       0.86      0.86      0.86     10883\n",
      "\n"
     ]
    },
    {
     "data": {
      "image/png": "[encoded data removed]",
      "text/plain": [
       "<Figure size 576x360 with 2 Axes>"
      ]
     },
     "metadata": {
      "needs_background": "light"
     },
     "output_type": "display_data"
    }
   ],
   "source": [
    "pred_test_dt = model_dt.predict(X_test)\n",
    "metrics_score(y_test,pred_test_dt)"
   ]
  },
  {
   "cell_type": "markdown",
   "id": "previous-stamp",
   "metadata": {
    "id": "previous-stamp"
   },
   "source": [
    "**Observations**\n",
    "- The recall for class one dropped from 100% to 79% which means the model is overfitting on the training data and underperformed on the test data. The accuracy of the model performance also dropped significantly.\n",
    "- Although the model is overfitting, with a recall of 0.79 on class 1,  it has a better performance compared with Logistic Regression and SVM. \n",
    "- The precision on the test data suggests that there's a 21% (1 - 0.79) chance that the model will predict that an hotel booking will be cancelled even when it woul not making the comapny waste resources to manage the bookings.\n",
    "- To reduce overfitting, we have to tune the parameters of the decision tree.\n",
    "\n"
   ]
  },
  {
   "cell_type": "markdown",
   "id": "detailed-possible",
   "metadata": {
    "id": "detailed-possible"
   },
   "source": [
    " #### **Performing hyperparameter tuning for the decision tree model using GridSearch CV**"
   ]
  },
  {
   "cell_type": "code",
   "execution_count": 68,
   "id": "romantic-stationery",
   "metadata": {
    "id": "romantic-stationery"
   },
   "outputs": [
    {
     "ename": "KeyboardInterrupt",
     "evalue": "",
     "output_type": "error",
     "traceback": [
      "\u001b[1;31m---------------------------------------------------------------------------\u001b[0m",
      "\u001b[1;31mKeyboardInterrupt\u001b[0m                         Traceback (most recent call last)",
      "Input \u001b[1;32mIn [68]\u001b[0m, in \u001b[0;36m<cell line: 14>\u001b[1;34m()\u001b[0m\n\u001b[0;32m     12\u001b[0m \u001b[38;5;66;03m# Run the grid search\u001b[39;00m\n\u001b[0;32m     13\u001b[0m grid_obj \u001b[38;5;241m=\u001b[39m GridSearchCV(estimator, parameters)\n\u001b[1;32m---> 14\u001b[0m grid_obj \u001b[38;5;241m=\u001b[39m \u001b[43mgrid_obj\u001b[49m\u001b[38;5;241;43m.\u001b[39;49m\u001b[43mfit\u001b[49m\u001b[43m(\u001b[49m\u001b[43mX_train\u001b[49m\u001b[43m,\u001b[49m\u001b[43my_train\u001b[49m\u001b[43m)\u001b[49m\n\u001b[0;32m     16\u001b[0m \u001b[38;5;66;03m# Set the clf to the best combination of parameters\u001b[39;00m\n\u001b[0;32m     17\u001b[0m estimator \u001b[38;5;241m=\u001b[39m grid_obj\u001b[38;5;241m.\u001b[39mbest_estimator_\n",
      "File \u001b[1;32m~\\AppData\\Local\\Packages\\PythonSoftwareFoundation.Python.3.10_qbz5n2kfra8p0\\LocalCache\\local-packages\\Python310\\site-packages\\sklearn\\model_selection\\_search.py:875\u001b[0m, in \u001b[0;36mBaseSearchCV.fit\u001b[1;34m(self, X, y, groups, **fit_params)\u001b[0m\n\u001b[0;32m    869\u001b[0m     results \u001b[38;5;241m=\u001b[39m \u001b[38;5;28mself\u001b[39m\u001b[38;5;241m.\u001b[39m_format_results(\n\u001b[0;32m    870\u001b[0m         all_candidate_params, n_splits, all_out, all_more_results\n\u001b[0;32m    871\u001b[0m     )\n\u001b[0;32m    873\u001b[0m     \u001b[38;5;28;01mreturn\u001b[39;00m results\n\u001b[1;32m--> 875\u001b[0m \u001b[38;5;28;43mself\u001b[39;49m\u001b[38;5;241;43m.\u001b[39;49m\u001b[43m_run_search\u001b[49m\u001b[43m(\u001b[49m\u001b[43mevaluate_candidates\u001b[49m\u001b[43m)\u001b[49m\n\u001b[0;32m    877\u001b[0m \u001b[38;5;66;03m# multimetric is determined here because in the case of a callable\u001b[39;00m\n\u001b[0;32m    878\u001b[0m \u001b[38;5;66;03m# self.scoring the return type is only known after calling\u001b[39;00m\n\u001b[0;32m    879\u001b[0m first_test_score \u001b[38;5;241m=\u001b[39m all_out[\u001b[38;5;241m0\u001b[39m][\u001b[38;5;124m\"\u001b[39m\u001b[38;5;124mtest_scores\u001b[39m\u001b[38;5;124m\"\u001b[39m]\n",
      "File \u001b[1;32m~\\AppData\\Local\\Packages\\PythonSoftwareFoundation.Python.3.10_qbz5n2kfra8p0\\LocalCache\\local-packages\\Python310\\site-packages\\sklearn\\model_selection\\_search.py:1375\u001b[0m, in \u001b[0;36mGridSearchCV._run_search\u001b[1;34m(self, evaluate_candidates)\u001b[0m\n\u001b[0;32m   1373\u001b[0m \u001b[38;5;28;01mdef\u001b[39;00m \u001b[38;5;21m_run_search\u001b[39m(\u001b[38;5;28mself\u001b[39m, evaluate_candidates):\n\u001b[0;32m   1374\u001b[0m     \u001b[38;5;124;03m\"\"\"Search all candidates in param_grid\"\"\"\u001b[39;00m\n\u001b[1;32m-> 1375\u001b[0m     \u001b[43mevaluate_candidates\u001b[49m\u001b[43m(\u001b[49m\u001b[43mParameterGrid\u001b[49m\u001b[43m(\u001b[49m\u001b[38;5;28;43mself\u001b[39;49m\u001b[38;5;241;43m.\u001b[39;49m\u001b[43mparam_grid\u001b[49m\u001b[43m)\u001b[49m\u001b[43m)\u001b[49m\n",
      "File \u001b[1;32m~\\AppData\\Local\\Packages\\PythonSoftwareFoundation.Python.3.10_qbz5n2kfra8p0\\LocalCache\\local-packages\\Python310\\site-packages\\sklearn\\model_selection\\_search.py:822\u001b[0m, in \u001b[0;36mBaseSearchCV.fit.<locals>.evaluate_candidates\u001b[1;34m(candidate_params, cv, more_results)\u001b[0m\n\u001b[0;32m    814\u001b[0m \u001b[38;5;28;01mif\u001b[39;00m \u001b[38;5;28mself\u001b[39m\u001b[38;5;241m.\u001b[39mverbose \u001b[38;5;241m>\u001b[39m \u001b[38;5;241m0\u001b[39m:\n\u001b[0;32m    815\u001b[0m     \u001b[38;5;28mprint\u001b[39m(\n\u001b[0;32m    816\u001b[0m         \u001b[38;5;124m\"\u001b[39m\u001b[38;5;124mFitting \u001b[39m\u001b[38;5;132;01m{0}\u001b[39;00m\u001b[38;5;124m folds for each of \u001b[39m\u001b[38;5;132;01m{1}\u001b[39;00m\u001b[38;5;124m candidates,\u001b[39m\u001b[38;5;124m\"\u001b[39m\n\u001b[0;32m    817\u001b[0m         \u001b[38;5;124m\"\u001b[39m\u001b[38;5;124m totalling \u001b[39m\u001b[38;5;132;01m{2}\u001b[39;00m\u001b[38;5;124m fits\u001b[39m\u001b[38;5;124m\"\u001b[39m\u001b[38;5;241m.\u001b[39mformat(\n\u001b[0;32m    818\u001b[0m             n_splits, n_candidates, n_candidates \u001b[38;5;241m*\u001b[39m n_splits\n\u001b[0;32m    819\u001b[0m         )\n\u001b[0;32m    820\u001b[0m     )\n\u001b[1;32m--> 822\u001b[0m out \u001b[38;5;241m=\u001b[39m \u001b[43mparallel\u001b[49m\u001b[43m(\u001b[49m\n\u001b[0;32m    823\u001b[0m \u001b[43m    \u001b[49m\u001b[43mdelayed\u001b[49m\u001b[43m(\u001b[49m\u001b[43m_fit_and_score\u001b[49m\u001b[43m)\u001b[49m\u001b[43m(\u001b[49m\n\u001b[0;32m    824\u001b[0m \u001b[43m        \u001b[49m\u001b[43mclone\u001b[49m\u001b[43m(\u001b[49m\u001b[43mbase_estimator\u001b[49m\u001b[43m)\u001b[49m\u001b[43m,\u001b[49m\n\u001b[0;32m    825\u001b[0m \u001b[43m        \u001b[49m\u001b[43mX\u001b[49m\u001b[43m,\u001b[49m\n\u001b[0;32m    826\u001b[0m \u001b[43m        \u001b[49m\u001b[43my\u001b[49m\u001b[43m,\u001b[49m\n\u001b[0;32m    827\u001b[0m \u001b[43m        \u001b[49m\u001b[43mtrain\u001b[49m\u001b[38;5;241;43m=\u001b[39;49m\u001b[43mtrain\u001b[49m\u001b[43m,\u001b[49m\n\u001b[0;32m    828\u001b[0m \u001b[43m        \u001b[49m\u001b[43mtest\u001b[49m\u001b[38;5;241;43m=\u001b[39;49m\u001b[43mtest\u001b[49m\u001b[43m,\u001b[49m\n\u001b[0;32m    829\u001b[0m \u001b[43m        \u001b[49m\u001b[43mparameters\u001b[49m\u001b[38;5;241;43m=\u001b[39;49m\u001b[43mparameters\u001b[49m\u001b[43m,\u001b[49m\n\u001b[0;32m    830\u001b[0m \u001b[43m        \u001b[49m\u001b[43msplit_progress\u001b[49m\u001b[38;5;241;43m=\u001b[39;49m\u001b[43m(\u001b[49m\u001b[43msplit_idx\u001b[49m\u001b[43m,\u001b[49m\u001b[43m \u001b[49m\u001b[43mn_splits\u001b[49m\u001b[43m)\u001b[49m\u001b[43m,\u001b[49m\n\u001b[0;32m    831\u001b[0m \u001b[43m        \u001b[49m\u001b[43mcandidate_progress\u001b[49m\u001b[38;5;241;43m=\u001b[39;49m\u001b[43m(\u001b[49m\u001b[43mcand_idx\u001b[49m\u001b[43m,\u001b[49m\u001b[43m \u001b[49m\u001b[43mn_candidates\u001b[49m\u001b[43m)\u001b[49m\u001b[43m,\u001b[49m\n\u001b[0;32m    832\u001b[0m \u001b[43m        \u001b[49m\u001b[38;5;241;43m*\u001b[39;49m\u001b[38;5;241;43m*\u001b[39;49m\u001b[43mfit_and_score_kwargs\u001b[49m\u001b[43m,\u001b[49m\n\u001b[0;32m    833\u001b[0m \u001b[43m    \u001b[49m\u001b[43m)\u001b[49m\n\u001b[0;32m    834\u001b[0m \u001b[43m    \u001b[49m\u001b[38;5;28;43;01mfor\u001b[39;49;00m\u001b[43m \u001b[49m\u001b[43m(\u001b[49m\u001b[43mcand_idx\u001b[49m\u001b[43m,\u001b[49m\u001b[43m \u001b[49m\u001b[43mparameters\u001b[49m\u001b[43m)\u001b[49m\u001b[43m,\u001b[49m\u001b[43m \u001b[49m\u001b[43m(\u001b[49m\u001b[43msplit_idx\u001b[49m\u001b[43m,\u001b[49m\u001b[43m \u001b[49m\u001b[43m(\u001b[49m\u001b[43mtrain\u001b[49m\u001b[43m,\u001b[49m\u001b[43m \u001b[49m\u001b[43mtest\u001b[49m\u001b[43m)\u001b[49m\u001b[43m)\u001b[49m\u001b[43m \u001b[49m\u001b[38;5;129;43;01min\u001b[39;49;00m\u001b[43m \u001b[49m\u001b[43mproduct\u001b[49m\u001b[43m(\u001b[49m\n\u001b[0;32m    835\u001b[0m \u001b[43m        \u001b[49m\u001b[38;5;28;43menumerate\u001b[39;49m\u001b[43m(\u001b[49m\u001b[43mcandidate_params\u001b[49m\u001b[43m)\u001b[49m\u001b[43m,\u001b[49m\u001b[43m \u001b[49m\u001b[38;5;28;43menumerate\u001b[39;49m\u001b[43m(\u001b[49m\u001b[43mcv\u001b[49m\u001b[38;5;241;43m.\u001b[39;49m\u001b[43msplit\u001b[49m\u001b[43m(\u001b[49m\u001b[43mX\u001b[49m\u001b[43m,\u001b[49m\u001b[43m \u001b[49m\u001b[43my\u001b[49m\u001b[43m,\u001b[49m\u001b[43m \u001b[49m\u001b[43mgroups\u001b[49m\u001b[43m)\u001b[49m\u001b[43m)\u001b[49m\n\u001b[0;32m    836\u001b[0m \u001b[43m    \u001b[49m\u001b[43m)\u001b[49m\n\u001b[0;32m    837\u001b[0m \u001b[43m\u001b[49m\u001b[43m)\u001b[49m\n\u001b[0;32m    839\u001b[0m \u001b[38;5;28;01mif\u001b[39;00m \u001b[38;5;28mlen\u001b[39m(out) \u001b[38;5;241m<\u001b[39m \u001b[38;5;241m1\u001b[39m:\n\u001b[0;32m    840\u001b[0m     \u001b[38;5;28;01mraise\u001b[39;00m \u001b[38;5;167;01mValueError\u001b[39;00m(\n\u001b[0;32m    841\u001b[0m         \u001b[38;5;124m\"\u001b[39m\u001b[38;5;124mNo fits were performed. \u001b[39m\u001b[38;5;124m\"\u001b[39m\n\u001b[0;32m    842\u001b[0m         \u001b[38;5;124m\"\u001b[39m\u001b[38;5;124mWas the CV iterator empty? \u001b[39m\u001b[38;5;124m\"\u001b[39m\n\u001b[0;32m    843\u001b[0m         \u001b[38;5;124m\"\u001b[39m\u001b[38;5;124mWere there no candidates?\u001b[39m\u001b[38;5;124m\"\u001b[39m\n\u001b[0;32m    844\u001b[0m     )\n",
      "File \u001b[1;32m~\\AppData\\Local\\Packages\\PythonSoftwareFoundation.Python.3.10_qbz5n2kfra8p0\\LocalCache\\local-packages\\Python310\\site-packages\\joblib\\parallel.py:1046\u001b[0m, in \u001b[0;36mParallel.__call__\u001b[1;34m(self, iterable)\u001b[0m\n\u001b[0;32m   1043\u001b[0m \u001b[38;5;28;01mif\u001b[39;00m \u001b[38;5;28mself\u001b[39m\u001b[38;5;241m.\u001b[39mdispatch_one_batch(iterator):\n\u001b[0;32m   1044\u001b[0m     \u001b[38;5;28mself\u001b[39m\u001b[38;5;241m.\u001b[39m_iterating \u001b[38;5;241m=\u001b[39m \u001b[38;5;28mself\u001b[39m\u001b[38;5;241m.\u001b[39m_original_iterator \u001b[38;5;129;01mis\u001b[39;00m \u001b[38;5;129;01mnot\u001b[39;00m \u001b[38;5;28;01mNone\u001b[39;00m\n\u001b[1;32m-> 1046\u001b[0m \u001b[38;5;28;01mwhile\u001b[39;00m \u001b[38;5;28;43mself\u001b[39;49m\u001b[38;5;241;43m.\u001b[39;49m\u001b[43mdispatch_one_batch\u001b[49m\u001b[43m(\u001b[49m\u001b[43miterator\u001b[49m\u001b[43m)\u001b[49m:\n\u001b[0;32m   1047\u001b[0m     \u001b[38;5;28;01mpass\u001b[39;00m\n\u001b[0;32m   1049\u001b[0m \u001b[38;5;28;01mif\u001b[39;00m pre_dispatch \u001b[38;5;241m==\u001b[39m \u001b[38;5;124m\"\u001b[39m\u001b[38;5;124mall\u001b[39m\u001b[38;5;124m\"\u001b[39m \u001b[38;5;129;01mor\u001b[39;00m n_jobs \u001b[38;5;241m==\u001b[39m \u001b[38;5;241m1\u001b[39m:\n\u001b[0;32m   1050\u001b[0m     \u001b[38;5;66;03m# The iterable was consumed all at once by the above for loop.\u001b[39;00m\n\u001b[0;32m   1051\u001b[0m     \u001b[38;5;66;03m# No need to wait for async callbacks to trigger to\u001b[39;00m\n\u001b[0;32m   1052\u001b[0m     \u001b[38;5;66;03m# consumption.\u001b[39;00m\n",
      "File \u001b[1;32m~\\AppData\\Local\\Packages\\PythonSoftwareFoundation.Python.3.10_qbz5n2kfra8p0\\LocalCache\\local-packages\\Python310\\site-packages\\joblib\\parallel.py:861\u001b[0m, in \u001b[0;36mParallel.dispatch_one_batch\u001b[1;34m(self, iterator)\u001b[0m\n\u001b[0;32m    859\u001b[0m     \u001b[38;5;28;01mreturn\u001b[39;00m \u001b[38;5;28;01mFalse\u001b[39;00m\n\u001b[0;32m    860\u001b[0m \u001b[38;5;28;01melse\u001b[39;00m:\n\u001b[1;32m--> 861\u001b[0m     \u001b[38;5;28;43mself\u001b[39;49m\u001b[38;5;241;43m.\u001b[39;49m\u001b[43m_dispatch\u001b[49m\u001b[43m(\u001b[49m\u001b[43mtasks\u001b[49m\u001b[43m)\u001b[49m\n\u001b[0;32m    862\u001b[0m     \u001b[38;5;28;01mreturn\u001b[39;00m \u001b[38;5;28;01mTrue\u001b[39;00m\n",
      "File \u001b[1;32m~\\AppData\\Local\\Packages\\PythonSoftwareFoundation.Python.3.10_qbz5n2kfra8p0\\LocalCache\\local-packages\\Python310\\site-packages\\joblib\\parallel.py:779\u001b[0m, in \u001b[0;36mParallel._dispatch\u001b[1;34m(self, batch)\u001b[0m\n\u001b[0;32m    777\u001b[0m \u001b[38;5;28;01mwith\u001b[39;00m \u001b[38;5;28mself\u001b[39m\u001b[38;5;241m.\u001b[39m_lock:\n\u001b[0;32m    778\u001b[0m     job_idx \u001b[38;5;241m=\u001b[39m \u001b[38;5;28mlen\u001b[39m(\u001b[38;5;28mself\u001b[39m\u001b[38;5;241m.\u001b[39m_jobs)\n\u001b[1;32m--> 779\u001b[0m     job \u001b[38;5;241m=\u001b[39m \u001b[38;5;28;43mself\u001b[39;49m\u001b[38;5;241;43m.\u001b[39;49m\u001b[43m_backend\u001b[49m\u001b[38;5;241;43m.\u001b[39;49m\u001b[43mapply_async\u001b[49m\u001b[43m(\u001b[49m\u001b[43mbatch\u001b[49m\u001b[43m,\u001b[49m\u001b[43m \u001b[49m\u001b[43mcallback\u001b[49m\u001b[38;5;241;43m=\u001b[39;49m\u001b[43mcb\u001b[49m\u001b[43m)\u001b[49m\n\u001b[0;32m    780\u001b[0m     \u001b[38;5;66;03m# A job can complete so quickly than its callback is\u001b[39;00m\n\u001b[0;32m    781\u001b[0m     \u001b[38;5;66;03m# called before we get here, causing self._jobs to\u001b[39;00m\n\u001b[0;32m    782\u001b[0m     \u001b[38;5;66;03m# grow. To ensure correct results ordering, .insert is\u001b[39;00m\n\u001b[0;32m    783\u001b[0m     \u001b[38;5;66;03m# used (rather than .append) in the following line\u001b[39;00m\n\u001b[0;32m    784\u001b[0m     \u001b[38;5;28mself\u001b[39m\u001b[38;5;241m.\u001b[39m_jobs\u001b[38;5;241m.\u001b[39minsert(job_idx, job)\n",
      "File \u001b[1;32m~\\AppData\\Local\\Packages\\PythonSoftwareFoundation.Python.3.10_qbz5n2kfra8p0\\LocalCache\\local-packages\\Python310\\site-packages\\joblib\\_parallel_backends.py:208\u001b[0m, in \u001b[0;36mSequentialBackend.apply_async\u001b[1;34m(self, func, callback)\u001b[0m\n\u001b[0;32m    206\u001b[0m \u001b[38;5;28;01mdef\u001b[39;00m \u001b[38;5;21mapply_async\u001b[39m(\u001b[38;5;28mself\u001b[39m, func, callback\u001b[38;5;241m=\u001b[39m\u001b[38;5;28;01mNone\u001b[39;00m):\n\u001b[0;32m    207\u001b[0m     \u001b[38;5;124;03m\"\"\"Schedule a func to be run\"\"\"\u001b[39;00m\n\u001b[1;32m--> 208\u001b[0m     result \u001b[38;5;241m=\u001b[39m \u001b[43mImmediateResult\u001b[49m\u001b[43m(\u001b[49m\u001b[43mfunc\u001b[49m\u001b[43m)\u001b[49m\n\u001b[0;32m    209\u001b[0m     \u001b[38;5;28;01mif\u001b[39;00m callback:\n\u001b[0;32m    210\u001b[0m         callback(result)\n",
      "File \u001b[1;32m~\\AppData\\Local\\Packages\\PythonSoftwareFoundation.Python.3.10_qbz5n2kfra8p0\\LocalCache\\local-packages\\Python310\\site-packages\\joblib\\_parallel_backends.py:572\u001b[0m, in \u001b[0;36mImmediateResult.__init__\u001b[1;34m(self, batch)\u001b[0m\n\u001b[0;32m    569\u001b[0m \u001b[38;5;28;01mdef\u001b[39;00m \u001b[38;5;21m__init__\u001b[39m(\u001b[38;5;28mself\u001b[39m, batch):\n\u001b[0;32m    570\u001b[0m     \u001b[38;5;66;03m# Don't delay the application, to avoid keeping the input\u001b[39;00m\n\u001b[0;32m    571\u001b[0m     \u001b[38;5;66;03m# arguments in memory\u001b[39;00m\n\u001b[1;32m--> 572\u001b[0m     \u001b[38;5;28mself\u001b[39m\u001b[38;5;241m.\u001b[39mresults \u001b[38;5;241m=\u001b[39m \u001b[43mbatch\u001b[49m\u001b[43m(\u001b[49m\u001b[43m)\u001b[49m\n",
      "File \u001b[1;32m~\\AppData\\Local\\Packages\\PythonSoftwareFoundation.Python.3.10_qbz5n2kfra8p0\\LocalCache\\local-packages\\Python310\\site-packages\\joblib\\parallel.py:262\u001b[0m, in \u001b[0;36mBatchedCalls.__call__\u001b[1;34m(self)\u001b[0m\n\u001b[0;32m    258\u001b[0m \u001b[38;5;28;01mdef\u001b[39;00m \u001b[38;5;21m__call__\u001b[39m(\u001b[38;5;28mself\u001b[39m):\n\u001b[0;32m    259\u001b[0m     \u001b[38;5;66;03m# Set the default nested backend to self._backend but do not set the\u001b[39;00m\n\u001b[0;32m    260\u001b[0m     \u001b[38;5;66;03m# change the default number of processes to -1\u001b[39;00m\n\u001b[0;32m    261\u001b[0m     \u001b[38;5;28;01mwith\u001b[39;00m parallel_backend(\u001b[38;5;28mself\u001b[39m\u001b[38;5;241m.\u001b[39m_backend, n_jobs\u001b[38;5;241m=\u001b[39m\u001b[38;5;28mself\u001b[39m\u001b[38;5;241m.\u001b[39m_n_jobs):\n\u001b[1;32m--> 262\u001b[0m         \u001b[38;5;28;01mreturn\u001b[39;00m [func(\u001b[38;5;241m*\u001b[39margs, \u001b[38;5;241m*\u001b[39m\u001b[38;5;241m*\u001b[39mkwargs)\n\u001b[0;32m    263\u001b[0m                 \u001b[38;5;28;01mfor\u001b[39;00m func, args, kwargs \u001b[38;5;129;01min\u001b[39;00m \u001b[38;5;28mself\u001b[39m\u001b[38;5;241m.\u001b[39mitems]\n",
      "File \u001b[1;32m~\\AppData\\Local\\Packages\\PythonSoftwareFoundation.Python.3.10_qbz5n2kfra8p0\\LocalCache\\local-packages\\Python310\\site-packages\\joblib\\parallel.py:262\u001b[0m, in \u001b[0;36m<listcomp>\u001b[1;34m(.0)\u001b[0m\n\u001b[0;32m    258\u001b[0m \u001b[38;5;28;01mdef\u001b[39;00m \u001b[38;5;21m__call__\u001b[39m(\u001b[38;5;28mself\u001b[39m):\n\u001b[0;32m    259\u001b[0m     \u001b[38;5;66;03m# Set the default nested backend to self._backend but do not set the\u001b[39;00m\n\u001b[0;32m    260\u001b[0m     \u001b[38;5;66;03m# change the default number of processes to -1\u001b[39;00m\n\u001b[0;32m    261\u001b[0m     \u001b[38;5;28;01mwith\u001b[39;00m parallel_backend(\u001b[38;5;28mself\u001b[39m\u001b[38;5;241m.\u001b[39m_backend, n_jobs\u001b[38;5;241m=\u001b[39m\u001b[38;5;28mself\u001b[39m\u001b[38;5;241m.\u001b[39m_n_jobs):\n\u001b[1;32m--> 262\u001b[0m         \u001b[38;5;28;01mreturn\u001b[39;00m [func(\u001b[38;5;241m*\u001b[39margs, \u001b[38;5;241m*\u001b[39m\u001b[38;5;241m*\u001b[39mkwargs)\n\u001b[0;32m    263\u001b[0m                 \u001b[38;5;28;01mfor\u001b[39;00m func, args, kwargs \u001b[38;5;129;01min\u001b[39;00m \u001b[38;5;28mself\u001b[39m\u001b[38;5;241m.\u001b[39mitems]\n",
      "File \u001b[1;32m~\\AppData\\Local\\Packages\\PythonSoftwareFoundation.Python.3.10_qbz5n2kfra8p0\\LocalCache\\local-packages\\Python310\\site-packages\\sklearn\\utils\\fixes.py:117\u001b[0m, in \u001b[0;36m_FuncWrapper.__call__\u001b[1;34m(self, *args, **kwargs)\u001b[0m\n\u001b[0;32m    115\u001b[0m \u001b[38;5;28;01mdef\u001b[39;00m \u001b[38;5;21m__call__\u001b[39m(\u001b[38;5;28mself\u001b[39m, \u001b[38;5;241m*\u001b[39margs, \u001b[38;5;241m*\u001b[39m\u001b[38;5;241m*\u001b[39mkwargs):\n\u001b[0;32m    116\u001b[0m     \u001b[38;5;28;01mwith\u001b[39;00m config_context(\u001b[38;5;241m*\u001b[39m\u001b[38;5;241m*\u001b[39m\u001b[38;5;28mself\u001b[39m\u001b[38;5;241m.\u001b[39mconfig):\n\u001b[1;32m--> 117\u001b[0m         \u001b[38;5;28;01mreturn\u001b[39;00m \u001b[38;5;28mself\u001b[39m\u001b[38;5;241m.\u001b[39mfunction(\u001b[38;5;241m*\u001b[39margs, \u001b[38;5;241m*\u001b[39m\u001b[38;5;241m*\u001b[39mkwargs)\n",
      "File \u001b[1;32m~\\AppData\\Local\\Packages\\PythonSoftwareFoundation.Python.3.10_qbz5n2kfra8p0\\LocalCache\\local-packages\\Python310\\site-packages\\sklearn\\model_selection\\_validation.py:686\u001b[0m, in \u001b[0;36m_fit_and_score\u001b[1;34m(estimator, X, y, scorer, train, test, verbose, parameters, fit_params, return_train_score, return_parameters, return_n_test_samples, return_times, return_estimator, split_progress, candidate_progress, error_score)\u001b[0m\n\u001b[0;32m    684\u001b[0m         estimator\u001b[38;5;241m.\u001b[39mfit(X_train, \u001b[38;5;241m*\u001b[39m\u001b[38;5;241m*\u001b[39mfit_params)\n\u001b[0;32m    685\u001b[0m     \u001b[38;5;28;01melse\u001b[39;00m:\n\u001b[1;32m--> 686\u001b[0m         estimator\u001b[38;5;241m.\u001b[39mfit(X_train, y_train, \u001b[38;5;241m*\u001b[39m\u001b[38;5;241m*\u001b[39mfit_params)\n\u001b[0;32m    688\u001b[0m \u001b[38;5;28;01mexcept\u001b[39;00m \u001b[38;5;167;01mException\u001b[39;00m:\n\u001b[0;32m    689\u001b[0m     \u001b[38;5;66;03m# Note fit time as time until error\u001b[39;00m\n\u001b[0;32m    690\u001b[0m     fit_time \u001b[38;5;241m=\u001b[39m time\u001b[38;5;241m.\u001b[39mtime() \u001b[38;5;241m-\u001b[39m start_time\n",
      "File \u001b[1;32m~\\AppData\\Local\\Packages\\PythonSoftwareFoundation.Python.3.10_qbz5n2kfra8p0\\LocalCache\\local-packages\\Python310\\site-packages\\sklearn\\tree\\_classes.py:969\u001b[0m, in \u001b[0;36mDecisionTreeClassifier.fit\u001b[1;34m(self, X, y, sample_weight, check_input)\u001b[0m\n\u001b[0;32m    939\u001b[0m \u001b[38;5;28;01mdef\u001b[39;00m \u001b[38;5;21mfit\u001b[39m(\u001b[38;5;28mself\u001b[39m, X, y, sample_weight\u001b[38;5;241m=\u001b[39m\u001b[38;5;28;01mNone\u001b[39;00m, check_input\u001b[38;5;241m=\u001b[39m\u001b[38;5;28;01mTrue\u001b[39;00m):\n\u001b[0;32m    940\u001b[0m     \u001b[38;5;124;03m\"\"\"Build a decision tree classifier from the training set (X, y).\u001b[39;00m\n\u001b[0;32m    941\u001b[0m \n\u001b[0;32m    942\u001b[0m \u001b[38;5;124;03m    Parameters\u001b[39;00m\n\u001b[1;32m   (...)\u001b[0m\n\u001b[0;32m    966\u001b[0m \u001b[38;5;124;03m        Fitted estimator.\u001b[39;00m\n\u001b[0;32m    967\u001b[0m \u001b[38;5;124;03m    \"\"\"\u001b[39;00m\n\u001b[1;32m--> 969\u001b[0m     \u001b[38;5;28;43msuper\u001b[39;49m\u001b[43m(\u001b[49m\u001b[43m)\u001b[49m\u001b[38;5;241;43m.\u001b[39;49m\u001b[43mfit\u001b[49m\u001b[43m(\u001b[49m\n\u001b[0;32m    970\u001b[0m \u001b[43m        \u001b[49m\u001b[43mX\u001b[49m\u001b[43m,\u001b[49m\n\u001b[0;32m    971\u001b[0m \u001b[43m        \u001b[49m\u001b[43my\u001b[49m\u001b[43m,\u001b[49m\n\u001b[0;32m    972\u001b[0m \u001b[43m        \u001b[49m\u001b[43msample_weight\u001b[49m\u001b[38;5;241;43m=\u001b[39;49m\u001b[43msample_weight\u001b[49m\u001b[43m,\u001b[49m\n\u001b[0;32m    973\u001b[0m \u001b[43m        \u001b[49m\u001b[43mcheck_input\u001b[49m\u001b[38;5;241;43m=\u001b[39;49m\u001b[43mcheck_input\u001b[49m\u001b[43m,\u001b[49m\n\u001b[0;32m    974\u001b[0m \u001b[43m    \u001b[49m\u001b[43m)\u001b[49m\n\u001b[0;32m    975\u001b[0m     \u001b[38;5;28;01mreturn\u001b[39;00m \u001b[38;5;28mself\u001b[39m\n",
      "File \u001b[1;32m~\\AppData\\Local\\Packages\\PythonSoftwareFoundation.Python.3.10_qbz5n2kfra8p0\\LocalCache\\local-packages\\Python310\\site-packages\\sklearn\\tree\\_classes.py:458\u001b[0m, in \u001b[0;36mBaseDecisionTree.fit\u001b[1;34m(self, X, y, sample_weight, check_input)\u001b[0m\n\u001b[0;32m    447\u001b[0m \u001b[38;5;28;01melse\u001b[39;00m:\n\u001b[0;32m    448\u001b[0m     builder \u001b[38;5;241m=\u001b[39m BestFirstTreeBuilder(\n\u001b[0;32m    449\u001b[0m         splitter,\n\u001b[0;32m    450\u001b[0m         min_samples_split,\n\u001b[1;32m   (...)\u001b[0m\n\u001b[0;32m    455\u001b[0m         \u001b[38;5;28mself\u001b[39m\u001b[38;5;241m.\u001b[39mmin_impurity_decrease,\n\u001b[0;32m    456\u001b[0m     )\n\u001b[1;32m--> 458\u001b[0m \u001b[43mbuilder\u001b[49m\u001b[38;5;241;43m.\u001b[39;49m\u001b[43mbuild\u001b[49m\u001b[43m(\u001b[49m\u001b[38;5;28;43mself\u001b[39;49m\u001b[38;5;241;43m.\u001b[39;49m\u001b[43mtree_\u001b[49m\u001b[43m,\u001b[49m\u001b[43m \u001b[49m\u001b[43mX\u001b[49m\u001b[43m,\u001b[49m\u001b[43m \u001b[49m\u001b[43my\u001b[49m\u001b[43m,\u001b[49m\u001b[43m \u001b[49m\u001b[43msample_weight\u001b[49m\u001b[43m)\u001b[49m\n\u001b[0;32m    460\u001b[0m \u001b[38;5;28;01mif\u001b[39;00m \u001b[38;5;28mself\u001b[39m\u001b[38;5;241m.\u001b[39mn_outputs_ \u001b[38;5;241m==\u001b[39m \u001b[38;5;241m1\u001b[39m \u001b[38;5;129;01mand\u001b[39;00m is_classifier(\u001b[38;5;28mself\u001b[39m):\n\u001b[0;32m    461\u001b[0m     \u001b[38;5;28mself\u001b[39m\u001b[38;5;241m.\u001b[39mn_classes_ \u001b[38;5;241m=\u001b[39m \u001b[38;5;28mself\u001b[39m\u001b[38;5;241m.\u001b[39mn_classes_[\u001b[38;5;241m0\u001b[39m]\n",
      "\u001b[1;31mKeyboardInterrupt\u001b[0m: "
     ]
    }
   ],
   "source": [
    "\n",
    "\n",
    "# Choose the type of classifier.\n",
    "estimator = DecisionTreeClassifier(random_state=1)\n",
    "\n",
    "# Grid of parameters to choose from\n",
    "parameters = {\n",
    "    \"max_depth\": np.arange(2, 7, 2),\n",
    "    \"max_leaf_nodes\": [50, 75, 150, 250],\n",
    "    \"min_samples_split\": [10, 30, 50, 70],\n",
    "}\n",
    "\n",
    "\n",
    "# Run the grid search\n",
    "grid_obj = GridSearchCV(estimator, parameters)\n",
    "grid_obj = grid_obj.fit(X_train,y_train)\n",
    "\n",
    "# Set the clf to the best combination of parameters\n",
    "estimator = grid_obj.best_estimator_\n",
    "\n",
    "# Fit the best algorithm to the data.\n",
    "estimator.fit(X_train,y_train)"
   ]
  },
  {
   "cell_type": "markdown",
   "id": "concrete-season",
   "metadata": {
    "id": "concrete-season"
   },
   "source": [
    "#### **Checking the performance of the model on the train and test data using the tuned model**"
   ]
  },
  {
   "cell_type": "markdown",
   "id": "endangered-image",
   "metadata": {
    "id": "endangered-image"
   },
   "source": [
    "##### Checking performance on the training set "
   ]
  },
  {
   "cell_type": "code",
   "execution_count": null,
   "id": "skilled-poster",
   "metadata": {
    "id": "skilled-poster"
   },
   "outputs": [],
   "source": [
    "\n",
    "# Checking performance on the training dataset\n",
    "dt_tuned = estimator.predict(X_train)\n",
    "metrics_score(y_train,dt_tuned)"
   ]
  },
  {
   "cell_type": "markdown",
   "id": "y7VVuoGMHf7C",
   "metadata": {
    "id": "y7VVuoGMHf7C"
   },
   "source": [
    "**Observations**\n",
    "- Decision tree model with default parameters is overfitting the training data and is not able to generalize well.\n",
    "- With an accuracy score of 85%, the tuning of the parameters has ensured the model is not overfitting.\n",
    "- The recall has reduced to 0.68 from 0.79.\n"
   ]
  },
  {
   "cell_type": "markdown",
   "id": "639dc2ff",
   "metadata": {},
   "source": [
    "##### Checking performance on the test data set"
   ]
  },
  {
   "cell_type": "code",
   "execution_count": null,
   "id": "killing-magnet",
   "metadata": {
    "id": "killing-magnet"
   },
   "outputs": [],
   "source": [
    "\n",
    "# Checking performance on the test dataset\n",
    "y_pred_tuned = estimator.predict(X_test)\n",
    "metrics_score(y_test,y_pred_tuned)"
   ]
  },
  {
   "cell_type": "markdown",
   "id": "HmcGMUeNHmai",
   "metadata": {
    "id": "HmcGMUeNHmai"
   },
   "source": [
    "**Observations**\n",
    "- Decision tree model with default parameters is overfitting the training data and is not able to generalize well.\n",
    "- With an accuracy score of 84%, the tuning of the parameters has ensured the model is not overfitting.\n",
    "- The recall has reduced to 0.68 from 0.79 which means that the performance of the model on test data has not improved"
   ]
  },
  {
   "cell_type": "markdown",
   "id": "frequent-grenada",
   "metadata": {
    "id": "frequent-grenada"
   },
   "source": [
    "#### **Visualizing the Decision Tree**"
   ]
  },
  {
   "cell_type": "code",
   "execution_count": null,
   "id": "driving-state",
   "metadata": {
    "id": "driving-state"
   },
   "outputs": [],
   "source": [
    "feature_names = list(X_train.columns)\n",
    "plt.figure(figsize=(20, 10))\n",
    "out = tree.plot_tree(\n",
    "    estimator,max_depth=3,\n",
    "    feature_names=feature_names,\n",
    "    filled=True,\n",
    "    fontsize=9,\n",
    "    node_ids=False,\n",
    "    class_names=None,\n",
    ")\n",
    "# below code will add arrows to the decision tree split if they are missing\n",
    "for o in out:\n",
    "    arrow = o.arrow_patch\n",
    "    if arrow is not None:\n",
    "        arrow.set_edgecolor(\"black\")\n",
    "        arrow.set_linewidth(1)\n",
    "plt.show()"
   ]
  },
  {
   "cell_type": "markdown",
   "id": "rational-details",
   "metadata": {
    "id": "rational-details"
   },
   "source": [
    "#### **Some important features based on the tuned decision tree**"
   ]
  },
  {
   "cell_type": "code",
   "execution_count": null,
   "id": "secure-killing",
   "metadata": {
    "id": "secure-killing"
   },
   "outputs": [],
   "source": [
    "\n",
    "# Importance of features in the tree building\n",
    "\n",
    "importances = estimator.feature_importances_\n",
    "indices = np.argsort(importances)\n",
    "\n",
    "plt.figure(figsize=(8, 8))\n",
    "plt.title(\"Feature Importances\")\n",
    "plt.barh(range(len(indices)), importances[indices], color=\"violet\", align=\"center\")\n",
    "plt.yticks(range(len(indices)), [feature_names[i] for i in indices])\n",
    "plt.xlabel(\"Relative Importance\")\n",
    "plt.show()"
   ]
  },
  {
   "cell_type": "markdown",
   "id": "differential-perth",
   "metadata": {
    "id": "differential-perth"
   },
   "source": [
    "**Observations**\n",
    "\n",
    "*  After tuning the model, we found out that only 9 features are important with about 4 of them having higher relative importance. The model seem to **have high bias** as it has over-simplified the problem and is not capturing the patterns associated with other variables.\n",
    "\n",
    "* We observe that the 4 most important features that describes why hotel booking are cancelled are:\n",
    "    * Lead time\n",
    "    * Online Market Segment Type\n",
    "    - Average price per room\n",
    "    - Number of Special guest\n"
   ]
  },
  {
   "cell_type": "markdown",
   "id": "motLVEa4TL_U",
   "metadata": {
    "id": "motLVEa4TL_U"
   },
   "source": [
    "___"
   ]
  },
  {
   "cell_type": "markdown",
   "id": "1FuGyOqjc_4b",
   "metadata": {
    "id": "1FuGyOqjc_4b"
   },
   "source": [
    "#### **Building a Random Forest Model**"
   ]
  },
  {
   "cell_type": "code",
   "execution_count": null,
   "id": "bIsbmNYal1rj",
   "metadata": {
    "id": "bIsbmNYal1rj"
   },
   "outputs": [],
   "source": [
    "\n",
    "rf_estimator = RandomForestClassifier( random_state = 1)\n",
    "\n",
    "rf_estimator.fit(X_train,y_train)"
   ]
  },
  {
   "cell_type": "markdown",
   "id": "SxYjZqTjd-Qk",
   "metadata": {
    "id": "SxYjZqTjd-Qk"
   },
   "source": [
    "#### To check the performance of the model on the train and test data**"
   ]
  },
  {
   "cell_type": "code",
   "execution_count": null,
   "id": "M6jrat9ko0LO",
   "metadata": {
    "id": "M6jrat9ko0LO"
   },
   "outputs": [],
   "source": [
    "\n",
    "y_pred_train_rf = rf_estimator.predict(X_train)\n",
    "\n",
    "metrics_score(y_train,y_pred_train_rf)"
   ]
  },
  {
   "cell_type": "markdown",
   "id": "QUAlKVpUH_SG",
   "metadata": {
    "id": "QUAlKVpUH_SG"
   },
   "source": [
    "**Observation**\n",
    "\n",
    "- Almost all the samples on the training dataset were correctly classified with a 99% accuracy\n",
    "- The model performed well on the training data\n"
   ]
  },
  {
   "cell_type": "code",
   "execution_count": null,
   "id": "2vMZodtJ1k4z",
   "metadata": {
    "id": "2vMZodtJ1k4z"
   },
   "outputs": [],
   "source": [
    "y_pred_test_rf = rf_estimator.predict(X_test)\n",
    "\n",
    "metrics_score(y_test,y_pred_test_rf)"
   ]
  },
  {
   "cell_type": "markdown",
   "id": "p8hPHFpRRTCr",
   "metadata": {
    "id": "p8hPHFpRRTCr"
   },
   "source": [
    "**Observation**\n",
    "- The model seem to be overfitting the training data as the model performance reduced on the test data as compared with training data.\n",
    "- Although the model is overfitting, with a recall of 0.80 on class 1, it has a better performance compared with Logistic Regression and SVM.\n",
    "- The parameters of the random forest should be tuned to reduce overfitting and improve the recall.\n"
   ]
  },
  {
   "cell_type": "markdown",
   "id": "4rAIPf5BSKes",
   "metadata": {
    "id": "4rAIPf5BSKes"
   },
   "source": [
    "Let's check the feature importance of the Random Forest"
   ]
  },
  {
   "cell_type": "code",
   "execution_count": null,
   "id": "lknDAkbZSI6B",
   "metadata": {
    "id": "lknDAkbZSI6B"
   },
   "outputs": [],
   "source": [
    "\n",
    "importances = rf_estimator.feature_importances_\n",
    "\n",
    "columns = X.columns\n",
    "\n",
    "importance_df = pd.DataFrame(importances,index = columns, columns = ['Importance']).sort_values(by = 'Importance', ascending = False)\n",
    "\n",
    "plt.figure(figsize = (13, 13))\n",
    "\n",
    "sns.barplot(importance_df.Importance, importance_df.index)"
   ]
  },
  {
   "cell_type": "markdown",
   "id": "YuL7_Wc5Swa1",
   "metadata": {
    "id": "YuL7_Wc5Swa1"
   },
   "source": [
    "##### **Observation**\n",
    "\n",
    "- The Random Forest further verifies the results from the decision tree, that the most important features are lead time, average price per room and number of special guests.\n",
    "- Lead time is most important feature. If the lead time of booking the hotel is high the client is most likely to cancel the hotel booking.\n",
    "- Average price per room is also a key feature, as high price can make a client cancel the hotel bookings for a cheaper rate.\n",
    "- The model **is not bias** as it takes into consideration more important features compared with the decision tree model\n"
   ]
  },
  {
   "cell_type": "markdown",
   "id": "marked-coaching",
   "metadata": {
    "id": "marked-coaching"
   },
   "source": [
    "**Recommendations**\n",
    "- From our analysis, the average price per room is one of the reasons why hotels bookings are cancelled. The company should try to reduce the prices of the rooms when it is not the peak periods and make these prices during peak periods (between May and October) reasonably lower than their competitors to retain hotel bookings. If their prices are considerably lower with low impact on their profit margin, they tend to have more bookings that are not cancelled and have higher number of repeated guests.\n",
    "- The company should carry out frequent campaigns and complimentary services to attract more clients in each market segment especially the online segment. Rooms booked online have high variations in prices and they also tend to cancel their bookings more frequently than other segments. Lower prices and frequent online campaigns can help retain the bookings of the online segments.\n",
    "- To make first time guests a repeated guest, INN Hotel should make their customers feel amazing and special by frequently communicating with them. This may be in form of emails, paid questionnaires and surveys, discounts on hotel room for the client and their referrals. As the number of hotels booking cancellation from repeated guest is quite low, ensuring the first-time guest are converted to frequent guest will help reduce the booking cancellations and retain more customers.\n",
    "- The general trend is that the chances of cancellation increase as the number of days the customer planned to stay at the hotel increases. For bookings with longer stay, INN Group should propose more services. The INN Group can propose complimentary dinner for booking that tend to stay for more than 5 days while others enjoy only complimentary breakfast. They might also propose discount for longer stays which would tend to sway the client in INN Group's favor to not cancel their bookings and enjoy these complimentary services.\n"
   ]
  }
 ],
 "metadata": {
  "colab": {
   "collapsed_sections": [],
   "name": "CHT_Graded_Project-Learner-Notebook",
   "provenance": []
  },
  "kernelspec": {
   "display_name": "Python 3 (ipykernel)",
   "language": "python",
   "name": "python3"
  },
  "language_info": {
   "codemirror_mode": {
    "name": "ipython",
    "version": 3
   },
   "file_extension": ".py",
   "mimetype": "text/x-python",
   "name": "python",
   "nbconvert_exporter": "python",
   "pygments_lexer": "ipython3",
   "version": "3.10.7"
  }
 },
 "nbformat": 4,
 "nbformat_minor": 5
}

{
  "nbformat": 4,
  "nbformat_minor": 0,
  "metadata": {
    "colab": {
      "provenance": []
    },
    "kernelspec": {
      "name": "python3",
      "display_name": "Python 3"
    },
    "language_info": {
      "name": "python"
    },
    "accelerator": "GPU",
    "gpuClass": "standard"
  },
  "cells": [
    {
      "cell_type": "markdown",
      "source": [
        "#Project: Offensive Speech Classification"
      ],
      "metadata": {
        "id": "MqkfcdBtCQGe"
      }
    },
    {
      "cell_type": "markdown",
      "source": [
        "The work involves classification of text as either Offensive (OFF) or not offensive (NOT).The following were performed on the data:\n",
        "- Loading of data\n",
        "- Split trainset into four subset [25%,50%,75% and 100%]. Each subset was used to train the model with the valid and text set for validation and testing of the model\n",
        "- Data preprocessing with more details in Section 3\n",
        "- Models: Two methods are utilized. \n",
        "  - The machine learning technique which uses the XGBClassifier() to classify and predict text as either OFF or NOT. The \n",
        "  - The MLP model\n",
        "\n",
        "  ## References\n",
        "  - CE 807 Lab 10 Code on Text Classification\n",
        "  - CE 807 Lab 7 code: Building Blocks of NN\n"
      ],
      "metadata": {
        "id": "J2J1GNMjoVSo"
      }
    },
    {
      "cell_type": "markdown",
      "source": [
        "Loading the gdrive"
      ],
      "metadata": {
        "id": "U-XSx12FsBsV"
      }
    },
    {
      "cell_type": "code",
      "source": [
        "# Mount Google Drive\n",
        "from google.colab import drive\n",
        "drive.mount('/content/gdrive', force_remount=True)"
      ],
      "metadata": {
        "id": "L1kvIe1NbDoS",
        "colab": {
          "base_uri": "https://localhost:8080/"
        },
        "outputId": "4c4316fb-615c-4e5e-aebd-098e6da2a735"
      },
      "execution_count": 1,
      "outputs": [
        {
          "output_type": "stream",
          "name": "stdout",
          "text": [
            "Mounted at /content/gdrive\n"
          ]
        }
      ]
    },
    {
      "cell_type": "markdown",
      "source": [
        "Install required module if not already installed"
      ],
      "metadata": {
        "id": "5Pwt46ESsOEw"
      }
    },
    {
      "cell_type": "code",
      "source": [
        "!pip install transformers"
      ],
      "metadata": {
        "id": "bqxPHsUOqVvh",
        "outputId": "292db672-8c17-4256-ab74-e481ccaf5c6b",
        "colab": {
          "base_uri": "https://localhost:8080/"
        }
      },
      "execution_count": 2,
      "outputs": [
        {
          "output_type": "stream",
          "name": "stdout",
          "text": [
            "Looking in indexes: https://pypi.org/simple, https://us-python.pkg.dev/colab-wheels/public/simple/\n",
            "Requirement already satisfied: transformers in /usr/local/lib/python3.9/dist-packages (4.28.1)\n",
            "Requirement already satisfied: numpy>=1.17 in /usr/local/lib/python3.9/dist-packages (from transformers) (1.23.5)\n",
            "Requirement already satisfied: filelock in /usr/local/lib/python3.9/dist-packages (from transformers) (3.11.0)\n",
            "Requirement already satisfied: regex!=2019.12.17 in /usr/local/lib/python3.9/dist-packages (from transformers) (2022.10.31)\n",
            "Requirement already satisfied: requests in /usr/local/lib/python3.9/dist-packages (from transformers) (2.27.1)\n",
            "Requirement already satisfied: tqdm>=4.27 in /usr/local/lib/python3.9/dist-packages (from transformers) (4.65.0)\n",
            "Requirement already satisfied: packaging>=20.0 in /usr/local/lib/python3.9/dist-packages (from transformers) (23.1)\n",
            "Requirement already satisfied: pyyaml>=5.1 in /usr/local/lib/python3.9/dist-packages (from transformers) (5.4.1)\n",
            "Requirement already satisfied: tokenizers!=0.11.3,<0.14,>=0.11.1 in /usr/local/lib/python3.9/dist-packages (from transformers) (0.13.3)\n",
            "Requirement already satisfied: huggingface-hub<1.0,>=0.11.0 in /usr/local/lib/python3.9/dist-packages (from transformers) (0.13.4)\n",
            "Requirement already satisfied: typing-extensions>=3.7.4.3 in /usr/local/lib/python3.9/dist-packages (from huggingface-hub<1.0,>=0.11.0->transformers) (4.5.0)\n",
            "Requirement already satisfied: certifi>=2017.4.17 in /usr/local/lib/python3.9/dist-packages (from requests->transformers) (2022.12.7)\n",
            "Requirement already satisfied: urllib3<1.27,>=1.21.1 in /usr/local/lib/python3.9/dist-packages (from requests->transformers) (1.26.15)\n",
            "Requirement already satisfied: charset-normalizer~=2.0.0 in /usr/local/lib/python3.9/dist-packages (from requests->transformers) (2.0.12)\n",
            "Requirement already satisfied: idna<4,>=2.5 in /usr/local/lib/python3.9/dist-packages (from requests->transformers) (3.4)\n"
          ]
        }
      ]
    },
    {
      "cell_type": "code",
      "source": [
        "!pip install tweet-preprocessor"
      ],
      "metadata": {
        "colab": {
          "base_uri": "https://localhost:8080/"
        },
        "id": "AH5zcfxmwSxo",
        "outputId": "aaf4440b-607c-4f9f-ac12-b12aae67f021"
      },
      "execution_count": 3,
      "outputs": [
        {
          "output_type": "stream",
          "name": "stdout",
          "text": [
            "Looking in indexes: https://pypi.org/simple, https://us-python.pkg.dev/colab-wheels/public/simple/\n",
            "Requirement already satisfied: tweet-preprocessor in /usr/local/lib/python3.9/dist-packages (0.6.0)\n"
          ]
        }
      ]
    },
    {
      "cell_type": "markdown",
      "source": [
        "Let's import all require libraries. "
      ],
      "metadata": {
        "id": "U5XEt6asIi3Q"
      }
    },
    {
      "cell_type": "code",
      "source": [
        "import numpy as np\n",
        "import os\n",
        "import pandas as pd\n",
        "\n",
        "#module for plotting\n",
        "import matplotlib.pyplot as plt\n",
        "import seaborn as sns\n",
        "import itertools\n",
        "import io \n",
        "import preprocessor as p\n",
        "import re\n",
        "import nltk\n",
        "from nltk.corpus import stopwords\n",
        "from sklearn.feature_extraction.text import CountVectorizer\n",
        "from nltk.stem.porter import PorterStemmer\n",
        "from sklearn.model_selection import train_test_split,cross_val_score\n",
        "from xgboost.sklearn import XGBClassifier\n",
        "from sklearn.metrics import confusion_matrix, f1_score, accuracy_score,classification_report, precision_score, recall_score\n",
        "import torch\n",
        "import torch.nn as nn\n",
        "\n",
        "import pickle "
      ],
      "metadata": {
        "id": "TKEZRYhIImbg"
      },
      "execution_count": 4,
      "outputs": []
    },
    {
      "cell_type": "code",
      "source": [
        "import warnings\n",
        "warnings.filterwarnings('ignore')"
      ],
      "metadata": {
        "id": "dyj-Tvi7sYYu"
      },
      "execution_count": 5,
      "outputs": []
    },
    {
      "cell_type": "markdown",
      "source": [
        "## Adding my student id as a variable and set as seed"
      ],
      "metadata": {
        "id": "pd5kSsAPZoE6"
      }
    },
    {
      "cell_type": "code",
      "source": [
        "student_id = 2209506"
      ],
      "metadata": {
        "id": "rqP6pp_3ZkVy"
      },
      "execution_count": 6,
      "outputs": []
    },
    {
      "cell_type": "markdown",
      "source": [
        "Setting the `seed` for all required libraries with my student id"
      ],
      "metadata": {
        "id": "RiLUrQ-3zC6V"
      }
    },
    {
      "cell_type": "code",
      "source": [
        "#numpy seed\n",
        "np.random.seed(student_id)\n",
        "torch.manual_seed(student_id)\n",
        "torch.cuda.manual_seed(student_id)"
      ],
      "metadata": {
        "id": "TYUn2tj3zCFq"
      },
      "execution_count": 7,
      "outputs": []
    },
    {
      "cell_type": "markdown",
      "source": [
        "# The following will be performed in this section\n",
        "*   Data read\n",
        "*   Split train set into 4 subsets\n",
        "*   Data preprocessing\n",
        "*   Performance Metrics\n",
        "*   Saving model and output\n",
        "*   Loading Model and output\n",
        "\n",
        "\n"
      ],
      "metadata": {
        "id": "Dlj_VQrkbLgM"
      }
    },
    {
      "cell_type": "markdown",
      "source": [
        "Dividing only the training dataset into 4 equal subsets [25%,50%,75% and 100%] and save it in the GDrive."
      ],
      "metadata": {
        "id": "L71I13RWflIn"
      }
    },
    {
      "cell_type": "markdown",
      "source": [
        "###1. Read the whole train dataset"
      ],
      "metadata": {
        "id": "1Tk4C4Ohf3LU"
      }
    },
    {
      "cell_type": "code",
      "source": [
        "train = pd.read_csv(\"/content/gdrive/MyDrive/CE807/Assignment2/2209506/train.csv\")"
      ],
      "metadata": {
        "id": "5kf-g_XFfeAq"
      },
      "execution_count": 8,
      "outputs": []
    },
    {
      "cell_type": "markdown",
      "source": [
        "### 2. Split the train dataset into 4 subsets [25%, 50%, 75% and 100%]"
      ],
      "metadata": {
        "id": "OzEnHLlJvTcM"
      }
    },
    {
      "cell_type": "code",
      "source": [
        "# Split the data into 25% train and 75% test\n",
        "train_1, test_75 = train_test_split(train, test_size=0.75, random_state=42, stratify = train['label'])\n",
        "\n",
        "# Split the remaining 75% test data into 33% train and 67% test\n",
        "train_2, test_67 = train_test_split(test_75, test_size=0.67, random_state=42, stratify = test_75['label'])\n",
        "\n",
        "# Split the remaining test data into equal parts\n",
        "train_3, train_4 = train_test_split(test_67, test_size=0.5, random_state=42, stratify = test_67['label'])\n",
        "\n",
        "# Combine train_1, train_2, train_3, and train_4 to get 25%, 50%, 75%, and 100% train data\n",
        "train_25 = train_1\n",
        "train_25.to_csv('/content/gdrive/MyDrive/CE807/Assignment2/2209506/train_25.csv',index_label = False)\n",
        "train_50 = pd.concat([train_1, train_2])\n",
        "train_50.to_csv('/content/gdrive/MyDrive/CE807/Assignment2/2209506/train_50.csv',index_label = False)\n",
        "train_75 = pd.concat([train_1, train_2, train_3])\n",
        "train_75.to_csv('/content/gdrive/MyDrive/CE807/Assignment2/2209506/train_75.csv',index_label = False)\n",
        "train_100 = pd.concat([train_1, train_2, train_3, train_4])\n",
        "train_100.to_csv('/content/gdrive/MyDrive/CE807/Assignment2/2209506/train_100.csv',index_label = False)"
      ],
      "metadata": {
        "id": "LtUGQAD6gRPh"
      },
      "execution_count": 9,
      "outputs": []
    },
    {
      "cell_type": "markdown",
      "source": [
        "#### 2a: Allowing the GDrive access and setting data and model paths"
      ],
      "metadata": {
        "id": "NjkO_hxutJ_M"
      }
    },
    {
      "cell_type": "code",
      "source": [
        " GOOGLE_DRIVE_PATH_AFTER_MYDRIVE = os.path.join('./CE807/Assignment2/',str(student_id))\n",
        "GOOGLE_DRIVE_PATH = os.path.join('gdrive', 'MyDrive', GOOGLE_DRIVE_PATH_AFTER_MYDRIVE)\n",
        "print('List files: ', os.listdir(GOOGLE_DRIVE_PATH))\n"
      ],
      "metadata": {
        "colab": {
          "base_uri": "https://localhost:8080/"
        },
        "id": "-WKnbP3roLTj",
        "outputId": "846ffaae-cc20-4ffb-8f34-f2f4ccbc6767"
      },
      "execution_count": 10,
      "outputs": [
        {
          "output_type": "stream",
          "name": "stdout",
          "text": [
            "List files:  ['code.ipynb', 'valid.csv', 'test.csv', 'train_25.csv', 'train.csv', 'train_50.csv', 'train_100.csv', 'train_75.csv', 'models']\n"
          ]
        }
      ]
    },
    {
      "cell_type": "markdown",
      "source": [
        "#### 2b:Locating the file names and printing them"
      ],
      "metadata": {
        "id": "DdLem9mzWDQo"
      }
    },
    {
      "cell_type": "code",
      "source": [
        "train_100_file = os.path.join(GOOGLE_DRIVE_PATH, 'train_100.csv') # This is 100% of data\n",
        "train_25_file = os.path.join(GOOGLE_DRIVE_PATH, 'train_25.csv')\n",
        "train_50_file = os.path.join(GOOGLE_DRIVE_PATH, 'train_50.csv') \n",
        "train_75_file = os.path.join(GOOGLE_DRIVE_PATH, 'train_75.csv')\n",
        "val_file = os.path.join(GOOGLE_DRIVE_PATH, 'valid.csv')\n",
        "test_file = os.path.join(GOOGLE_DRIVE_PATH, 'test.csv')\n",
        "\n",
        "print('Train 25% file: ', train_25_file)\n",
        "print('Train 25% file: ', train_50_file)\n",
        "print('Train 25% file: ', train_75_file)\n",
        "print('Train 100% file: ', train_100_file)\n",
        "print('Validation file: ', val_file)\n",
        "print('Test file: ', test_file)"
      ],
      "metadata": {
        "colab": {
          "base_uri": "https://localhost:8080/"
        },
        "id": "FaCVLw5xV-5A",
        "outputId": "2bc8bd7a-8324-46a3-aed6-6c5f4d5bf82a"
      },
      "execution_count": 11,
      "outputs": [
        {
          "output_type": "stream",
          "name": "stdout",
          "text": [
            "Train 25% file:  gdrive/MyDrive/./CE807/Assignment2/2209506/train_25.csv\n",
            "Train 25% file:  gdrive/MyDrive/./CE807/Assignment2/2209506/train_50.csv\n",
            "Train 25% file:  gdrive/MyDrive/./CE807/Assignment2/2209506/train_75.csv\n",
            "Train 100% file:  gdrive/MyDrive/./CE807/Assignment2/2209506/train_100.csv\n",
            "Validation file:  gdrive/MyDrive/./CE807/Assignment2/2209506/valid.csv\n",
            "Test file:  gdrive/MyDrive/./CE807/Assignment2/2209506/test.csv\n"
          ]
        }
      ]
    },
    {
      "cell_type": "markdown",
      "source": [
        "### Function to for total count and value_counts of each dataset"
      ],
      "metadata": {
        "id": "57QeqngYv2kh"
      }
    },
    {
      "cell_type": "code",
      "source": [
        "def count_each_csv(column_name, folder_path):\n",
        "    \n",
        "    # Loop through all CSV files in folder\n",
        "    for file_name in os.listdir(folder_path):\n",
        "        if file_name.endswith('.csv'):\n",
        "            # Construct full path to CSV file\n",
        "            file_path = os.path.join(folder_path, file_name)\n",
        "            \n",
        "            # Read in data as a dataframe\n",
        "            df = pd.read_csv(file_path)\n",
        "            \n",
        "            # Get total entries and count of unique values in column\n",
        "            value_counts = df[column_name].value_counts()\n",
        "            value_counts_percent = round(df[column_name].value_counts(1)*100,2)\n",
        "            count = df[column_name].count()\n",
        "            \n",
        "            \n",
        "            # Create a new dataframe with count and value_counts columns\n",
        "            df_counts = pd.DataFrame({'Value Count': value_counts.values,'%count': value_counts_percent.values, column_name: value_counts.index})\n",
        "            \n",
        "            # Print count and the dataframe\n",
        "            print(f\"Dataframe for {file_name}:\")\n",
        "            print('total entries: ', count)\n",
        "            print(df_counts)\n",
        "            print('\\n')"
      ],
      "metadata": {
        "id": "oDD6s3qf5LSk"
      },
      "execution_count": 12,
      "outputs": []
    },
    {
      "cell_type": "markdown",
      "source": [
        "Print the total entries and value counts of label column"
      ],
      "metadata": {
        "id": "XOip_8jjwA1a"
      }
    },
    {
      "cell_type": "code",
      "source": [
        "count_each_csv('label', GOOGLE_DRIVE_PATH)"
      ],
      "metadata": {
        "colab": {
          "base_uri": "https://localhost:8080/"
        },
        "id": "E8Cr8tR1wABS",
        "outputId": "a8c5568e-4d73-4538-ced0-8253fd6d1a4f"
      },
      "execution_count": 13,
      "outputs": [
        {
          "output_type": "stream",
          "name": "stdout",
          "text": [
            "Dataframe for valid.csv:\n",
            "total entries:  927\n",
            "   Value Count  %count label\n",
            "0          619   66.77   NOT\n",
            "1          308   33.23   OFF\n",
            "\n",
            "\n",
            "Dataframe for test.csv:\n",
            "total entries:  860\n",
            "   Value Count  %count label\n",
            "0          620   72.09   NOT\n",
            "1          240   27.91   OFF\n",
            "\n",
            "\n",
            "Dataframe for train_25.csv:\n",
            "total entries:  3078\n",
            "   Value Count  %count label\n",
            "0         2055   66.76   NOT\n",
            "1         1023   33.24   OFF\n",
            "\n",
            "\n",
            "Dataframe for train.csv:\n",
            "total entries:  12313\n",
            "   Value Count  %count label\n",
            "0         8221   66.77   NOT\n",
            "1         4092   33.23   OFF\n",
            "\n",
            "\n",
            "Dataframe for train_50.csv:\n",
            "total entries:  6125\n",
            "   Value Count  %count label\n",
            "0         4089   66.76   NOT\n",
            "1         2036   33.24   OFF\n",
            "\n",
            "\n",
            "Dataframe for train_100.csv:\n",
            "total entries:  12313\n",
            "   Value Count  %count label\n",
            "0         8221   66.77   NOT\n",
            "1         4092   33.23   OFF\n",
            "\n",
            "\n",
            "Dataframe for train_75.csv:\n",
            "total entries:  9219\n",
            "   Value Count  %count label\n",
            "0         6155   66.76   NOT\n",
            "1         3064   33.24   OFF\n",
            "\n",
            "\n"
          ]
        }
      ]
    },
    {
      "cell_type": "markdown",
      "source": [],
      "metadata": {
        "id": "jrx7uj6Hv_oR"
      }
    },
    {
      "cell_type": "markdown",
      "source": [
        "#### 2c: Setting the output model directory and file names."
      ],
      "metadata": {
        "id": "3fibMnjZWRtp"
      }
    },
    {
      "cell_type": "code",
      "source": [
        "MODEL_1_DIRECTORY = os.path.join(GOOGLE_DRIVE_PATH, 'models', '1') # Model 1 directory\n",
        "print('Model 1 directory: ', MODEL_1_DIRECTORY)\n",
        "\n",
        "MODEL_1_25_DIRECTORY = os.path.join(MODEL_1_DIRECTORY,'25') # Model 1 trained using 25% of train data directory\n",
        "print('Model 1 directory with 25% data: ', MODEL_1_25_DIRECTORY)\n",
        "\n",
        "MODEL_1_50_DIRECTORY = os.path.join(MODEL_1_DIRECTORY,'50') # Model 1 trained using 50% of train data directory\n",
        "print('Model 1 directory with 50% data: ', MODEL_1_50_DIRECTORY)\n",
        "\n",
        "MODEL_1_75_DIRECTORY = os.path.join(MODEL_1_DIRECTORY,'75') # Model 1 trained using 25% of train data directory\n",
        "print('Model 1 directory with 75% data: ', MODEL_1_25_DIRECTORY)\n",
        "\n",
        "MODEL_1_100_DIRECTORY = os.path.join(MODEL_1_DIRECTORY,'100') # Model 1 trained using 100% of train data directory\n",
        "print('Model 1 directory with 100% data: ', MODEL_1_100_DIRECTORY)\n",
        "\n",
        "\n",
        "model_1_25_output_test_file = os.path.join(MODEL_1_25_DIRECTORY, 'output_test.csv') # Output file using Model 1 trained using 25% of train data \n",
        "print('Output file name using model 1 using 25% of train data: ',model_1_25_output_test_file)\n",
        "\n",
        "model_1_50_output_test_file = os.path.join(MODEL_1_50_DIRECTORY, 'output_test.csv') # Output file using Model 1 trained using 50% of train data \n",
        "print('Output file name using model 1 using 50% of train data: ',model_1_50_output_test_file)\n",
        "\n",
        "model_1_75_output_test_file = os.path.join(MODEL_1_75_DIRECTORY, 'output_test.csv') # Output file using Model 1 trained using 75% of train data \n",
        "print('Output file name using model 1 using 75% of train data: ',model_1_75_output_test_file)\n",
        "\n",
        "model_1_100_output_test_file = os.path.join(MODEL_1_100_DIRECTORY, 'output_test.csv') # Output file using Model 1 trained using 25% of train data \n",
        "print('Output file name using model 1 using 100% of train data: ',model_1_100_output_test_file)\n",
        "\n",
        "\n",
        "# You need to do this for both models and all data sizes "
      ],
      "metadata": {
        "colab": {
          "base_uri": "https://localhost:8080/"
        },
        "id": "eQiwiE7BWXyQ",
        "outputId": "9f62b4eb-a1b3-4101-8edc-4ad4a6224abd"
      },
      "execution_count": 14,
      "outputs": [
        {
          "output_type": "stream",
          "name": "stdout",
          "text": [
            "Model 1 directory:  gdrive/MyDrive/./CE807/Assignment2/2209506/models/1\n",
            "Model 1 directory with 25% data:  gdrive/MyDrive/./CE807/Assignment2/2209506/models/1/25\n",
            "Model 1 directory with 50% data:  gdrive/MyDrive/./CE807/Assignment2/2209506/models/1/50\n",
            "Model 1 directory with 75% data:  gdrive/MyDrive/./CE807/Assignment2/2209506/models/1/25\n",
            "Model 1 directory with 100% data:  gdrive/MyDrive/./CE807/Assignment2/2209506/models/1/100\n",
            "Output file name using model 1 using 25% of train data:  gdrive/MyDrive/./CE807/Assignment2/2209506/models/1/25/output_test.csv\n",
            "Output file name using model 1 using 50% of train data:  gdrive/MyDrive/./CE807/Assignment2/2209506/models/1/50/output_test.csv\n",
            "Output file name using model 1 using 75% of train data:  gdrive/MyDrive/./CE807/Assignment2/2209506/models/1/75/output_test.csv\n",
            "Output file name using model 1 using 100% of train data:  gdrive/MyDrive/./CE807/Assignment2/2209506/models/1/100/output_test.csv\n"
          ]
        }
      ]
    },
    {
      "cell_type": "markdown",
      "source": [
        "Let's see train file"
      ],
      "metadata": {
        "id": "0pWvXDghtafa"
      }
    },
    {
      "cell_type": "code",
      "source": [
        "df = pd.read_csv(train_100_file)\n",
        "df.head()"
      ],
      "metadata": {
        "colab": {
          "base_uri": "https://localhost:8080/",
          "height": 206
        },
        "id": "dptNCuqjq5k_",
        "outputId": "abe64b25-934e-49ec-e88f-b51105b509ea"
      },
      "execution_count": 15,
      "outputs": [
        {
          "output_type": "execute_result",
          "data": {
            "text/plain": [
              "          id                                              tweet label\n",
              "165    37685                              @USER He is a coward.   OFF\n",
              "4467   81613  @USER Glad to see your friends are supporting ...   NOT\n",
              "10215  61117  @USER Glad you are the same person. Keep up th...   NOT\n",
              "10458  70789  Mark Judge doesn't want to lie for KAVANAUGH. ...   NOT\n",
              "9304   28193  @USER A person’s stance on gun control is a te...   NOT"
            ],
            "text/html": [
              "\n",
              "  <div id=\"df-5fc02f7f-13f5-40c1-a588-0b4943a89fab\">\n",
              "    <div class=\"colab-df-container\">\n",
              "      <div>\n",
              "<style scoped>\n",
              "    .dataframe tbody tr th:only-of-type {\n",
              "        vertical-align: middle;\n",
              "    }\n",
              "\n",
              "    .dataframe tbody tr th {\n",
              "        vertical-align: top;\n",
              "    }\n",
              "\n",
              "    .dataframe thead th {\n",
              "        text-align: right;\n",
              "    }\n",
              "</style>\n",
              "<table border=\"1\" class=\"dataframe\">\n",
              "  <thead>\n",
              "    <tr style=\"text-align: right;\">\n",
              "      <th></th>\n",
              "      <th>id</th>\n",
              "      <th>tweet</th>\n",
              "      <th>label</th>\n",
              "    </tr>\n",
              "  </thead>\n",
              "  <tbody>\n",
              "    <tr>\n",
              "      <th>165</th>\n",
              "      <td>37685</td>\n",
              "      <td>@USER He is a coward.</td>\n",
              "      <td>OFF</td>\n",
              "    </tr>\n",
              "    <tr>\n",
              "      <th>4467</th>\n",
              "      <td>81613</td>\n",
              "      <td>@USER Glad to see your friends are supporting ...</td>\n",
              "      <td>NOT</td>\n",
              "    </tr>\n",
              "    <tr>\n",
              "      <th>10215</th>\n",
              "      <td>61117</td>\n",
              "      <td>@USER Glad you are the same person. Keep up th...</td>\n",
              "      <td>NOT</td>\n",
              "    </tr>\n",
              "    <tr>\n",
              "      <th>10458</th>\n",
              "      <td>70789</td>\n",
              "      <td>Mark Judge doesn't want to lie for KAVANAUGH. ...</td>\n",
              "      <td>NOT</td>\n",
              "    </tr>\n",
              "    <tr>\n",
              "      <th>9304</th>\n",
              "      <td>28193</td>\n",
              "      <td>@USER A person’s stance on gun control is a te...</td>\n",
              "      <td>NOT</td>\n",
              "    </tr>\n",
              "  </tbody>\n",
              "</table>\n",
              "</div>\n",
              "      <button class=\"colab-df-convert\" onclick=\"convertToInteractive('df-5fc02f7f-13f5-40c1-a588-0b4943a89fab')\"\n",
              "              title=\"Convert this dataframe to an interactive table.\"\n",
              "              style=\"display:none;\">\n",
              "        \n",
              "  <svg xmlns=\"http://www.w3.org/2000/svg\" height=\"24px\"viewBox=\"0 0 24 24\"\n",
              "       width=\"24px\">\n",
              "    <path d=\"M0 0h24v24H0V0z\" fill=\"none\"/>\n",
              "    <path d=\"M18.56 5.44l.94 2.06.94-2.06 2.06-.94-2.06-.94-.94-2.06-.94 2.06-2.06.94zm-11 1L8.5 8.5l.94-2.06 2.06-.94-2.06-.94L8.5 2.5l-.94 2.06-2.06.94zm10 10l.94 2.06.94-2.06 2.06-.94-2.06-.94-.94-2.06-.94 2.06-2.06.94z\"/><path d=\"M17.41 7.96l-1.37-1.37c-.4-.4-.92-.59-1.43-.59-.52 0-1.04.2-1.43.59L10.3 9.45l-7.72 7.72c-.78.78-.78 2.05 0 2.83L4 21.41c.39.39.9.59 1.41.59.51 0 1.02-.2 1.41-.59l7.78-7.78 2.81-2.81c.8-.78.8-2.07 0-2.86zM5.41 20L4 18.59l7.72-7.72 1.47 1.35L5.41 20z\"/>\n",
              "  </svg>\n",
              "      </button>\n",
              "      \n",
              "  <style>\n",
              "    .colab-df-container {\n",
              "      display:flex;\n",
              "      flex-wrap:wrap;\n",
              "      gap: 12px;\n",
              "    }\n",
              "\n",
              "    .colab-df-convert {\n",
              "      background-color: #E8F0FE;\n",
              "      border: none;\n",
              "      border-radius: 50%;\n",
              "      cursor: pointer;\n",
              "      display: none;\n",
              "      fill: #1967D2;\n",
              "      height: 32px;\n",
              "      padding: 0 0 0 0;\n",
              "      width: 32px;\n",
              "    }\n",
              "\n",
              "    .colab-df-convert:hover {\n",
              "      background-color: #E2EBFA;\n",
              "      box-shadow: 0px 1px 2px rgba(60, 64, 67, 0.3), 0px 1px 3px 1px rgba(60, 64, 67, 0.15);\n",
              "      fill: #174EA6;\n",
              "    }\n",
              "\n",
              "    [theme=dark] .colab-df-convert {\n",
              "      background-color: #3B4455;\n",
              "      fill: #D2E3FC;\n",
              "    }\n",
              "\n",
              "    [theme=dark] .colab-df-convert:hover {\n",
              "      background-color: #434B5C;\n",
              "      box-shadow: 0px 1px 3px 1px rgba(0, 0, 0, 0.15);\n",
              "      filter: drop-shadow(0px 1px 2px rgba(0, 0, 0, 0.3));\n",
              "      fill: #FFFFFF;\n",
              "    }\n",
              "  </style>\n",
              "\n",
              "      <script>\n",
              "        const buttonEl =\n",
              "          document.querySelector('#df-5fc02f7f-13f5-40c1-a588-0b4943a89fab button.colab-df-convert');\n",
              "        buttonEl.style.display =\n",
              "          google.colab.kernel.accessAllowed ? 'block' : 'none';\n",
              "\n",
              "        async function convertToInteractive(key) {\n",
              "          const element = document.querySelector('#df-5fc02f7f-13f5-40c1-a588-0b4943a89fab');\n",
              "          const dataTable =\n",
              "            await google.colab.kernel.invokeFunction('convertToInteractive',\n",
              "                                                     [key], {});\n",
              "          if (!dataTable) return;\n",
              "\n",
              "          const docLinkHtml = 'Like what you see? Visit the ' +\n",
              "            '<a target=\"_blank\" href=https://colab.research.google.com/notebooks/data_table.ipynb>data table notebook</a>'\n",
              "            + ' to learn more about interactive tables.';\n",
              "          element.innerHTML = '';\n",
              "          dataTable['output_type'] = 'display_data';\n",
              "          await google.colab.output.renderOutput(dataTable, element);\n",
              "          const docLink = document.createElement('div');\n",
              "          docLink.innerHTML = docLinkHtml;\n",
              "          element.appendChild(docLink);\n",
              "        }\n",
              "      </script>\n",
              "    </div>\n",
              "  </div>\n",
              "  "
            ]
          },
          "metadata": {},
          "execution_count": 15
        }
      ]
    },
    {
      "cell_type": "markdown",
      "source": [
        "### 3. Data Preprocessing"
      ],
      "metadata": {
        "id": "FBvBfnDBfsIg"
      }
    },
    {
      "cell_type": "markdown",
      "source": [
        "We are dealing with tweets data and there is need for some data preprocessing\n",
        "- Tweets may contain URL's, Mentions, Hashtags, Emojis, Smileys and Spefic words \n",
        "- We use the python library 'tweet-preprocessor' to clean the tweet\n",
        "- We carry out other data cleaning such as \n",
        "  - Lowercasing\n",
        "  - Punctuation Removal\n",
        "  - Replace extra white spaces\n",
        "  - Stopwords removal\n",
        "  -Stemming"
      ],
      "metadata": {
        "id": "U-xCgKt5gZNQ"
      }
    },
    {
      "cell_type": "code",
      "source": [
        "ps = PorterStemmer()"
      ],
      "metadata": {
        "id": "FE9QEcmbkU3g"
      },
      "execution_count": 16,
      "outputs": []
    },
    {
      "cell_type": "code",
      "source": [
        "nltk.download('stopwords')\n",
        "stop_words = list(stopwords.words('english'))"
      ],
      "metadata": {
        "colab": {
          "base_uri": "https://localhost:8080/"
        },
        "id": "W65tNh4dvT4B",
        "outputId": "c1a38296-6317-41ea-f86c-d15e6d72eadf"
      },
      "execution_count": 17,
      "outputs": [
        {
          "output_type": "stream",
          "name": "stderr",
          "text": [
            "[nltk_data] Downloading package stopwords to /root/nltk_data...\n",
            "[nltk_data]   Package stopwords is already up-to-date!\n"
          ]
        }
      ]
    },
    {
      "cell_type": "code",
      "source": [
        "def clean_tweet(data):\n",
        "  text = data['tweet']\n",
        "  text = p.clean(text)\n",
        "  text = re.sub(r'@user', '', text)\n",
        "  text = re.sub('<br\\s?\\/>|<br>|\\.|[^\\w\\s]|\\d+', '',text)\n",
        "  text = re.sub(r'[\\\"\\#\\$\\%\\&\\'\\(\\)\\*\\+\\/\\:\\;\\<\\=\\>\\@\\[\\\\\\]\\^\\_\\`\\{\\|\\}\\~]', '', text)\n",
        "  text = text.lower()\n",
        "  ## remove hyperlink\n",
        "  text = str(text.split('https')[0])\n",
        "  text = text.strip()\n",
        "  for stop_word in stop_words:\n",
        "    regex_stopword = r\"\\b\" + stop_word + r\"\\b\"\n",
        "    text= text.replace(regex_stopword, '')\n",
        "    return text"
      ],
      "metadata": {
        "id": "I1U2NurPkGN9"
      },
      "execution_count": 18,
      "outputs": []
    },
    {
      "cell_type": "code",
      "source": [
        "def stemming(text):\n",
        "    word=[]\n",
        "    for i in text.split():\n",
        "        word.append(ps.stem(i))\n",
        "        \n",
        "        \n",
        "    string=\" \".join(word)    \n",
        "    return string"
      ],
      "metadata": {
        "id": "2d0UGExOkEBb"
      },
      "execution_count": 19,
      "outputs": []
    },
    {
      "cell_type": "markdown",
      "source": [
        "### Model Performance\n",
        "\n",
        "Different performance metrics that will be utilized for the performance evaluation are listed below:\n",
        "- Accuracy, \n",
        "- Recall (macro)\n",
        "- Precision (macro) \n",
        "- F1 (macro), \n",
        "- Classification Report \n",
        "- Confusion Matrix \n",
        "\n",
        "All metrics will be printed "
      ],
      "metadata": {
        "id": "E-OjJ4REbhcj"
      }
    },
    {
      "cell_type": "markdown",
      "source": [
        "Function for confusion matrix"
      ],
      "metadata": {
        "id": "5SS2w5wVhh_Y"
      }
    },
    {
      "cell_type": "code",
      "source": [
        "def matrix1(Y,pred):\n",
        "\n",
        "    cm = confusion_matrix(Y,pred)\n",
        "    labels = [['True Positive\\n{}'.format(cm[0, 0]), 'False Negative\\n{}'.format(cm[0, 1])], \n",
        "          ['False Positive\\n{}'.format(cm[1, 0]), 'True Negative\\n{}'.format(cm[1, 1])]]\n",
        "    plt.figure(figsize=(5,3))\n",
        "    sns.heatmap(cm, annot=labels, cmap='Blues', fmt='', cbar=False)\n",
        "    plt.xlabel('Predicted')\n",
        "    plt.ylabel('Actual')\n",
        "    plt.xticks([0.5, 1.5], ['NOT', 'OFF'])\n",
        "    plt.yticks([0.5, 1.5], ['NOT', 'OFF'])\n",
        "    plt.show()\n",
        "    return cm"
      ],
      "metadata": {
        "id": "W7vORWTkhj_g"
      },
      "execution_count": 20,
      "outputs": []
    },
    {
      "cell_type": "markdown",
      "source": [
        "Function to compute the performance of the model"
      ],
      "metadata": {
        "id": "n4l6gzaqhr1z"
      }
    },
    {
      "cell_type": "code",
      "source": [
        "def compute_performance(y_true, y_pred, split='test'):\n",
        "   \n",
        "    print('Computing different preformance metrics on', split, ' set of Dataset')\n",
        "    acc = accuracy_score(y_true, y_pred)\n",
        "    print('Accuracy: ', acc)\n",
        "    precision = precision_score(y_true, y_pred, average='weighted')\n",
        "    print('Precision Score(macro: ',precision)\n",
        "    recall = recall_score(y_true, y_pred, average='weighted')\n",
        "    print('Recall score(macro): ',recall_score)\n",
        "    f1score=f1_score(y_true, y_pred, average='weighted')\n",
        "    print('F1 Score(macro): ', f1score)\n",
        "    report = classification_report(y_true,y_pred)\n",
        "    print(report)\n",
        "    matrix1(y_true,y_pred)\n",
        "    "
      ],
      "metadata": {
        "id": "dDePC8X1hoTE"
      },
      "execution_count": 21,
      "outputs": []
    },
    {
      "cell_type": "markdown",
      "source": [
        "# Model 1\n",
        "The following will be carried out in this method with their defined functions\n",
        "*   Data reading\n",
        "*   Data cleaning/preprocessing\n",
        "*   Convert data to vector/tokenization/vectorization\n",
        "*   Model Declaration/Initialization/building\n",
        "*   Training and validation of the model using training and validation dataset \n",
        "*   Save the trained model\n",
        "*   Load and Test the model on testing set\n",
        "*   Save the output of the model\n",
        "\n",
        "The model performance will be trained with the 4 subsets of the training set\n"
      ],
      "metadata": {
        "id": "47ywe8jGSKhL"
      }
    },
    {
      "cell_type": "markdown",
      "source": [
        "Function to vectorizing the data"
      ],
      "metadata": {
        "id": "BJyIgPsAapum"
      }
    },
    {
      "cell_type": "code",
      "source": [
        "def prepare_dataset1(data, count_vectorizer=None, split='test'):\n",
        "  if split == 'train':\n",
        "      count_vectorizer = CountVectorizer(stop_words='english',max_features=5000) \n",
        "      values = count_vectorizer.fit_transform(data['tweet'].values) #TODO: This is the best way to do this, because you need to use same vectorization menthod\n",
        "  else:\n",
        "      values = count_vectorizer.transform(data['tweet'].values)\n",
        "\n",
        "  if split == 'train':\n",
        "      return values, count_vectorizer\n",
        "  else:\n",
        "      return values"
      ],
      "metadata": {
        "id": "Dkzfmz1VapS-"
      },
      "execution_count": 22,
      "outputs": []
    },
    {
      "cell_type": "markdown",
      "source": [
        "The model that will be utilized here is \n",
        "- **XGBClassifier()**"
      ],
      "metadata": {
        "id": "BtXYf8trgBM-"
      }
    },
    {
      "cell_type": "code",
      "source": [
        "def train_model1(text_vector,label):\n",
        "\n",
        "    print('Training XGBClassifier')\n",
        "    classifier = XGBClassifier() \n",
        "    cross_val = cross_val_score(classifier,text_vector,label,scoring='accuracy',cv=10)\n",
        "    print('Cross Validation Mean: ', cross_val.mean())\n",
        "    classifier.fit(text_vector, label)\n",
        "\n",
        "    return classifier\n"
      ],
      "metadata": {
        "id": "mqv3isARdDek"
      },
      "execution_count": 23,
      "outputs": []
    },
    {
      "cell_type": "markdown",
      "source": [
        "Saving the model and count vectorizer as pickel in GDrive"
      ],
      "metadata": {
        "id": "6aHXeTabgDGN"
      }
    },
    {
      "cell_type": "code",
      "source": [
        "def save_model1(model, vectorizer, model_dir):\n",
        "    # save the model to disk\n",
        "    model_file = os.path.join(model_dir, 'model.sav')\n",
        "    pickle.dump(model, open(model_file, 'wb'))\n",
        "\n",
        "    print('Saved model to ', model_file)\n",
        "\n",
        "    vectorizer_file = os.path.join(model_dir, 'vectorizer.sav') \n",
        "    pickle.dump(vectorizer, open(vectorizer_file, 'wb'))\n",
        "\n",
        "    print('Saved Vectorizer to ', vectorizer_file)\n",
        "\n",
        "    return model_file, vectorizer_file "
      ],
      "metadata": {
        "id": "NX5Q4BYLgAko"
      },
      "execution_count": 24,
      "outputs": []
    },
    {
      "cell_type": "markdown",
      "source": [
        "Load model and count vectorizer  as pickel from GDrive"
      ],
      "metadata": {
        "id": "3Pk6_0AkghWX"
      }
    },
    {
      "cell_type": "code",
      "source": [
        "def load_model1(model_file, vectorizer_file):\n",
        "    # load model and vectorizer from disk\n",
        "\n",
        "    model = pickle.load(open(model_file, 'rb'))\n",
        "\n",
        "    print('Loaded model from ', model_file)\n",
        "\n",
        "    vectorizer = pickle.load(open(vectorizer_file, 'rb'))\n",
        "\n",
        "    print('Loaded Vectorizer from ', vectorizer_file)\n",
        "\n",
        "\n",
        "    return model, vectorizer"
      ],
      "metadata": {
        "id": "zy0WpA4jgmoa"
      },
      "execution_count": 25,
      "outputs": []
    },
    {
      "cell_type": "code",
      "source": [
        "def train_method1(train_file, val_file, model_dir):\n",
        "    \n",
        "    train_df = pd.read_csv(train_file)\n",
        "    #apply clean_tweet function to the tweet column\n",
        "    train_df['tweet'] = train_df.apply(clean_tweet, axis=1)\n",
        "    #apply stemming function to the tweet function\n",
        "    train_df['tweet'] = train_df['tweet'].apply(stemming)\n",
        "\n",
        "    val_df = pd.read_csv(val_file)\n",
        "    #apply clean_tweet function to the tweet column\n",
        "    val_df['tweet'] = val_df.apply(clean_tweet, axis=1)\n",
        "    #apply steeming function to the tweet function\n",
        "    val_df['tweet'] = val_df['tweet'].apply(stemming)\n",
        "\n",
        "    train_label = train_df['label']\n",
        "    val_label = val_df['label']\n",
        "\n",
        "    #replace the labels as NOT':0,'OFF':1 for XGBClassifier()\n",
        "    train_label = train_label.replace({'NOT':0,'OFF':1})\n",
        "    val_label = val_label.replace({'NOT':0,'OFF':1})\n",
        "\n",
        "    train_values, count_vectorizer = prepare_dataset1(train_df, split='train') \n",
        "    val_values= prepare_dataset1(val_df,count_vectorizer)\n",
        "\n",
        "    model = train_model1(train_values,train_label)\n",
        "\n",
        "    model_file, vectorizer_file = save_model1(model, count_vectorizer, model_dir)\n",
        "\n",
        "    train_pred_label = model.predict(train_values)\n",
        "    val_pred_label = model.predict(val_values)\n",
        "\n",
        "    # print('Train Split')\n",
        "    train_f1_score = compute_performance(train_label, train_pred_label, split='train')\n",
        "\n",
        "    # print('Validation Split')\n",
        "    val_f1_score = compute_performance(val_label, val_pred_label, split='valid')\n",
        "\n",
        "\n",
        "    return model_file, vectorizer_file"
      ],
      "metadata": {
        "id": "_Ux7GBKXbqq6"
      },
      "execution_count": 26,
      "outputs": []
    },
    {
      "cell_type": "markdown",
      "source": [
        "Let's train using 25% of training data (train_25_file) and validate the model with the validation data (val_file). Save the model in the appropriate directory\n"
      ],
      "metadata": {
        "id": "JwyiYc7aXK5i"
      }
    },
    {
      "cell_type": "code",
      "source": [
        "print('Train using of 25% of data')\n",
        "model_25_file, vectorizer_25_file = train_method1(train_25_file, val_file, MODEL_1_25_DIRECTORY)"
      ],
      "metadata": {
        "id": "yoEvlMP7Z5LC",
        "outputId": "1b92b178-24c5-4944-e107-f966deec6be8",
        "colab": {
          "base_uri": "https://localhost:8080/",
          "height": 1000
        }
      },
      "execution_count": 27,
      "outputs": [
        {
          "output_type": "stream",
          "name": "stdout",
          "text": [
            "Train using of 25% of data\n",
            "Training XGBClassifier\n",
            "Cross Validation Mean:  0.7459410296543847\n",
            "Saved model to  gdrive/MyDrive/./CE807/Assignment2/2209506/models/1/25/model.sav\n",
            "Saved Vectorizer to  gdrive/MyDrive/./CE807/Assignment2/2209506/models/1/25/vectorizer.sav\n",
            "Computing different preformance metrics on train  set of Dataset\n",
            "Accuracy:  0.8430799220272904\n",
            "Precision Score(macro:  0.8591244561532149\n",
            "Recall score(macro):  <function recall_score at 0x7f1ea5064280>\n",
            "F1 Score(macro):  0.8305780576484237\n",
            "              precision    recall  f1-score   support\n",
            "\n",
            "           0       0.82      0.98      0.89      2055\n",
            "           1       0.94      0.56      0.70      1023\n",
            "\n",
            "    accuracy                           0.84      3078\n",
            "   macro avg       0.88      0.77      0.80      3078\n",
            "weighted avg       0.86      0.84      0.83      3078\n",
            "\n"
          ]
        },
        {
          "output_type": "display_data",
          "data": {
            "text/plain": [
              "<Figure size 500x300 with 1 Axes>"
            ],
            "image/png": "[encoded data removed]"
          },
          "metadata": {}
        },
        {
          "output_type": "stream",
          "name": "stdout",
          "text": [
            "Computing different preformance metrics on valid  set of Dataset\n",
            "Accuracy:  0.7454153182308522\n",
            "Precision Score(macro:  0.7382318002462018\n",
            "Recall score(macro):  <function recall_score at 0x7f1ea5064280>\n",
            "F1 Score(macro):  0.7229638887636195\n",
            "              precision    recall  f1-score   support\n",
            "\n",
            "           0       0.75      0.92      0.83       619\n",
            "           1       0.70      0.40      0.51       308\n",
            "\n",
            "    accuracy                           0.75       927\n",
            "   macro avg       0.73      0.66      0.67       927\n",
            "weighted avg       0.74      0.75      0.72       927\n",
            "\n"
          ]
        },
        {
          "output_type": "display_data",
          "data": {
            "text/plain": [
              "<Figure size 500x300 with 1 Axes>"
            ],
            "image/png": "[encoded data removed]"
          },
          "metadata": {}
        }
      ]
    },
    {
      "cell_type": "markdown",
      "source": [
        "Let's train using 50% of data (train_50_file) and validate the model with the validation data (val_file). Save the model in the appropriate directory "
      ],
      "metadata": {
        "id": "29LNcrSfmTXR"
      }
    },
    {
      "cell_type": "code",
      "source": [
        "print('Train using of 50% of data')\n",
        "model_50_file, vectorizer_50_file = train_method1(train_50_file, val_file, MODEL_1_50_DIRECTORY)"
      ],
      "metadata": {
        "id": "3CHiobstnPNI",
        "outputId": "7bcbbe9c-b9c0-4bb6-d51b-ed23bdb23022",
        "colab": {
          "base_uri": "https://localhost:8080/",
          "height": 1000
        }
      },
      "execution_count": 28,
      "outputs": [
        {
          "output_type": "stream",
          "name": "stdout",
          "text": [
            "Train using of 50% of data\n",
            "Training XGBClassifier\n",
            "Cross Validation Mean:  0.7591831131582596\n",
            "Saved model to  gdrive/MyDrive/./CE807/Assignment2/2209506/models/1/50/model.sav\n",
            "Saved Vectorizer to  gdrive/MyDrive/./CE807/Assignment2/2209506/models/1/50/vectorizer.sav\n",
            "Computing different preformance metrics on train  set of Dataset\n",
            "Accuracy:  0.8264489795918367\n",
            "Precision Score(macro:  0.8421443185674902\n",
            "Recall score(macro):  <function recall_score at 0x7f1ea5064280>\n",
            "F1 Score(macro):  0.8112927032406709\n",
            "              precision    recall  f1-score   support\n",
            "\n",
            "           0       0.81      0.98      0.88      4089\n",
            "           1       0.92      0.53      0.67      2036\n",
            "\n",
            "    accuracy                           0.83      6125\n",
            "   macro avg       0.86      0.75      0.78      6125\n",
            "weighted avg       0.84      0.83      0.81      6125\n",
            "\n"
          ]
        },
        {
          "output_type": "display_data",
          "data": {
            "text/plain": [
              "<Figure size 500x300 with 1 Axes>"
            ],
            "image/png": "[encoded data removed]"
          },
          "metadata": {}
        },
        {
          "output_type": "stream",
          "name": "stdout",
          "text": [
            "Computing different preformance metrics on valid  set of Dataset\n",
            "Accuracy:  0.7594390507011867\n",
            "Precision Score(macro:  0.756063432858562\n",
            "Recall score(macro):  <function recall_score at 0x7f1ea5064280>\n",
            "F1 Score(macro):  0.738460595381554\n",
            "              precision    recall  f1-score   support\n",
            "\n",
            "           0       0.76      0.93      0.84       619\n",
            "           1       0.74      0.43      0.54       308\n",
            "\n",
            "    accuracy                           0.76       927\n",
            "   macro avg       0.75      0.68      0.69       927\n",
            "weighted avg       0.76      0.76      0.74       927\n",
            "\n"
          ]
        },
        {
          "output_type": "display_data",
          "data": {
            "text/plain": [
              "<Figure size 500x300 with 1 Axes>"
            ],
            "image/png": "[encoded data removed]"
          },
          "metadata": {}
        }
      ]
    },
    {
      "cell_type": "markdown",
      "source": [
        "Let's train 75% of data (train_75_file)  and validate the model with the validation data (val_file). Save the model in the appropriate directory"
      ],
      "metadata": {
        "id": "jYkpqKcG2n5R"
      }
    },
    {
      "cell_type": "code",
      "source": [
        "print('Train using of 75% of data')\n",
        "model_75_file, vectorizer_75_file = train_method1(train_75_file, val_file, MODEL_1_75_DIRECTORY)"
      ],
      "metadata": {
        "colab": {
          "base_uri": "https://localhost:8080/",
          "height": 1000
        },
        "id": "SDgMC3wQ2wBz",
        "outputId": "8d2724b1-2052-42af-f440-807551cf7974"
      },
      "execution_count": 29,
      "outputs": [
        {
          "output_type": "stream",
          "name": "stdout",
          "text": [
            "Train using of 75% of data\n",
            "Training XGBClassifier\n",
            "Cross Validation Mean:  0.7680884212906371\n",
            "Saved model to  gdrive/MyDrive/./CE807/Assignment2/2209506/models/1/75/model.sav\n",
            "Saved Vectorizer to  gdrive/MyDrive/./CE807/Assignment2/2209506/models/1/75/vectorizer.sav\n",
            "Computing different preformance metrics on train  set of Dataset\n",
            "Accuracy:  0.821781104241241\n",
            "Precision Score(macro:  0.8352788793733477\n",
            "Recall score(macro):  <function recall_score at 0x7f1ea5064280>\n",
            "F1 Score(macro):  0.8065254838896097\n",
            "              precision    recall  f1-score   support\n",
            "\n",
            "           0       0.80      0.97      0.88      6155\n",
            "           1       0.90      0.52      0.66      3064\n",
            "\n",
            "    accuracy                           0.82      9219\n",
            "   macro avg       0.85      0.75      0.77      9219\n",
            "weighted avg       0.84      0.82      0.81      9219\n",
            "\n"
          ]
        },
        {
          "output_type": "display_data",
          "data": {
            "text/plain": [
              "<Figure size 500x300 with 1 Axes>"
            ],
            "image/png": "[encoded data removed]"
          },
          "metadata": {}
        },
        {
          "output_type": "stream",
          "name": "stdout",
          "text": [
            "Computing different preformance metrics on valid  set of Dataset\n",
            "Accuracy:  0.7810140237324703\n",
            "Precision Score(macro:  0.7809706336833692\n",
            "Recall score(macro):  <function recall_score at 0x7f1ea5064280>\n",
            "F1 Score(macro):  0.7639978948922561\n",
            "              precision    recall  f1-score   support\n",
            "\n",
            "           0       0.78      0.93      0.85       619\n",
            "           1       0.78      0.47      0.59       308\n",
            "\n",
            "    accuracy                           0.78       927\n",
            "   macro avg       0.78      0.70      0.72       927\n",
            "weighted avg       0.78      0.78      0.76       927\n",
            "\n"
          ]
        },
        {
          "output_type": "display_data",
          "data": {
            "text/plain": [
              "<Figure size 500x300 with 1 Axes>"
            ],
            "image/png": "[encoded data removed]"
          },
          "metadata": {}
        }
      ]
    },
    {
      "cell_type": "markdown",
      "source": [
        "Training the model using 100% of data (train_100_file)  and validate the model with the validation data (val_file). Save the model in the appropriate directory"
      ],
      "metadata": {
        "id": "LRiNC3KmWq8C"
      }
    },
    {
      "cell_type": "code",
      "source": [
        "print('Train using of 100% of data')\n",
        "model_100_file, vectorizer_100_file = train_method1(train_100_file, val_file, MODEL_1_100_DIRECTORY)"
      ],
      "metadata": {
        "colab": {
          "base_uri": "https://localhost:8080/",
          "height": 1000
        },
        "id": "Csv_SZ5LcRWY",
        "outputId": "47882a74-640d-4be3-963a-d37a88206664"
      },
      "execution_count": 30,
      "outputs": [
        {
          "output_type": "stream",
          "name": "stdout",
          "text": [
            "Train using of 100% of data\n",
            "Training XGBClassifier\n",
            "Cross Validation Mean:  0.7707313502906517\n",
            "Saved model to  gdrive/MyDrive/./CE807/Assignment2/2209506/models/1/100/model.sav\n",
            "Saved Vectorizer to  gdrive/MyDrive/./CE807/Assignment2/2209506/models/1/100/vectorizer.sav\n",
            "Computing different preformance metrics on train  set of Dataset\n",
            "Accuracy:  0.8171850889303988\n",
            "Precision Score(macro:  0.8305340832281103\n",
            "Recall score(macro):  <function recall_score at 0x7f1ea5064280>\n",
            "F1 Score(macro):  0.8011024535173706\n",
            "              precision    recall  f1-score   support\n",
            "\n",
            "           0       0.80      0.97      0.88      8221\n",
            "           1       0.89      0.51      0.65      4092\n",
            "\n",
            "    accuracy                           0.82     12313\n",
            "   macro avg       0.85      0.74      0.76     12313\n",
            "weighted avg       0.83      0.82      0.80     12313\n",
            "\n"
          ]
        },
        {
          "output_type": "display_data",
          "data": {
            "text/plain": [
              "<Figure size 500x300 with 1 Axes>"
            ],
            "image/png": "[encoded data removed]"
          },
          "metadata": {}
        },
        {
          "output_type": "stream",
          "name": "stdout",
          "text": [
            "Computing different preformance metrics on valid  set of Dataset\n",
            "Accuracy:  0.7734627831715211\n",
            "Precision Score(macro:  0.7718127499722107\n",
            "Recall score(macro):  <function recall_score at 0x7f1ea5064280>\n",
            "F1 Score(macro):  0.755650424550151\n",
            "              precision    recall  f1-score   support\n",
            "\n",
            "           0       0.78      0.93      0.85       619\n",
            "           1       0.76      0.46      0.57       308\n",
            "\n",
            "    accuracy                           0.77       927\n",
            "   macro avg       0.77      0.69      0.71       927\n",
            "weighted avg       0.77      0.77      0.76       927\n",
            "\n"
          ]
        },
        {
          "output_type": "display_data",
          "data": {
            "text/plain": [
              "<Figure size 500x300 with 1 Axes>"
            ],
            "image/png": "[encoded data removed]"
          },
          "metadata": {}
        }
      ]
    },
    {
      "cell_type": "markdown",
      "source": [
        "## Testing code\n",
        "Your test code should be a stand alone code that must take `test_file`, `model_file` and `output_dir` as input. You could have other things as also input, but these three are must. You would load both files, and generate output based on inputs. Then you will `print` / `display`/ `plot` all performance metrics, and save the output file in the `output_dir`  "
      ],
      "metadata": {
        "id": "qyJ_xv12Uy9c"
      }
    },
    {
      "cell_type": "code",
      "source": [
        "def test_method1(test_file, model_file, vectorizer_file, output_dir):\n",
        "   \n",
        "    test_df = pd.read_csv(test_file)\n",
        "    #apply clean_tweet function to the tweet function\n",
        "    test_df['tweet']=test_df.apply(clean_tweet, axis = 1)\n",
        "    #apply stemming function to the tweet function\n",
        "    test_df['tweet'] = test_df['tweet'].apply(stemming)\n",
        "    \n",
        "    test_label = test_df['label']\n",
        "    test_label = test_label.replace({'NOT':0,'OFF':1})\n",
        "\n",
        "    model, vectorizer = load_model1(model_file, vectorizer_file) \n",
        "\n",
        "    test_values= prepare_dataset1(test_df,vectorizer)\n",
        "\n",
        "    test_pred_label = model.predict(test_values)\n",
        "\n",
        "    cross_val = cross_val_score(model,test_values,test_pred_label, scoring = 'accuracy', cv = 10)\n",
        "    print('Cross Validation Mean: ', cross_val.mean())\n",
        "\n",
        "    test_df['out_label']  = test_pred_label # Note how this is saved \n",
        "    test_df['out_label'] = test_df['out_label'].replace({0:'NOT',1:'OFF'})\n",
        "    test_f1_score = compute_performance(test_label, test_pred_label, split='test')\n",
        "\n",
        "    out_file = os.path.join(output_dir, 'output_test.csv')\n",
        "\n",
        "    print('Saving model output to', out_file)\n",
        "    test_df.to_csv(out_file)\n",
        "\n",
        "    \n",
        "    # return "
      ],
      "metadata": {
        "id": "43T3JqK5a484"
      },
      "execution_count": 31,
      "outputs": []
    },
    {
      "cell_type": "markdown",
      "source": [
        "Let's predict the label of the test data (test_file) with the model trained on 25% data. Save the output file in the appropriate directory.\n"
      ],
      "metadata": {
        "id": "uatXpm4HXm8y"
      }
    },
    {
      "cell_type": "code",
      "source": [
        "print('Testing using model trained on 25% data')\n",
        "test_method1(test_file, model_25_file, vectorizer_25_file, MODEL_1_25_DIRECTORY)"
      ],
      "metadata": {
        "colab": {
          "base_uri": "https://localhost:8080/",
          "height": 641
        },
        "id": "dlAQo-8DXo3p",
        "outputId": "fa6ad89b-ed50-47b2-b175-fdc24b455083"
      },
      "execution_count": 32,
      "outputs": [
        {
          "output_type": "stream",
          "name": "stdout",
          "text": [
            "Testing using model trained on 25% data\n",
            "Loaded model from  gdrive/MyDrive/./CE807/Assignment2/2209506/models/1/25/model.sav\n",
            "Loaded Vectorizer from  gdrive/MyDrive/./CE807/Assignment2/2209506/models/1/25/vectorizer.sav\n",
            "Cross Validation Mean:  0.9290697674418606\n",
            "Computing different preformance metrics on test  set of Dataset\n",
            "Accuracy:  0.8093023255813954\n",
            "Precision Score(macro:  0.8113956569456677\n",
            "Recall score(macro):  <function recall_score at 0x7f1ea5064280>\n",
            "F1 Score(macro):  0.7853499380062451\n",
            "              precision    recall  f1-score   support\n",
            "\n",
            "           0       0.81      0.97      0.88       620\n",
            "           1       0.82      0.40      0.54       240\n",
            "\n",
            "    accuracy                           0.81       860\n",
            "   macro avg       0.81      0.69      0.71       860\n",
            "weighted avg       0.81      0.81      0.79       860\n",
            "\n"
          ]
        },
        {
          "output_type": "display_data",
          "data": {
            "text/plain": [
              "<Figure size 500x300 with 1 Axes>"
            ],
            "image/png": "[encoded data removed]"
          },
          "metadata": {}
        },
        {
          "output_type": "stream",
          "name": "stdout",
          "text": [
            "Saving model output to gdrive/MyDrive/./CE807/Assignment2/2209506/models/1/25/output_test.csv\n"
          ]
        }
      ]
    },
    {
      "cell_type": "markdown",
      "source": [
        "Let's predict the label of the test data (test_file) with the model trained on 50% data. Save the output file in the appropriate directory"
      ],
      "metadata": {
        "id": "2AKVXJlG5LRC"
      }
    },
    {
      "cell_type": "code",
      "source": [
        "print('Testing using model trained on 50% data')\n",
        "test_method1(test_file, model_50_file, vectorizer_50_file, MODEL_1_50_DIRECTORY)"
      ],
      "metadata": {
        "colab": {
          "base_uri": "https://localhost:8080/",
          "height": 641
        },
        "id": "ZVl5UwL85O0Q",
        "outputId": "5030b10d-4968-48ef-dc19-fe882e3ed646"
      },
      "execution_count": 33,
      "outputs": [
        {
          "output_type": "stream",
          "name": "stdout",
          "text": [
            "Testing using model trained on 50% data\n",
            "Loaded model from  gdrive/MyDrive/./CE807/Assignment2/2209506/models/1/50/model.sav\n",
            "Loaded Vectorizer from  gdrive/MyDrive/./CE807/Assignment2/2209506/models/1/50/vectorizer.sav\n",
            "Cross Validation Mean:  0.9151162790697676\n",
            "Computing different preformance metrics on test  set of Dataset\n",
            "Accuracy:  0.8093023255813954\n",
            "Precision Score(macro:  0.8088530284745099\n",
            "Recall score(macro):  <function recall_score at 0x7f1ea5064280>\n",
            "F1 Score(macro):  0.7870731175938008\n",
            "              precision    recall  f1-score   support\n",
            "\n",
            "           0       0.81      0.96      0.88       620\n",
            "           1       0.81      0.42      0.55       240\n",
            "\n",
            "    accuracy                           0.81       860\n",
            "   macro avg       0.81      0.69      0.71       860\n",
            "weighted avg       0.81      0.81      0.79       860\n",
            "\n"
          ]
        },
        {
          "output_type": "display_data",
          "data": {
            "text/plain": [
              "<Figure size 500x300 with 1 Axes>"
            ],
            "image/png": "[encoded data removed]"
          },
          "metadata": {}
        },
        {
          "output_type": "stream",
          "name": "stdout",
          "text": [
            "Saving model output to gdrive/MyDrive/./CE807/Assignment2/2209506/models/1/50/output_test.csv\n"
          ]
        }
      ]
    },
    {
      "cell_type": "markdown",
      "source": [
        "Let's predict the label of the test data (test_file) with the model trained on 75% data. Save the output file in the appropriate directory"
      ],
      "metadata": {
        "id": "SDbXDPyH4xiD"
      }
    },
    {
      "cell_type": "code",
      "source": [
        "print('Testing using model trained on 75% data')\n",
        "test_method1(test_file, model_75_file, vectorizer_75_file, MODEL_1_75_DIRECTORY)"
      ],
      "metadata": {
        "colab": {
          "base_uri": "https://localhost:8080/",
          "height": 641
        },
        "id": "eG0oxCT245cW",
        "outputId": "ce6900c3-52bf-4ae1-d454-586a5ae1b049"
      },
      "execution_count": 34,
      "outputs": [
        {
          "output_type": "stream",
          "name": "stdout",
          "text": [
            "Testing using model trained on 75% data\n",
            "Loaded model from  gdrive/MyDrive/./CE807/Assignment2/2209506/models/1/75/model.sav\n",
            "Loaded Vectorizer from  gdrive/MyDrive/./CE807/Assignment2/2209506/models/1/75/vectorizer.sav\n",
            "Cross Validation Mean:  0.908139534883721\n",
            "Computing different preformance metrics on test  set of Dataset\n",
            "Accuracy:  0.8186046511627907\n",
            "Precision Score(macro:  0.818541923193086\n",
            "Recall score(macro):  <function recall_score at 0x7f1ea5064280>\n",
            "F1 Score(macro):  0.7995396475231569\n",
            "              precision    recall  f1-score   support\n",
            "\n",
            "           0       0.82      0.96      0.88       620\n",
            "           1       0.82      0.45      0.58       240\n",
            "\n",
            "    accuracy                           0.82       860\n",
            "   macro avg       0.82      0.71      0.73       860\n",
            "weighted avg       0.82      0.82      0.80       860\n",
            "\n"
          ]
        },
        {
          "output_type": "display_data",
          "data": {
            "text/plain": [
              "<Figure size 500x300 with 1 Axes>"
            ],
            "image/png": "[encoded data removed]"
          },
          "metadata": {}
        },
        {
          "output_type": "stream",
          "name": "stdout",
          "text": [
            "Saving model output to gdrive/MyDrive/./CE807/Assignment2/2209506/models/1/75/output_test.csv\n"
          ]
        }
      ]
    },
    {
      "cell_type": "markdown",
      "source": [
        "Let's predict the label of the test data (test_file) with the model trained on 100% data. Save the output file in the appropriate directory"
      ],
      "metadata": {
        "id": "Qd-JunUfXdVK"
      }
    },
    {
      "cell_type": "code",
      "source": [
        "print('Testing using model trained on 100% data')\n",
        "test_method1(test_file, model_100_file, vectorizer_100_file, MODEL_1_100_DIRECTORY)"
      ],
      "metadata": {
        "colab": {
          "base_uri": "https://localhost:8080/",
          "height": 641
        },
        "id": "I0tXyGTyiDt2",
        "outputId": "e5aa6a30-fe7d-4c5f-a45a-063b9cfa5e6e"
      },
      "execution_count": 35,
      "outputs": [
        {
          "output_type": "stream",
          "name": "stdout",
          "text": [
            "Testing using model trained on 100% data\n",
            "Loaded model from  gdrive/MyDrive/./CE807/Assignment2/2209506/models/1/100/model.sav\n",
            "Loaded Vectorizer from  gdrive/MyDrive/./CE807/Assignment2/2209506/models/1/100/vectorizer.sav\n",
            "Cross Validation Mean:  0.9116279069767443\n",
            "Computing different preformance metrics on test  set of Dataset\n",
            "Accuracy:  0.813953488372093\n",
            "Precision Score(macro:  0.8123330158213878\n",
            "Recall score(macro):  <function recall_score at 0x7f1ea5064280>\n",
            "F1 Score(macro):  0.7943996384852888\n",
            "              precision    recall  f1-score   support\n",
            "\n",
            "           0       0.82      0.96      0.88       620\n",
            "           1       0.80      0.44      0.57       240\n",
            "\n",
            "    accuracy                           0.81       860\n",
            "   macro avg       0.81      0.70      0.73       860\n",
            "weighted avg       0.81      0.81      0.79       860\n",
            "\n"
          ]
        },
        {
          "output_type": "display_data",
          "data": {
            "text/plain": [
              "<Figure size 500x300 with 1 Axes>"
            ],
            "image/png": "[encoded data removed]"
          },
          "metadata": {}
        },
        {
          "output_type": "stream",
          "name": "stdout",
          "text": [
            "Saving model output to gdrive/MyDrive/./CE807/Assignment2/2209506/models/1/100/output_test.csv\n"
          ]
        }
      ]
    },
    {
      "cell_type": "markdown",
      "source": [
        "## Method 1 End\n"
      ],
      "metadata": {
        "id": "ue3xIDFGSXNH"
      }
    },
    {
      "cell_type": "markdown",
      "source": [
        "#Method 2"
      ],
      "metadata": {
        "id": "rmaJfJkVwSDW"
      }
    },
    {
      "cell_type": "markdown",
      "source": [
        "### 2.1: Install and import required modules"
      ],
      "metadata": {
        "id": "8zzQzyyIVdkT"
      }
    },
    {
      "cell_type": "code",
      "source": [
        "!pip install -q tensorflow-text"
      ],
      "metadata": {
        "id": "Zly8o__IVjck"
      },
      "execution_count": 36,
      "outputs": []
    },
    {
      "cell_type": "code",
      "source": [
        "!pip install -q tf-models-official"
      ],
      "metadata": {
        "id": "yvKAsucSVrCw"
      },
      "execution_count": 37,
      "outputs": []
    },
    {
      "cell_type": "code",
      "source": [
        "from sklearn.model_selection import GroupKFold\n",
        "import matplotlib.pyplot as plt\n",
        "from tqdm.notebook import tqdm\n",
        "import tensorflow as tf\n",
        "import tensorflow_hub as hub\n",
        "import tensorflow_text as text\n",
        "import tensorflow.keras.backend as K\n",
        "from scipy.stats import spearmanr\n",
        "from math import floor, ceil\n",
        "from transformers import *\n",
        "\n",
        "np.set_printoptions(suppress=True)\n",
        "print(tf.__version__)\n",
        "\n",
        "import shutil\n",
        "\n",
        "from official.nlp import optimization  # to create AdamW optmizer\n",
        "\n",
        "tf.get_logger().setLevel('ERROR')"
      ],
      "metadata": {
        "id": "LQTmVWa5wdD3",
        "colab": {
          "base_uri": "https://localhost:8080/"
        },
        "outputId": "ae087057-b8b8-4291-c9ba-cacfbcb9354f"
      },
      "execution_count": 38,
      "outputs": [
        {
          "output_type": "stream",
          "name": "stdout",
          "text": [
            "2.12.0\n"
          ]
        }
      ]
    },
    {
      "cell_type": "code",
      "source": [
        "import torch.optim as optim"
      ],
      "metadata": {
        "id": "eqesuGXEIbRT"
      },
      "execution_count": 39,
      "outputs": []
    },
    {
      "cell_type": "code",
      "source": [
        "from torch.utils.data import Dataset, DataLoader, TensorDataset"
      ],
      "metadata": {
        "id": "4jC17uof8LGV"
      },
      "execution_count": 40,
      "outputs": []
    },
    {
      "cell_type": "markdown",
      "source": [
        "### 2.2: Setting the output model directory and file names for model 2"
      ],
      "metadata": {
        "id": "wKe8oremMuua"
      }
    },
    {
      "cell_type": "code",
      "source": [
        "MODEL_2_DIRECTORY = os.path.join(GOOGLE_DRIVE_PATH, 'models', '2') # Model 2 directory\n",
        "print('Model 2 directory: ', MODEL_2_DIRECTORY)\n",
        "\n",
        "MODEL_2_25_DIRECTORY = os.path.join(MODEL_2_DIRECTORY,'25') # Model 2 trained using 25% of train data directory\n",
        "print('Model 2 directory with 25% data: ', MODEL_2_25_DIRECTORY)\n",
        "\n",
        "MODEL_2_50_DIRECTORY = os.path.join(MODEL_2_DIRECTORY,'50') # Model 2 trained using 50% of train data directory\n",
        "print('Model 2 directory with 50% data: ', MODEL_2_50_DIRECTORY)\n",
        "\n",
        "MODEL_2_75_DIRECTORY = os.path.join(MODEL_2_DIRECTORY,'75') # Model 2 trained using 25% of train data directory\n",
        "print('Model 2 directory with 75% data: ', MODEL_2_25_DIRECTORY)\n",
        "\n",
        "MODEL_2_100_DIRECTORY = os.path.join(MODEL_2_DIRECTORY,'100') # Model 2 trained using 100% of train data directory\n",
        "print('Model 2 directory with 100% data: ', MODEL_2_100_DIRECTORY)\n",
        "\n",
        "\n",
        "model_2_25_output_test_file = os.path.join(MODEL_2_25_DIRECTORY, 'output_test.csv') # Output file using Model 2 trained using 25% of train data \n",
        "print('Output file name using model 2 using 25% of train data: ',model_2_25_output_test_file)\n",
        "\n",
        "model_2_50_output_test_file = os.path.join(MODEL_2_50_DIRECTORY, 'output_test.csv') # Output file using Model 2 trained using 50% of train data \n",
        "print('Output file name using model 2 using 50% of train data: ',model_2_50_output_test_file)\n",
        "\n",
        "model_2_75_output_test_file = os.path.join(MODEL_2_75_DIRECTORY, 'output_test.csv') # Output file using Model 2 trained using 75% of train data \n",
        "print('Output file name using model 2 using 75% of train data: ',model_2_75_output_test_file)\n",
        "\n",
        "model_2_100_output_test_file = os.path.join(MODEL_2_100_DIRECTORY, 'output_test.csv') # Output file using Model 2 trained using 25% of train data \n",
        "print('Output file name using model 2 using 100% of train data: ',model_2_100_output_test_file)"
      ],
      "metadata": {
        "colab": {
          "base_uri": "https://localhost:8080/"
        },
        "id": "rWUBFJBoMzCJ",
        "outputId": "503f3b9c-e3f6-4d08-e41a-7fb73a5bd6a5"
      },
      "execution_count": 41,
      "outputs": [
        {
          "output_type": "stream",
          "name": "stdout",
          "text": [
            "Model 2 directory:  gdrive/MyDrive/./CE807/Assignment2/2209506/models/2\n",
            "Model 2 directory with 25% data:  gdrive/MyDrive/./CE807/Assignment2/2209506/models/2/25\n",
            "Model 2 directory with 50% data:  gdrive/MyDrive/./CE807/Assignment2/2209506/models/2/50\n",
            "Model 2 directory with 75% data:  gdrive/MyDrive/./CE807/Assignment2/2209506/models/2/25\n",
            "Model 2 directory with 100% data:  gdrive/MyDrive/./CE807/Assignment2/2209506/models/2/100\n",
            "Output file name using model 2 using 25% of train data:  gdrive/MyDrive/./CE807/Assignment2/2209506/models/2/25/output_test.csv\n",
            "Output file name using model 2 using 50% of train data:  gdrive/MyDrive/./CE807/Assignment2/2209506/models/2/50/output_test.csv\n",
            "Output file name using model 2 using 75% of train data:  gdrive/MyDrive/./CE807/Assignment2/2209506/models/2/75/output_test.csv\n",
            "Output file name using model 2 using 100% of train data:  gdrive/MyDrive/./CE807/Assignment2/2209506/models/2/100/output_test.csv\n"
          ]
        }
      ]
    },
    {
      "cell_type": "markdown",
      "source": [
        "### 2.3: Building the Model"
      ],
      "metadata": {
        "id": "1oSt47Zv8f_Y"
      }
    },
    {
      "cell_type": "code",
      "source": [
        "class MultilayerPerceptron(nn.Module):\n",
        "\n",
        "  def __init__(self, input_size, hidden_size, output_size,dropout_rate=0.2):\n",
        "    # Call to the __init__ function of the super class\n",
        "    super(MultilayerPerceptron, self).__init__()\n",
        "\n",
        "    # Bookkeeping: Saving the initialization parameters\n",
        "    self.input_size = input_size \n",
        "    self.hidden_size = hidden_size\n",
        "    self.output_size = output_size \n",
        "    \n",
        "\n",
        "    # Defining of our model\n",
        "    self.model = nn.Sequential(\n",
        "        nn.Linear(self.input_size, self.hidden_size),\n",
        "        nn.ReLU(),\n",
        "        nn.Dropout(dropout_rate),\n",
        "        nn.Linear(self.hidden_size, self.output_size),\n",
        "               \n",
        "    )\n",
        "    \n",
        "  def forward(self, x):\n",
        "    output = self.model(x)\n",
        "    return output"
      ],
      "metadata": {
        "id": "sqj6z3uL8i08"
      },
      "execution_count": 42,
      "outputs": []
    },
    {
      "cell_type": "code",
      "source": [
        "torch.manual_seed(student_id)\n",
        "torch.cuda.manual_seed(student_id)"
      ],
      "metadata": {
        "id": "vE1vfftY65LE"
      },
      "execution_count": 43,
      "outputs": []
    },
    {
      "cell_type": "code",
      "source": [
        "torch.backends.cudnn.deterministic = True\n",
        "torch.backends.cudnn.benchmark = False"
      ],
      "metadata": {
        "id": "Wt2p4zaWYMhi"
      },
      "execution_count": 44,
      "outputs": []
    },
    {
      "cell_type": "markdown",
      "source": [
        "###Checking GPU access"
      ],
      "metadata": {
        "id": "ZI9OLmHe8qWb"
      }
    },
    {
      "cell_type": "code",
      "source": [
        "import torch\n",
        "\n",
        "if torch.cuda.is_available():\n",
        "  device = torch.device(\"cuda\")\n",
        "else:\n",
        "  device = torch.device(\"cpu\")\n",
        "device"
      ],
      "metadata": {
        "colab": {
          "base_uri": "https://localhost:8080/"
        },
        "id": "QhU2nRa78tfb",
        "outputId": "fb8a9ad6-882d-48db-c2f9-b1993221aaf9"
      },
      "execution_count": 45,
      "outputs": [
        {
          "output_type": "execute_result",
          "data": {
            "text/plain": [
              "device(type='cuda')"
            ]
          },
          "metadata": {},
          "execution_count": 45
        }
      ]
    },
    {
      "cell_type": "markdown",
      "source": [
        "### 2.4: Preparing the dataset"
      ],
      "metadata": {
        "id": "e124bIto81ZP"
      }
    },
    {
      "cell_type": "code",
      "source": [
        "def prepare_dataset(file_name, sample_flag=False,count_vectorizer=None):\n",
        "  # Prepare the data\n",
        "  data = pd.read_csv(file_name)\n",
        "  #clean and stemming the tweet\n",
        "  data['tweet'] = data.apply(clean_tweet,axis=1)\n",
        "  data['tweet'] = data['tweet'].apply(stemming) \n",
        "\n",
        "  if count_vectorizer == None:\n",
        "    count_vectorizer=CountVectorizer(stop_words='english',max_features=5000)\n",
        "    #Vectorize the tweets\n",
        "    values = count_vectorizer.fit_transform(data['tweet'].values)\n",
        "  else:\n",
        "    values = count_vectorizer.transform(data['tweet'].values)\n",
        "  #convert the labels to numeric\n",
        "  data['label'] = data['label'].replace({'NOT':0,'OFF':1})\n",
        "  labels = data['label'].values\n",
        "\n",
        "  # Convert into Tensor \n",
        "  values = torch.tensor(values.toarray()).float()\n",
        "  labels = torch.tensor(labels)\n",
        "\n",
        "  dataset = TensorDataset(values, labels)\n",
        "  input_size = values.shape[1]\n",
        "  output_size = labels.shape\n",
        "  return dataset, input_size, count_vectorizer"
      ],
      "metadata": {
        "id": "a-_3IfmE81AS"
      },
      "execution_count": 46,
      "outputs": []
    },
    {
      "cell_type": "markdown",
      "source": [
        "Apply the prepare_dataset function on train_100_file and generate the train_loader"
      ],
      "metadata": {
        "id": "bZJCKvvl9Dx9"
      }
    },
    {
      "cell_type": "code",
      "source": [
        "train_dataset, input_size, count_vectorizer = prepare_dataset(train_100_file,sample_flag=True)\n",
        "\n",
        "batch_size = 64\n",
        "shuffle = True\n",
        "\n",
        "# Instantiate a DataLoader\n",
        "train_loader = DataLoader(train_dataset, batch_size=batch_size,shuffle=shuffle) # In training always make shuffle True"
      ],
      "metadata": {
        "id": "W5zhItYz9FWC"
      },
      "execution_count": 47,
      "outputs": []
    },
    {
      "cell_type": "markdown",
      "source": [
        "###2.5: Initializing the model and optimizer"
      ],
      "metadata": {
        "id": "ZzHflLNZ9NVO"
      }
    },
    {
      "cell_type": "code",
      "source": [
        "# Number of Epochs \n",
        "epochs = 10\n",
        "\n",
        "# Define loss using a predefined loss function\n",
        "loss_function = nn.CrossEntropyLoss()\n",
        "\n",
        "# Initialize a model\n",
        "input_size = input_size \n",
        "hidden_size = 2500\n",
        "output_size = 2\n",
        "\n",
        "model = MultilayerPerceptron(input_size=input_size,hidden_size=hidden_size, output_size=2,dropout_rate=0.2)\n",
        "model = model.to(device)\n",
        "\n",
        "# Define the optimizer\n",
        "lr = 3e-5\n",
        "# Remember your optimizer has to come after model definition \n",
        "optimizer = optim.Adam(model.parameters(), lr=lr)"
      ],
      "metadata": {
        "id": "BfLxbbsp9Ii5"
      },
      "execution_count": 48,
      "outputs": []
    },
    {
      "cell_type": "markdown",
      "source": [
        "###2.5.1:Print the model and its parameters and list the model's parameters\n",
        "\n",
        "\n",
        "\n"
      ],
      "metadata": {
        "id": "F3P7aFk-9UuZ"
      }
    },
    {
      "cell_type": "code",
      "source": [
        "print(model)"
      ],
      "metadata": {
        "colab": {
          "base_uri": "https://localhost:8080/"
        },
        "id": "MgKvRFH69W83",
        "outputId": "91558d63-5647-43a9-ebd3-e7c2b8b1915a"
      },
      "execution_count": 49,
      "outputs": [
        {
          "output_type": "stream",
          "name": "stdout",
          "text": [
            "MultilayerPerceptron(\n",
            "  (model): Sequential(\n",
            "    (0): Linear(in_features=5000, out_features=2500, bias=True)\n",
            "    (1): ReLU()\n",
            "    (2): Dropout(p=0.2, inplace=False)\n",
            "    (3): Linear(in_features=2500, out_features=2, bias=True)\n",
            "  )\n",
            ")\n"
          ]
        }
      ]
    },
    {
      "cell_type": "code",
      "source": [
        "list(model.named_parameters())"
      ],
      "metadata": {
        "colab": {
          "base_uri": "https://localhost:8080/"
        },
        "id": "PFIkZBfq9iHJ",
        "outputId": "031a40e1-3dce-4bad-8b79-58f2f324b895"
      },
      "execution_count": 50,
      "outputs": [
        {
          "output_type": "execute_result",
          "data": {
            "text/plain": [
              "[('model.0.weight',\n",
              "  Parameter containing:\n",
              "  tensor([[ 0.0087, -0.0011, -0.0138,  ...,  0.0120, -0.0101, -0.0131],\n",
              "          [ 0.0087,  0.0134,  0.0032,  ...,  0.0017, -0.0046, -0.0008],\n",
              "          [ 0.0050,  0.0120,  0.0103,  ..., -0.0062,  0.0130,  0.0084],\n",
              "          ...,\n",
              "          [ 0.0126, -0.0070, -0.0082,  ..., -0.0009, -0.0038, -0.0116],\n",
              "          [-0.0121, -0.0044,  0.0089,  ...,  0.0040, -0.0035, -0.0014],\n",
              "          [ 0.0094,  0.0084,  0.0033,  ...,  0.0050, -0.0028,  0.0066]],\n",
              "         device='cuda:0', requires_grad=True)),\n",
              " ('model.0.bias',\n",
              "  Parameter containing:\n",
              "  tensor([-0.0106, -0.0045,  0.0131,  ..., -0.0124, -0.0063, -0.0078],\n",
              "         device='cuda:0', requires_grad=True)),\n",
              " ('model.3.weight',\n",
              "  Parameter containing:\n",
              "  tensor([[ 0.0109, -0.0044,  0.0172,  ..., -0.0074,  0.0188, -0.0094],\n",
              "          [ 0.0007, -0.0087,  0.0027,  ..., -0.0077,  0.0082, -0.0146]],\n",
              "         device='cuda:0', requires_grad=True)),\n",
              " ('model.3.bias',\n",
              "  Parameter containing:\n",
              "  tensor([-0.0172,  0.0131], device='cuda:0', requires_grad=True))]"
            ]
          },
          "metadata": {},
          "execution_count": 50
        }
      ]
    },
    {
      "cell_type": "markdown",
      "source": [
        "###2.6:Function for the labels of the data_loader"
      ],
      "metadata": {
        "id": "nf8m9Lai9nrU"
      }
    },
    {
      "cell_type": "code",
      "source": [
        "def labels(data_loader):\n",
        "  all_data_labels = []\n",
        "  all_predict_labels = []\n",
        "  for i, batch in enumerate(data_loader):\n",
        "    batch_inputs = batch[0].to(device)\n",
        "    batch_labels = batch[1].to(device)\n",
        "    \n",
        "    outputs = model.forward(batch_inputs) # Remember you have probability here, need to get labels\n",
        "    out_labels = torch.argmax(outputs, dim=1).detach()\n",
        "\n",
        "    # Let's save both GT and Prected labels for the Acuracy, F1-Score Calculation \n",
        "    all_data_labels.extend(batch_labels.tolist())\n",
        "    all_predict_labels.extend(out_labels.tolist())\n",
        "    return all_data_labels,all_predict_labels"
      ],
      "metadata": {
        "id": "CwA1EAhI9r07"
      },
      "execution_count": 51,
      "outputs": []
    },
    {
      "cell_type": "markdown",
      "source": [
        "###2.7 Functions for saving and loading the model\n",
        "- Saving the model function"
      ],
      "metadata": {
        "id": "gWuVz7HU9yQO"
      }
    },
    {
      "cell_type": "code",
      "source": [
        "def save_model2(model, vectorizer, model_dir):\n",
        "    # save the model to disk\n",
        "    model_file = os.path.join(model_dir, 'model.sav')\n",
        "    pickle.dump(model, open(model_file, 'wb'))\n",
        "    print('Saved model to ', model_file)\n",
        "    vectorizer_file = os.path.join(model_dir, 'vectorizer.sav') \n",
        "    pickle.dump(vectorizer, open(vectorizer_file, 'wb'))\n",
        "    print('Saved Vectorizer to ', vectorizer_file)\n",
        "    return model_file, vectorizer_file "
      ],
      "metadata": {
        "id": "3yU8IJs792Ca"
      },
      "execution_count": 52,
      "outputs": []
    },
    {
      "cell_type": "markdown",
      "source": [
        "- Function for Loading the model"
      ],
      "metadata": {
        "id": "MQG9mmuk9560"
      }
    },
    {
      "cell_type": "code",
      "source": [
        "def load_model2(model_file, vectorizer_file):\n",
        "    # load model and vectorizer from disk\n",
        "    model = pickle.load(open(model_file, 'rb'))\n",
        "    print('Loaded model from ', model_file)\n",
        "    vectorizer = pickle.load(open(vectorizer_file, 'rb'))\n",
        "    print('Loaded Vectorizer from ', vectorizer_file)\n",
        "    return model, vectorizer"
      ],
      "metadata": {
        "id": "fbQ3xdjd98Cv"
      },
      "execution_count": 53,
      "outputs": []
    },
    {
      "cell_type": "markdown",
      "source": [
        "### 2.8 Training method 2\n",
        "- Call all epoch, train_loss, val_loss and print the line chart for train_loss vs epoch and val_loss vs epoch"
      ],
      "metadata": {
        "id": "vQQaxgSY7kRU"
      }
    },
    {
      "cell_type": "code",
      "source": [
        "def train_method2(loss_function, optimizer, model, data_loader,val_loader,num_epochs = epochs):\n",
        "  train_losses = []\n",
        "  val_losses = []\n",
        "  for epoch in range(num_epochs):\n",
        "  # Running the model on training data\n",
        "    total_train_loss = 0\n",
        "    for i, batch in enumerate(data_loader):\n",
        "    # We could move whole data to GPU but it will take lots of space so only move one batch at a time\n",
        "      batch_inputs = batch[0].to(device)\n",
        "      batch_labels = batch[1].to(device)\n",
        "      optimizer.zero_grad()\n",
        "      outputs = model.forward(batch_inputs)\n",
        "      loss = loss_function(outputs, batch_labels)\n",
        "      loss.backward()\n",
        "      optimizer.step()\n",
        "      total_train_loss += loss.item()\n",
        "    epoch_train_loss = total_train_loss / len(data_loader)\n",
        "    train_losses.append(epoch_train_loss)\n",
        "    #for valdation data\n",
        "    total_val_loss = 0\n",
        "    for i, batch in enumerate(val_loader):\n",
        "      batch_inputs = batch[0].to(device)\n",
        "      batch_labels = batch[1].to(device)\n",
        "      optimizer.zero_grad()\n",
        "      outputs = model.forward(batch_inputs)\n",
        "      loss = loss_function(outputs, batch_labels)\n",
        "      loss.backward()\n",
        "      optimizer.step()\n",
        "      total_val_loss += loss.item()\n",
        "    epoch_val_loss = total_val_loss / len(val_loader)\n",
        "    val_losses.append(epoch_val_loss)\n",
        "    print(f\"Epoch {epoch+1}/{num_epochs}, Training Loss: {epoch_train_loss:.4f}, Validation Loss: {epoch_val_loss:.4f}\")\n",
        "\n",
        "   \n",
        "    # Plot the training and validation losses against the number of epochs\n",
        "  plt.figure(figsize = (5,3))\n",
        "  plt.plot(range(1, num_epochs+1), train_losses, label='Training Loss')\n",
        "  plt.plot(range(1, num_epochs+1), val_losses, label='Validation Loss')\n",
        "  plt.xlabel('Epoch')\n",
        "  plt.ylabel('Loss')\n",
        "  plt.title('Training and Validation Losses vs. Epoch')\n",
        "  plt.legend()\n",
        "  plt.tight_layout()\n",
        "  plt.show()\n",
        "\n",
        "  return train_losses, val_losses"
      ],
      "metadata": {
        "id": "OtpEMc9--Bhy"
      },
      "execution_count": 54,
      "outputs": []
    },
    {
      "cell_type": "markdown",
      "source": [
        "### 2.9 Function to Validate the models on validation data (val_file)"
      ],
      "metadata": {
        "id": "plKusMmnpmVx"
      }
    },
    {
      "cell_type": "code",
      "source": [
        "def val_method2(val_file, model_file, vectorizer_file):\n",
        "   \n",
        "    val_df = pd.read_csv(val_file)\n",
        "    #apply clean_tweet function to the tweet function\n",
        "    val_df['tweet']=val_df.apply(clean_tweet, axis = 1)\n",
        "    #apply stemming function to the tweet function\n",
        "    val_df['tweet'] = val_df['tweet'].apply(stemming)\n",
        "    \n",
        "    val_label = val_df['label']\n",
        "    val_label = val_label.replace({'NOT':0,'OFF':1})\n",
        "\n",
        "    model, vectorizer = load_model2(model_file, vectorizer_file) \n",
        "\n",
        "    val_dataset, c , _ = prepare_dataset(val_file,sample_flag=True,count_vectorizer=count_vectorizer)\n",
        "    val_loader = DataLoader(val_dataset, batch_size=927,shuffle=False)\n",
        "    val_labels = labels(val_loader)\n",
        "    metrics = compute_performance(val_labels[0],val_labels[1],split = 'validation')\n",
        "\n",
        "    return metrics"
      ],
      "metadata": {
        "id": "yrP8Q_wPpqsS"
      },
      "execution_count": 55,
      "outputs": []
    },
    {
      "cell_type": "markdown",
      "source": [
        "###2.10: Computing the training_loss and the val_loss for different data sizes\n",
        "- Compute the metrics of the model on val_data"
      ],
      "metadata": {
        "id": "P9Zdr4GApyAY"
      }
    },
    {
      "cell_type": "markdown",
      "source": [
        "Prepare the valid data"
      ],
      "metadata": {
        "id": "Wy8NR3UCEeiL"
      }
    },
    {
      "cell_type": "code",
      "source": [
        "# Load valid Data\n",
        "val_dataset, c , _ = prepare_dataset(val_file,sample_flag=True,count_vectorizer=count_vectorizer)\n",
        "\n",
        "# Instantiate a DataLoader\n",
        "# in practice you need to keep shuffle false at the testing time, so that you could easily match data with predicted label\n",
        "val_loader = DataLoader(val_dataset, batch_size=927,shuffle=False) "
      ],
      "metadata": {
        "id": "88tl8l3WEdya"
      },
      "execution_count": 56,
      "outputs": []
    },
    {
      "cell_type": "markdown",
      "source": [
        "### 2.10.1: 25% Data Size"
      ],
      "metadata": {
        "id": "M3nppST6FzDp"
      }
    },
    {
      "cell_type": "markdown",
      "source": [
        "Prepare 25% training data "
      ],
      "metadata": {
        "id": "WmVOKq7aAq8n"
      }
    },
    {
      "cell_type": "code",
      "source": [
        "train_25, input_size, count_vectorizer = prepare_dataset(train_25_file,sample_flag=True)\n",
        "\n",
        "batch_size = 64\n",
        "shuffle = True\n",
        "\n",
        "# Instantiate a DataLoader\n",
        "train_25_loader = DataLoader(train_25, batch_size=batch_size,shuffle=shuffle)\n",
        "train_25_labels = labels(train_25_loader)"
      ],
      "metadata": {
        "id": "a1KXPHXjAtuA"
      },
      "execution_count": 57,
      "outputs": []
    },
    {
      "cell_type": "markdown",
      "source": [
        "Train and save the model with train_25_file"
      ],
      "metadata": {
        "id": "d_AuMA09EEoJ"
      }
    },
    {
      "cell_type": "code",
      "source": [
        "print('Start')\n",
        "# print(list(model.parameters()))\n",
        "\n",
        "train_method2(loss_function, optimizer, model, train_25_loader,val_loader, num_epochs=epochs)\n",
        "\n",
        "print('End')\n",
        "model_25_file, vectorizer_25_file = save_model2(model, count_vectorizer, MODEL_2_25_DIRECTORY)"
      ],
      "metadata": {
        "colab": {
          "base_uri": "https://localhost:8080/",
          "height": 550
        },
        "id": "TWVFO3jvBFHr",
        "outputId": "0f77f58a-9474-4c01-9362-cc1d0a1325ae"
      },
      "execution_count": 58,
      "outputs": [
        {
          "output_type": "stream",
          "name": "stdout",
          "text": [
            "Start\n",
            "Epoch 1/10, Training Loss: 0.6884, Validation Loss: 0.6844\n",
            "Epoch 2/10, Training Loss: 0.6679, Validation Loss: 0.6717\n",
            "Epoch 3/10, Training Loss: 0.6514, Validation Loss: 0.6606\n",
            "Epoch 4/10, Training Loss: 0.6321, Validation Loss: 0.6516\n",
            "Epoch 5/10, Training Loss: 0.6136, Validation Loss: 0.6430\n",
            "Epoch 6/10, Training Loss: 0.5964, Validation Loss: 0.6347\n",
            "Epoch 7/10, Training Loss: 0.5733, Validation Loss: 0.6276\n",
            "Epoch 8/10, Training Loss: 0.5507, Validation Loss: 0.6200\n",
            "Epoch 9/10, Training Loss: 0.5278, Validation Loss: 0.6121\n",
            "Epoch 10/10, Training Loss: 0.5062, Validation Loss: 0.6049\n"
          ]
        },
        {
          "output_type": "display_data",
          "data": {
            "text/plain": [
              "<Figure size 500x300 with 1 Axes>"
            ],
            "image/png": "[encoded data removed]"
          },
          "metadata": {}
        },
        {
          "output_type": "stream",
          "name": "stdout",
          "text": [
            "End\n",
            "Saved model to  gdrive/MyDrive/./CE807/Assignment2/2209506/models/2/25/model.sav\n",
            "Saved Vectorizer to  gdrive/MyDrive/./CE807/Assignment2/2209506/models/2/25/vectorizer.sav\n"
          ]
        }
      ]
    },
    {
      "cell_type": "markdown",
      "source": [
        "Compute performance metrics of model_25 on val_file"
      ],
      "metadata": {
        "id": "Qign9Vxmrxes"
      }
    },
    {
      "cell_type": "code",
      "source": [
        "val_method2(val_file, model_25_file,vectorizer_25_file)"
      ],
      "metadata": {
        "colab": {
          "base_uri": "https://localhost:8080/",
          "height": 589
        },
        "id": "pMjFAv88r1Q1",
        "outputId": "686313f7-7b3f-41a6-df06-6a8ec19a9173"
      },
      "execution_count": 59,
      "outputs": [
        {
          "output_type": "stream",
          "name": "stdout",
          "text": [
            "Loaded model from  gdrive/MyDrive/./CE807/Assignment2/2209506/models/2/25/model.sav\n",
            "Loaded Vectorizer from  gdrive/MyDrive/./CE807/Assignment2/2209506/models/2/25/vectorizer.sav\n",
            "Computing different preformance metrics on validation  set of Dataset\n",
            "Accuracy:  0.6752966558791802\n",
            "Precision Score(macro:  0.7056145589849995\n",
            "Recall score(macro):  <function recall_score at 0x7f1ea5064280>\n",
            "F1 Score(macro):  0.5573368051426751\n",
            "              precision    recall  f1-score   support\n",
            "\n",
            "           0       0.67      1.00      0.80       619\n",
            "           1       0.77      0.03      0.06       308\n",
            "\n",
            "    accuracy                           0.68       927\n",
            "   macro avg       0.72      0.51      0.43       927\n",
            "weighted avg       0.71      0.68      0.56       927\n",
            "\n"
          ]
        },
        {
          "output_type": "display_data",
          "data": {
            "text/plain": [
              "<Figure size 500x300 with 1 Axes>"
            ],
            "image/png": "[encoded data removed]"
          },
          "metadata": {}
        }
      ]
    },
    {
      "cell_type": "markdown",
      "source": [
        "### 2.10.2: 50% Data Size"
      ],
      "metadata": {
        "id": "GYQqvLxVGV_3"
      }
    },
    {
      "cell_type": "markdown",
      "source": [
        "Prepare 50% training data "
      ],
      "metadata": {
        "id": "qKmVdXHgGdy8"
      }
    },
    {
      "cell_type": "code",
      "source": [
        "train_50, input_size, count_vectorizer = prepare_dataset(train_50_file,sample_flag=True)\n",
        "\n",
        "batch_size = 64\n",
        "shuffle = True\n",
        "\n",
        "# Instantiate a DataLoader\n",
        "train_50_loader = DataLoader(train_50, batch_size=batch_size,shuffle=shuffle) # In training always make shuffle True\n",
        "train_50_labels = labels(train_50_loader)"
      ],
      "metadata": {
        "id": "0M_9JWjhAPv9"
      },
      "execution_count": 60,
      "outputs": []
    },
    {
      "cell_type": "markdown",
      "source": [
        "Train and save the model with train_50_file"
      ],
      "metadata": {
        "id": "brjCZx7pALHN"
      }
    },
    {
      "cell_type": "code",
      "source": [
        "print('Start')\n",
        "# print(list(model.parameters()))\n",
        "\n",
        "train_method2(loss_function, optimizer, model, train_50_loader, val_loader, num_epochs=epochs)\n",
        "\n",
        "print('End')\n",
        "\n",
        "model_50_file, vectorizer_50_file = save_model2(model, count_vectorizer, MODEL_2_50_DIRECTORY)"
      ],
      "metadata": {
        "colab": {
          "base_uri": "https://localhost:8080/",
          "height": 550
        },
        "id": "n_G8QjBiAkdq",
        "outputId": "c7c4172e-53c6-48b2-e92f-bd286e6a8c72"
      },
      "execution_count": 61,
      "outputs": [
        {
          "output_type": "stream",
          "name": "stdout",
          "text": [
            "Start\n",
            "Epoch 1/10, Training Loss: 0.6379, Validation Loss: 0.5968\n",
            "Epoch 2/10, Training Loss: 0.5889, Validation Loss: 0.5903\n",
            "Epoch 3/10, Training Loss: 0.5520, Validation Loss: 0.5841\n",
            "Epoch 4/10, Training Loss: 0.5168, Validation Loss: 0.5772\n",
            "Epoch 5/10, Training Loss: 0.4822, Validation Loss: 0.5719\n",
            "Epoch 6/10, Training Loss: 0.4491, Validation Loss: 0.5673\n",
            "Epoch 7/10, Training Loss: 0.4187, Validation Loss: 0.5625\n",
            "Epoch 8/10, Training Loss: 0.3901, Validation Loss: 0.5561\n",
            "Epoch 9/10, Training Loss: 0.3641, Validation Loss: 0.5539\n",
            "Epoch 10/10, Training Loss: 0.3407, Validation Loss: 0.5490\n"
          ]
        },
        {
          "output_type": "display_data",
          "data": {
            "text/plain": [
              "<Figure size 500x300 with 1 Axes>"
            ],
            "image/png": "[encoded data removed]"
          },
          "metadata": {}
        },
        {
          "output_type": "stream",
          "name": "stdout",
          "text": [
            "End\n",
            "Saved model to  gdrive/MyDrive/./CE807/Assignment2/2209506/models/2/50/model.sav\n",
            "Saved Vectorizer to  gdrive/MyDrive/./CE807/Assignment2/2209506/models/2/50/vectorizer.sav\n"
          ]
        }
      ]
    },
    {
      "cell_type": "markdown",
      "source": [
        "Compute the performance metrics of model_50 on val_file"
      ],
      "metadata": {
        "id": "MUftDfOGreZG"
      }
    },
    {
      "cell_type": "code",
      "source": [
        "val_method2(val_file, model_50_file,vectorizer_50_file)"
      ],
      "metadata": {
        "colab": {
          "base_uri": "https://localhost:8080/",
          "height": 589
        },
        "id": "wu4a05iQrhtL",
        "outputId": "89818007-4e66-4df0-9631-5de939d5f6f4"
      },
      "execution_count": 62,
      "outputs": [
        {
          "output_type": "stream",
          "name": "stdout",
          "text": [
            "Loaded model from  gdrive/MyDrive/./CE807/Assignment2/2209506/models/2/50/model.sav\n",
            "Loaded Vectorizer from  gdrive/MyDrive/./CE807/Assignment2/2209506/models/2/50/vectorizer.sav\n",
            "Computing different preformance metrics on validation  set of Dataset\n",
            "Accuracy:  0.7400215749730313\n",
            "Precision Score(macro:  0.7302511157429641\n",
            "Recall score(macro):  <function recall_score at 0x7f1ea5064280>\n",
            "F1 Score(macro):  0.7193379285598528\n",
            "              precision    recall  f1-score   support\n",
            "\n",
            "           0       0.75      0.90      0.82       619\n",
            "           1       0.68      0.41      0.51       308\n",
            "\n",
            "    accuracy                           0.74       927\n",
            "   macro avg       0.72      0.66      0.67       927\n",
            "weighted avg       0.73      0.74      0.72       927\n",
            "\n"
          ]
        },
        {
          "output_type": "display_data",
          "data": {
            "text/plain": [
              "<Figure size 500x300 with 1 Axes>"
            ],
            "image/png": "[encoded data removed]"
          },
          "metadata": {}
        }
      ]
    },
    {
      "cell_type": "markdown",
      "source": [
        "### 2.10.3: 75% Data Size"
      ],
      "metadata": {
        "id": "1acTlt3GG0vU"
      }
    },
    {
      "cell_type": "markdown",
      "source": [
        "Prepare 75% training data "
      ],
      "metadata": {
        "id": "NmDhdMnoGvQl"
      }
    },
    {
      "cell_type": "code",
      "source": [
        "train_75, input_size, count_vectorizer = prepare_dataset(train_75_file,sample_flag=True)\n",
        "\n",
        "batch_size = 64\n",
        "shuffle = True\n",
        "\n",
        "# Instantiate a DataLoader\n",
        "train_75_loader = DataLoader(train_75, batch_size=batch_size,shuffle=shuffle)"
      ],
      "metadata": {
        "id": "oonNKSRe_m7O"
      },
      "execution_count": 63,
      "outputs": []
    },
    {
      "cell_type": "code",
      "source": [
        "train_75_labels = labels(train_75_loader)"
      ],
      "metadata": {
        "id": "GGAJAechH-5j"
      },
      "execution_count": 64,
      "outputs": []
    },
    {
      "cell_type": "markdown",
      "source": [
        "Train and save the model with train_75_file"
      ],
      "metadata": {
        "id": "HNfWhP74JAbo"
      }
    },
    {
      "cell_type": "code",
      "source": [
        "print('Start')\n",
        "# print(list(model.parameters()))\n",
        "\n",
        "train_method2(loss_function, optimizer, model, train_75_loader,val_loader, num_epochs=epochs)\n",
        "\n",
        "print('End')\n",
        "model_75_file, vectorizer_75_file = save_model2(model, count_vectorizer, MODEL_2_75_DIRECTORY)"
      ],
      "metadata": {
        "id": "TV6kj94p_3n-",
        "colab": {
          "base_uri": "https://localhost:8080/",
          "height": 550
        },
        "outputId": "788979c1-47c6-418c-d432-17aea22e1217"
      },
      "execution_count": 65,
      "outputs": [
        {
          "output_type": "stream",
          "name": "stdout",
          "text": [
            "Start\n",
            "Epoch 1/10, Training Loss: 0.6600, Validation Loss: 0.5311\n",
            "Epoch 2/10, Training Loss: 0.5490, Validation Loss: 0.5278\n",
            "Epoch 3/10, Training Loss: 0.5007, Validation Loss: 0.5251\n",
            "Epoch 4/10, Training Loss: 0.4629, Validation Loss: 0.5257\n",
            "Epoch 5/10, Training Loss: 0.4316, Validation Loss: 0.5252\n",
            "Epoch 6/10, Training Loss: 0.4033, Validation Loss: 0.5250\n",
            "Epoch 7/10, Training Loss: 0.3795, Validation Loss: 0.5265\n",
            "Epoch 8/10, Training Loss: 0.3597, Validation Loss: 0.5248\n",
            "Epoch 9/10, Training Loss: 0.3357, Validation Loss: 0.5272\n",
            "Epoch 10/10, Training Loss: 0.3178, Validation Loss: 0.5291\n"
          ]
        },
        {
          "output_type": "display_data",
          "data": {
            "text/plain": [
              "<Figure size 500x300 with 1 Axes>"
            ],
            "image/png": "[encoded data removed]"
          },
          "metadata": {}
        },
        {
          "output_type": "stream",
          "name": "stdout",
          "text": [
            "End\n",
            "Saved model to  gdrive/MyDrive/./CE807/Assignment2/2209506/models/2/75/model.sav\n",
            "Saved Vectorizer to  gdrive/MyDrive/./CE807/Assignment2/2209506/models/2/75/vectorizer.sav\n"
          ]
        }
      ]
    },
    {
      "cell_type": "markdown",
      "source": [
        "Compute the performance metrics of model_75 on val_file "
      ],
      "metadata": {
        "id": "bGx_nAx_qlZk"
      }
    },
    {
      "cell_type": "code",
      "source": [
        "val_method2(val_file, model_75_file,vectorizer_75_file)"
      ],
      "metadata": {
        "colab": {
          "base_uri": "https://localhost:8080/",
          "height": 589
        },
        "id": "TXoDjc3GquCa",
        "outputId": "7137e084-4dc4-4ae5-da9c-ad2bf43681d3"
      },
      "execution_count": 66,
      "outputs": [
        {
          "output_type": "stream",
          "name": "stdout",
          "text": [
            "Loaded model from  gdrive/MyDrive/./CE807/Assignment2/2209506/models/2/75/model.sav\n",
            "Loaded Vectorizer from  gdrive/MyDrive/./CE807/Assignment2/2209506/models/2/75/vectorizer.sav\n",
            "Computing different preformance metrics on validation  set of Dataset\n",
            "Accuracy:  0.7443365695792881\n",
            "Precision Score(macro:  0.7341188786225369\n",
            "Recall score(macro):  <function recall_score at 0x7f1ea5064280>\n",
            "F1 Score(macro):  0.7289089331506147\n",
            "              precision    recall  f1-score   support\n",
            "\n",
            "           0       0.77      0.89      0.82       619\n",
            "           1       0.67      0.45      0.54       308\n",
            "\n",
            "    accuracy                           0.74       927\n",
            "   macro avg       0.72      0.67      0.68       927\n",
            "weighted avg       0.73      0.74      0.73       927\n",
            "\n"
          ]
        },
        {
          "output_type": "display_data",
          "data": {
            "text/plain": [
              "<Figure size 500x300 with 1 Axes>"
            ],
            "image/png": "[encoded data removed]"
          },
          "metadata": {}
        }
      ]
    },
    {
      "cell_type": "markdown",
      "source": [
        "### 2.10.4: 100% Data Size"
      ],
      "metadata": {
        "id": "HJwQ9DEv-5iu"
      }
    },
    {
      "cell_type": "markdown",
      "source": [
        "Prepare 100% training data"
      ],
      "metadata": {
        "id": "agoEafIdHVoa"
      }
    },
    {
      "cell_type": "code",
      "source": [
        "train_dataset, input_size, count_vectorizer = prepare_dataset(train_100_file,sample_flag=True)\n",
        "\n",
        "batch_size = 64\n",
        "shuffle = True\n",
        "\n",
        "# Instantiate a DataLoader\n",
        "train_loader = DataLoader(train_dataset, batch_size=batch_size,shuffle=shuffle) # In training always make shuffle True"
      ],
      "metadata": {
        "id": "Ic4q_qOYHXNL"
      },
      "execution_count": 67,
      "outputs": []
    },
    {
      "cell_type": "code",
      "source": [
        "train_100_labels = labels(train_loader)"
      ],
      "metadata": {
        "id": "Sn_v1IzzFuM6"
      },
      "execution_count": 68,
      "outputs": []
    },
    {
      "cell_type": "markdown",
      "source": [
        "Train and save the model with train_100_file"
      ],
      "metadata": {
        "id": "-ESgqE8jHVSV"
      }
    },
    {
      "cell_type": "code",
      "source": [
        "print('Start')\n",
        "# print(list(model.parameters()))\n",
        "\n",
        "train_method2(loss_function, optimizer, model, train_loader,val_loader, num_epochs=epochs)\n",
        "\n",
        "print('End')\n",
        "model_100_file, vectorizer_100_file = save_model2(model, count_vectorizer, MODEL_2_100_DIRECTORY)"
      ],
      "metadata": {
        "colab": {
          "base_uri": "https://localhost:8080/",
          "height": 550
        },
        "id": "5rFTUrWz-8sU",
        "outputId": "37602a42-2eb0-4d02-adca-57a891a24301"
      },
      "execution_count": 69,
      "outputs": [
        {
          "output_type": "stream",
          "name": "stdout",
          "text": [
            "Start\n",
            "Epoch 1/10, Training Loss: 0.6530, Validation Loss: 0.4483\n",
            "Epoch 2/10, Training Loss: 0.5292, Validation Loss: 0.4350\n",
            "Epoch 3/10, Training Loss: 0.4788, Validation Loss: 0.4284\n",
            "Epoch 4/10, Training Loss: 0.4430, Validation Loss: 0.4246\n",
            "Epoch 5/10, Training Loss: 0.4136, Validation Loss: 0.4224\n",
            "Epoch 6/10, Training Loss: 0.3887, Validation Loss: 0.4210\n",
            "Epoch 7/10, Training Loss: 0.3658, Validation Loss: 0.4174\n",
            "Epoch 8/10, Training Loss: 0.3450, Validation Loss: 0.4194\n",
            "Epoch 9/10, Training Loss: 0.3258, Validation Loss: 0.4218\n",
            "Epoch 10/10, Training Loss: 0.3080, Validation Loss: 0.4201\n"
          ]
        },
        {
          "output_type": "display_data",
          "data": {
            "text/plain": [
              "<Figure size 500x300 with 1 Axes>"
            ],
            "image/png": "[encoded data removed]"
          },
          "metadata": {}
        },
        {
          "output_type": "stream",
          "name": "stdout",
          "text": [
            "End\n",
            "Saved model to  gdrive/MyDrive/./CE807/Assignment2/2209506/models/2/100/model.sav\n",
            "Saved Vectorizer to  gdrive/MyDrive/./CE807/Assignment2/2209506/models/2/100/vectorizer.sav\n"
          ]
        }
      ]
    },
    {
      "cell_type": "markdown",
      "source": [
        "Compute the performance metrics for model_100_file on val_file"
      ],
      "metadata": {
        "id": "ENByNMIHqGH5"
      }
    },
    {
      "cell_type": "code",
      "source": [
        "val_method2(val_file, model_100_file,vectorizer_100_file)"
      ],
      "metadata": {
        "colab": {
          "base_uri": "https://localhost:8080/",
          "height": 589
        },
        "id": "PH47EyKwqKEc",
        "outputId": "5876c2ed-8f07-41d4-9a48-7e85184b1205"
      },
      "execution_count": 70,
      "outputs": [
        {
          "output_type": "stream",
          "name": "stdout",
          "text": [
            "Loaded model from  gdrive/MyDrive/./CE807/Assignment2/2209506/models/2/100/model.sav\n",
            "Loaded Vectorizer from  gdrive/MyDrive/./CE807/Assignment2/2209506/models/2/100/vectorizer.sav\n",
            "Computing different preformance metrics on validation  set of Dataset\n",
            "Accuracy:  0.7993527508090615\n",
            "Precision Score(macro:  0.7950933751698038\n",
            "Recall score(macro):  <function recall_score at 0x7f1ea5064280>\n",
            "F1 Score(macro):  0.7915885942311409\n",
            "              precision    recall  f1-score   support\n",
            "\n",
            "           0       0.81      0.91      0.86       619\n",
            "           1       0.76      0.58      0.66       308\n",
            "\n",
            "    accuracy                           0.80       927\n",
            "   macro avg       0.79      0.74      0.76       927\n",
            "weighted avg       0.80      0.80      0.79       927\n",
            "\n"
          ]
        },
        {
          "output_type": "display_data",
          "data": {
            "text/plain": [
              "<Figure size 500x300 with 1 Axes>"
            ],
            "image/png": "[encoded data removed]"
          },
          "metadata": {}
        }
      ]
    },
    {
      "cell_type": "markdown",
      "source": [
        "### 2.11: Predictions\n",
        "\n",
        "Let's see how well our model is making predictions. We can start by creating our test data."
      ],
      "metadata": {
        "id": "NurPX45wCnZE"
      }
    },
    {
      "cell_type": "markdown",
      "source": [
        "Prepare the test data"
      ],
      "metadata": {
        "id": "_ihQFvhoJQyz"
      }
    },
    {
      "cell_type": "code",
      "source": [
        "# Load test Data\n",
        "test_dataset, c , _ = prepare_dataset(test_file,sample_flag=True,count_vectorizer=count_vectorizer)\n",
        "\n",
        "# Instantiate a DataLoader\n",
        "# in practice you need to keep shuffle false at the testing time, so that you could easily match data with predicted label\n",
        "test_loader = DataLoader(test_dataset, batch_size=860,shuffle=False) "
      ],
      "metadata": {
        "id": "4l2PsHtD9RIm"
      },
      "execution_count": 71,
      "outputs": []
    },
    {
      "cell_type": "markdown",
      "source": [
        "Function to test the model"
      ],
      "metadata": {
        "id": "snLDmb4h96UK"
      }
    },
    {
      "cell_type": "code",
      "source": [
        "def test_method2(test_file, model_file, vectorizer_file, output_dir):\n",
        "   \n",
        "    test_df = pd.read_csv(test_file)\n",
        "    #apply clean_tweet function to the tweet function\n",
        "    test_df['tweet']=test_df.apply(clean_tweet, axis = 1)\n",
        "    #apply stemming function to the tweet function\n",
        "    test_df['tweet'] = test_df['tweet'].apply(stemming)\n",
        "    \n",
        "    test_label = test_df['label']\n",
        "    test_label = test_label.replace({'NOT':0,'OFF':1})\n",
        "\n",
        "    model, vectorizer = load_model2(model_file, vectorizer_file) \n",
        "\n",
        "    test_dataset, c , _ = prepare_dataset(test_file,sample_flag=True,count_vectorizer=count_vectorizer)\n",
        "    test_loader = DataLoader(test_dataset, batch_size=860,shuffle=False)\n",
        "    test_labels = labels(test_loader)\n",
        "    predictions=[]\n",
        "    for inputs, _ in test_loader:\n",
        "      outputs = model(inputs.cuda())\n",
        "      _, batch_preds = torch.max(outputs, dim=1)\n",
        "      predictions.extend(batch_preds.tolist())\n",
        "    \n",
        "    test_df['out_label']  = predictions \n",
        "    test_df['out_label'] = test_df['out_label'].replace({0:'NOT',1:'OFF'})\n",
        "    test_metrics = compute_performance(test_labels[0], predictions)\n",
        "\n",
        "    out_file = os.path.join(output_dir, 'output_test.csv')\n",
        "\n",
        "    print('Saving model output to', out_file)\n",
        "    test_df.to_csv(out_file)\n",
        "\n",
        "    "
      ],
      "metadata": {
        "id": "eeVOy1um_Ja9"
      },
      "execution_count": 72,
      "outputs": []
    },
    {
      "cell_type": "markdown",
      "source": [
        "### 2.11.1: Test train_25_file model on test data"
      ],
      "metadata": {
        "id": "YfIyiN_eKJrv"
      }
    },
    {
      "cell_type": "code",
      "source": [
        "test_method2(test_file,model_25_file,vectorizer_25_file,MODEL_2_25_DIRECTORY)"
      ],
      "metadata": {
        "colab": {
          "base_uri": "https://localhost:8080/",
          "height": 606
        },
        "id": "_9zq14TGKAeQ",
        "outputId": "481bed42-3eeb-4936-b4c6-87cf25c0cf1a"
      },
      "execution_count": 73,
      "outputs": [
        {
          "output_type": "stream",
          "name": "stdout",
          "text": [
            "Loaded model from  gdrive/MyDrive/./CE807/Assignment2/2209506/models/2/25/model.sav\n",
            "Loaded Vectorizer from  gdrive/MyDrive/./CE807/Assignment2/2209506/models/2/25/vectorizer.sav\n",
            "Computing different preformance metrics on test  set of Dataset\n",
            "Accuracy:  0.7209302325581395\n",
            "Precision Score(macro:  0.519740400216333\n",
            "Recall score(macro):  <function recall_score at 0x7f1ea5064280>\n",
            "F1 Score(macro):  0.6040226272784412\n",
            "              precision    recall  f1-score   support\n",
            "\n",
            "           0       0.72      1.00      0.84       620\n",
            "           1       0.00      0.00      0.00       240\n",
            "\n",
            "    accuracy                           0.72       860\n",
            "   macro avg       0.36      0.50      0.42       860\n",
            "weighted avg       0.52      0.72      0.60       860\n",
            "\n"
          ]
        },
        {
          "output_type": "display_data",
          "data": {
            "text/plain": [
              "<Figure size 500x300 with 1 Axes>"
            ],
            "image/png": "[encoded data removed]"
          },
          "metadata": {}
        },
        {
          "output_type": "stream",
          "name": "stdout",
          "text": [
            "Saving model output to gdrive/MyDrive/./CE807/Assignment2/2209506/models/2/25/output_test.csv\n"
          ]
        }
      ]
    },
    {
      "cell_type": "markdown",
      "source": [
        "### 2.11.2: Test train_50_file model on test data"
      ],
      "metadata": {
        "id": "c5W4tDqmJ4YG"
      }
    },
    {
      "cell_type": "code",
      "source": [
        "test_method2(test_file,model_50_file,vectorizer_50_file,MODEL_2_50_DIRECTORY)"
      ],
      "metadata": {
        "colab": {
          "base_uri": "https://localhost:8080/",
          "height": 606
        },
        "id": "_ZAWfjYCJzXt",
        "outputId": "1984411d-caf1-46b4-bd73-86fda5d45049"
      },
      "execution_count": 74,
      "outputs": [
        {
          "output_type": "stream",
          "name": "stdout",
          "text": [
            "Loaded model from  gdrive/MyDrive/./CE807/Assignment2/2209506/models/2/50/model.sav\n",
            "Loaded Vectorizer from  gdrive/MyDrive/./CE807/Assignment2/2209506/models/2/50/vectorizer.sav\n",
            "Computing different preformance metrics on test  set of Dataset\n",
            "Accuracy:  0.7034883720930233\n",
            "Precision Score(macro:  0.6149236695676986\n",
            "Recall score(macro):  <function recall_score at 0x7f1ea5064280>\n",
            "F1 Score(macro):  0.6221964440312353\n",
            "              precision    recall  f1-score   support\n",
            "\n",
            "           0       0.72      0.95      0.82       620\n",
            "           1       0.33      0.06      0.11       240\n",
            "\n",
            "    accuracy                           0.70       860\n",
            "   macro avg       0.53      0.51      0.46       860\n",
            "weighted avg       0.61      0.70      0.62       860\n",
            "\n"
          ]
        },
        {
          "output_type": "display_data",
          "data": {
            "text/plain": [
              "<Figure size 500x300 with 1 Axes>"
            ],
            "image/png": "[encoded data removed]"
          },
          "metadata": {}
        },
        {
          "output_type": "stream",
          "name": "stdout",
          "text": [
            "Saving model output to gdrive/MyDrive/./CE807/Assignment2/2209506/models/2/50/output_test.csv\n"
          ]
        }
      ]
    },
    {
      "cell_type": "markdown",
      "source": [
        "### 2.11.3: Test train_75_file model on test data"
      ],
      "metadata": {
        "id": "hcm043wLJYJt"
      }
    },
    {
      "cell_type": "code",
      "source": [
        "test_method2(test_file,model_75_file,vectorizer_75_file,MODEL_2_75_DIRECTORY)"
      ],
      "metadata": {
        "id": "jNFS2-D1JQdp",
        "colab": {
          "base_uri": "https://localhost:8080/",
          "height": 606
        },
        "outputId": "5ddc6640-c1a0-447b-ccae-fe768b9226e5"
      },
      "execution_count": 75,
      "outputs": [
        {
          "output_type": "stream",
          "name": "stdout",
          "text": [
            "Loaded model from  gdrive/MyDrive/./CE807/Assignment2/2209506/models/2/75/model.sav\n",
            "Loaded Vectorizer from  gdrive/MyDrive/./CE807/Assignment2/2209506/models/2/75/vectorizer.sav\n",
            "Computing different preformance metrics on test  set of Dataset\n",
            "Accuracy:  0.7011627906976744\n",
            "Precision Score(macro:  0.6460748314013488\n",
            "Recall score(macro):  <function recall_score at 0x7f1ea5064280>\n",
            "F1 Score(macro):  0.6521321693104455\n",
            "              precision    recall  f1-score   support\n",
            "\n",
            "           0       0.74      0.91      0.81       620\n",
            "           1       0.41      0.16      0.23       240\n",
            "\n",
            "    accuracy                           0.70       860\n",
            "   macro avg       0.57      0.54      0.52       860\n",
            "weighted avg       0.65      0.70      0.65       860\n",
            "\n"
          ]
        },
        {
          "output_type": "display_data",
          "data": {
            "text/plain": [
              "<Figure size 500x300 with 1 Axes>"
            ],
            "image/png": "[encoded data removed]"
          },
          "metadata": {}
        },
        {
          "output_type": "stream",
          "name": "stdout",
          "text": [
            "Saving model output to gdrive/MyDrive/./CE807/Assignment2/2209506/models/2/75/output_test.csv\n"
          ]
        }
      ]
    },
    {
      "cell_type": "markdown",
      "source": [
        "### 2.11.4: Test train_100_file model on test data"
      ],
      "metadata": {
        "id": "i1VnDkcr91I5"
      }
    },
    {
      "cell_type": "code",
      "source": [
        "test_method2(test_file,model_100_file,vectorizer_100_file,MODEL_2_100_DIRECTORY)"
      ],
      "metadata": {
        "colab": {
          "base_uri": "https://localhost:8080/",
          "height": 606
        },
        "id": "IRM9Dscn950G",
        "outputId": "dbdb6c3f-f3b1-49af-8d93-9c74e2464aad"
      },
      "execution_count": 76,
      "outputs": [
        {
          "output_type": "stream",
          "name": "stdout",
          "text": [
            "Loaded model from  gdrive/MyDrive/./CE807/Assignment2/2209506/models/2/100/model.sav\n",
            "Loaded Vectorizer from  gdrive/MyDrive/./CE807/Assignment2/2209506/models/2/100/vectorizer.sav\n",
            "Computing different preformance metrics on test  set of Dataset\n",
            "Accuracy:  0.791860465116279\n",
            "Precision Score(macro:  0.7804942030710489\n",
            "Recall score(macro):  <function recall_score at 0x7f1ea5064280>\n",
            "F1 Score(macro):  0.7798746232648397\n",
            "              precision    recall  f1-score   support\n",
            "\n",
            "           0       0.82      0.91      0.86       620\n",
            "           1       0.68      0.48      0.56       240\n",
            "\n",
            "    accuracy                           0.79       860\n",
            "   macro avg       0.75      0.70      0.71       860\n",
            "weighted avg       0.78      0.79      0.78       860\n",
            "\n"
          ]
        },
        {
          "output_type": "display_data",
          "data": {
            "text/plain": [
              "<Figure size 500x300 with 1 Axes>"
            ],
            "image/png": "[encoded data removed]"
          },
          "metadata": {}
        },
        {
          "output_type": "stream",
          "name": "stdout",
          "text": [
            "Saving model output to gdrive/MyDrive/./CE807/Assignment2/2209506/models/2/100/output_test.csv\n"
          ]
        }
      ]
    },
    {
      "cell_type": "code",
      "source": [],
      "metadata": {
        "id": "_gWGN1dFJjzx"
      },
      "execution_count": 76,
      "outputs": []
    }
  ]
}
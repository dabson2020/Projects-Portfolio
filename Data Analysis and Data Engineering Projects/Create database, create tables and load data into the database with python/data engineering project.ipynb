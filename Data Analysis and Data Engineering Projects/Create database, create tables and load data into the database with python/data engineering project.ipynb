{
 "cells": [
  {
   "cell_type": "markdown",
   "metadata": {},
   "source": [
    "Data Engineering Project\n",
    "- In this project, the following functions were created:\n",
    " - create the database\n",
    " - drop tables\n",
    " - create tables\n",
    " - Read data from multiple files\n",
    " - Data cleaning\n",
    " The cleaned data is inserted into the tables created in the database\n",
    "\n",
    " - Postgres database was utilized to warehouse the clean data"
   ]
  },
  {
   "cell_type": "markdown",
   "metadata": {},
   "source": [
    "Pip Install the libraries if you dont have them previously installed"
   ]
  },
  {
   "cell_type": "code",
   "execution_count": 1,
   "metadata": {},
   "outputs": [],
   "source": [
    "import psycopg2 as pg\n",
    "import pandas as pd\n",
    "import os\n",
    "import glob\n",
    "import warnings\n",
    "warnings.filterwarnings('ignore')"
   ]
  },
  {
   "cell_type": "markdown",
   "metadata": {},
   "source": [
    "Create a function to connect to the database"
   ]
  },
  {
   "cell_type": "code",
   "execution_count": 2,
   "metadata": {},
   "outputs": [],
   "source": [
    "def create_database():\n",
    "    # connect to default database\n",
    "    conn = pg.connect(host = '127.0.0.1', dbname='postgres', user='postgres', password='your_password')\n",
    "    conn.set_session(autocommit=True)\n",
    "    cur = conn.cursor()\n",
    "\n",
    "    # create sparkify database with UTF8 encoding\n",
    "    cur.execute('DROP DATABASE IF EXISTS accounts')\n",
    "    cur.execute('CREATE DATABASE accounts')\n",
    "\n",
    "    # Close connection to default database\n",
    "    conn.close()\n",
    "\n",
    "    # connect to sparkify database\n",
    "    conn = pg.connect(host = '127.0.0.1', dbname='accounts', user='postgres',   password='your_password')\n",
    "    cur = conn.cursor()\n",
    "\n",
    "    return cur, conn"
   ]
  },
  {
   "cell_type": "markdown",
   "metadata": {},
   "source": [
    "Function to drop tables"
   ]
  },
  {
   "cell_type": "code",
   "execution_count": 3,
   "metadata": {},
   "outputs": [],
   "source": [
    "def drop_tables(cur, conn):\n",
    "    for query in drop_table_queries:\n",
    "        cur.execute(query)\n",
    "        conn.commit()   "
   ]
  },
  {
   "cell_type": "code",
   "execution_count": 4,
   "metadata": {},
   "outputs": [],
   "source": [
    "def create_tables(cur, conn):\n",
    "    for query in create_table_queries:\n",
    "        cur.execute(query)\n",
    "        conn.commit()"
   ]
  },
  {
   "cell_type": "markdown",
   "metadata": {},
   "source": [
    "Read all the csv files"
   ]
  },
  {
   "cell_type": "code",
   "execution_count": 5,
   "metadata": {},
   "outputs": [],
   "source": [
    "def get_files(folder_path):\n",
    "    #list all files in the folder\n",
    "    file_list = os.listdir(folder_path)\n",
    "    dataframes = []\n",
    "    for file in file_list:\n",
    "        if file.endswith('.csv'):\n",
    "            file_path = os.path.join(folder_path, file)\n",
    "            df = pd.read_csv(file_path)\n",
    "            dataframes.append((file,df))\n",
    "    return dataframes\n",
    "\n",
    "folder_path = 'your_folder_path_for_the_data'\n",
    "dataframes = get_files(folder_path)\n"
   ]
  },
  {
   "cell_type": "markdown",
   "metadata": {},
   "source": [
    "Data Cleaning\n",
    "- For AccountCountry:\n",
    "    - Select only the following features:\n",
    "        - Country Code, Short Name, Table Name, Long Name, Currency Unit\n",
    "- For AccountData:\n",
    "    - Rename the columns and remove unwanted columns\n",
    "    - Convert the values into billions\n",
    "- For AccountSeries:\n",
    "    - Select only the following columns:\n",
    "        - 'Series Code, Topic, Indicator Name, Short Definition"
   ]
  },
  {
   "cell_type": "code",
   "execution_count": 6,
   "metadata": {},
   "outputs": [],
   "source": [
    "def data_cleaning():\n",
    "    acct_country = dataframes[1][1]\n",
    "    acct_country = acct_country[['Code', 'Short Name', 'Table Name', 'Long Name', 'Currency Unit']]\n",
    "    acct_country.rename(columns = {'Code':'country_code','Short Name':'short_name','Table Name':'table_name','Long Name':'long_name','Currency Unit':'currency_unit'}, inplace = True) \n",
    "    acct_country = acct_country.dropna()\n",
    "\n",
    "    # clear the acc_data data\n",
    "    acc_data = dataframes[0][1]\n",
    "    # rename the columns to lower case\n",
    "    acc_data.rename(columns = {'Country Name':'country_name','Country Code':'country_code','Series Name':'series_name','Series Code':'series_code'}, inplace = True)\n",
    "    # clean the acc_data columns by removing the [YRxxxx] suffix from each column name and add 'year_' to the beginning of year columns\n",
    "    acc_data.columns = [column.split(' [')[0] for column in acc_data.columns]\n",
    "    acc_data.columns = ['year_' + column if column.isdigit() else column for column in acc_data.columns]\n",
    "    #Remove the rows that contains unwanted character\n",
    "    acc_data = acc_data[(acc_data != '..').all(axis=1)]\n",
    "    acc_data = acc_data.dropna()\n",
    "    \n",
    "    \n",
    "    #clean the acc_series data\n",
    "    acc_series = dataframes[2][1][['Code', 'Topic', 'Indicator Name']]\n",
    "    acc_series.rename(columns = {'Code':'series_code','Topic':'topic','Indicator Name':'indicator_name'}, inplace = True)\n",
    "    acc_series = acc_series.dropna()\n",
    "    \n",
    "    return acc_data, acct_country, acc_series"
   ]
  },
  {
   "cell_type": "code",
   "execution_count": 7,
   "metadata": {},
   "outputs": [],
   "source": [
    "acc_data, acct_country, acc_series = data_cleaning()"
   ]
  },
  {
   "cell_type": "code",
   "execution_count": 8,
   "metadata": {},
   "outputs": [
    {
     "data": {
      "text/plain": [
       "Index(['country_name', 'country_code', 'series_name', 'series_code',\n",
       "       'year_1995', 'year_1996', 'year_1997', 'year_1998', 'year_1999',\n",
       "       'year_2000', 'year_2001', 'year_2002', 'year_2003', 'year_2004',\n",
       "       'year_2005', 'year_2006', 'year_2007', 'year_2008', 'year_2009',\n",
       "       'year_2010', 'year_2011', 'year_2012', 'year_2013', 'year_2014',\n",
       "       'year_2015', 'year_2016', 'year_2017', 'year_2018'],\n",
       "      dtype='object')"
      ]
     },
     "execution_count": 8,
     "metadata": {},
     "output_type": "execute_result"
    }
   ],
   "source": [
    "acc_data.columns"
   ]
  },
  {
   "cell_type": "markdown",
   "metadata": {},
   "source": [
    "Call the function to create database 'accounts'"
   ]
  },
  {
   "cell_type": "code",
   "execution_count": 10,
   "metadata": {},
   "outputs": [],
   "source": [
    "cur,conn = create_database()"
   ]
  },
  {
   "cell_type": "markdown",
   "metadata": {},
   "source": [
    "Creating the tables in the database to store these data"
   ]
  },
  {
   "cell_type": "code",
   "execution_count": 20,
   "metadata": {},
   "outputs": [],
   "source": [
    "acc_data_create = (\"\"\"CREATE TABLE IF NOT EXISTS acc_data (\n",
    "                        country_name VARCHAR,\n",
    "                        country_code VARCHAR,\n",
    "                        series_name VARCHAR,\n",
    "                        series_code VARCHAR,\n",
    "                        year_1995 FLOAT,\n",
    "                        year_1996 FLOAT,\n",
    "                        year_1997 FLOAT,\n",
    "                        year_1998 FLOAT,\n",
    "                        year_1999 FLOAT,\n",
    "                        year_2000 FLOAT,\n",
    "                        year_2001 FLOAT,\n",
    "                        year_2002 FLOAT,\n",
    "                        year_2003 FLOAT,\n",
    "                        year_2004 FLOAT,\n",
    "                        year_2005 FLOAT,\n",
    "                        year_2006 FLOAT,\n",
    "                        year_2007 FLOAT,\n",
    "                        year_2008 FLOAT,\n",
    "                        year_2009 FLOAT,\n",
    "                        year_2010 FLOAT,\n",
    "                        year_2011 FLOAT,\n",
    "                        year_2012 FLOAT,\n",
    "                        year_2013 FLOAT,\n",
    "                        year_2014 FLOAT,\n",
    "                        year_2015 FLOAT,\n",
    "                        year_2016 FLOAT,\n",
    "                        year_2017 FLOAT,\n",
    "                        year_2018 FLOAT\n",
    "                    )\"\"\")"
   ]
  },
  {
   "cell_type": "code",
   "execution_count": 21,
   "metadata": {},
   "outputs": [],
   "source": [
    "cur.execute(acc_data_create)\n",
    "conn.commit()"
   ]
  },
  {
   "cell_type": "markdown",
   "metadata": {},
   "source": [
    "Create the acc_series and acc_country tables in the database"
   ]
  },
  {
   "cell_type": "code",
   "execution_count": 13,
   "metadata": {},
   "outputs": [],
   "source": [
    "acc_country_create = (\"\"\"CREATE TABLE IF NOT EXISTS acc_country (\n",
    "                            country_code VARCHAR PRIMARY KEY,\n",
    "                            short_name VARCHAR,\n",
    "                            table_name VARCHAR,\n",
    "                            long_name VARCHAR,\n",
    "                            currency_unit VARCHAR\n",
    "                        )\"\"\")"
   ]
  },
  {
   "cell_type": "code",
   "execution_count": 14,
   "metadata": {},
   "outputs": [],
   "source": [
    "cur.execute(acc_country_create)\n",
    "conn.commit()"
   ]
  },
  {
   "cell_type": "code",
   "execution_count": 15,
   "metadata": {},
   "outputs": [],
   "source": [
    "acc_series_create = (\"\"\"CREATE TABLE IF NOT EXISTS acc_series ( \n",
    "                            series_code VARCHAR PRIMARY KEY,\n",
    "                            topic VARCHAR,\n",
    "                            indicator_name VARCHAR\n",
    "                        )\"\"\")"
   ]
  },
  {
   "cell_type": "code",
   "execution_count": 16,
   "metadata": {},
   "outputs": [],
   "source": [
    "cur.execute(acc_series_create)\n",
    "conn.commit()"
   ]
  },
  {
   "cell_type": "markdown",
   "metadata": {},
   "source": [
    "Write data to database"
   ]
  },
  {
   "cell_type": "code",
   "execution_count": 17,
   "metadata": {},
   "outputs": [],
   "source": [
    "acc_country_insert = (\"\"\"INSERT INTO acc_country (\n",
    "                      country_code, short_name, table_name, long_name, currency_unit) \n",
    "                      VALUES (%s, %s, %s, %s, %s)\"\"\")\n",
    "\n",
    "for i, row in acct_country.iterrows():\n",
    "    cur.execute(acc_country_insert, row)\n",
    "    conn.commit()"
   ]
  },
  {
   "cell_type": "code",
   "execution_count": 22,
   "metadata": {},
   "outputs": [],
   "source": [
    "acc_data_insert = (\"\"\"INSERT INTO acc_data (\n",
    "                        country_name, country_code, series_name, series_code, year_1995, year_1996, year_1997, year_1998, year_1999, year_2000, year_2001, year_2002, year_2003, year_2004, year_2005, year_2006, year_2007, year_2008, year_2009, year_2010, year_2011, year_2012, year_2013, year_2014, year_2015, year_2016, year_2017, year_2018) \n",
    "                        VALUES (%s,%s, %s, %s, %s, %s,%s, %s, %s, %s, %s,%s, %s, %s, %s, %s,%s, %s, %s, %s, %s,%s, %s, %s, %s, %s,%s, %s)\"\"\")\n",
    "for i, row in acc_data.iterrows():\n",
    "    cur.execute(acc_data_insert, row)\n",
    "    conn.commit()"
   ]
  },
  {
   "cell_type": "code",
   "execution_count": 19,
   "metadata": {},
   "outputs": [],
   "source": [
    "acc_series_insert = (\"\"\"INSERT INTO acc_series (\n",
    "                        series_code, topic, indicator_name) \n",
    "                        VALUES (%s, %s, %s)\"\"\")\n",
    "for i, row in acc_series.iterrows():\n",
    "    cur.execute(acc_series_insert, row)\n",
    "    conn.commit()"
   ]
  },
  {
   "cell_type": "code",
   "execution_count": null,
   "metadata": {},
   "outputs": [],
   "source": []
  }
 ],
 "metadata": {
  "kernelspec": {
   "display_name": "Python 3",
   "language": "python",
   "name": "python3"
  },
  "language_info": {
   "codemirror_mode": {
    "name": "ipython",
    "version": 3
   },
   "file_extension": ".py",
   "mimetype": "text/x-python",
   "name": "python",
   "nbconvert_exporter": "python",
   "pygments_lexer": "ipython3",
   "version": "3.10.11"
  }
 },
 "nbformat": 4,
 "nbformat_minor": 2
}

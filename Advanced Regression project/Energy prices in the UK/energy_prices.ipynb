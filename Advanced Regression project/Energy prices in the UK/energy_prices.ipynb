{
 "cells": [
  {
   "attachments": {},
   "cell_type": "markdown",
   "id": "df423503",
   "metadata": {},
   "source": [
    "### Predicting the energy prices in the United Kingdom.\n"
   ]
  },
  {
   "attachments": {},
   "cell_type": "markdown",
   "id": "b54c9923",
   "metadata": {},
   "source": [
    "# Import the required module and read the data"
   ]
  },
  {
   "cell_type": "code",
   "execution_count": 1,
   "id": "897c0923",
   "metadata": {},
   "outputs": [],
   "source": [
    "import pandas as pd\n",
    "import numpy as np\n",
    "import warnings\n",
    "warnings.filterwarnings('ignore')\n",
    "# To scale the data using z-score \n",
    "from sklearn.preprocessing import StandardScaler\n"
   ]
  },
  {
   "cell_type": "code",
   "execution_count": 2,
   "id": "ebc70efd",
   "metadata": {},
   "outputs": [],
   "source": [
    "data = pd.read_csv('CE802_P3_Data.csv')\n",
    "test_df = pd.read_csv('CE802_P3_Test.csv')"
   ]
  },
  {
   "attachments": {},
   "cell_type": "markdown",
   "id": "4ca96af6",
   "metadata": {},
   "source": [
    "#### Print the first 5 rows of the data"
   ]
  },
  {
   "cell_type": "code",
   "execution_count": 3,
   "id": "63b68b15",
   "metadata": {},
   "outputs": [
    {
     "data": {
      "text/html": [
       "<div>\n",
       "<style scoped>\n",
       "    .dataframe tbody tr th:only-of-type {\n",
       "        vertical-align: middle;\n",
       "    }\n",
       "\n",
       "    .dataframe tbody tr th {\n",
       "        vertical-align: top;\n",
       "    }\n",
       "\n",
       "    .dataframe thead th {\n",
       "        text-align: right;\n",
       "    }\n",
       "</style>\n",
       "<table border=\"1\" class=\"dataframe\">\n",
       "  <thead>\n",
       "    <tr style=\"text-align: right;\">\n",
       "      <th></th>\n",
       "      <th>F1</th>\n",
       "      <th>F2</th>\n",
       "      <th>F3</th>\n",
       "      <th>F4</th>\n",
       "      <th>F5</th>\n",
       "      <th>F6</th>\n",
       "      <th>F7</th>\n",
       "      <th>F8</th>\n",
       "      <th>F9</th>\n",
       "      <th>F10</th>\n",
       "      <th>...</th>\n",
       "      <th>F28</th>\n",
       "      <th>F29</th>\n",
       "      <th>F30</th>\n",
       "      <th>F31</th>\n",
       "      <th>F32</th>\n",
       "      <th>F33</th>\n",
       "      <th>F34</th>\n",
       "      <th>F35</th>\n",
       "      <th>F36</th>\n",
       "      <th>Target</th>\n",
       "    </tr>\n",
       "  </thead>\n",
       "  <tbody>\n",
       "    <tr>\n",
       "      <th>0</th>\n",
       "      <td>-190.11</td>\n",
       "      <td>193.53</td>\n",
       "      <td>2.32</td>\n",
       "      <td>-21.84</td>\n",
       "      <td>11289.72</td>\n",
       "      <td>UK</td>\n",
       "      <td>5730.72</td>\n",
       "      <td>638.55</td>\n",
       "      <td>Very high</td>\n",
       "      <td>467.97</td>\n",
       "      <td>...</td>\n",
       "      <td>174.81</td>\n",
       "      <td>23994.54</td>\n",
       "      <td>261.69</td>\n",
       "      <td>5</td>\n",
       "      <td>-177.15</td>\n",
       "      <td>17.60</td>\n",
       "      <td>-1437.20</td>\n",
       "      <td>4</td>\n",
       "      <td>178.20</td>\n",
       "      <td>1306.29</td>\n",
       "    </tr>\n",
       "    <tr>\n",
       "      <th>1</th>\n",
       "      <td>-257.94</td>\n",
       "      <td>1934.85</td>\n",
       "      <td>24.36</td>\n",
       "      <td>-22.06</td>\n",
       "      <td>2712.12</td>\n",
       "      <td>UK</td>\n",
       "      <td>3509.94</td>\n",
       "      <td>389.53</td>\n",
       "      <td>High</td>\n",
       "      <td>393.42</td>\n",
       "      <td>...</td>\n",
       "      <td>265.44</td>\n",
       "      <td>11554.06</td>\n",
       "      <td>205.14</td>\n",
       "      <td>4</td>\n",
       "      <td>-377.55</td>\n",
       "      <td>16.32</td>\n",
       "      <td>-1840.92</td>\n",
       "      <td>7</td>\n",
       "      <td>83.53</td>\n",
       "      <td>-118.07</td>\n",
       "    </tr>\n",
       "    <tr>\n",
       "      <th>2</th>\n",
       "      <td>-426.06</td>\n",
       "      <td>1071.87</td>\n",
       "      <td>0.10</td>\n",
       "      <td>-21.80</td>\n",
       "      <td>7469.01</td>\n",
       "      <td>USA</td>\n",
       "      <td>4633.20</td>\n",
       "      <td>-28.63</td>\n",
       "      <td>Medium</td>\n",
       "      <td>226.62</td>\n",
       "      <td>...</td>\n",
       "      <td>542.94</td>\n",
       "      <td>28254.56</td>\n",
       "      <td>363.93</td>\n",
       "      <td>5</td>\n",
       "      <td>-293.67</td>\n",
       "      <td>17.64</td>\n",
       "      <td>-1207.92</td>\n",
       "      <td>5</td>\n",
       "      <td>218.54</td>\n",
       "      <td>-708.14</td>\n",
       "    </tr>\n",
       "    <tr>\n",
       "      <th>3</th>\n",
       "      <td>-204.48</td>\n",
       "      <td>1533.96</td>\n",
       "      <td>7.42</td>\n",
       "      <td>-17.94</td>\n",
       "      <td>4261.77</td>\n",
       "      <td>Rest</td>\n",
       "      <td>3516.06</td>\n",
       "      <td>335.36</td>\n",
       "      <td>Very high</td>\n",
       "      <td>912.63</td>\n",
       "      <td>...</td>\n",
       "      <td>527.10</td>\n",
       "      <td>21449.30</td>\n",
       "      <td>23.31</td>\n",
       "      <td>4</td>\n",
       "      <td>-295.80</td>\n",
       "      <td>20.44</td>\n",
       "      <td>-139.58</td>\n",
       "      <td>6</td>\n",
       "      <td>154.74</td>\n",
       "      <td>2918.75</td>\n",
       "    </tr>\n",
       "    <tr>\n",
       "      <th>4</th>\n",
       "      <td>-232.08</td>\n",
       "      <td>1334.88</td>\n",
       "      <td>29.48</td>\n",
       "      <td>-19.88</td>\n",
       "      <td>2941.02</td>\n",
       "      <td>Rest</td>\n",
       "      <td>3592.04</td>\n",
       "      <td>-46.68</td>\n",
       "      <td>Very low</td>\n",
       "      <td>601.41</td>\n",
       "      <td>...</td>\n",
       "      <td>390.48</td>\n",
       "      <td>18060.98</td>\n",
       "      <td>248.79</td>\n",
       "      <td>3</td>\n",
       "      <td>-222.12</td>\n",
       "      <td>19.39</td>\n",
       "      <td>-2130.02</td>\n",
       "      <td>4</td>\n",
       "      <td>178.77</td>\n",
       "      <td>1113.09</td>\n",
       "    </tr>\n",
       "  </tbody>\n",
       "</table>\n",
       "<p>5 rows × 37 columns</p>\n",
       "</div>"
      ],
      "text/plain": [
       "       F1       F2     F3     F4        F5    F6       F7      F8         F9  \\\n",
       "0 -190.11   193.53   2.32 -21.84  11289.72    UK  5730.72  638.55  Very high   \n",
       "1 -257.94  1934.85  24.36 -22.06   2712.12    UK  3509.94  389.53       High   \n",
       "2 -426.06  1071.87   0.10 -21.80   7469.01   USA  4633.20  -28.63     Medium   \n",
       "3 -204.48  1533.96   7.42 -17.94   4261.77  Rest  3516.06  335.36  Very high   \n",
       "4 -232.08  1334.88  29.48 -19.88   2941.02  Rest  3592.04  -46.68   Very low   \n",
       "\n",
       "      F10  ...     F28       F29     F30  F31     F32    F33      F34  F35  \\\n",
       "0  467.97  ...  174.81  23994.54  261.69    5 -177.15  17.60 -1437.20    4   \n",
       "1  393.42  ...  265.44  11554.06  205.14    4 -377.55  16.32 -1840.92    7   \n",
       "2  226.62  ...  542.94  28254.56  363.93    5 -293.67  17.64 -1207.92    5   \n",
       "3  912.63  ...  527.10  21449.30   23.31    4 -295.80  20.44  -139.58    6   \n",
       "4  601.41  ...  390.48  18060.98  248.79    3 -222.12  19.39 -2130.02    4   \n",
       "\n",
       "      F36   Target  \n",
       "0  178.20  1306.29  \n",
       "1   83.53  -118.07  \n",
       "2  218.54  -708.14  \n",
       "3  154.74  2918.75  \n",
       "4  178.77  1113.09  \n",
       "\n",
       "[5 rows x 37 columns]"
      ]
     },
     "execution_count": 3,
     "metadata": {},
     "output_type": "execute_result"
    }
   ],
   "source": [
    "data.head()"
   ]
  },
  {
   "attachments": {},
   "cell_type": "markdown",
   "id": "b12b9849",
   "metadata": {},
   "source": [
    "#### Print the information about the data such as the data types, memory usages and null values"
   ]
  },
  {
   "cell_type": "code",
   "execution_count": 4,
   "id": "28e94019",
   "metadata": {},
   "outputs": [
    {
     "name": "stdout",
     "output_type": "stream",
     "text": [
      "<class 'pandas.core.frame.DataFrame'>\n",
      "RangeIndex: 1500 entries, 0 to 1499\n",
      "Data columns (total 37 columns):\n",
      " #   Column  Non-Null Count  Dtype  \n",
      "---  ------  --------------  -----  \n",
      " 0   F1      1500 non-null   float64\n",
      " 1   F2      1500 non-null   float64\n",
      " 2   F3      1500 non-null   float64\n",
      " 3   F4      1500 non-null   float64\n",
      " 4   F5      1500 non-null   float64\n",
      " 5   F6      1500 non-null   object \n",
      " 6   F7      1500 non-null   float64\n",
      " 7   F8      1500 non-null   float64\n",
      " 8   F9      1500 non-null   object \n",
      " 9   F10     1500 non-null   float64\n",
      " 10  F11     1500 non-null   float64\n",
      " 11  F12     1500 non-null   float64\n",
      " 12  F13     1500 non-null   float64\n",
      " 13  F14     1500 non-null   float64\n",
      " 14  F15     1500 non-null   float64\n",
      " 15  F16     1500 non-null   float64\n",
      " 16  F17     1500 non-null   float64\n",
      " 17  F18     1500 non-null   float64\n",
      " 18  F19     1500 non-null   float64\n",
      " 19  F20     1500 non-null   float64\n",
      " 20  F21     1500 non-null   float64\n",
      " 21  F22     1500 non-null   float64\n",
      " 22  F23     1500 non-null   float64\n",
      " 23  F24     1500 non-null   float64\n",
      " 24  F25     1500 non-null   float64\n",
      " 25  F26     1500 non-null   float64\n",
      " 26  F27     1500 non-null   float64\n",
      " 27  F28     1500 non-null   float64\n",
      " 28  F29     1500 non-null   float64\n",
      " 29  F30     1500 non-null   float64\n",
      " 30  F31     1500 non-null   int64  \n",
      " 31  F32     1500 non-null   float64\n",
      " 32  F33     1500 non-null   float64\n",
      " 33  F34     1500 non-null   float64\n",
      " 34  F35     1500 non-null   int64  \n",
      " 35  F36     1500 non-null   float64\n",
      " 36  Target  1500 non-null   float64\n",
      "dtypes: float64(33), int64(2), object(2)\n",
      "memory usage: 433.7+ KB\n"
     ]
    }
   ],
   "source": [
    "data.info()"
   ]
  },
  {
   "attachments": {},
   "cell_type": "markdown",
   "id": "4280219e",
   "metadata": {},
   "source": [
    "#### **Observation**\n",
    "- There are no missing values in the data"
   ]
  },
  {
   "attachments": {},
   "cell_type": "markdown",
   "id": "2fd24da6",
   "metadata": {},
   "source": [
    "## Data Preprocessing\n",
    "- Convert the catergorical data and object data to numeric data"
   ]
  },
  {
   "cell_type": "code",
   "execution_count": 5,
   "id": "af207108",
   "metadata": {},
   "outputs": [],
   "source": [
    "from sklearn.preprocessing import LabelEncoder"
   ]
  },
  {
   "cell_type": "code",
   "execution_count": 6,
   "id": "1f54a40c",
   "metadata": {},
   "outputs": [],
   "source": [
    "le = LabelEncoder()"
   ]
  },
  {
   "cell_type": "code",
   "execution_count": 7,
   "id": "b8065df9",
   "metadata": {},
   "outputs": [],
   "source": [
    "data['F6'] = le.fit_transform(data['F6'])"
   ]
  },
  {
   "cell_type": "code",
   "execution_count": 8,
   "id": "b7ba2aa2",
   "metadata": {},
   "outputs": [],
   "source": [
    "data['F9'] = le.fit_transform(data['F9'])"
   ]
  },
  {
   "cell_type": "code",
   "execution_count": 9,
   "id": "0a8bf471",
   "metadata": {},
   "outputs": [],
   "source": [
    "test_df['F6'] = le.fit_transform(test_df['F6'])\n",
    "test_df['F9'] = le.fit_transform(test_df['F9'])"
   ]
  },
  {
   "attachments": {},
   "cell_type": "markdown",
   "id": "6e0fe094",
   "metadata": {},
   "source": [
    "# Building the models\n",
    "- Linear Regression model is the first model created with the train data. The model performance is checked with the mean squared error and r2 score. The predicted values are also printed in comparison with the actual values\n",
    "- Five other models are created, comparing their performance with the mean squared error and the r2 score"
   ]
  },
  {
   "cell_type": "code",
   "execution_count": 10,
   "id": "f5e29125",
   "metadata": {},
   "outputs": [],
   "source": [
    "# Separate features and labels\n",
    "X = data.drop(columns=['Target'])\n",
    "y = data.Target.values"
   ]
  },
  {
   "attachments": {},
   "cell_type": "markdown",
   "id": "8cc2c080",
   "metadata": {},
   "source": [
    "#### Split the data into training data(70% of the data) and test data (30%) of the data"
   ]
  },
  {
   "cell_type": "code",
   "execution_count": 11,
   "id": "9aabd7d9",
   "metadata": {},
   "outputs": [],
   "source": [
    "from sklearn.model_selection import train_test_split\n",
    "\n",
    "# Split data 70%-30% into training set and test set\n",
    "X_train, X_test, y_train, y_test = train_test_split(X, y, test_size=0.3, random_state=0)"
   ]
  },
  {
   "attachments": {},
   "cell_type": "markdown",
   "id": "40181ca3",
   "metadata": {},
   "source": [
    "#### Standardize X_train  and X_test"
   ]
  },
  {
   "cell_type": "code",
   "execution_count": 12,
   "id": "8aa2f38f",
   "metadata": {},
   "outputs": [],
   "source": [
    "# Scaling the data\n",
    "sc=StandardScaler()\n",
    "\n",
    "# Fit_transform on train data\n",
    "X_train_scaled=sc.fit_transform(X_train)\n",
    "X_train_scaled=pd.DataFrame(X_train_scaled, columns=X.columns)\n",
    "\n",
    "# Transform on test data\n",
    "X_test_scaled=sc.transform(X_test)\n",
    "X_test_scaled=pd.DataFrame(X_test_scaled, columns=X.columns)"
   ]
  },
  {
   "cell_type": "code",
   "execution_count": 13,
   "id": "234eb4b7",
   "metadata": {},
   "outputs": [
    {
     "data": {
      "text/html": [
       "<div>\n",
       "<style scoped>\n",
       "    .dataframe tbody tr th:only-of-type {\n",
       "        vertical-align: middle;\n",
       "    }\n",
       "\n",
       "    .dataframe tbody tr th {\n",
       "        vertical-align: top;\n",
       "    }\n",
       "\n",
       "    .dataframe thead th {\n",
       "        text-align: right;\n",
       "    }\n",
       "</style>\n",
       "<table border=\"1\" class=\"dataframe\">\n",
       "  <thead>\n",
       "    <tr style=\"text-align: right;\">\n",
       "      <th></th>\n",
       "      <th>F1</th>\n",
       "      <th>F2</th>\n",
       "      <th>F3</th>\n",
       "      <th>F4</th>\n",
       "      <th>F5</th>\n",
       "      <th>F6</th>\n",
       "      <th>F7</th>\n",
       "      <th>F8</th>\n",
       "      <th>F9</th>\n",
       "      <th>F10</th>\n",
       "      <th>...</th>\n",
       "      <th>F27</th>\n",
       "      <th>F28</th>\n",
       "      <th>F29</th>\n",
       "      <th>F30</th>\n",
       "      <th>F31</th>\n",
       "      <th>F32</th>\n",
       "      <th>F33</th>\n",
       "      <th>F34</th>\n",
       "      <th>F35</th>\n",
       "      <th>F36</th>\n",
       "    </tr>\n",
       "  </thead>\n",
       "  <tbody>\n",
       "    <tr>\n",
       "      <th>0</th>\n",
       "      <td>1.916969</td>\n",
       "      <td>0.158478</td>\n",
       "      <td>-0.076528</td>\n",
       "      <td>1.213397</td>\n",
       "      <td>0.571683</td>\n",
       "      <td>-1.345924</td>\n",
       "      <td>-0.073590</td>\n",
       "      <td>-0.527738</td>\n",
       "      <td>-1.382848</td>\n",
       "      <td>1.701750</td>\n",
       "      <td>...</td>\n",
       "      <td>0.713612</td>\n",
       "      <td>1.597182</td>\n",
       "      <td>-1.660815</td>\n",
       "      <td>0.262232</td>\n",
       "      <td>-1.082187</td>\n",
       "      <td>0.187044</td>\n",
       "      <td>-0.411255</td>\n",
       "      <td>0.630017</td>\n",
       "      <td>0.573851</td>\n",
       "      <td>-0.451554</td>\n",
       "    </tr>\n",
       "    <tr>\n",
       "      <th>1</th>\n",
       "      <td>-0.042625</td>\n",
       "      <td>-0.315618</td>\n",
       "      <td>-0.157668</td>\n",
       "      <td>0.719256</td>\n",
       "      <td>-1.125780</td>\n",
       "      <td>-0.441752</td>\n",
       "      <td>0.617734</td>\n",
       "      <td>0.577961</td>\n",
       "      <td>1.413475</td>\n",
       "      <td>-0.963468</td>\n",
       "      <td>...</td>\n",
       "      <td>0.471984</td>\n",
       "      <td>-0.125409</td>\n",
       "      <td>-0.962023</td>\n",
       "      <td>-1.944974</td>\n",
       "      <td>1.105101</td>\n",
       "      <td>0.653022</td>\n",
       "      <td>0.098540</td>\n",
       "      <td>0.526083</td>\n",
       "      <td>0.573851</td>\n",
       "      <td>-0.270081</td>\n",
       "    </tr>\n",
       "    <tr>\n",
       "      <th>2</th>\n",
       "      <td>0.934766</td>\n",
       "      <td>1.318233</td>\n",
       "      <td>-0.130811</td>\n",
       "      <td>0.463298</td>\n",
       "      <td>-0.573790</td>\n",
       "      <td>-0.441752</td>\n",
       "      <td>-2.352758</td>\n",
       "      <td>0.633452</td>\n",
       "      <td>0.714394</td>\n",
       "      <td>0.272765</td>\n",
       "      <td>...</td>\n",
       "      <td>1.668730</td>\n",
       "      <td>-1.278511</td>\n",
       "      <td>0.102448</td>\n",
       "      <td>-0.093347</td>\n",
       "      <td>-1.082187</td>\n",
       "      <td>0.392926</td>\n",
       "      <td>0.524150</td>\n",
       "      <td>-0.553238</td>\n",
       "      <td>0.573851</td>\n",
       "      <td>0.027818</td>\n",
       "    </tr>\n",
       "    <tr>\n",
       "      <th>3</th>\n",
       "      <td>-1.359446</td>\n",
       "      <td>1.407463</td>\n",
       "      <td>-0.160485</td>\n",
       "      <td>1.149407</td>\n",
       "      <td>0.114183</td>\n",
       "      <td>-0.441752</td>\n",
       "      <td>-2.356843</td>\n",
       "      <td>0.004738</td>\n",
       "      <td>-1.382848</td>\n",
       "      <td>-1.110253</td>\n",
       "      <td>...</td>\n",
       "      <td>-0.109293</td>\n",
       "      <td>-0.735390</td>\n",
       "      <td>-0.262781</td>\n",
       "      <td>2.519385</td>\n",
       "      <td>0.558279</td>\n",
       "      <td>0.533617</td>\n",
       "      <td>2.210217</td>\n",
       "      <td>0.858952</td>\n",
       "      <td>1.716113</td>\n",
       "      <td>-0.141164</td>\n",
       "    </tr>\n",
       "    <tr>\n",
       "      <th>4</th>\n",
       "      <td>-0.237238</td>\n",
       "      <td>0.038134</td>\n",
       "      <td>0.028051</td>\n",
       "      <td>1.184957</td>\n",
       "      <td>1.918839</td>\n",
       "      <td>-1.345924</td>\n",
       "      <td>0.131720</td>\n",
       "      <td>-1.647912</td>\n",
       "      <td>1.413475</td>\n",
       "      <td>-0.394317</td>\n",
       "      <td>...</td>\n",
       "      <td>-0.173119</td>\n",
       "      <td>1.646150</td>\n",
       "      <td>-1.206576</td>\n",
       "      <td>-3.214593</td>\n",
       "      <td>0.011457</td>\n",
       "      <td>-0.244344</td>\n",
       "      <td>-2.922817</td>\n",
       "      <td>0.852225</td>\n",
       "      <td>0.002720</td>\n",
       "      <td>0.448977</td>\n",
       "    </tr>\n",
       "    <tr>\n",
       "      <th>...</th>\n",
       "      <td>...</td>\n",
       "      <td>...</td>\n",
       "      <td>...</td>\n",
       "      <td>...</td>\n",
       "      <td>...</td>\n",
       "      <td>...</td>\n",
       "      <td>...</td>\n",
       "      <td>...</td>\n",
       "      <td>...</td>\n",
       "      <td>...</td>\n",
       "      <td>...</td>\n",
       "      <td>...</td>\n",
       "      <td>...</td>\n",
       "      <td>...</td>\n",
       "      <td>...</td>\n",
       "      <td>...</td>\n",
       "      <td>...</td>\n",
       "      <td>...</td>\n",
       "      <td>...</td>\n",
       "      <td>...</td>\n",
       "      <td>...</td>\n",
       "    </tr>\n",
       "    <tr>\n",
       "      <th>1045</th>\n",
       "      <td>-0.116718</td>\n",
       "      <td>0.534815</td>\n",
       "      <td>-0.157038</td>\n",
       "      <td>-2.199377</td>\n",
       "      <td>-0.904018</td>\n",
       "      <td>-0.441752</td>\n",
       "      <td>0.145818</td>\n",
       "      <td>-0.529670</td>\n",
       "      <td>0.714394</td>\n",
       "      <td>-0.040346</td>\n",
       "      <td>...</td>\n",
       "      <td>0.025198</td>\n",
       "      <td>-0.542343</td>\n",
       "      <td>0.600356</td>\n",
       "      <td>-0.409206</td>\n",
       "      <td>0.011457</td>\n",
       "      <td>0.180059</td>\n",
       "      <td>1.714452</td>\n",
       "      <td>1.743243</td>\n",
       "      <td>-0.568411</td>\n",
       "      <td>0.049972</td>\n",
       "    </tr>\n",
       "    <tr>\n",
       "      <th>1046</th>\n",
       "      <td>0.546985</td>\n",
       "      <td>0.096856</td>\n",
       "      <td>-0.093853</td>\n",
       "      <td>-1.218204</td>\n",
       "      <td>1.739638</td>\n",
       "      <td>0.462419</td>\n",
       "      <td>0.161060</td>\n",
       "      <td>0.514638</td>\n",
       "      <td>0.015313</td>\n",
       "      <td>0.176167</td>\n",
       "      <td>...</td>\n",
       "      <td>-0.200474</td>\n",
       "      <td>-0.678418</td>\n",
       "      <td>-1.615111</td>\n",
       "      <td>-0.412298</td>\n",
       "      <td>0.011457</td>\n",
       "      <td>1.698729</td>\n",
       "      <td>-0.829849</td>\n",
       "      <td>0.068112</td>\n",
       "      <td>-1.139542</td>\n",
       "      <td>0.280702</td>\n",
       "    </tr>\n",
       "    <tr>\n",
       "      <th>1047</th>\n",
       "      <td>-0.395526</td>\n",
       "      <td>0.438236</td>\n",
       "      <td>-0.159226</td>\n",
       "      <td>0.857900</td>\n",
       "      <td>-0.473958</td>\n",
       "      <td>-0.441752</td>\n",
       "      <td>-0.184952</td>\n",
       "      <td>0.508740</td>\n",
       "      <td>0.714394</td>\n",
       "      <td>-0.209337</td>\n",
       "      <td>...</td>\n",
       "      <td>1.386070</td>\n",
       "      <td>0.309182</td>\n",
       "      <td>-0.511182</td>\n",
       "      <td>0.329304</td>\n",
       "      <td>1.651923</td>\n",
       "      <td>-0.872633</td>\n",
       "      <td>-0.595998</td>\n",
       "      <td>1.347243</td>\n",
       "      <td>-0.568411</td>\n",
       "      <td>-0.703259</td>\n",
       "    </tr>\n",
       "    <tr>\n",
       "      <th>1048</th>\n",
       "      <td>-1.579077</td>\n",
       "      <td>1.412587</td>\n",
       "      <td>-0.160575</td>\n",
       "      <td>1.103193</td>\n",
       "      <td>0.612630</td>\n",
       "      <td>1.366591</td>\n",
       "      <td>-1.254337</td>\n",
       "      <td>0.850911</td>\n",
       "      <td>1.413475</td>\n",
       "      <td>0.213918</td>\n",
       "      <td>...</td>\n",
       "      <td>0.278225</td>\n",
       "      <td>-1.672139</td>\n",
       "      <td>0.256473</td>\n",
       "      <td>-0.014145</td>\n",
       "      <td>1.105101</td>\n",
       "      <td>-0.204431</td>\n",
       "      <td>0.793078</td>\n",
       "      <td>-0.099261</td>\n",
       "      <td>0.573851</td>\n",
       "      <td>1.104165</td>\n",
       "    </tr>\n",
       "    <tr>\n",
       "      <th>1049</th>\n",
       "      <td>0.180613</td>\n",
       "      <td>-0.718249</td>\n",
       "      <td>1.056281</td>\n",
       "      <td>0.033146</td>\n",
       "      <td>2.543600</td>\n",
       "      <td>1.366591</td>\n",
       "      <td>0.847156</td>\n",
       "      <td>-0.635772</td>\n",
       "      <td>1.413475</td>\n",
       "      <td>1.309584</td>\n",
       "      <td>...</td>\n",
       "      <td>0.205280</td>\n",
       "      <td>2.915316</td>\n",
       "      <td>0.791144</td>\n",
       "      <td>-0.054816</td>\n",
       "      <td>0.558279</td>\n",
       "      <td>0.250239</td>\n",
       "      <td>0.783724</td>\n",
       "      <td>1.062722</td>\n",
       "      <td>0.573851</td>\n",
       "      <td>1.145173</td>\n",
       "    </tr>\n",
       "  </tbody>\n",
       "</table>\n",
       "<p>1050 rows × 36 columns</p>\n",
       "</div>"
      ],
      "text/plain": [
       "            F1        F2        F3        F4        F5        F6        F7  \\\n",
       "0     1.916969  0.158478 -0.076528  1.213397  0.571683 -1.345924 -0.073590   \n",
       "1    -0.042625 -0.315618 -0.157668  0.719256 -1.125780 -0.441752  0.617734   \n",
       "2     0.934766  1.318233 -0.130811  0.463298 -0.573790 -0.441752 -2.352758   \n",
       "3    -1.359446  1.407463 -0.160485  1.149407  0.114183 -0.441752 -2.356843   \n",
       "4    -0.237238  0.038134  0.028051  1.184957  1.918839 -1.345924  0.131720   \n",
       "...        ...       ...       ...       ...       ...       ...       ...   \n",
       "1045 -0.116718  0.534815 -0.157038 -2.199377 -0.904018 -0.441752  0.145818   \n",
       "1046  0.546985  0.096856 -0.093853 -1.218204  1.739638  0.462419  0.161060   \n",
       "1047 -0.395526  0.438236 -0.159226  0.857900 -0.473958 -0.441752 -0.184952   \n",
       "1048 -1.579077  1.412587 -0.160575  1.103193  0.612630  1.366591 -1.254337   \n",
       "1049  0.180613 -0.718249  1.056281  0.033146  2.543600  1.366591  0.847156   \n",
       "\n",
       "            F8        F9       F10  ...       F27       F28       F29  \\\n",
       "0    -0.527738 -1.382848  1.701750  ...  0.713612  1.597182 -1.660815   \n",
       "1     0.577961  1.413475 -0.963468  ...  0.471984 -0.125409 -0.962023   \n",
       "2     0.633452  0.714394  0.272765  ...  1.668730 -1.278511  0.102448   \n",
       "3     0.004738 -1.382848 -1.110253  ... -0.109293 -0.735390 -0.262781   \n",
       "4    -1.647912  1.413475 -0.394317  ... -0.173119  1.646150 -1.206576   \n",
       "...        ...       ...       ...  ...       ...       ...       ...   \n",
       "1045 -0.529670  0.714394 -0.040346  ...  0.025198 -0.542343  0.600356   \n",
       "1046  0.514638  0.015313  0.176167  ... -0.200474 -0.678418 -1.615111   \n",
       "1047  0.508740  0.714394 -0.209337  ...  1.386070  0.309182 -0.511182   \n",
       "1048  0.850911  1.413475  0.213918  ...  0.278225 -1.672139  0.256473   \n",
       "1049 -0.635772  1.413475  1.309584  ...  0.205280  2.915316  0.791144   \n",
       "\n",
       "           F30       F31       F32       F33       F34       F35       F36  \n",
       "0     0.262232 -1.082187  0.187044 -0.411255  0.630017  0.573851 -0.451554  \n",
       "1    -1.944974  1.105101  0.653022  0.098540  0.526083  0.573851 -0.270081  \n",
       "2    -0.093347 -1.082187  0.392926  0.524150 -0.553238  0.573851  0.027818  \n",
       "3     2.519385  0.558279  0.533617  2.210217  0.858952  1.716113 -0.141164  \n",
       "4    -3.214593  0.011457 -0.244344 -2.922817  0.852225  0.002720  0.448977  \n",
       "...        ...       ...       ...       ...       ...       ...       ...  \n",
       "1045 -0.409206  0.011457  0.180059  1.714452  1.743243 -0.568411  0.049972  \n",
       "1046 -0.412298  0.011457  1.698729 -0.829849  0.068112 -1.139542  0.280702  \n",
       "1047  0.329304  1.651923 -0.872633 -0.595998  1.347243 -0.568411 -0.703259  \n",
       "1048 -0.014145  1.105101 -0.204431  0.793078 -0.099261  0.573851  1.104165  \n",
       "1049 -0.054816  0.558279  0.250239  0.783724  1.062722  0.573851  1.145173  \n",
       "\n",
       "[1050 rows x 36 columns]"
      ]
     },
     "execution_count": 13,
     "metadata": {},
     "output_type": "execute_result"
    }
   ],
   "source": [
    "X_train_scaled"
   ]
  },
  {
   "cell_type": "code",
   "execution_count": 14,
   "id": "c79fc905",
   "metadata": {},
   "outputs": [
    {
     "name": "stdout",
     "output_type": "stream",
     "text": [
      "(1050, 36)\n",
      "(450, 36)\n",
      "(1050,)\n",
      "(450,)\n"
     ]
    }
   ],
   "source": [
    "###Checking the shape of train and test sets\n",
    "print(X_train_scaled.shape)\n",
    "print(X_test_scaled.shape)\n",
    "print(y_train.shape)\n",
    "print(y_test.shape)"
   ]
  },
  {
   "attachments": {},
   "cell_type": "markdown",
   "id": "de76cc92",
   "metadata": {},
   "source": [
    "# Linear Regression"
   ]
  },
  {
   "attachments": {},
   "cell_type": "markdown",
   "id": "d28ba2ca",
   "metadata": {},
   "source": [
    "### Training the model"
   ]
  },
  {
   "cell_type": "code",
   "execution_count": 15,
   "id": "5534c465",
   "metadata": {},
   "outputs": [
    {
     "name": "stdout",
     "output_type": "stream",
     "text": [
      "[ -48.77341659  401.17136833  145.68234692  571.5538615    13.79556505\n",
      "   14.94922435   31.26486198   62.36093624 -143.4144334     2.06630153\n",
      "    8.83526291   -4.88620258    3.81860277   49.93193991    5.04158014\n",
      "   36.37682335   26.56039753   12.43300679   -7.76946084  -16.49505263\n",
      "  -11.32623442  -29.73744935  -44.97994107   -6.54295434 -272.6432565\n",
      "  -28.51082261   31.87479974   44.90860268  -19.9062237    -9.15539501\n",
      " -159.90190654    3.30556086   -1.56924856   64.74899142 -374.00717166\n",
      "   30.40806906]\n",
      "860.4871428571424\n"
     ]
    }
   ],
   "source": [
    "from sklearn.linear_model import LinearRegression\n",
    "\n",
    "model = LinearRegression().fit(X_train_scaled, y_train)\n",
    "\n",
    "print(model.coef_)\n",
    "print(model.intercept_)"
   ]
  },
  {
   "attachments": {},
   "cell_type": "markdown",
   "id": "6f46d739",
   "metadata": {},
   "source": [
    "# Evaluating model on test data"
   ]
  },
  {
   "cell_type": "code",
   "execution_count": 16,
   "id": "9ecd1c53",
   "metadata": {},
   "outputs": [
    {
     "name": "stdout",
     "output_type": "stream",
     "text": [
      "Predicted labels:  [-507. -301. 1949. 1196. -573. 2142.  845. 1341.]\n",
      "Actual labels   :  [ -152.56  -641.62  2511.5    405.06 -1320.     760.96  1285.9   1426.94]\n"
     ]
    }
   ],
   "source": [
    "import numpy as np\n",
    "\n",
    "predictions = model.predict(X_test_scaled)\n",
    "#np.set_printoptions(suppress=True)\n",
    "\n",
    "print('Predicted labels: ', np.round(predictions)[:8])\n",
    "print('Actual labels   : ', y_test[:8])"
   ]
  },
  {
   "attachments": {},
   "cell_type": "markdown",
   "id": "f65598a4",
   "metadata": {},
   "source": [
    "# Visualizing the predictions"
   ]
  },
  {
   "cell_type": "code",
   "execution_count": 17,
   "id": "cd2a5237",
   "metadata": {},
   "outputs": [
    {
     "data": {
      "text/plain": [
       "[<matplotlib.lines.Line2D at 0x2c34de4f2e0>]"
      ]
     },
     "execution_count": 17,
     "metadata": {},
     "output_type": "execute_result"
    },
    {
     "data": {
      "image/png": "[encoded data removed]",
      "text/plain": [
       "<Figure size 432x288 with 1 Axes>"
      ]
     },
     "metadata": {
      "needs_background": "light"
     },
     "output_type": "display_data"
    }
   ],
   "source": [
    "import matplotlib.pyplot as plt\n",
    "plt.scatter(y_test, predictions)\n",
    "plt.xlabel('Actual Label')\n",
    "plt.ylabel('Predicted label')\n",
    "\n",
    "# Overlay the regression line\n",
    "z = np.polyfit(y_test, predictions, 1)\n",
    "p = np.poly1d(z)\n",
    "plt.plot(y_test, p(y_test), color='magenta')"
   ]
  },
  {
   "attachments": {},
   "cell_type": "markdown",
   "id": "844db666",
   "metadata": {},
   "source": [
    "# Calculating evaluation metrics"
   ]
  },
  {
   "cell_type": "code",
   "execution_count": 18,
   "id": "7c2a432b",
   "metadata": {},
   "outputs": [
    {
     "name": "stdout",
     "output_type": "stream",
     "text": [
      " MSE: 836299.3546698106\n",
      "  R2: 0.4324018042874258\n"
     ]
    }
   ],
   "source": [
    "from sklearn.metrics import mean_squared_error, r2_score\n",
    "\n",
    "mse = mean_squared_error(y_test, predictions)\n",
    "print(\" MSE:\", mse)\n",
    "\n",
    "r2 = r2_score(y_test, predictions)\n",
    "print(\"  R2:\", r2)"
   ]
  },
  {
   "attachments": {},
   "cell_type": "markdown",
   "id": "a77f260f",
   "metadata": {},
   "source": [
    "# Experimenting with five more models"
   ]
  },
  {
   "cell_type": "code",
   "execution_count": 19,
   "id": "de87d565",
   "metadata": {},
   "outputs": [],
   "source": [
    "from sklearn.linear_model import Ridge,LassoLarsCV\n",
    "from sklearn.ensemble import RandomForestRegressor,GradientBoostingRegressor\n",
    "from sklearn.model_selection import cross_val_score\n",
    "from sklearn.tree import DecisionTreeRegressor\n",
    "from sklearn.metrics import mean_squared_error, r2_score"
   ]
  },
  {
   "cell_type": "code",
   "execution_count": 20,
   "id": "f66e8ddd",
   "metadata": {},
   "outputs": [],
   "source": [
    "regressor_models= {\n",
    "    'LassoLarsCV':LassoLarsCV(cv=10),\n",
    "    'Ridge':Ridge(alpha=1.0),\n",
    "    'Decision Tree': DecisionTreeRegressor(max_depth=10),\n",
    "    'RandomForest':RandomForestRegressor(),\n",
    "    'GradientBoost':GradientBoostingRegressor(),\n",
    "}"
   ]
  },
  {
   "attachments": {},
   "cell_type": "markdown",
   "id": "b2fc0384",
   "metadata": {},
   "source": [
    "# Model performance on Train data"
   ]
  },
  {
   "cell_type": "code",
   "execution_count": 21,
   "id": "e1737103",
   "metadata": {},
   "outputs": [],
   "source": [
    "eval_results = pd.DataFrame(columns=['Model_name', 'MSE', 'R2'])\n",
    "\n",
    "def evaluate_model():\n",
    "    for model_name, model in regressor_models.items():\n",
    "        model.fit(X_train_scaled,y_train)\n",
    "        predictions = model.predict(X_train_scaled)\n",
    "        mse = mean_squared_error(y_train, predictions)\n",
    "        r2 = r2_score(y_train, predictions)\n",
    "        eval_results.loc[len(eval_results.index)] = [model_name, round(mse, 2), round(r2, 2)]\n",
    "    print(eval_results)"
   ]
  },
  {
   "cell_type": "code",
   "execution_count": 22,
   "id": "78c8d778",
   "metadata": {},
   "outputs": [
    {
     "name": "stdout",
     "output_type": "stream",
     "text": [
      "      Model_name        MSE    R2\n",
      "0    LassoLarsCV  703022.33  0.53\n",
      "1          Ridge  694012.50  0.54\n",
      "2  Decision Tree   66287.53  0.96\n",
      "3   RandomForest   75839.44  0.95\n",
      "4  GradientBoost  104191.28  0.93\n"
     ]
    }
   ],
   "source": [
    "evaluate_model()"
   ]
  },
  {
   "attachments": {},
   "cell_type": "markdown",
   "id": "1b875460",
   "metadata": {},
   "source": [
    "# Model performance on Test data"
   ]
  },
  {
   "cell_type": "code",
   "execution_count": 23,
   "id": "a2bcc15d",
   "metadata": {},
   "outputs": [],
   "source": [
    "eval_results = pd.DataFrame(columns=['Model_name', 'MSE', 'R2'])\n",
    "\n",
    "def evaluate_test_model():\n",
    "    for model_name, model in regressor_models.items():\n",
    "        \n",
    "        model.fit(X_train_scaled,y_train)\n",
    "        predictions = model.predict(X_test_scaled)\n",
    "        mse = mean_squared_error(y_test, predictions)\n",
    "        r2 = r2_score(y_test, predictions)\n",
    "        eval_results.loc[len(eval_results.index)] = [model_name, round(mse, 2), round(r2, 2)]\n",
    "    print(eval_results)"
   ]
  },
  {
   "cell_type": "code",
   "execution_count": 24,
   "id": "24c75dda",
   "metadata": {},
   "outputs": [
    {
     "name": "stdout",
     "output_type": "stream",
     "text": [
      "      Model_name         MSE    R2\n",
      "0    LassoLarsCV   784932.69  0.47\n",
      "1          Ridge   835878.56  0.43\n",
      "2  Decision Tree  1162477.32  0.21\n",
      "3   RandomForest   572380.92  0.61\n",
      "4  GradientBoost   291285.11  0.80\n"
     ]
    }
   ],
   "source": [
    "evaluate_test_model()"
   ]
  },
  {
   "attachments": {},
   "cell_type": "markdown",
   "id": "1ed22da4",
   "metadata": {},
   "source": [
    "### **Observations**\n",
    "- The Decision Tree model had the lowest MSE in the training set but the highest MSE in the test. This means the model overfit in the training test.\n",
    "- Generally, the model performance decreased significantly for all the model but Gradient Boost Regressor performed better on the test data"
   ]
  },
  {
   "attachments": {},
   "cell_type": "markdown",
   "id": "6d913b39",
   "metadata": {},
   "source": [
    "### The model with the best performance based on the Mean squared error is Gradient Boost Regressor."
   ]
  },
  {
   "attachments": {},
   "cell_type": "markdown",
   "id": "5a039e7a",
   "metadata": {},
   "source": [
    "### Visualizing the prediction of GradientBoostRegressor model"
   ]
  },
  {
   "cell_type": "code",
   "execution_count": 25,
   "id": "a351d108",
   "metadata": {},
   "outputs": [
    {
     "data": {
      "text/plain": [
       "[<matplotlib.lines.Line2D at 0x2c34f408190>]"
      ]
     },
     "execution_count": 25,
     "metadata": {},
     "output_type": "execute_result"
    },
    {
     "data": {
      "image/png": "[encoded data removed]",
      "text/plain": [
       "<Figure size 432x288 with 1 Axes>"
      ]
     },
     "metadata": {
      "needs_background": "light"
     },
     "output_type": "display_data"
    }
   ],
   "source": [
    "gb = GradientBoostingRegressor()\n",
    "gb.fit(X_train_scaled,y_train)\n",
    "predict_gb = gb.predict(X_test_scaled)\n",
    "import matplotlib.pyplot as plt\n",
    "plt.scatter(y_test, predict_gb)\n",
    "plt.xlabel('Actual Label')\n",
    "plt.ylabel('Predicted label')\n",
    "\n",
    "# Overlay the regression line\n",
    "z = np.polyfit(y_test, predict_gb, 1)\n",
    "p = np.poly1d(z)\n",
    "plt.plot(y_test, p(y_test), color='magenta')"
   ]
  },
  {
   "attachments": {},
   "cell_type": "markdown",
   "id": "0cb772f6",
   "metadata": {},
   "source": [
    "# PART B"
   ]
  },
  {
   "cell_type": "code",
   "execution_count": 26,
   "id": "ee43379a",
   "metadata": {},
   "outputs": [],
   "source": [
    "# HERE YOU WILL USE THIS TEMPLATE TO SAVE THE PREDICTIONS ON THE TEST SET\n",
    "\n",
    "# Load the test data\n",
    "#test_df = pd.read_csv('CE802_P3_Test.csv')\n",
    "\n",
    "# Make sure you work on a copy\n",
    "test_data = test_df.iloc[:,:-1].copy()"
   ]
  },
  {
   "cell_type": "code",
   "execution_count": 27,
   "id": "6b7ea148",
   "metadata": {},
   "outputs": [],
   "source": [
    "gb = GradientBoostingRegressor()"
   ]
  },
  {
   "cell_type": "code",
   "execution_count": 28,
   "id": "57df98d2",
   "metadata": {},
   "outputs": [
    {
     "data": {
      "text/html": [
       "<style>#sk-container-id-1 {color: black;background-color: white;}#sk-container-id-1 pre{padding: 0;}#sk-container-id-1 div.sk-toggleable {background-color: white;}#sk-container-id-1 label.sk-toggleable__label {cursor: pointer;display: block;width: 100%;margin-bottom: 0;padding: 0.3em;box-sizing: border-box;text-align: center;}#sk-container-id-1 label.sk-toggleable__label-arrow:before {content: \"▸\";float: left;margin-right: 0.25em;color: #696969;}#sk-container-id-1 label.sk-toggleable__label-arrow:hover:before {color: black;}#sk-container-id-1 div.sk-estimator:hover label.sk-toggleable__label-arrow:before {color: black;}#sk-container-id-1 div.sk-toggleable__content {max-height: 0;max-width: 0;overflow: hidden;text-align: left;background-color: #f0f8ff;}#sk-container-id-1 div.sk-toggleable__content pre {margin: 0.2em;color: black;border-radius: 0.25em;background-color: #f0f8ff;}#sk-container-id-1 input.sk-toggleable__control:checked~div.sk-toggleable__content {max-height: 200px;max-width: 100%;overflow: auto;}#sk-container-id-1 input.sk-toggleable__control:checked~label.sk-toggleable__label-arrow:before {content: \"▾\";}#sk-container-id-1 div.sk-estimator input.sk-toggleable__control:checked~label.sk-toggleable__label {background-color: #d4ebff;}#sk-container-id-1 div.sk-label input.sk-toggleable__control:checked~label.sk-toggleable__label {background-color: #d4ebff;}#sk-container-id-1 input.sk-hidden--visually {border: 0;clip: rect(1px 1px 1px 1px);clip: rect(1px, 1px, 1px, 1px);height: 1px;margin: -1px;overflow: hidden;padding: 0;position: absolute;width: 1px;}#sk-container-id-1 div.sk-estimator {font-family: monospace;background-color: #f0f8ff;border: 1px dotted black;border-radius: 0.25em;box-sizing: border-box;margin-bottom: 0.5em;}#sk-container-id-1 div.sk-estimator:hover {background-color: #d4ebff;}#sk-container-id-1 div.sk-parallel-item::after {content: \"\";width: 100%;border-bottom: 1px solid gray;flex-grow: 1;}#sk-container-id-1 div.sk-label:hover label.sk-toggleable__label {background-color: #d4ebff;}#sk-container-id-1 div.sk-serial::before {content: \"\";position: absolute;border-left: 1px solid gray;box-sizing: border-box;top: 0;bottom: 0;left: 50%;z-index: 0;}#sk-container-id-1 div.sk-serial {display: flex;flex-direction: column;align-items: center;background-color: white;padding-right: 0.2em;padding-left: 0.2em;position: relative;}#sk-container-id-1 div.sk-item {position: relative;z-index: 1;}#sk-container-id-1 div.sk-parallel {display: flex;align-items: stretch;justify-content: center;background-color: white;position: relative;}#sk-container-id-1 div.sk-item::before, #sk-container-id-1 div.sk-parallel-item::before {content: \"\";position: absolute;border-left: 1px solid gray;box-sizing: border-box;top: 0;bottom: 0;left: 50%;z-index: -1;}#sk-container-id-1 div.sk-parallel-item {display: flex;flex-direction: column;z-index: 1;position: relative;background-color: white;}#sk-container-id-1 div.sk-parallel-item:first-child::after {align-self: flex-end;width: 50%;}#sk-container-id-1 div.sk-parallel-item:last-child::after {align-self: flex-start;width: 50%;}#sk-container-id-1 div.sk-parallel-item:only-child::after {width: 0;}#sk-container-id-1 div.sk-dashed-wrapped {border: 1px dashed gray;margin: 0 0.4em 0.5em 0.4em;box-sizing: border-box;padding-bottom: 0.4em;background-color: white;}#sk-container-id-1 div.sk-label label {font-family: monospace;font-weight: bold;display: inline-block;line-height: 1.2em;}#sk-container-id-1 div.sk-label-container {text-align: center;}#sk-container-id-1 div.sk-container {/* jupyter's `normalize.less` sets `[hidden] { display: none; }` but bootstrap.min.css set `[hidden] { display: none !important; }` so we also need the `!important` here to be able to override the default hidden behavior on the sphinx rendered scikit-learn.org. See: https://github.com/scikit-learn/scikit-learn/issues/21755 */display: inline-block !important;position: relative;}#sk-container-id-1 div.sk-text-repr-fallback {display: none;}</style><div id=\"sk-container-id-1\" class=\"sk-top-container\"><div class=\"sk-text-repr-fallback\"><pre>GradientBoostingRegressor()</pre><b>In a Jupyter environment, please rerun this cell to show the HTML representation or trust the notebook. <br />On GitHub, the HTML representation is unable to render, please try loading this page with nbviewer.org.</b></div><div class=\"sk-container\" hidden><div class=\"sk-item\"><div class=\"sk-estimator sk-toggleable\"><input class=\"sk-toggleable__control sk-hidden--visually\" id=\"sk-estimator-id-1\" type=\"checkbox\" checked><label for=\"sk-estimator-id-1\" class=\"sk-toggleable__label sk-toggleable__label-arrow\">GradientBoostingRegressor</label><div class=\"sk-toggleable__content\"><pre>GradientBoostingRegressor()</pre></div></div></div></div></div>"
      ],
      "text/plain": [
       "GradientBoostingRegressor()"
      ]
     },
     "execution_count": 28,
     "metadata": {},
     "output_type": "execute_result"
    }
   ],
   "source": [
    "gb.fit(X_train,y_train)"
   ]
  },
  {
   "cell_type": "code",
   "execution_count": 29,
   "id": "0621281f",
   "metadata": {},
   "outputs": [],
   "source": [
    "predicted = gb.predict(test_data)"
   ]
  },
  {
   "cell_type": "code",
   "execution_count": 30,
   "id": "c8e1e08c",
   "metadata": {},
   "outputs": [],
   "source": [
    "test_df.iloc[:,-1] = predicted"
   ]
  },
  {
   "cell_type": "code",
   "execution_count": 31,
   "id": "d891230f",
   "metadata": {},
   "outputs": [],
   "source": [
    "test_df.iloc[:,-1] = round(test_df.iloc[:,-1],2)"
   ]
  },
  {
   "cell_type": "code",
   "execution_count": 32,
   "id": "0243d9a6",
   "metadata": {},
   "outputs": [],
   "source": [
    "# Save to the destination file\n",
    "test_df.to_csv('CE802_P3_Test_Predictions.csv', index=False, float_format='%.8g')"
   ]
  },
  {
   "cell_type": "code",
   "execution_count": 33,
   "id": "e31e5274",
   "metadata": {},
   "outputs": [],
   "source": [
    "data = pd.read_csv('CE802_P3_Test_Predictions.csv')"
   ]
  },
  {
   "cell_type": "code",
   "execution_count": 34,
   "id": "60722499",
   "metadata": {},
   "outputs": [
    {
     "data": {
      "text/html": [
       "<div>\n",
       "<style scoped>\n",
       "    .dataframe tbody tr th:only-of-type {\n",
       "        vertical-align: middle;\n",
       "    }\n",
       "\n",
       "    .dataframe tbody tr th {\n",
       "        vertical-align: top;\n",
       "    }\n",
       "\n",
       "    .dataframe thead th {\n",
       "        text-align: right;\n",
       "    }\n",
       "</style>\n",
       "<table border=\"1\" class=\"dataframe\">\n",
       "  <thead>\n",
       "    <tr style=\"text-align: right;\">\n",
       "      <th></th>\n",
       "      <th>F1</th>\n",
       "      <th>F2</th>\n",
       "      <th>F3</th>\n",
       "      <th>F4</th>\n",
       "      <th>F5</th>\n",
       "      <th>F6</th>\n",
       "      <th>F7</th>\n",
       "      <th>F8</th>\n",
       "      <th>F9</th>\n",
       "      <th>F10</th>\n",
       "      <th>...</th>\n",
       "      <th>F28</th>\n",
       "      <th>F29</th>\n",
       "      <th>F30</th>\n",
       "      <th>F31</th>\n",
       "      <th>F32</th>\n",
       "      <th>F33</th>\n",
       "      <th>F34</th>\n",
       "      <th>F35</th>\n",
       "      <th>F36</th>\n",
       "      <th>Target</th>\n",
       "    </tr>\n",
       "  </thead>\n",
       "  <tbody>\n",
       "    <tr>\n",
       "      <th>0</th>\n",
       "      <td>-72.18</td>\n",
       "      <td>995.49</td>\n",
       "      <td>0.60</td>\n",
       "      <td>-21.64</td>\n",
       "      <td>-13656.54</td>\n",
       "      <td>1</td>\n",
       "      <td>4748.60</td>\n",
       "      <td>40.72</td>\n",
       "      <td>0</td>\n",
       "      <td>686.04</td>\n",
       "      <td>...</td>\n",
       "      <td>364.17</td>\n",
       "      <td>16829.40</td>\n",
       "      <td>119.46</td>\n",
       "      <td>2</td>\n",
       "      <td>-244.62</td>\n",
       "      <td>17.19</td>\n",
       "      <td>-1171.32</td>\n",
       "      <td>4</td>\n",
       "      <td>252.58</td>\n",
       "      <td>388.39</td>\n",
       "    </tr>\n",
       "    <tr>\n",
       "      <th>1</th>\n",
       "      <td>-229.68</td>\n",
       "      <td>2337.36</td>\n",
       "      <td>2.02</td>\n",
       "      <td>-17.90</td>\n",
       "      <td>12620.40</td>\n",
       "      <td>3</td>\n",
       "      <td>3211.32</td>\n",
       "      <td>-140.38</td>\n",
       "      <td>4</td>\n",
       "      <td>447.63</td>\n",
       "      <td>...</td>\n",
       "      <td>279.09</td>\n",
       "      <td>7122.78</td>\n",
       "      <td>274.47</td>\n",
       "      <td>3</td>\n",
       "      <td>-440.55</td>\n",
       "      <td>16.79</td>\n",
       "      <td>-2247.80</td>\n",
       "      <td>2</td>\n",
       "      <td>132.25</td>\n",
       "      <td>1166.73</td>\n",
       "    </tr>\n",
       "    <tr>\n",
       "      <th>2</th>\n",
       "      <td>-402.24</td>\n",
       "      <td>2830.77</td>\n",
       "      <td>0.04</td>\n",
       "      <td>-35.14</td>\n",
       "      <td>-102.93</td>\n",
       "      <td>2</td>\n",
       "      <td>3602.00</td>\n",
       "      <td>387.18</td>\n",
       "      <td>1</td>\n",
       "      <td>379.98</td>\n",
       "      <td>...</td>\n",
       "      <td>122.79</td>\n",
       "      <td>21703.32</td>\n",
       "      <td>258.99</td>\n",
       "      <td>5</td>\n",
       "      <td>-269.04</td>\n",
       "      <td>13.77</td>\n",
       "      <td>-1335.86</td>\n",
       "      <td>5</td>\n",
       "      <td>138.75</td>\n",
       "      <td>-750.49</td>\n",
       "    </tr>\n",
       "    <tr>\n",
       "      <th>3</th>\n",
       "      <td>-369.66</td>\n",
       "      <td>1331.07</td>\n",
       "      <td>7.36</td>\n",
       "      <td>-15.38</td>\n",
       "      <td>-1616.13</td>\n",
       "      <td>2</td>\n",
       "      <td>3375.24</td>\n",
       "      <td>126.93</td>\n",
       "      <td>1</td>\n",
       "      <td>467.16</td>\n",
       "      <td>...</td>\n",
       "      <td>216.78</td>\n",
       "      <td>33672.72</td>\n",
       "      <td>253.86</td>\n",
       "      <td>4</td>\n",
       "      <td>-312.69</td>\n",
       "      <td>11.74</td>\n",
       "      <td>-2744.98</td>\n",
       "      <td>4</td>\n",
       "      <td>182.63</td>\n",
       "      <td>1428.18</td>\n",
       "    </tr>\n",
       "    <tr>\n",
       "      <th>4</th>\n",
       "      <td>-321.57</td>\n",
       "      <td>1511.70</td>\n",
       "      <td>3518.00</td>\n",
       "      <td>-29.04</td>\n",
       "      <td>4321.44</td>\n",
       "      <td>3</td>\n",
       "      <td>5541.96</td>\n",
       "      <td>34.98</td>\n",
       "      <td>4</td>\n",
       "      <td>510.45</td>\n",
       "      <td>...</td>\n",
       "      <td>348.81</td>\n",
       "      <td>15039.12</td>\n",
       "      <td>119.85</td>\n",
       "      <td>5</td>\n",
       "      <td>-415.77</td>\n",
       "      <td>16.55</td>\n",
       "      <td>-408.02</td>\n",
       "      <td>5</td>\n",
       "      <td>165.61</td>\n",
       "      <td>142.93</td>\n",
       "    </tr>\n",
       "  </tbody>\n",
       "</table>\n",
       "<p>5 rows × 37 columns</p>\n",
       "</div>"
      ],
      "text/plain": [
       "       F1       F2       F3     F4        F5  F6       F7      F8  F9     F10  \\\n",
       "0  -72.18   995.49     0.60 -21.64 -13656.54   1  4748.60   40.72   0  686.04   \n",
       "1 -229.68  2337.36     2.02 -17.90  12620.40   3  3211.32 -140.38   4  447.63   \n",
       "2 -402.24  2830.77     0.04 -35.14   -102.93   2  3602.00  387.18   1  379.98   \n",
       "3 -369.66  1331.07     7.36 -15.38  -1616.13   2  3375.24  126.93   1  467.16   \n",
       "4 -321.57  1511.70  3518.00 -29.04   4321.44   3  5541.96   34.98   4  510.45   \n",
       "\n",
       "   ...     F28       F29     F30  F31     F32    F33      F34  F35     F36  \\\n",
       "0  ...  364.17  16829.40  119.46    2 -244.62  17.19 -1171.32    4  252.58   \n",
       "1  ...  279.09   7122.78  274.47    3 -440.55  16.79 -2247.80    2  132.25   \n",
       "2  ...  122.79  21703.32  258.99    5 -269.04  13.77 -1335.86    5  138.75   \n",
       "3  ...  216.78  33672.72  253.86    4 -312.69  11.74 -2744.98    4  182.63   \n",
       "4  ...  348.81  15039.12  119.85    5 -415.77  16.55  -408.02    5  165.61   \n",
       "\n",
       "    Target  \n",
       "0   388.39  \n",
       "1  1166.73  \n",
       "2  -750.49  \n",
       "3  1428.18  \n",
       "4   142.93  \n",
       "\n",
       "[5 rows x 37 columns]"
      ]
     },
     "execution_count": 34,
     "metadata": {},
     "output_type": "execute_result"
    }
   ],
   "source": [
    "data.head()"
   ]
  },
  {
   "cell_type": "code",
   "execution_count": null,
   "id": "fb4992ad",
   "metadata": {},
   "outputs": [],
   "source": []
  }
 ],
 "metadata": {
  "kernelspec": {
   "display_name": "Python 3 (ipykernel)",
   "language": "python",
   "name": "python3"
  },
  "language_info": {
   "codemirror_mode": {
    "name": "ipython",
    "version": 3
   },
   "file_extension": ".py",
   "mimetype": "text/x-python",
   "name": "python",
   "nbconvert_exporter": "python",
   "pygments_lexer": "ipython3",
   "version": "3.10.9"
  }
 },
 "nbformat": 4,
 "nbformat_minor": 5
}
